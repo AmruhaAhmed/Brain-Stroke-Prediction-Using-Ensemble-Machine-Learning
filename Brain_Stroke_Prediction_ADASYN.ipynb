{
  "cells": [
    {
      "cell_type": "markdown",
      "metadata": {
        "id": "D7-v_n18Ze3P"
      },
      "source": [
        "DATA EXPLORATION"
      ]
    },
    {
      "cell_type": "code",
      "execution_count": 680,
      "metadata": {
        "colab": {
          "base_uri": "https://localhost:8080/"
        },
        "id": "zvl0KCEu0cNS",
        "outputId": "ba13b934-272c-4f0a-92e2-d55ea368bdb3"
      },
      "outputs": [
        {
          "output_type": "stream",
          "name": "stdout",
          "text": [
            "Requirement already satisfied: lightgbm in /usr/local/lib/python3.10/dist-packages (4.1.0)\n",
            "Requirement already satisfied: numpy in /usr/local/lib/python3.10/dist-packages (from lightgbm) (1.25.2)\n",
            "Requirement already satisfied: scipy in /usr/local/lib/python3.10/dist-packages (from lightgbm) (1.11.4)\n",
            "Requirement already satisfied: catboost in /usr/local/lib/python3.10/dist-packages (1.2.5)\n",
            "Requirement already satisfied: graphviz in /usr/local/lib/python3.10/dist-packages (from catboost) (0.20.3)\n",
            "Requirement already satisfied: matplotlib in /usr/local/lib/python3.10/dist-packages (from catboost) (3.7.1)\n",
            "Requirement already satisfied: numpy>=1.16.0 in /usr/local/lib/python3.10/dist-packages (from catboost) (1.25.2)\n",
            "Requirement already satisfied: pandas>=0.24 in /usr/local/lib/python3.10/dist-packages (from catboost) (2.0.3)\n",
            "Requirement already satisfied: scipy in /usr/local/lib/python3.10/dist-packages (from catboost) (1.11.4)\n",
            "Requirement already satisfied: plotly in /usr/local/lib/python3.10/dist-packages (from catboost) (5.15.0)\n",
            "Requirement already satisfied: six in /usr/local/lib/python3.10/dist-packages (from catboost) (1.16.0)\n",
            "Requirement already satisfied: python-dateutil>=2.8.2 in /usr/local/lib/python3.10/dist-packages (from pandas>=0.24->catboost) (2.8.2)\n",
            "Requirement already satisfied: pytz>=2020.1 in /usr/local/lib/python3.10/dist-packages (from pandas>=0.24->catboost) (2023.4)\n",
            "Requirement already satisfied: tzdata>=2022.1 in /usr/local/lib/python3.10/dist-packages (from pandas>=0.24->catboost) (2024.1)\n",
            "Requirement already satisfied: contourpy>=1.0.1 in /usr/local/lib/python3.10/dist-packages (from matplotlib->catboost) (1.2.1)\n",
            "Requirement already satisfied: cycler>=0.10 in /usr/local/lib/python3.10/dist-packages (from matplotlib->catboost) (0.12.1)\n",
            "Requirement already satisfied: fonttools>=4.22.0 in /usr/local/lib/python3.10/dist-packages (from matplotlib->catboost) (4.53.1)\n",
            "Requirement already satisfied: kiwisolver>=1.0.1 in /usr/local/lib/python3.10/dist-packages (from matplotlib->catboost) (1.4.5)\n",
            "Requirement already satisfied: packaging>=20.0 in /usr/local/lib/python3.10/dist-packages (from matplotlib->catboost) (24.1)\n",
            "Requirement already satisfied: pillow>=6.2.0 in /usr/local/lib/python3.10/dist-packages (from matplotlib->catboost) (9.4.0)\n",
            "Requirement already satisfied: pyparsing>=2.3.1 in /usr/local/lib/python3.10/dist-packages (from matplotlib->catboost) (3.1.2)\n",
            "Requirement already satisfied: tenacity>=6.2.0 in /usr/local/lib/python3.10/dist-packages (from plotly->catboost) (8.5.0)\n"
          ]
        }
      ],
      "source": [
        "import pandas as pd\n",
        "import warnings\n",
        "warnings.filterwarnings(\"ignore\")\n",
        "from sklearn.preprocessing import LabelEncoder\n",
        "from imblearn.over_sampling import ADASYN\n",
        "from sklearn.model_selection  import train_test_split\n",
        "from sklearn.linear_model import LogisticRegression\n",
        "from sklearn.model_selection import GridSearchCV\n",
        "from sklearn.tree import DecisionTreeClassifier\n",
        "from sklearn.neighbors import KNeighborsClassifier\n",
        "from sklearn.naive_bayes import GaussianNB\n",
        "from sklearn.ensemble import RandomForestClassifier\n",
        "from sklearn.ensemble import BaggingClassifier\n",
        "from sklearn.ensemble  import AdaBoostClassifier\n",
        "from sklearn.ensemble import ExtraTreesClassifier\n",
        "from sklearn.ensemble import GradientBoostingClassifier\n",
        "import xgboost as xgb\n",
        "!pip install lightgbm\n",
        "import lightgbm as lgb\n",
        "!pip install catboost\n",
        "from catboost import CatBoostClassifier\n",
        "from sklearn.ensemble import VotingClassifier\n",
        "from sklearn import metrics\n",
        "from sklearn.metrics import classification_report,confusion_matrix,accuracy_score,precision_score,recall_score,f1_score\n",
        "from tabulate import tabulate"
      ]
    },
    {
      "cell_type": "code",
      "execution_count": 681,
      "metadata": {
        "id": "GqP5ojFp0uPI"
      },
      "outputs": [],
      "source": [
        "df1=pd.read_csv(\"dataset1.csv\")\n",
        "df2=pd.read_csv(\"dataset2.csv\")\n",
        "df3=pd.read_csv(\"dataset3.csv\")\n",
        "df4=pd.read_csv(\"dataset4.csv\")"
      ]
    },
    {
      "cell_type": "code",
      "execution_count": 682,
      "metadata": {
        "colab": {
          "base_uri": "https://localhost:8080/",
          "height": 132
        },
        "id": "D82qq0IW0yAM",
        "outputId": "10f359a2-4ec4-4f8d-a0cf-1a4c676ef009"
      },
      "outputs": [
        {
          "output_type": "execute_result",
          "data": {
            "text/plain": [
              "      id gender   age  hypertension  heart_disease ever_married work_type  \\\n",
              "0  30669   Male   3.0             0              0           No  children   \n",
              "1  30468   Male  58.0             1              0          Yes   Private   \n",
              "\n",
              "  Residence_type  avg_glucose_level   bmi smoking_status  stroke  \n",
              "0          Rural              95.12  18.0            NaN       0  \n",
              "1          Urban              87.96  39.2   never smoked       0  "
            ],
            "text/html": [
              "\n",
              "  <div id=\"df-6f541383-76fe-498d-952a-23560f1684f4\" class=\"colab-df-container\">\n",
              "    <div>\n",
              "<style scoped>\n",
              "    .dataframe tbody tr th:only-of-type {\n",
              "        vertical-align: middle;\n",
              "    }\n",
              "\n",
              "    .dataframe tbody tr th {\n",
              "        vertical-align: top;\n",
              "    }\n",
              "\n",
              "    .dataframe thead th {\n",
              "        text-align: right;\n",
              "    }\n",
              "</style>\n",
              "<table border=\"1\" class=\"dataframe\">\n",
              "  <thead>\n",
              "    <tr style=\"text-align: right;\">\n",
              "      <th></th>\n",
              "      <th>id</th>\n",
              "      <th>gender</th>\n",
              "      <th>age</th>\n",
              "      <th>hypertension</th>\n",
              "      <th>heart_disease</th>\n",
              "      <th>ever_married</th>\n",
              "      <th>work_type</th>\n",
              "      <th>Residence_type</th>\n",
              "      <th>avg_glucose_level</th>\n",
              "      <th>bmi</th>\n",
              "      <th>smoking_status</th>\n",
              "      <th>stroke</th>\n",
              "    </tr>\n",
              "  </thead>\n",
              "  <tbody>\n",
              "    <tr>\n",
              "      <th>0</th>\n",
              "      <td>30669</td>\n",
              "      <td>Male</td>\n",
              "      <td>3.0</td>\n",
              "      <td>0</td>\n",
              "      <td>0</td>\n",
              "      <td>No</td>\n",
              "      <td>children</td>\n",
              "      <td>Rural</td>\n",
              "      <td>95.12</td>\n",
              "      <td>18.0</td>\n",
              "      <td>NaN</td>\n",
              "      <td>0</td>\n",
              "    </tr>\n",
              "    <tr>\n",
              "      <th>1</th>\n",
              "      <td>30468</td>\n",
              "      <td>Male</td>\n",
              "      <td>58.0</td>\n",
              "      <td>1</td>\n",
              "      <td>0</td>\n",
              "      <td>Yes</td>\n",
              "      <td>Private</td>\n",
              "      <td>Urban</td>\n",
              "      <td>87.96</td>\n",
              "      <td>39.2</td>\n",
              "      <td>never smoked</td>\n",
              "      <td>0</td>\n",
              "    </tr>\n",
              "  </tbody>\n",
              "</table>\n",
              "</div>\n",
              "    <div class=\"colab-df-buttons\">\n",
              "\n",
              "  <div class=\"colab-df-container\">\n",
              "    <button class=\"colab-df-convert\" onclick=\"convertToInteractive('df-6f541383-76fe-498d-952a-23560f1684f4')\"\n",
              "            title=\"Convert this dataframe to an interactive table.\"\n",
              "            style=\"display:none;\">\n",
              "\n",
              "  <svg xmlns=\"http://www.w3.org/2000/svg\" height=\"24px\" viewBox=\"0 -960 960 960\">\n",
              "    <path d=\"M120-120v-720h720v720H120Zm60-500h600v-160H180v160Zm220 220h160v-160H400v160Zm0 220h160v-160H400v160ZM180-400h160v-160H180v160Zm440 0h160v-160H620v160ZM180-180h160v-160H180v160Zm440 0h160v-160H620v160Z\"/>\n",
              "  </svg>\n",
              "    </button>\n",
              "\n",
              "  <style>\n",
              "    .colab-df-container {\n",
              "      display:flex;\n",
              "      gap: 12px;\n",
              "    }\n",
              "\n",
              "    .colab-df-convert {\n",
              "      background-color: #E8F0FE;\n",
              "      border: none;\n",
              "      border-radius: 50%;\n",
              "      cursor: pointer;\n",
              "      display: none;\n",
              "      fill: #1967D2;\n",
              "      height: 32px;\n",
              "      padding: 0 0 0 0;\n",
              "      width: 32px;\n",
              "    }\n",
              "\n",
              "    .colab-df-convert:hover {\n",
              "      background-color: #E2EBFA;\n",
              "      box-shadow: 0px 1px 2px rgba(60, 64, 67, 0.3), 0px 1px 3px 1px rgba(60, 64, 67, 0.15);\n",
              "      fill: #174EA6;\n",
              "    }\n",
              "\n",
              "    .colab-df-buttons div {\n",
              "      margin-bottom: 4px;\n",
              "    }\n",
              "\n",
              "    [theme=dark] .colab-df-convert {\n",
              "      background-color: #3B4455;\n",
              "      fill: #D2E3FC;\n",
              "    }\n",
              "\n",
              "    [theme=dark] .colab-df-convert:hover {\n",
              "      background-color: #434B5C;\n",
              "      box-shadow: 0px 1px 3px 1px rgba(0, 0, 0, 0.15);\n",
              "      filter: drop-shadow(0px 1px 2px rgba(0, 0, 0, 0.3));\n",
              "      fill: #FFFFFF;\n",
              "    }\n",
              "  </style>\n",
              "\n",
              "    <script>\n",
              "      const buttonEl =\n",
              "        document.querySelector('#df-6f541383-76fe-498d-952a-23560f1684f4 button.colab-df-convert');\n",
              "      buttonEl.style.display =\n",
              "        google.colab.kernel.accessAllowed ? 'block' : 'none';\n",
              "\n",
              "      async function convertToInteractive(key) {\n",
              "        const element = document.querySelector('#df-6f541383-76fe-498d-952a-23560f1684f4');\n",
              "        const dataTable =\n",
              "          await google.colab.kernel.invokeFunction('convertToInteractive',\n",
              "                                                    [key], {});\n",
              "        if (!dataTable) return;\n",
              "\n",
              "        const docLinkHtml = 'Like what you see? Visit the ' +\n",
              "          '<a target=\"_blank\" href=https://colab.research.google.com/notebooks/data_table.ipynb>data table notebook</a>'\n",
              "          + ' to learn more about interactive tables.';\n",
              "        element.innerHTML = '';\n",
              "        dataTable['output_type'] = 'display_data';\n",
              "        await google.colab.output.renderOutput(dataTable, element);\n",
              "        const docLink = document.createElement('div');\n",
              "        docLink.innerHTML = docLinkHtml;\n",
              "        element.appendChild(docLink);\n",
              "      }\n",
              "    </script>\n",
              "  </div>\n",
              "\n",
              "\n",
              "<div id=\"df-b1f25804-65c0-433a-9e03-af8aea9f9e9b\">\n",
              "  <button class=\"colab-df-quickchart\" onclick=\"quickchart('df-b1f25804-65c0-433a-9e03-af8aea9f9e9b')\"\n",
              "            title=\"Suggest charts\"\n",
              "            style=\"display:none;\">\n",
              "\n",
              "<svg xmlns=\"http://www.w3.org/2000/svg\" height=\"24px\"viewBox=\"0 0 24 24\"\n",
              "     width=\"24px\">\n",
              "    <g>\n",
              "        <path d=\"M19 3H5c-1.1 0-2 .9-2 2v14c0 1.1.9 2 2 2h14c1.1 0 2-.9 2-2V5c0-1.1-.9-2-2-2zM9 17H7v-7h2v7zm4 0h-2V7h2v10zm4 0h-2v-4h2v4z\"/>\n",
              "    </g>\n",
              "</svg>\n",
              "  </button>\n",
              "\n",
              "<style>\n",
              "  .colab-df-quickchart {\n",
              "      --bg-color: #E8F0FE;\n",
              "      --fill-color: #1967D2;\n",
              "      --hover-bg-color: #E2EBFA;\n",
              "      --hover-fill-color: #174EA6;\n",
              "      --disabled-fill-color: #AAA;\n",
              "      --disabled-bg-color: #DDD;\n",
              "  }\n",
              "\n",
              "  [theme=dark] .colab-df-quickchart {\n",
              "      --bg-color: #3B4455;\n",
              "      --fill-color: #D2E3FC;\n",
              "      --hover-bg-color: #434B5C;\n",
              "      --hover-fill-color: #FFFFFF;\n",
              "      --disabled-bg-color: #3B4455;\n",
              "      --disabled-fill-color: #666;\n",
              "  }\n",
              "\n",
              "  .colab-df-quickchart {\n",
              "    background-color: var(--bg-color);\n",
              "    border: none;\n",
              "    border-radius: 50%;\n",
              "    cursor: pointer;\n",
              "    display: none;\n",
              "    fill: var(--fill-color);\n",
              "    height: 32px;\n",
              "    padding: 0;\n",
              "    width: 32px;\n",
              "  }\n",
              "\n",
              "  .colab-df-quickchart:hover {\n",
              "    background-color: var(--hover-bg-color);\n",
              "    box-shadow: 0 1px 2px rgba(60, 64, 67, 0.3), 0 1px 3px 1px rgba(60, 64, 67, 0.15);\n",
              "    fill: var(--button-hover-fill-color);\n",
              "  }\n",
              "\n",
              "  .colab-df-quickchart-complete:disabled,\n",
              "  .colab-df-quickchart-complete:disabled:hover {\n",
              "    background-color: var(--disabled-bg-color);\n",
              "    fill: var(--disabled-fill-color);\n",
              "    box-shadow: none;\n",
              "  }\n",
              "\n",
              "  .colab-df-spinner {\n",
              "    border: 2px solid var(--fill-color);\n",
              "    border-color: transparent;\n",
              "    border-bottom-color: var(--fill-color);\n",
              "    animation:\n",
              "      spin 1s steps(1) infinite;\n",
              "  }\n",
              "\n",
              "  @keyframes spin {\n",
              "    0% {\n",
              "      border-color: transparent;\n",
              "      border-bottom-color: var(--fill-color);\n",
              "      border-left-color: var(--fill-color);\n",
              "    }\n",
              "    20% {\n",
              "      border-color: transparent;\n",
              "      border-left-color: var(--fill-color);\n",
              "      border-top-color: var(--fill-color);\n",
              "    }\n",
              "    30% {\n",
              "      border-color: transparent;\n",
              "      border-left-color: var(--fill-color);\n",
              "      border-top-color: var(--fill-color);\n",
              "      border-right-color: var(--fill-color);\n",
              "    }\n",
              "    40% {\n",
              "      border-color: transparent;\n",
              "      border-right-color: var(--fill-color);\n",
              "      border-top-color: var(--fill-color);\n",
              "    }\n",
              "    60% {\n",
              "      border-color: transparent;\n",
              "      border-right-color: var(--fill-color);\n",
              "    }\n",
              "    80% {\n",
              "      border-color: transparent;\n",
              "      border-right-color: var(--fill-color);\n",
              "      border-bottom-color: var(--fill-color);\n",
              "    }\n",
              "    90% {\n",
              "      border-color: transparent;\n",
              "      border-bottom-color: var(--fill-color);\n",
              "    }\n",
              "  }\n",
              "</style>\n",
              "\n",
              "  <script>\n",
              "    async function quickchart(key) {\n",
              "      const quickchartButtonEl =\n",
              "        document.querySelector('#' + key + ' button');\n",
              "      quickchartButtonEl.disabled = true;  // To prevent multiple clicks.\n",
              "      quickchartButtonEl.classList.add('colab-df-spinner');\n",
              "      try {\n",
              "        const charts = await google.colab.kernel.invokeFunction(\n",
              "            'suggestCharts', [key], {});\n",
              "      } catch (error) {\n",
              "        console.error('Error during call to suggestCharts:', error);\n",
              "      }\n",
              "      quickchartButtonEl.classList.remove('colab-df-spinner');\n",
              "      quickchartButtonEl.classList.add('colab-df-quickchart-complete');\n",
              "    }\n",
              "    (() => {\n",
              "      let quickchartButtonEl =\n",
              "        document.querySelector('#df-b1f25804-65c0-433a-9e03-af8aea9f9e9b button');\n",
              "      quickchartButtonEl.style.display =\n",
              "        google.colab.kernel.accessAllowed ? 'block' : 'none';\n",
              "    })();\n",
              "  </script>\n",
              "</div>\n",
              "\n",
              "    </div>\n",
              "  </div>\n"
            ],
            "application/vnd.google.colaboratory.intrinsic+json": {
              "type": "dataframe",
              "variable_name": "df1",
              "summary": "{\n  \"name\": \"df1\",\n  \"rows\": 43400,\n  \"fields\": [\n    {\n      \"column\": \"id\",\n      \"properties\": {\n        \"dtype\": \"number\",\n        \"std\": 21072,\n        \"min\": 1,\n        \"max\": 72943,\n        \"num_unique_values\": 43400,\n        \"samples\": [\n          56155,\n          72314,\n          43678\n        ],\n        \"semantic_type\": \"\",\n        \"description\": \"\"\n      }\n    },\n    {\n      \"column\": \"gender\",\n      \"properties\": {\n        \"dtype\": \"category\",\n        \"num_unique_values\": 3,\n        \"samples\": [\n          \"Male\",\n          \"Female\",\n          \"Other\"\n        ],\n        \"semantic_type\": \"\",\n        \"description\": \"\"\n      }\n    },\n    {\n      \"column\": \"age\",\n      \"properties\": {\n        \"dtype\": \"number\",\n        \"std\": 22.51964868050339,\n        \"min\": 0.08,\n        \"max\": 82.0,\n        \"num_unique_values\": 104,\n        \"samples\": [\n          13.0,\n          80.0,\n          5.0\n        ],\n        \"semantic_type\": \"\",\n        \"description\": \"\"\n      }\n    },\n    {\n      \"column\": \"hypertension\",\n      \"properties\": {\n        \"dtype\": \"number\",\n        \"std\": 0,\n        \"min\": 0,\n        \"max\": 1,\n        \"num_unique_values\": 2,\n        \"samples\": [\n          1,\n          0\n        ],\n        \"semantic_type\": \"\",\n        \"description\": \"\"\n      }\n    },\n    {\n      \"column\": \"heart_disease\",\n      \"properties\": {\n        \"dtype\": \"number\",\n        \"std\": 0,\n        \"min\": 0,\n        \"max\": 1,\n        \"num_unique_values\": 2,\n        \"samples\": [\n          1,\n          0\n        ],\n        \"semantic_type\": \"\",\n        \"description\": \"\"\n      }\n    },\n    {\n      \"column\": \"ever_married\",\n      \"properties\": {\n        \"dtype\": \"category\",\n        \"num_unique_values\": 2,\n        \"samples\": [\n          \"Yes\",\n          \"No\"\n        ],\n        \"semantic_type\": \"\",\n        \"description\": \"\"\n      }\n    },\n    {\n      \"column\": \"work_type\",\n      \"properties\": {\n        \"dtype\": \"category\",\n        \"num_unique_values\": 5,\n        \"samples\": [\n          \"Private\",\n          \"Govt_job\"\n        ],\n        \"semantic_type\": \"\",\n        \"description\": \"\"\n      }\n    },\n    {\n      \"column\": \"Residence_type\",\n      \"properties\": {\n        \"dtype\": \"category\",\n        \"num_unique_values\": 2,\n        \"samples\": [\n          \"Urban\",\n          \"Rural\"\n        ],\n        \"semantic_type\": \"\",\n        \"description\": \"\"\n      }\n    },\n    {\n      \"column\": \"avg_glucose_level\",\n      \"properties\": {\n        \"dtype\": \"number\",\n        \"std\": 43.1117509512961,\n        \"min\": 55.0,\n        \"max\": 291.05,\n        \"num_unique_values\": 12543,\n        \"samples\": [\n          74.61,\n          227.81\n        ],\n        \"semantic_type\": \"\",\n        \"description\": \"\"\n      }\n    },\n    {\n      \"column\": \"bmi\",\n      \"properties\": {\n        \"dtype\": \"number\",\n        \"std\": 7.770020497238738,\n        \"min\": 10.1,\n        \"max\": 97.6,\n        \"num_unique_values\": 555,\n        \"samples\": [\n          42.2,\n          61.2\n        ],\n        \"semantic_type\": \"\",\n        \"description\": \"\"\n      }\n    },\n    {\n      \"column\": \"smoking_status\",\n      \"properties\": {\n        \"dtype\": \"category\",\n        \"num_unique_values\": 3,\n        \"samples\": [\n          \"never smoked\",\n          \"formerly smoked\"\n        ],\n        \"semantic_type\": \"\",\n        \"description\": \"\"\n      }\n    },\n    {\n      \"column\": \"stroke\",\n      \"properties\": {\n        \"dtype\": \"number\",\n        \"std\": 0,\n        \"min\": 0,\n        \"max\": 1,\n        \"num_unique_values\": 2,\n        \"samples\": [\n          1,\n          0\n        ],\n        \"semantic_type\": \"\",\n        \"description\": \"\"\n      }\n    }\n  ]\n}"
            }
          },
          "metadata": {},
          "execution_count": 682
        }
      ],
      "source": [
        "df1.head(2)"
      ]
    },
    {
      "cell_type": "code",
      "execution_count": 683,
      "metadata": {
        "colab": {
          "base_uri": "https://localhost:8080/"
        },
        "id": "iNonk7OX015O",
        "outputId": "6bd4200f-a367-4f34-9657-bcbf879c6bea"
      },
      "outputs": [
        {
          "output_type": "execute_result",
          "data": {
            "text/plain": [
              "(43400, 12)"
            ]
          },
          "metadata": {},
          "execution_count": 683
        }
      ],
      "source": [
        "df1.shape"
      ]
    },
    {
      "cell_type": "code",
      "execution_count": 684,
      "metadata": {
        "colab": {
          "base_uri": "https://localhost:8080/",
          "height": 112
        },
        "id": "c2VwAViz03Qz",
        "outputId": "7cd3e0f9-111f-4d86-9b65-9cce50d8f7a9"
      },
      "outputs": [
        {
          "output_type": "execute_result",
          "data": {
            "text/plain": [
              "  gender   age  hypertension  heart_disease ever_married work_type  \\\n",
              "0   Male  67.0             0              1          Yes   Private   \n",
              "1   Male  80.0             0              1          Yes   Private   \n",
              "\n",
              "  Residence_type  avg_glucose_level   bmi   smoking_status  stroke  \n",
              "0          Urban             228.69  36.6  formerly smoked       1  \n",
              "1          Rural             105.92  32.5     never smoked       1  "
            ],
            "text/html": [
              "\n",
              "  <div id=\"df-c006c9e4-d5dc-4dbc-8043-201935659956\" class=\"colab-df-container\">\n",
              "    <div>\n",
              "<style scoped>\n",
              "    .dataframe tbody tr th:only-of-type {\n",
              "        vertical-align: middle;\n",
              "    }\n",
              "\n",
              "    .dataframe tbody tr th {\n",
              "        vertical-align: top;\n",
              "    }\n",
              "\n",
              "    .dataframe thead th {\n",
              "        text-align: right;\n",
              "    }\n",
              "</style>\n",
              "<table border=\"1\" class=\"dataframe\">\n",
              "  <thead>\n",
              "    <tr style=\"text-align: right;\">\n",
              "      <th></th>\n",
              "      <th>gender</th>\n",
              "      <th>age</th>\n",
              "      <th>hypertension</th>\n",
              "      <th>heart_disease</th>\n",
              "      <th>ever_married</th>\n",
              "      <th>work_type</th>\n",
              "      <th>Residence_type</th>\n",
              "      <th>avg_glucose_level</th>\n",
              "      <th>bmi</th>\n",
              "      <th>smoking_status</th>\n",
              "      <th>stroke</th>\n",
              "    </tr>\n",
              "  </thead>\n",
              "  <tbody>\n",
              "    <tr>\n",
              "      <th>0</th>\n",
              "      <td>Male</td>\n",
              "      <td>67.0</td>\n",
              "      <td>0</td>\n",
              "      <td>1</td>\n",
              "      <td>Yes</td>\n",
              "      <td>Private</td>\n",
              "      <td>Urban</td>\n",
              "      <td>228.69</td>\n",
              "      <td>36.6</td>\n",
              "      <td>formerly smoked</td>\n",
              "      <td>1</td>\n",
              "    </tr>\n",
              "    <tr>\n",
              "      <th>1</th>\n",
              "      <td>Male</td>\n",
              "      <td>80.0</td>\n",
              "      <td>0</td>\n",
              "      <td>1</td>\n",
              "      <td>Yes</td>\n",
              "      <td>Private</td>\n",
              "      <td>Rural</td>\n",
              "      <td>105.92</td>\n",
              "      <td>32.5</td>\n",
              "      <td>never smoked</td>\n",
              "      <td>1</td>\n",
              "    </tr>\n",
              "  </tbody>\n",
              "</table>\n",
              "</div>\n",
              "    <div class=\"colab-df-buttons\">\n",
              "\n",
              "  <div class=\"colab-df-container\">\n",
              "    <button class=\"colab-df-convert\" onclick=\"convertToInteractive('df-c006c9e4-d5dc-4dbc-8043-201935659956')\"\n",
              "            title=\"Convert this dataframe to an interactive table.\"\n",
              "            style=\"display:none;\">\n",
              "\n",
              "  <svg xmlns=\"http://www.w3.org/2000/svg\" height=\"24px\" viewBox=\"0 -960 960 960\">\n",
              "    <path d=\"M120-120v-720h720v720H120Zm60-500h600v-160H180v160Zm220 220h160v-160H400v160Zm0 220h160v-160H400v160ZM180-400h160v-160H180v160Zm440 0h160v-160H620v160ZM180-180h160v-160H180v160Zm440 0h160v-160H620v160Z\"/>\n",
              "  </svg>\n",
              "    </button>\n",
              "\n",
              "  <style>\n",
              "    .colab-df-container {\n",
              "      display:flex;\n",
              "      gap: 12px;\n",
              "    }\n",
              "\n",
              "    .colab-df-convert {\n",
              "      background-color: #E8F0FE;\n",
              "      border: none;\n",
              "      border-radius: 50%;\n",
              "      cursor: pointer;\n",
              "      display: none;\n",
              "      fill: #1967D2;\n",
              "      height: 32px;\n",
              "      padding: 0 0 0 0;\n",
              "      width: 32px;\n",
              "    }\n",
              "\n",
              "    .colab-df-convert:hover {\n",
              "      background-color: #E2EBFA;\n",
              "      box-shadow: 0px 1px 2px rgba(60, 64, 67, 0.3), 0px 1px 3px 1px rgba(60, 64, 67, 0.15);\n",
              "      fill: #174EA6;\n",
              "    }\n",
              "\n",
              "    .colab-df-buttons div {\n",
              "      margin-bottom: 4px;\n",
              "    }\n",
              "\n",
              "    [theme=dark] .colab-df-convert {\n",
              "      background-color: #3B4455;\n",
              "      fill: #D2E3FC;\n",
              "    }\n",
              "\n",
              "    [theme=dark] .colab-df-convert:hover {\n",
              "      background-color: #434B5C;\n",
              "      box-shadow: 0px 1px 3px 1px rgba(0, 0, 0, 0.15);\n",
              "      filter: drop-shadow(0px 1px 2px rgba(0, 0, 0, 0.3));\n",
              "      fill: #FFFFFF;\n",
              "    }\n",
              "  </style>\n",
              "\n",
              "    <script>\n",
              "      const buttonEl =\n",
              "        document.querySelector('#df-c006c9e4-d5dc-4dbc-8043-201935659956 button.colab-df-convert');\n",
              "      buttonEl.style.display =\n",
              "        google.colab.kernel.accessAllowed ? 'block' : 'none';\n",
              "\n",
              "      async function convertToInteractive(key) {\n",
              "        const element = document.querySelector('#df-c006c9e4-d5dc-4dbc-8043-201935659956');\n",
              "        const dataTable =\n",
              "          await google.colab.kernel.invokeFunction('convertToInteractive',\n",
              "                                                    [key], {});\n",
              "        if (!dataTable) return;\n",
              "\n",
              "        const docLinkHtml = 'Like what you see? Visit the ' +\n",
              "          '<a target=\"_blank\" href=https://colab.research.google.com/notebooks/data_table.ipynb>data table notebook</a>'\n",
              "          + ' to learn more about interactive tables.';\n",
              "        element.innerHTML = '';\n",
              "        dataTable['output_type'] = 'display_data';\n",
              "        await google.colab.output.renderOutput(dataTable, element);\n",
              "        const docLink = document.createElement('div');\n",
              "        docLink.innerHTML = docLinkHtml;\n",
              "        element.appendChild(docLink);\n",
              "      }\n",
              "    </script>\n",
              "  </div>\n",
              "\n",
              "\n",
              "<div id=\"df-9bdb267f-5c68-4329-860a-d40f8516db26\">\n",
              "  <button class=\"colab-df-quickchart\" onclick=\"quickchart('df-9bdb267f-5c68-4329-860a-d40f8516db26')\"\n",
              "            title=\"Suggest charts\"\n",
              "            style=\"display:none;\">\n",
              "\n",
              "<svg xmlns=\"http://www.w3.org/2000/svg\" height=\"24px\"viewBox=\"0 0 24 24\"\n",
              "     width=\"24px\">\n",
              "    <g>\n",
              "        <path d=\"M19 3H5c-1.1 0-2 .9-2 2v14c0 1.1.9 2 2 2h14c1.1 0 2-.9 2-2V5c0-1.1-.9-2-2-2zM9 17H7v-7h2v7zm4 0h-2V7h2v10zm4 0h-2v-4h2v4z\"/>\n",
              "    </g>\n",
              "</svg>\n",
              "  </button>\n",
              "\n",
              "<style>\n",
              "  .colab-df-quickchart {\n",
              "      --bg-color: #E8F0FE;\n",
              "      --fill-color: #1967D2;\n",
              "      --hover-bg-color: #E2EBFA;\n",
              "      --hover-fill-color: #174EA6;\n",
              "      --disabled-fill-color: #AAA;\n",
              "      --disabled-bg-color: #DDD;\n",
              "  }\n",
              "\n",
              "  [theme=dark] .colab-df-quickchart {\n",
              "      --bg-color: #3B4455;\n",
              "      --fill-color: #D2E3FC;\n",
              "      --hover-bg-color: #434B5C;\n",
              "      --hover-fill-color: #FFFFFF;\n",
              "      --disabled-bg-color: #3B4455;\n",
              "      --disabled-fill-color: #666;\n",
              "  }\n",
              "\n",
              "  .colab-df-quickchart {\n",
              "    background-color: var(--bg-color);\n",
              "    border: none;\n",
              "    border-radius: 50%;\n",
              "    cursor: pointer;\n",
              "    display: none;\n",
              "    fill: var(--fill-color);\n",
              "    height: 32px;\n",
              "    padding: 0;\n",
              "    width: 32px;\n",
              "  }\n",
              "\n",
              "  .colab-df-quickchart:hover {\n",
              "    background-color: var(--hover-bg-color);\n",
              "    box-shadow: 0 1px 2px rgba(60, 64, 67, 0.3), 0 1px 3px 1px rgba(60, 64, 67, 0.15);\n",
              "    fill: var(--button-hover-fill-color);\n",
              "  }\n",
              "\n",
              "  .colab-df-quickchart-complete:disabled,\n",
              "  .colab-df-quickchart-complete:disabled:hover {\n",
              "    background-color: var(--disabled-bg-color);\n",
              "    fill: var(--disabled-fill-color);\n",
              "    box-shadow: none;\n",
              "  }\n",
              "\n",
              "  .colab-df-spinner {\n",
              "    border: 2px solid var(--fill-color);\n",
              "    border-color: transparent;\n",
              "    border-bottom-color: var(--fill-color);\n",
              "    animation:\n",
              "      spin 1s steps(1) infinite;\n",
              "  }\n",
              "\n",
              "  @keyframes spin {\n",
              "    0% {\n",
              "      border-color: transparent;\n",
              "      border-bottom-color: var(--fill-color);\n",
              "      border-left-color: var(--fill-color);\n",
              "    }\n",
              "    20% {\n",
              "      border-color: transparent;\n",
              "      border-left-color: var(--fill-color);\n",
              "      border-top-color: var(--fill-color);\n",
              "    }\n",
              "    30% {\n",
              "      border-color: transparent;\n",
              "      border-left-color: var(--fill-color);\n",
              "      border-top-color: var(--fill-color);\n",
              "      border-right-color: var(--fill-color);\n",
              "    }\n",
              "    40% {\n",
              "      border-color: transparent;\n",
              "      border-right-color: var(--fill-color);\n",
              "      border-top-color: var(--fill-color);\n",
              "    }\n",
              "    60% {\n",
              "      border-color: transparent;\n",
              "      border-right-color: var(--fill-color);\n",
              "    }\n",
              "    80% {\n",
              "      border-color: transparent;\n",
              "      border-right-color: var(--fill-color);\n",
              "      border-bottom-color: var(--fill-color);\n",
              "    }\n",
              "    90% {\n",
              "      border-color: transparent;\n",
              "      border-bottom-color: var(--fill-color);\n",
              "    }\n",
              "  }\n",
              "</style>\n",
              "\n",
              "  <script>\n",
              "    async function quickchart(key) {\n",
              "      const quickchartButtonEl =\n",
              "        document.querySelector('#' + key + ' button');\n",
              "      quickchartButtonEl.disabled = true;  // To prevent multiple clicks.\n",
              "      quickchartButtonEl.classList.add('colab-df-spinner');\n",
              "      try {\n",
              "        const charts = await google.colab.kernel.invokeFunction(\n",
              "            'suggestCharts', [key], {});\n",
              "      } catch (error) {\n",
              "        console.error('Error during call to suggestCharts:', error);\n",
              "      }\n",
              "      quickchartButtonEl.classList.remove('colab-df-spinner');\n",
              "      quickchartButtonEl.classList.add('colab-df-quickchart-complete');\n",
              "    }\n",
              "    (() => {\n",
              "      let quickchartButtonEl =\n",
              "        document.querySelector('#df-9bdb267f-5c68-4329-860a-d40f8516db26 button');\n",
              "      quickchartButtonEl.style.display =\n",
              "        google.colab.kernel.accessAllowed ? 'block' : 'none';\n",
              "    })();\n",
              "  </script>\n",
              "</div>\n",
              "\n",
              "    </div>\n",
              "  </div>\n"
            ],
            "application/vnd.google.colaboratory.intrinsic+json": {
              "type": "dataframe",
              "variable_name": "df2",
              "summary": "{\n  \"name\": \"df2\",\n  \"rows\": 4981,\n  \"fields\": [\n    {\n      \"column\": \"gender\",\n      \"properties\": {\n        \"dtype\": \"category\",\n        \"num_unique_values\": 2,\n        \"samples\": [\n          \"Female\",\n          \"Male\"\n        ],\n        \"semantic_type\": \"\",\n        \"description\": \"\"\n      }\n    },\n    {\n      \"column\": \"age\",\n      \"properties\": {\n        \"dtype\": \"number\",\n        \"std\": 22.6627550736985,\n        \"min\": 0.08,\n        \"max\": 82.0,\n        \"num_unique_values\": 104,\n        \"samples\": [\n          70.0,\n          36.0\n        ],\n        \"semantic_type\": \"\",\n        \"description\": \"\"\n      }\n    },\n    {\n      \"column\": \"hypertension\",\n      \"properties\": {\n        \"dtype\": \"number\",\n        \"std\": 0,\n        \"min\": 0,\n        \"max\": 1,\n        \"num_unique_values\": 2,\n        \"samples\": [\n          1,\n          0\n        ],\n        \"semantic_type\": \"\",\n        \"description\": \"\"\n      }\n    },\n    {\n      \"column\": \"heart_disease\",\n      \"properties\": {\n        \"dtype\": \"number\",\n        \"std\": 0,\n        \"min\": 0,\n        \"max\": 1,\n        \"num_unique_values\": 2,\n        \"samples\": [\n          0,\n          1\n        ],\n        \"semantic_type\": \"\",\n        \"description\": \"\"\n      }\n    },\n    {\n      \"column\": \"ever_married\",\n      \"properties\": {\n        \"dtype\": \"category\",\n        \"num_unique_values\": 2,\n        \"samples\": [\n          \"No\",\n          \"Yes\"\n        ],\n        \"semantic_type\": \"\",\n        \"description\": \"\"\n      }\n    },\n    {\n      \"column\": \"work_type\",\n      \"properties\": {\n        \"dtype\": \"category\",\n        \"num_unique_values\": 4,\n        \"samples\": [\n          \"Self-employed\",\n          \"children\"\n        ],\n        \"semantic_type\": \"\",\n        \"description\": \"\"\n      }\n    },\n    {\n      \"column\": \"Residence_type\",\n      \"properties\": {\n        \"dtype\": \"category\",\n        \"num_unique_values\": 2,\n        \"samples\": [\n          \"Rural\",\n          \"Urban\"\n        ],\n        \"semantic_type\": \"\",\n        \"description\": \"\"\n      }\n    },\n    {\n      \"column\": \"avg_glucose_level\",\n      \"properties\": {\n        \"dtype\": \"number\",\n        \"std\": 45.07537280843004,\n        \"min\": 55.12,\n        \"max\": 271.74,\n        \"num_unique_values\": 3895,\n        \"samples\": [\n          106.69,\n          95.43\n        ],\n        \"semantic_type\": \"\",\n        \"description\": \"\"\n      }\n    },\n    {\n      \"column\": \"bmi\",\n      \"properties\": {\n        \"dtype\": \"number\",\n        \"std\": 6.79046362629275,\n        \"min\": 14.0,\n        \"max\": 48.9,\n        \"num_unique_values\": 342,\n        \"samples\": [\n          17.5,\n          20.5\n        ],\n        \"semantic_type\": \"\",\n        \"description\": \"\"\n      }\n    },\n    {\n      \"column\": \"smoking_status\",\n      \"properties\": {\n        \"dtype\": \"category\",\n        \"num_unique_values\": 4,\n        \"samples\": [\n          \"never smoked\",\n          \"Unknown\"\n        ],\n        \"semantic_type\": \"\",\n        \"description\": \"\"\n      }\n    },\n    {\n      \"column\": \"stroke\",\n      \"properties\": {\n        \"dtype\": \"number\",\n        \"std\": 0,\n        \"min\": 0,\n        \"max\": 1,\n        \"num_unique_values\": 2,\n        \"samples\": [\n          0,\n          1\n        ],\n        \"semantic_type\": \"\",\n        \"description\": \"\"\n      }\n    }\n  ]\n}"
            }
          },
          "metadata": {},
          "execution_count": 684
        }
      ],
      "source": [
        "df2.head(2)"
      ]
    },
    {
      "cell_type": "code",
      "execution_count": 685,
      "metadata": {
        "colab": {
          "base_uri": "https://localhost:8080/"
        },
        "id": "u3jv_MUU07W0",
        "outputId": "d9f860f1-3c28-40f2-b345-cada6a1292d2"
      },
      "outputs": [
        {
          "output_type": "execute_result",
          "data": {
            "text/plain": [
              "(4981, 11)"
            ]
          },
          "metadata": {},
          "execution_count": 685
        }
      ],
      "source": [
        "df2.shape"
      ]
    },
    {
      "cell_type": "code",
      "execution_count": 686,
      "metadata": {
        "colab": {
          "base_uri": "https://localhost:8080/",
          "height": 129
        },
        "id": "vm_ef72C0-gz",
        "outputId": "fb8b68b1-79c0-44f9-a7d4-b11ea9191436"
      },
      "outputs": [
        {
          "output_type": "execute_result",
          "data": {
            "text/plain": [
              "   gender   age  hypertension  heart_disease ever_married      work_type  \\\n",
              "0  Female  61.0             0              0          Yes  Self-employed   \n",
              "1  Female  59.0             0              0          Yes        Private   \n",
              "\n",
              "  Residence_type  avg_glucose_level        bmi smoking_status  stroke  \n",
              "0          Rural             202.21  31.555602   never smoked       1  \n",
              "1          Rural              76.15  30.242937        Unknown       1  "
            ],
            "text/html": [
              "\n",
              "  <div id=\"df-dd7f67a2-da93-4cc9-b3d8-690f5a1f8ad1\" class=\"colab-df-container\">\n",
              "    <div>\n",
              "<style scoped>\n",
              "    .dataframe tbody tr th:only-of-type {\n",
              "        vertical-align: middle;\n",
              "    }\n",
              "\n",
              "    .dataframe tbody tr th {\n",
              "        vertical-align: top;\n",
              "    }\n",
              "\n",
              "    .dataframe thead th {\n",
              "        text-align: right;\n",
              "    }\n",
              "</style>\n",
              "<table border=\"1\" class=\"dataframe\">\n",
              "  <thead>\n",
              "    <tr style=\"text-align: right;\">\n",
              "      <th></th>\n",
              "      <th>gender</th>\n",
              "      <th>age</th>\n",
              "      <th>hypertension</th>\n",
              "      <th>heart_disease</th>\n",
              "      <th>ever_married</th>\n",
              "      <th>work_type</th>\n",
              "      <th>Residence_type</th>\n",
              "      <th>avg_glucose_level</th>\n",
              "      <th>bmi</th>\n",
              "      <th>smoking_status</th>\n",
              "      <th>stroke</th>\n",
              "    </tr>\n",
              "  </thead>\n",
              "  <tbody>\n",
              "    <tr>\n",
              "      <th>0</th>\n",
              "      <td>Female</td>\n",
              "      <td>61.0</td>\n",
              "      <td>0</td>\n",
              "      <td>0</td>\n",
              "      <td>Yes</td>\n",
              "      <td>Self-employed</td>\n",
              "      <td>Rural</td>\n",
              "      <td>202.21</td>\n",
              "      <td>31.555602</td>\n",
              "      <td>never smoked</td>\n",
              "      <td>1</td>\n",
              "    </tr>\n",
              "    <tr>\n",
              "      <th>1</th>\n",
              "      <td>Female</td>\n",
              "      <td>59.0</td>\n",
              "      <td>0</td>\n",
              "      <td>0</td>\n",
              "      <td>Yes</td>\n",
              "      <td>Private</td>\n",
              "      <td>Rural</td>\n",
              "      <td>76.15</td>\n",
              "      <td>30.242937</td>\n",
              "      <td>Unknown</td>\n",
              "      <td>1</td>\n",
              "    </tr>\n",
              "  </tbody>\n",
              "</table>\n",
              "</div>\n",
              "    <div class=\"colab-df-buttons\">\n",
              "\n",
              "  <div class=\"colab-df-container\">\n",
              "    <button class=\"colab-df-convert\" onclick=\"convertToInteractive('df-dd7f67a2-da93-4cc9-b3d8-690f5a1f8ad1')\"\n",
              "            title=\"Convert this dataframe to an interactive table.\"\n",
              "            style=\"display:none;\">\n",
              "\n",
              "  <svg xmlns=\"http://www.w3.org/2000/svg\" height=\"24px\" viewBox=\"0 -960 960 960\">\n",
              "    <path d=\"M120-120v-720h720v720H120Zm60-500h600v-160H180v160Zm220 220h160v-160H400v160Zm0 220h160v-160H400v160ZM180-400h160v-160H180v160Zm440 0h160v-160H620v160ZM180-180h160v-160H180v160Zm440 0h160v-160H620v160Z\"/>\n",
              "  </svg>\n",
              "    </button>\n",
              "\n",
              "  <style>\n",
              "    .colab-df-container {\n",
              "      display:flex;\n",
              "      gap: 12px;\n",
              "    }\n",
              "\n",
              "    .colab-df-convert {\n",
              "      background-color: #E8F0FE;\n",
              "      border: none;\n",
              "      border-radius: 50%;\n",
              "      cursor: pointer;\n",
              "      display: none;\n",
              "      fill: #1967D2;\n",
              "      height: 32px;\n",
              "      padding: 0 0 0 0;\n",
              "      width: 32px;\n",
              "    }\n",
              "\n",
              "    .colab-df-convert:hover {\n",
              "      background-color: #E2EBFA;\n",
              "      box-shadow: 0px 1px 2px rgba(60, 64, 67, 0.3), 0px 1px 3px 1px rgba(60, 64, 67, 0.15);\n",
              "      fill: #174EA6;\n",
              "    }\n",
              "\n",
              "    .colab-df-buttons div {\n",
              "      margin-bottom: 4px;\n",
              "    }\n",
              "\n",
              "    [theme=dark] .colab-df-convert {\n",
              "      background-color: #3B4455;\n",
              "      fill: #D2E3FC;\n",
              "    }\n",
              "\n",
              "    [theme=dark] .colab-df-convert:hover {\n",
              "      background-color: #434B5C;\n",
              "      box-shadow: 0px 1px 3px 1px rgba(0, 0, 0, 0.15);\n",
              "      filter: drop-shadow(0px 1px 2px rgba(0, 0, 0, 0.3));\n",
              "      fill: #FFFFFF;\n",
              "    }\n",
              "  </style>\n",
              "\n",
              "    <script>\n",
              "      const buttonEl =\n",
              "        document.querySelector('#df-dd7f67a2-da93-4cc9-b3d8-690f5a1f8ad1 button.colab-df-convert');\n",
              "      buttonEl.style.display =\n",
              "        google.colab.kernel.accessAllowed ? 'block' : 'none';\n",
              "\n",
              "      async function convertToInteractive(key) {\n",
              "        const element = document.querySelector('#df-dd7f67a2-da93-4cc9-b3d8-690f5a1f8ad1');\n",
              "        const dataTable =\n",
              "          await google.colab.kernel.invokeFunction('convertToInteractive',\n",
              "                                                    [key], {});\n",
              "        if (!dataTable) return;\n",
              "\n",
              "        const docLinkHtml = 'Like what you see? Visit the ' +\n",
              "          '<a target=\"_blank\" href=https://colab.research.google.com/notebooks/data_table.ipynb>data table notebook</a>'\n",
              "          + ' to learn more about interactive tables.';\n",
              "        element.innerHTML = '';\n",
              "        dataTable['output_type'] = 'display_data';\n",
              "        await google.colab.output.renderOutput(dataTable, element);\n",
              "        const docLink = document.createElement('div');\n",
              "        docLink.innerHTML = docLinkHtml;\n",
              "        element.appendChild(docLink);\n",
              "      }\n",
              "    </script>\n",
              "  </div>\n",
              "\n",
              "\n",
              "<div id=\"df-a104f42d-ce48-4096-90c4-08bd748b7c04\">\n",
              "  <button class=\"colab-df-quickchart\" onclick=\"quickchart('df-a104f42d-ce48-4096-90c4-08bd748b7c04')\"\n",
              "            title=\"Suggest charts\"\n",
              "            style=\"display:none;\">\n",
              "\n",
              "<svg xmlns=\"http://www.w3.org/2000/svg\" height=\"24px\"viewBox=\"0 0 24 24\"\n",
              "     width=\"24px\">\n",
              "    <g>\n",
              "        <path d=\"M19 3H5c-1.1 0-2 .9-2 2v14c0 1.1.9 2 2 2h14c1.1 0 2-.9 2-2V5c0-1.1-.9-2-2-2zM9 17H7v-7h2v7zm4 0h-2V7h2v10zm4 0h-2v-4h2v4z\"/>\n",
              "    </g>\n",
              "</svg>\n",
              "  </button>\n",
              "\n",
              "<style>\n",
              "  .colab-df-quickchart {\n",
              "      --bg-color: #E8F0FE;\n",
              "      --fill-color: #1967D2;\n",
              "      --hover-bg-color: #E2EBFA;\n",
              "      --hover-fill-color: #174EA6;\n",
              "      --disabled-fill-color: #AAA;\n",
              "      --disabled-bg-color: #DDD;\n",
              "  }\n",
              "\n",
              "  [theme=dark] .colab-df-quickchart {\n",
              "      --bg-color: #3B4455;\n",
              "      --fill-color: #D2E3FC;\n",
              "      --hover-bg-color: #434B5C;\n",
              "      --hover-fill-color: #FFFFFF;\n",
              "      --disabled-bg-color: #3B4455;\n",
              "      --disabled-fill-color: #666;\n",
              "  }\n",
              "\n",
              "  .colab-df-quickchart {\n",
              "    background-color: var(--bg-color);\n",
              "    border: none;\n",
              "    border-radius: 50%;\n",
              "    cursor: pointer;\n",
              "    display: none;\n",
              "    fill: var(--fill-color);\n",
              "    height: 32px;\n",
              "    padding: 0;\n",
              "    width: 32px;\n",
              "  }\n",
              "\n",
              "  .colab-df-quickchart:hover {\n",
              "    background-color: var(--hover-bg-color);\n",
              "    box-shadow: 0 1px 2px rgba(60, 64, 67, 0.3), 0 1px 3px 1px rgba(60, 64, 67, 0.15);\n",
              "    fill: var(--button-hover-fill-color);\n",
              "  }\n",
              "\n",
              "  .colab-df-quickchart-complete:disabled,\n",
              "  .colab-df-quickchart-complete:disabled:hover {\n",
              "    background-color: var(--disabled-bg-color);\n",
              "    fill: var(--disabled-fill-color);\n",
              "    box-shadow: none;\n",
              "  }\n",
              "\n",
              "  .colab-df-spinner {\n",
              "    border: 2px solid var(--fill-color);\n",
              "    border-color: transparent;\n",
              "    border-bottom-color: var(--fill-color);\n",
              "    animation:\n",
              "      spin 1s steps(1) infinite;\n",
              "  }\n",
              "\n",
              "  @keyframes spin {\n",
              "    0% {\n",
              "      border-color: transparent;\n",
              "      border-bottom-color: var(--fill-color);\n",
              "      border-left-color: var(--fill-color);\n",
              "    }\n",
              "    20% {\n",
              "      border-color: transparent;\n",
              "      border-left-color: var(--fill-color);\n",
              "      border-top-color: var(--fill-color);\n",
              "    }\n",
              "    30% {\n",
              "      border-color: transparent;\n",
              "      border-left-color: var(--fill-color);\n",
              "      border-top-color: var(--fill-color);\n",
              "      border-right-color: var(--fill-color);\n",
              "    }\n",
              "    40% {\n",
              "      border-color: transparent;\n",
              "      border-right-color: var(--fill-color);\n",
              "      border-top-color: var(--fill-color);\n",
              "    }\n",
              "    60% {\n",
              "      border-color: transparent;\n",
              "      border-right-color: var(--fill-color);\n",
              "    }\n",
              "    80% {\n",
              "      border-color: transparent;\n",
              "      border-right-color: var(--fill-color);\n",
              "      border-bottom-color: var(--fill-color);\n",
              "    }\n",
              "    90% {\n",
              "      border-color: transparent;\n",
              "      border-bottom-color: var(--fill-color);\n",
              "    }\n",
              "  }\n",
              "</style>\n",
              "\n",
              "  <script>\n",
              "    async function quickchart(key) {\n",
              "      const quickchartButtonEl =\n",
              "        document.querySelector('#' + key + ' button');\n",
              "      quickchartButtonEl.disabled = true;  // To prevent multiple clicks.\n",
              "      quickchartButtonEl.classList.add('colab-df-spinner');\n",
              "      try {\n",
              "        const charts = await google.colab.kernel.invokeFunction(\n",
              "            'suggestCharts', [key], {});\n",
              "      } catch (error) {\n",
              "        console.error('Error during call to suggestCharts:', error);\n",
              "      }\n",
              "      quickchartButtonEl.classList.remove('colab-df-spinner');\n",
              "      quickchartButtonEl.classList.add('colab-df-quickchart-complete');\n",
              "    }\n",
              "    (() => {\n",
              "      let quickchartButtonEl =\n",
              "        document.querySelector('#df-a104f42d-ce48-4096-90c4-08bd748b7c04 button');\n",
              "      quickchartButtonEl.style.display =\n",
              "        google.colab.kernel.accessAllowed ? 'block' : 'none';\n",
              "    })();\n",
              "  </script>\n",
              "</div>\n",
              "\n",
              "    </div>\n",
              "  </div>\n"
            ],
            "application/vnd.google.colaboratory.intrinsic+json": {
              "type": "dataframe",
              "variable_name": "df3",
              "summary": "{\n  \"name\": \"df3\",\n  \"rows\": 201,\n  \"fields\": [\n    {\n      \"column\": \"gender\",\n      \"properties\": {\n        \"dtype\": \"category\",\n        \"num_unique_values\": 2,\n        \"samples\": [\n          \"Male\",\n          \"Female\"\n        ],\n        \"semantic_type\": \"\",\n        \"description\": \"\"\n      }\n    },\n    {\n      \"column\": \"age\",\n      \"properties\": {\n        \"dtype\": \"number\",\n        \"std\": 22.276181265672413,\n        \"min\": 0.48,\n        \"max\": 82.0,\n        \"num_unique_values\": 73,\n        \"samples\": [\n          58.0,\n          53.0\n        ],\n        \"semantic_type\": \"\",\n        \"description\": \"\"\n      }\n    },\n    {\n      \"column\": \"hypertension\",\n      \"properties\": {\n        \"dtype\": \"number\",\n        \"std\": 0,\n        \"min\": 0,\n        \"max\": 1,\n        \"num_unique_values\": 2,\n        \"samples\": [\n          1,\n          0\n        ],\n        \"semantic_type\": \"\",\n        \"description\": \"\"\n      }\n    },\n    {\n      \"column\": \"heart_disease\",\n      \"properties\": {\n        \"dtype\": \"number\",\n        \"std\": 0,\n        \"min\": 0,\n        \"max\": 1,\n        \"num_unique_values\": 2,\n        \"samples\": [\n          1,\n          0\n        ],\n        \"semantic_type\": \"\",\n        \"description\": \"\"\n      }\n    },\n    {\n      \"column\": \"ever_married\",\n      \"properties\": {\n        \"dtype\": \"category\",\n        \"num_unique_values\": 2,\n        \"samples\": [\n          \"No\",\n          \"Yes\"\n        ],\n        \"semantic_type\": \"\",\n        \"description\": \"\"\n      }\n    },\n    {\n      \"column\": \"work_type\",\n      \"properties\": {\n        \"dtype\": \"category\",\n        \"num_unique_values\": 4,\n        \"samples\": [\n          \"Private\",\n          \"children\"\n        ],\n        \"semantic_type\": \"\",\n        \"description\": \"\"\n      }\n    },\n    {\n      \"column\": \"Residence_type\",\n      \"properties\": {\n        \"dtype\": \"category\",\n        \"num_unique_values\": 2,\n        \"samples\": [\n          \"Urban\",\n          \"Rural\"\n        ],\n        \"semantic_type\": \"\",\n        \"description\": \"\"\n      }\n    },\n    {\n      \"column\": \"avg_glucose_level\",\n      \"properties\": {\n        \"dtype\": \"number\",\n        \"std\": 59.24032210399497,\n        \"min\": 57.52,\n        \"max\": 260.85,\n        \"num_unique_values\": 199,\n        \"samples\": [\n          81.43,\n          101.45\n        ],\n        \"semantic_type\": \"\",\n        \"description\": \"\"\n      }\n    },\n    {\n      \"column\": \"bmi\",\n      \"properties\": {\n        \"dtype\": \"number\",\n        \"std\": 3.3630978358910584,\n        \"min\": 17.89929451491795,\n        \"max\": 35.18860462517498,\n        \"num_unique_values\": 179,\n        \"samples\": [\n          32.05850252051601,\n          30.19957056534973\n        ],\n        \"semantic_type\": \"\",\n        \"description\": \"\"\n      }\n    },\n    {\n      \"column\": \"smoking_status\",\n      \"properties\": {\n        \"dtype\": \"category\",\n        \"num_unique_values\": 4,\n        \"samples\": [\n          \"Unknown\",\n          \"smokes\"\n        ],\n        \"semantic_type\": \"\",\n        \"description\": \"\"\n      }\n    },\n    {\n      \"column\": \"stroke\",\n      \"properties\": {\n        \"dtype\": \"number\",\n        \"std\": 0,\n        \"min\": 0,\n        \"max\": 1,\n        \"num_unique_values\": 2,\n        \"samples\": [\n          0,\n          1\n        ],\n        \"semantic_type\": \"\",\n        \"description\": \"\"\n      }\n    }\n  ]\n}"
            }
          },
          "metadata": {},
          "execution_count": 686
        }
      ],
      "source": [
        "df3.head(2)"
      ]
    },
    {
      "cell_type": "code",
      "execution_count": 687,
      "metadata": {
        "colab": {
          "base_uri": "https://localhost:8080/"
        },
        "id": "7PEtJwaT1EVG",
        "outputId": "9757d1fd-283c-416a-f842-88d0b5efe93f"
      },
      "outputs": [
        {
          "output_type": "execute_result",
          "data": {
            "text/plain": [
              "(201, 11)"
            ]
          },
          "metadata": {},
          "execution_count": 687
        }
      ],
      "source": [
        "df3.shape"
      ]
    },
    {
      "cell_type": "code",
      "execution_count": 688,
      "metadata": {
        "colab": {
          "base_uri": "https://localhost:8080/",
          "height": 149
        },
        "id": "cQMnj7eS1GXI",
        "outputId": "28d84134-33de-46e7-a3ae-4e7e58c5b078"
      },
      "outputs": [
        {
          "output_type": "execute_result",
          "data": {
            "text/plain": [
              "      id  gender   age  hypertension  heart_disease ever_married  \\\n",
              "0   9046    Male  67.0             0              1          Yes   \n",
              "1  51676  Female  61.0             0              0          Yes   \n",
              "\n",
              "       work_type Residence_type  avg_glucose_level   bmi   smoking_status  \\\n",
              "0        Private          Urban             228.69  36.6  formerly smoked   \n",
              "1  Self-employed          Rural             202.21   NaN     never smoked   \n",
              "\n",
              "   stroke  \n",
              "0       1  \n",
              "1       1  "
            ],
            "text/html": [
              "\n",
              "  <div id=\"df-2f26743a-f731-4c99-9b58-9f356b4b59a2\" class=\"colab-df-container\">\n",
              "    <div>\n",
              "<style scoped>\n",
              "    .dataframe tbody tr th:only-of-type {\n",
              "        vertical-align: middle;\n",
              "    }\n",
              "\n",
              "    .dataframe tbody tr th {\n",
              "        vertical-align: top;\n",
              "    }\n",
              "\n",
              "    .dataframe thead th {\n",
              "        text-align: right;\n",
              "    }\n",
              "</style>\n",
              "<table border=\"1\" class=\"dataframe\">\n",
              "  <thead>\n",
              "    <tr style=\"text-align: right;\">\n",
              "      <th></th>\n",
              "      <th>id</th>\n",
              "      <th>gender</th>\n",
              "      <th>age</th>\n",
              "      <th>hypertension</th>\n",
              "      <th>heart_disease</th>\n",
              "      <th>ever_married</th>\n",
              "      <th>work_type</th>\n",
              "      <th>Residence_type</th>\n",
              "      <th>avg_glucose_level</th>\n",
              "      <th>bmi</th>\n",
              "      <th>smoking_status</th>\n",
              "      <th>stroke</th>\n",
              "    </tr>\n",
              "  </thead>\n",
              "  <tbody>\n",
              "    <tr>\n",
              "      <th>0</th>\n",
              "      <td>9046</td>\n",
              "      <td>Male</td>\n",
              "      <td>67.0</td>\n",
              "      <td>0</td>\n",
              "      <td>1</td>\n",
              "      <td>Yes</td>\n",
              "      <td>Private</td>\n",
              "      <td>Urban</td>\n",
              "      <td>228.69</td>\n",
              "      <td>36.6</td>\n",
              "      <td>formerly smoked</td>\n",
              "      <td>1</td>\n",
              "    </tr>\n",
              "    <tr>\n",
              "      <th>1</th>\n",
              "      <td>51676</td>\n",
              "      <td>Female</td>\n",
              "      <td>61.0</td>\n",
              "      <td>0</td>\n",
              "      <td>0</td>\n",
              "      <td>Yes</td>\n",
              "      <td>Self-employed</td>\n",
              "      <td>Rural</td>\n",
              "      <td>202.21</td>\n",
              "      <td>NaN</td>\n",
              "      <td>never smoked</td>\n",
              "      <td>1</td>\n",
              "    </tr>\n",
              "  </tbody>\n",
              "</table>\n",
              "</div>\n",
              "    <div class=\"colab-df-buttons\">\n",
              "\n",
              "  <div class=\"colab-df-container\">\n",
              "    <button class=\"colab-df-convert\" onclick=\"convertToInteractive('df-2f26743a-f731-4c99-9b58-9f356b4b59a2')\"\n",
              "            title=\"Convert this dataframe to an interactive table.\"\n",
              "            style=\"display:none;\">\n",
              "\n",
              "  <svg xmlns=\"http://www.w3.org/2000/svg\" height=\"24px\" viewBox=\"0 -960 960 960\">\n",
              "    <path d=\"M120-120v-720h720v720H120Zm60-500h600v-160H180v160Zm220 220h160v-160H400v160Zm0 220h160v-160H400v160ZM180-400h160v-160H180v160Zm440 0h160v-160H620v160ZM180-180h160v-160H180v160Zm440 0h160v-160H620v160Z\"/>\n",
              "  </svg>\n",
              "    </button>\n",
              "\n",
              "  <style>\n",
              "    .colab-df-container {\n",
              "      display:flex;\n",
              "      gap: 12px;\n",
              "    }\n",
              "\n",
              "    .colab-df-convert {\n",
              "      background-color: #E8F0FE;\n",
              "      border: none;\n",
              "      border-radius: 50%;\n",
              "      cursor: pointer;\n",
              "      display: none;\n",
              "      fill: #1967D2;\n",
              "      height: 32px;\n",
              "      padding: 0 0 0 0;\n",
              "      width: 32px;\n",
              "    }\n",
              "\n",
              "    .colab-df-convert:hover {\n",
              "      background-color: #E2EBFA;\n",
              "      box-shadow: 0px 1px 2px rgba(60, 64, 67, 0.3), 0px 1px 3px 1px rgba(60, 64, 67, 0.15);\n",
              "      fill: #174EA6;\n",
              "    }\n",
              "\n",
              "    .colab-df-buttons div {\n",
              "      margin-bottom: 4px;\n",
              "    }\n",
              "\n",
              "    [theme=dark] .colab-df-convert {\n",
              "      background-color: #3B4455;\n",
              "      fill: #D2E3FC;\n",
              "    }\n",
              "\n",
              "    [theme=dark] .colab-df-convert:hover {\n",
              "      background-color: #434B5C;\n",
              "      box-shadow: 0px 1px 3px 1px rgba(0, 0, 0, 0.15);\n",
              "      filter: drop-shadow(0px 1px 2px rgba(0, 0, 0, 0.3));\n",
              "      fill: #FFFFFF;\n",
              "    }\n",
              "  </style>\n",
              "\n",
              "    <script>\n",
              "      const buttonEl =\n",
              "        document.querySelector('#df-2f26743a-f731-4c99-9b58-9f356b4b59a2 button.colab-df-convert');\n",
              "      buttonEl.style.display =\n",
              "        google.colab.kernel.accessAllowed ? 'block' : 'none';\n",
              "\n",
              "      async function convertToInteractive(key) {\n",
              "        const element = document.querySelector('#df-2f26743a-f731-4c99-9b58-9f356b4b59a2');\n",
              "        const dataTable =\n",
              "          await google.colab.kernel.invokeFunction('convertToInteractive',\n",
              "                                                    [key], {});\n",
              "        if (!dataTable) return;\n",
              "\n",
              "        const docLinkHtml = 'Like what you see? Visit the ' +\n",
              "          '<a target=\"_blank\" href=https://colab.research.google.com/notebooks/data_table.ipynb>data table notebook</a>'\n",
              "          + ' to learn more about interactive tables.';\n",
              "        element.innerHTML = '';\n",
              "        dataTable['output_type'] = 'display_data';\n",
              "        await google.colab.output.renderOutput(dataTable, element);\n",
              "        const docLink = document.createElement('div');\n",
              "        docLink.innerHTML = docLinkHtml;\n",
              "        element.appendChild(docLink);\n",
              "      }\n",
              "    </script>\n",
              "  </div>\n",
              "\n",
              "\n",
              "<div id=\"df-2ee900e3-5f9e-43cb-a1af-3d4cca8750d4\">\n",
              "  <button class=\"colab-df-quickchart\" onclick=\"quickchart('df-2ee900e3-5f9e-43cb-a1af-3d4cca8750d4')\"\n",
              "            title=\"Suggest charts\"\n",
              "            style=\"display:none;\">\n",
              "\n",
              "<svg xmlns=\"http://www.w3.org/2000/svg\" height=\"24px\"viewBox=\"0 0 24 24\"\n",
              "     width=\"24px\">\n",
              "    <g>\n",
              "        <path d=\"M19 3H5c-1.1 0-2 .9-2 2v14c0 1.1.9 2 2 2h14c1.1 0 2-.9 2-2V5c0-1.1-.9-2-2-2zM9 17H7v-7h2v7zm4 0h-2V7h2v10zm4 0h-2v-4h2v4z\"/>\n",
              "    </g>\n",
              "</svg>\n",
              "  </button>\n",
              "\n",
              "<style>\n",
              "  .colab-df-quickchart {\n",
              "      --bg-color: #E8F0FE;\n",
              "      --fill-color: #1967D2;\n",
              "      --hover-bg-color: #E2EBFA;\n",
              "      --hover-fill-color: #174EA6;\n",
              "      --disabled-fill-color: #AAA;\n",
              "      --disabled-bg-color: #DDD;\n",
              "  }\n",
              "\n",
              "  [theme=dark] .colab-df-quickchart {\n",
              "      --bg-color: #3B4455;\n",
              "      --fill-color: #D2E3FC;\n",
              "      --hover-bg-color: #434B5C;\n",
              "      --hover-fill-color: #FFFFFF;\n",
              "      --disabled-bg-color: #3B4455;\n",
              "      --disabled-fill-color: #666;\n",
              "  }\n",
              "\n",
              "  .colab-df-quickchart {\n",
              "    background-color: var(--bg-color);\n",
              "    border: none;\n",
              "    border-radius: 50%;\n",
              "    cursor: pointer;\n",
              "    display: none;\n",
              "    fill: var(--fill-color);\n",
              "    height: 32px;\n",
              "    padding: 0;\n",
              "    width: 32px;\n",
              "  }\n",
              "\n",
              "  .colab-df-quickchart:hover {\n",
              "    background-color: var(--hover-bg-color);\n",
              "    box-shadow: 0 1px 2px rgba(60, 64, 67, 0.3), 0 1px 3px 1px rgba(60, 64, 67, 0.15);\n",
              "    fill: var(--button-hover-fill-color);\n",
              "  }\n",
              "\n",
              "  .colab-df-quickchart-complete:disabled,\n",
              "  .colab-df-quickchart-complete:disabled:hover {\n",
              "    background-color: var(--disabled-bg-color);\n",
              "    fill: var(--disabled-fill-color);\n",
              "    box-shadow: none;\n",
              "  }\n",
              "\n",
              "  .colab-df-spinner {\n",
              "    border: 2px solid var(--fill-color);\n",
              "    border-color: transparent;\n",
              "    border-bottom-color: var(--fill-color);\n",
              "    animation:\n",
              "      spin 1s steps(1) infinite;\n",
              "  }\n",
              "\n",
              "  @keyframes spin {\n",
              "    0% {\n",
              "      border-color: transparent;\n",
              "      border-bottom-color: var(--fill-color);\n",
              "      border-left-color: var(--fill-color);\n",
              "    }\n",
              "    20% {\n",
              "      border-color: transparent;\n",
              "      border-left-color: var(--fill-color);\n",
              "      border-top-color: var(--fill-color);\n",
              "    }\n",
              "    30% {\n",
              "      border-color: transparent;\n",
              "      border-left-color: var(--fill-color);\n",
              "      border-top-color: var(--fill-color);\n",
              "      border-right-color: var(--fill-color);\n",
              "    }\n",
              "    40% {\n",
              "      border-color: transparent;\n",
              "      border-right-color: var(--fill-color);\n",
              "      border-top-color: var(--fill-color);\n",
              "    }\n",
              "    60% {\n",
              "      border-color: transparent;\n",
              "      border-right-color: var(--fill-color);\n",
              "    }\n",
              "    80% {\n",
              "      border-color: transparent;\n",
              "      border-right-color: var(--fill-color);\n",
              "      border-bottom-color: var(--fill-color);\n",
              "    }\n",
              "    90% {\n",
              "      border-color: transparent;\n",
              "      border-bottom-color: var(--fill-color);\n",
              "    }\n",
              "  }\n",
              "</style>\n",
              "\n",
              "  <script>\n",
              "    async function quickchart(key) {\n",
              "      const quickchartButtonEl =\n",
              "        document.querySelector('#' + key + ' button');\n",
              "      quickchartButtonEl.disabled = true;  // To prevent multiple clicks.\n",
              "      quickchartButtonEl.classList.add('colab-df-spinner');\n",
              "      try {\n",
              "        const charts = await google.colab.kernel.invokeFunction(\n",
              "            'suggestCharts', [key], {});\n",
              "      } catch (error) {\n",
              "        console.error('Error during call to suggestCharts:', error);\n",
              "      }\n",
              "      quickchartButtonEl.classList.remove('colab-df-spinner');\n",
              "      quickchartButtonEl.classList.add('colab-df-quickchart-complete');\n",
              "    }\n",
              "    (() => {\n",
              "      let quickchartButtonEl =\n",
              "        document.querySelector('#df-2ee900e3-5f9e-43cb-a1af-3d4cca8750d4 button');\n",
              "      quickchartButtonEl.style.display =\n",
              "        google.colab.kernel.accessAllowed ? 'block' : 'none';\n",
              "    })();\n",
              "  </script>\n",
              "</div>\n",
              "\n",
              "    </div>\n",
              "  </div>\n"
            ],
            "application/vnd.google.colaboratory.intrinsic+json": {
              "type": "dataframe",
              "variable_name": "df4",
              "summary": "{\n  \"name\": \"df4\",\n  \"rows\": 5110,\n  \"fields\": [\n    {\n      \"column\": \"id\",\n      \"properties\": {\n        \"dtype\": \"number\",\n        \"std\": 21161,\n        \"min\": 67,\n        \"max\": 72940,\n        \"num_unique_values\": 5110,\n        \"samples\": [\n          40041,\n          55244,\n          70992\n        ],\n        \"semantic_type\": \"\",\n        \"description\": \"\"\n      }\n    },\n    {\n      \"column\": \"gender\",\n      \"properties\": {\n        \"dtype\": \"category\",\n        \"num_unique_values\": 3,\n        \"samples\": [\n          \"Male\",\n          \"Female\",\n          \"Other\"\n        ],\n        \"semantic_type\": \"\",\n        \"description\": \"\"\n      }\n    },\n    {\n      \"column\": \"age\",\n      \"properties\": {\n        \"dtype\": \"number\",\n        \"std\": 22.61264672311349,\n        \"min\": 0.08,\n        \"max\": 82.0,\n        \"num_unique_values\": 104,\n        \"samples\": [\n          45.0,\n          24.0,\n          33.0\n        ],\n        \"semantic_type\": \"\",\n        \"description\": \"\"\n      }\n    },\n    {\n      \"column\": \"hypertension\",\n      \"properties\": {\n        \"dtype\": \"number\",\n        \"std\": 0,\n        \"min\": 0,\n        \"max\": 1,\n        \"num_unique_values\": 2,\n        \"samples\": [\n          1,\n          0\n        ],\n        \"semantic_type\": \"\",\n        \"description\": \"\"\n      }\n    },\n    {\n      \"column\": \"heart_disease\",\n      \"properties\": {\n        \"dtype\": \"number\",\n        \"std\": 0,\n        \"min\": 0,\n        \"max\": 1,\n        \"num_unique_values\": 2,\n        \"samples\": [\n          0,\n          1\n        ],\n        \"semantic_type\": \"\",\n        \"description\": \"\"\n      }\n    },\n    {\n      \"column\": \"ever_married\",\n      \"properties\": {\n        \"dtype\": \"category\",\n        \"num_unique_values\": 2,\n        \"samples\": [\n          \"No\",\n          \"Yes\"\n        ],\n        \"semantic_type\": \"\",\n        \"description\": \"\"\n      }\n    },\n    {\n      \"column\": \"work_type\",\n      \"properties\": {\n        \"dtype\": \"category\",\n        \"num_unique_values\": 5,\n        \"samples\": [\n          \"Self-employed\",\n          \"Never_worked\"\n        ],\n        \"semantic_type\": \"\",\n        \"description\": \"\"\n      }\n    },\n    {\n      \"column\": \"Residence_type\",\n      \"properties\": {\n        \"dtype\": \"category\",\n        \"num_unique_values\": 2,\n        \"samples\": [\n          \"Rural\",\n          \"Urban\"\n        ],\n        \"semantic_type\": \"\",\n        \"description\": \"\"\n      }\n    },\n    {\n      \"column\": \"avg_glucose_level\",\n      \"properties\": {\n        \"dtype\": \"number\",\n        \"std\": 45.28356015058198,\n        \"min\": 55.12,\n        \"max\": 271.74,\n        \"num_unique_values\": 3979,\n        \"samples\": [\n          178.29,\n          156.69\n        ],\n        \"semantic_type\": \"\",\n        \"description\": \"\"\n      }\n    },\n    {\n      \"column\": \"bmi\",\n      \"properties\": {\n        \"dtype\": \"number\",\n        \"std\": 7.854066729680164,\n        \"min\": 10.3,\n        \"max\": 97.6,\n        \"num_unique_values\": 418,\n        \"samples\": [\n          49.5,\n          18.5\n        ],\n        \"semantic_type\": \"\",\n        \"description\": \"\"\n      }\n    },\n    {\n      \"column\": \"smoking_status\",\n      \"properties\": {\n        \"dtype\": \"category\",\n        \"num_unique_values\": 4,\n        \"samples\": [\n          \"never smoked\",\n          \"Unknown\"\n        ],\n        \"semantic_type\": \"\",\n        \"description\": \"\"\n      }\n    },\n    {\n      \"column\": \"stroke\",\n      \"properties\": {\n        \"dtype\": \"number\",\n        \"std\": 0,\n        \"min\": 0,\n        \"max\": 1,\n        \"num_unique_values\": 2,\n        \"samples\": [\n          0,\n          1\n        ],\n        \"semantic_type\": \"\",\n        \"description\": \"\"\n      }\n    }\n  ]\n}"
            }
          },
          "metadata": {},
          "execution_count": 688
        }
      ],
      "source": [
        "df4.head(2)"
      ]
    },
    {
      "cell_type": "code",
      "execution_count": 689,
      "metadata": {
        "colab": {
          "base_uri": "https://localhost:8080/"
        },
        "id": "ORLC9xnR1KzU",
        "outputId": "3bccf49d-fffc-43ad-be3e-27f24bccef80"
      },
      "outputs": [
        {
          "output_type": "execute_result",
          "data": {
            "text/plain": [
              "(5110, 12)"
            ]
          },
          "metadata": {},
          "execution_count": 689
        }
      ],
      "source": [
        "df4.shape"
      ]
    },
    {
      "cell_type": "code",
      "execution_count": 690,
      "metadata": {
        "colab": {
          "base_uri": "https://localhost:8080/"
        },
        "id": "1uZNHI7j1UXv",
        "outputId": "dc2ed1ac-4792-46ee-8d8b-3cc1e08e6c83"
      },
      "outputs": [
        {
          "output_type": "execute_result",
          "data": {
            "text/plain": [
              "Index(['id', 'gender', 'age', 'hypertension', 'heart_disease', 'ever_married',\n",
              "       'work_type', 'Residence_type', 'avg_glucose_level', 'bmi',\n",
              "       'smoking_status', 'stroke'],\n",
              "      dtype='object')"
            ]
          },
          "metadata": {},
          "execution_count": 690
        }
      ],
      "source": [
        "df1.columns"
      ]
    },
    {
      "cell_type": "code",
      "execution_count": 691,
      "metadata": {
        "colab": {
          "base_uri": "https://localhost:8080/"
        },
        "id": "rwwxALkA1VD6",
        "outputId": "229c166b-db0b-4693-d5a2-ba67dd4c2330"
      },
      "outputs": [
        {
          "output_type": "execute_result",
          "data": {
            "text/plain": [
              "Index(['gender', 'age', 'hypertension', 'heart_disease', 'ever_married',\n",
              "       'work_type', 'Residence_type', 'avg_glucose_level', 'bmi',\n",
              "       'smoking_status', 'stroke'],\n",
              "      dtype='object')"
            ]
          },
          "metadata": {},
          "execution_count": 691
        }
      ],
      "source": [
        "df2.columns"
      ]
    },
    {
      "cell_type": "code",
      "execution_count": 692,
      "metadata": {
        "colab": {
          "base_uri": "https://localhost:8080/"
        },
        "id": "eh-jX4Hd1WLk",
        "outputId": "0c7bd01c-b216-4ea6-98b2-d1ddf5da721c"
      },
      "outputs": [
        {
          "output_type": "execute_result",
          "data": {
            "text/plain": [
              "Index(['gender', 'age', 'hypertension', 'heart_disease', 'ever_married',\n",
              "       'work_type', 'Residence_type', 'avg_glucose_level', 'bmi',\n",
              "       'smoking_status', 'stroke'],\n",
              "      dtype='object')"
            ]
          },
          "metadata": {},
          "execution_count": 692
        }
      ],
      "source": [
        "df3.columns"
      ]
    },
    {
      "cell_type": "code",
      "execution_count": 693,
      "metadata": {
        "colab": {
          "base_uri": "https://localhost:8080/"
        },
        "id": "TNoa2uF01X75",
        "outputId": "b5786203-b06a-463b-ccf1-f83f065655cc"
      },
      "outputs": [
        {
          "output_type": "execute_result",
          "data": {
            "text/plain": [
              "Index(['id', 'gender', 'age', 'hypertension', 'heart_disease', 'ever_married',\n",
              "       'work_type', 'Residence_type', 'avg_glucose_level', 'bmi',\n",
              "       'smoking_status', 'stroke'],\n",
              "      dtype='object')"
            ]
          },
          "metadata": {},
          "execution_count": 693
        }
      ],
      "source": [
        "df4.columns"
      ]
    },
    {
      "cell_type": "code",
      "execution_count": 694,
      "metadata": {
        "id": "WOUe8FU31egE"
      },
      "outputs": [],
      "source": [
        "df1=df1.drop(['id'],axis=1)"
      ]
    },
    {
      "cell_type": "code",
      "execution_count": 695,
      "metadata": {
        "id": "Ypl8v1u-1gQ2"
      },
      "outputs": [],
      "source": [
        "df4=df4.drop(['id'],axis=1)"
      ]
    },
    {
      "cell_type": "code",
      "execution_count": 696,
      "metadata": {
        "id": "eqO3tlt-1hu9"
      },
      "outputs": [],
      "source": [
        "df=pd.concat([df1,df2,df3,df4],axis=0)"
      ]
    },
    {
      "cell_type": "code",
      "execution_count": 697,
      "metadata": {
        "colab": {
          "base_uri": "https://localhost:8080/",
          "height": 206
        },
        "id": "ME9nx4R31jz8",
        "outputId": "7254ebc6-ac1c-404b-ccbd-404dc9f76adc"
      },
      "outputs": [
        {
          "output_type": "execute_result",
          "data": {
            "text/plain": [
              "   gender   age  hypertension  heart_disease ever_married     work_type  \\\n",
              "0    Male   3.0             0              0           No      children   \n",
              "1    Male  58.0             1              0          Yes       Private   \n",
              "2  Female   8.0             0              0           No       Private   \n",
              "3  Female  70.0             0              0          Yes       Private   \n",
              "4    Male  14.0             0              0           No  Never_worked   \n",
              "\n",
              "  Residence_type  avg_glucose_level   bmi   smoking_status  stroke  \n",
              "0          Rural              95.12  18.0              NaN       0  \n",
              "1          Urban              87.96  39.2     never smoked       0  \n",
              "2          Urban             110.89  17.6              NaN       0  \n",
              "3          Rural              69.04  35.9  formerly smoked       0  \n",
              "4          Rural             161.28  19.1              NaN       0  "
            ],
            "text/html": [
              "\n",
              "  <div id=\"df-e6e1df31-4d4e-4950-9122-73294f4901c0\" class=\"colab-df-container\">\n",
              "    <div>\n",
              "<style scoped>\n",
              "    .dataframe tbody tr th:only-of-type {\n",
              "        vertical-align: middle;\n",
              "    }\n",
              "\n",
              "    .dataframe tbody tr th {\n",
              "        vertical-align: top;\n",
              "    }\n",
              "\n",
              "    .dataframe thead th {\n",
              "        text-align: right;\n",
              "    }\n",
              "</style>\n",
              "<table border=\"1\" class=\"dataframe\">\n",
              "  <thead>\n",
              "    <tr style=\"text-align: right;\">\n",
              "      <th></th>\n",
              "      <th>gender</th>\n",
              "      <th>age</th>\n",
              "      <th>hypertension</th>\n",
              "      <th>heart_disease</th>\n",
              "      <th>ever_married</th>\n",
              "      <th>work_type</th>\n",
              "      <th>Residence_type</th>\n",
              "      <th>avg_glucose_level</th>\n",
              "      <th>bmi</th>\n",
              "      <th>smoking_status</th>\n",
              "      <th>stroke</th>\n",
              "    </tr>\n",
              "  </thead>\n",
              "  <tbody>\n",
              "    <tr>\n",
              "      <th>0</th>\n",
              "      <td>Male</td>\n",
              "      <td>3.0</td>\n",
              "      <td>0</td>\n",
              "      <td>0</td>\n",
              "      <td>No</td>\n",
              "      <td>children</td>\n",
              "      <td>Rural</td>\n",
              "      <td>95.12</td>\n",
              "      <td>18.0</td>\n",
              "      <td>NaN</td>\n",
              "      <td>0</td>\n",
              "    </tr>\n",
              "    <tr>\n",
              "      <th>1</th>\n",
              "      <td>Male</td>\n",
              "      <td>58.0</td>\n",
              "      <td>1</td>\n",
              "      <td>0</td>\n",
              "      <td>Yes</td>\n",
              "      <td>Private</td>\n",
              "      <td>Urban</td>\n",
              "      <td>87.96</td>\n",
              "      <td>39.2</td>\n",
              "      <td>never smoked</td>\n",
              "      <td>0</td>\n",
              "    </tr>\n",
              "    <tr>\n",
              "      <th>2</th>\n",
              "      <td>Female</td>\n",
              "      <td>8.0</td>\n",
              "      <td>0</td>\n",
              "      <td>0</td>\n",
              "      <td>No</td>\n",
              "      <td>Private</td>\n",
              "      <td>Urban</td>\n",
              "      <td>110.89</td>\n",
              "      <td>17.6</td>\n",
              "      <td>NaN</td>\n",
              "      <td>0</td>\n",
              "    </tr>\n",
              "    <tr>\n",
              "      <th>3</th>\n",
              "      <td>Female</td>\n",
              "      <td>70.0</td>\n",
              "      <td>0</td>\n",
              "      <td>0</td>\n",
              "      <td>Yes</td>\n",
              "      <td>Private</td>\n",
              "      <td>Rural</td>\n",
              "      <td>69.04</td>\n",
              "      <td>35.9</td>\n",
              "      <td>formerly smoked</td>\n",
              "      <td>0</td>\n",
              "    </tr>\n",
              "    <tr>\n",
              "      <th>4</th>\n",
              "      <td>Male</td>\n",
              "      <td>14.0</td>\n",
              "      <td>0</td>\n",
              "      <td>0</td>\n",
              "      <td>No</td>\n",
              "      <td>Never_worked</td>\n",
              "      <td>Rural</td>\n",
              "      <td>161.28</td>\n",
              "      <td>19.1</td>\n",
              "      <td>NaN</td>\n",
              "      <td>0</td>\n",
              "    </tr>\n",
              "  </tbody>\n",
              "</table>\n",
              "</div>\n",
              "    <div class=\"colab-df-buttons\">\n",
              "\n",
              "  <div class=\"colab-df-container\">\n",
              "    <button class=\"colab-df-convert\" onclick=\"convertToInteractive('df-e6e1df31-4d4e-4950-9122-73294f4901c0')\"\n",
              "            title=\"Convert this dataframe to an interactive table.\"\n",
              "            style=\"display:none;\">\n",
              "\n",
              "  <svg xmlns=\"http://www.w3.org/2000/svg\" height=\"24px\" viewBox=\"0 -960 960 960\">\n",
              "    <path d=\"M120-120v-720h720v720H120Zm60-500h600v-160H180v160Zm220 220h160v-160H400v160Zm0 220h160v-160H400v160ZM180-400h160v-160H180v160Zm440 0h160v-160H620v160ZM180-180h160v-160H180v160Zm440 0h160v-160H620v160Z\"/>\n",
              "  </svg>\n",
              "    </button>\n",
              "\n",
              "  <style>\n",
              "    .colab-df-container {\n",
              "      display:flex;\n",
              "      gap: 12px;\n",
              "    }\n",
              "\n",
              "    .colab-df-convert {\n",
              "      background-color: #E8F0FE;\n",
              "      border: none;\n",
              "      border-radius: 50%;\n",
              "      cursor: pointer;\n",
              "      display: none;\n",
              "      fill: #1967D2;\n",
              "      height: 32px;\n",
              "      padding: 0 0 0 0;\n",
              "      width: 32px;\n",
              "    }\n",
              "\n",
              "    .colab-df-convert:hover {\n",
              "      background-color: #E2EBFA;\n",
              "      box-shadow: 0px 1px 2px rgba(60, 64, 67, 0.3), 0px 1px 3px 1px rgba(60, 64, 67, 0.15);\n",
              "      fill: #174EA6;\n",
              "    }\n",
              "\n",
              "    .colab-df-buttons div {\n",
              "      margin-bottom: 4px;\n",
              "    }\n",
              "\n",
              "    [theme=dark] .colab-df-convert {\n",
              "      background-color: #3B4455;\n",
              "      fill: #D2E3FC;\n",
              "    }\n",
              "\n",
              "    [theme=dark] .colab-df-convert:hover {\n",
              "      background-color: #434B5C;\n",
              "      box-shadow: 0px 1px 3px 1px rgba(0, 0, 0, 0.15);\n",
              "      filter: drop-shadow(0px 1px 2px rgba(0, 0, 0, 0.3));\n",
              "      fill: #FFFFFF;\n",
              "    }\n",
              "  </style>\n",
              "\n",
              "    <script>\n",
              "      const buttonEl =\n",
              "        document.querySelector('#df-e6e1df31-4d4e-4950-9122-73294f4901c0 button.colab-df-convert');\n",
              "      buttonEl.style.display =\n",
              "        google.colab.kernel.accessAllowed ? 'block' : 'none';\n",
              "\n",
              "      async function convertToInteractive(key) {\n",
              "        const element = document.querySelector('#df-e6e1df31-4d4e-4950-9122-73294f4901c0');\n",
              "        const dataTable =\n",
              "          await google.colab.kernel.invokeFunction('convertToInteractive',\n",
              "                                                    [key], {});\n",
              "        if (!dataTable) return;\n",
              "\n",
              "        const docLinkHtml = 'Like what you see? Visit the ' +\n",
              "          '<a target=\"_blank\" href=https://colab.research.google.com/notebooks/data_table.ipynb>data table notebook</a>'\n",
              "          + ' to learn more about interactive tables.';\n",
              "        element.innerHTML = '';\n",
              "        dataTable['output_type'] = 'display_data';\n",
              "        await google.colab.output.renderOutput(dataTable, element);\n",
              "        const docLink = document.createElement('div');\n",
              "        docLink.innerHTML = docLinkHtml;\n",
              "        element.appendChild(docLink);\n",
              "      }\n",
              "    </script>\n",
              "  </div>\n",
              "\n",
              "\n",
              "<div id=\"df-9ee2d486-0624-4f7c-8173-bfe5fb7d574e\">\n",
              "  <button class=\"colab-df-quickchart\" onclick=\"quickchart('df-9ee2d486-0624-4f7c-8173-bfe5fb7d574e')\"\n",
              "            title=\"Suggest charts\"\n",
              "            style=\"display:none;\">\n",
              "\n",
              "<svg xmlns=\"http://www.w3.org/2000/svg\" height=\"24px\"viewBox=\"0 0 24 24\"\n",
              "     width=\"24px\">\n",
              "    <g>\n",
              "        <path d=\"M19 3H5c-1.1 0-2 .9-2 2v14c0 1.1.9 2 2 2h14c1.1 0 2-.9 2-2V5c0-1.1-.9-2-2-2zM9 17H7v-7h2v7zm4 0h-2V7h2v10zm4 0h-2v-4h2v4z\"/>\n",
              "    </g>\n",
              "</svg>\n",
              "  </button>\n",
              "\n",
              "<style>\n",
              "  .colab-df-quickchart {\n",
              "      --bg-color: #E8F0FE;\n",
              "      --fill-color: #1967D2;\n",
              "      --hover-bg-color: #E2EBFA;\n",
              "      --hover-fill-color: #174EA6;\n",
              "      --disabled-fill-color: #AAA;\n",
              "      --disabled-bg-color: #DDD;\n",
              "  }\n",
              "\n",
              "  [theme=dark] .colab-df-quickchart {\n",
              "      --bg-color: #3B4455;\n",
              "      --fill-color: #D2E3FC;\n",
              "      --hover-bg-color: #434B5C;\n",
              "      --hover-fill-color: #FFFFFF;\n",
              "      --disabled-bg-color: #3B4455;\n",
              "      --disabled-fill-color: #666;\n",
              "  }\n",
              "\n",
              "  .colab-df-quickchart {\n",
              "    background-color: var(--bg-color);\n",
              "    border: none;\n",
              "    border-radius: 50%;\n",
              "    cursor: pointer;\n",
              "    display: none;\n",
              "    fill: var(--fill-color);\n",
              "    height: 32px;\n",
              "    padding: 0;\n",
              "    width: 32px;\n",
              "  }\n",
              "\n",
              "  .colab-df-quickchart:hover {\n",
              "    background-color: var(--hover-bg-color);\n",
              "    box-shadow: 0 1px 2px rgba(60, 64, 67, 0.3), 0 1px 3px 1px rgba(60, 64, 67, 0.15);\n",
              "    fill: var(--button-hover-fill-color);\n",
              "  }\n",
              "\n",
              "  .colab-df-quickchart-complete:disabled,\n",
              "  .colab-df-quickchart-complete:disabled:hover {\n",
              "    background-color: var(--disabled-bg-color);\n",
              "    fill: var(--disabled-fill-color);\n",
              "    box-shadow: none;\n",
              "  }\n",
              "\n",
              "  .colab-df-spinner {\n",
              "    border: 2px solid var(--fill-color);\n",
              "    border-color: transparent;\n",
              "    border-bottom-color: var(--fill-color);\n",
              "    animation:\n",
              "      spin 1s steps(1) infinite;\n",
              "  }\n",
              "\n",
              "  @keyframes spin {\n",
              "    0% {\n",
              "      border-color: transparent;\n",
              "      border-bottom-color: var(--fill-color);\n",
              "      border-left-color: var(--fill-color);\n",
              "    }\n",
              "    20% {\n",
              "      border-color: transparent;\n",
              "      border-left-color: var(--fill-color);\n",
              "      border-top-color: var(--fill-color);\n",
              "    }\n",
              "    30% {\n",
              "      border-color: transparent;\n",
              "      border-left-color: var(--fill-color);\n",
              "      border-top-color: var(--fill-color);\n",
              "      border-right-color: var(--fill-color);\n",
              "    }\n",
              "    40% {\n",
              "      border-color: transparent;\n",
              "      border-right-color: var(--fill-color);\n",
              "      border-top-color: var(--fill-color);\n",
              "    }\n",
              "    60% {\n",
              "      border-color: transparent;\n",
              "      border-right-color: var(--fill-color);\n",
              "    }\n",
              "    80% {\n",
              "      border-color: transparent;\n",
              "      border-right-color: var(--fill-color);\n",
              "      border-bottom-color: var(--fill-color);\n",
              "    }\n",
              "    90% {\n",
              "      border-color: transparent;\n",
              "      border-bottom-color: var(--fill-color);\n",
              "    }\n",
              "  }\n",
              "</style>\n",
              "\n",
              "  <script>\n",
              "    async function quickchart(key) {\n",
              "      const quickchartButtonEl =\n",
              "        document.querySelector('#' + key + ' button');\n",
              "      quickchartButtonEl.disabled = true;  // To prevent multiple clicks.\n",
              "      quickchartButtonEl.classList.add('colab-df-spinner');\n",
              "      try {\n",
              "        const charts = await google.colab.kernel.invokeFunction(\n",
              "            'suggestCharts', [key], {});\n",
              "      } catch (error) {\n",
              "        console.error('Error during call to suggestCharts:', error);\n",
              "      }\n",
              "      quickchartButtonEl.classList.remove('colab-df-spinner');\n",
              "      quickchartButtonEl.classList.add('colab-df-quickchart-complete');\n",
              "    }\n",
              "    (() => {\n",
              "      let quickchartButtonEl =\n",
              "        document.querySelector('#df-9ee2d486-0624-4f7c-8173-bfe5fb7d574e button');\n",
              "      quickchartButtonEl.style.display =\n",
              "        google.colab.kernel.accessAllowed ? 'block' : 'none';\n",
              "    })();\n",
              "  </script>\n",
              "</div>\n",
              "\n",
              "    </div>\n",
              "  </div>\n"
            ],
            "application/vnd.google.colaboratory.intrinsic+json": {
              "type": "dataframe",
              "variable_name": "df",
              "summary": "{\n  \"name\": \"df\",\n  \"rows\": 53692,\n  \"fields\": [\n    {\n      \"column\": \"gender\",\n      \"properties\": {\n        \"dtype\": \"category\",\n        \"num_unique_values\": 3,\n        \"samples\": [\n          \"Male\",\n          \"Female\",\n          \"Other\"\n        ],\n        \"semantic_type\": \"\",\n        \"description\": \"\"\n      }\n    },\n    {\n      \"column\": \"age\",\n      \"properties\": {\n        \"dtype\": \"number\",\n        \"std\": 22.55211189667741,\n        \"min\": 0.08,\n        \"max\": 82.0,\n        \"num_unique_values\": 104,\n        \"samples\": [\n          13.0,\n          80.0,\n          5.0\n        ],\n        \"semantic_type\": \"\",\n        \"description\": \"\"\n      }\n    },\n    {\n      \"column\": \"hypertension\",\n      \"properties\": {\n        \"dtype\": \"number\",\n        \"std\": 0,\n        \"min\": 0,\n        \"max\": 1,\n        \"num_unique_values\": 2,\n        \"samples\": [\n          1,\n          0\n        ],\n        \"semantic_type\": \"\",\n        \"description\": \"\"\n      }\n    },\n    {\n      \"column\": \"heart_disease\",\n      \"properties\": {\n        \"dtype\": \"number\",\n        \"std\": 0,\n        \"min\": 0,\n        \"max\": 1,\n        \"num_unique_values\": 2,\n        \"samples\": [\n          1,\n          0\n        ],\n        \"semantic_type\": \"\",\n        \"description\": \"\"\n      }\n    },\n    {\n      \"column\": \"ever_married\",\n      \"properties\": {\n        \"dtype\": \"category\",\n        \"num_unique_values\": 2,\n        \"samples\": [\n          \"Yes\",\n          \"No\"\n        ],\n        \"semantic_type\": \"\",\n        \"description\": \"\"\n      }\n    },\n    {\n      \"column\": \"work_type\",\n      \"properties\": {\n        \"dtype\": \"category\",\n        \"num_unique_values\": 5,\n        \"samples\": [\n          \"Private\",\n          \"Govt_job\"\n        ],\n        \"semantic_type\": \"\",\n        \"description\": \"\"\n      }\n    },\n    {\n      \"column\": \"Residence_type\",\n      \"properties\": {\n        \"dtype\": \"category\",\n        \"num_unique_values\": 2,\n        \"samples\": [\n          \"Urban\",\n          \"Rural\"\n        ],\n        \"semantic_type\": \"\",\n        \"description\": \"\"\n      }\n    },\n    {\n      \"column\": \"avg_glucose_level\",\n      \"properties\": {\n        \"dtype\": \"number\",\n        \"std\": 43.60240081641621,\n        \"min\": 55.0,\n        \"max\": 291.05,\n        \"num_unique_values\": 12543,\n        \"samples\": [\n          74.61,\n          227.81\n        ],\n        \"semantic_type\": \"\",\n        \"description\": \"\"\n      }\n    },\n    {\n      \"column\": \"bmi\",\n      \"properties\": {\n        \"dtype\": \"number\",\n        \"std\": 7.677917239801756,\n        \"min\": 10.1,\n        \"max\": 97.6,\n        \"num_unique_values\": 734,\n        \"samples\": [\n          31.378533851873115,\n          16.0\n        ],\n        \"semantic_type\": \"\",\n        \"description\": \"\"\n      }\n    },\n    {\n      \"column\": \"smoking_status\",\n      \"properties\": {\n        \"dtype\": \"category\",\n        \"num_unique_values\": 4,\n        \"samples\": [\n          \"formerly smoked\",\n          \"Unknown\"\n        ],\n        \"semantic_type\": \"\",\n        \"description\": \"\"\n      }\n    },\n    {\n      \"column\": \"stroke\",\n      \"properties\": {\n        \"dtype\": \"number\",\n        \"std\": 0,\n        \"min\": 0,\n        \"max\": 1,\n        \"num_unique_values\": 2,\n        \"samples\": [\n          1,\n          0\n        ],\n        \"semantic_type\": \"\",\n        \"description\": \"\"\n      }\n    }\n  ]\n}"
            }
          },
          "metadata": {},
          "execution_count": 697
        }
      ],
      "source": [
        "df.head()"
      ]
    },
    {
      "cell_type": "code",
      "execution_count": 698,
      "metadata": {
        "colab": {
          "base_uri": "https://localhost:8080/"
        },
        "id": "IiqOz6cn1meF",
        "outputId": "67d6721f-8281-4f46-c232-ef2e2414b3c2"
      },
      "outputs": [
        {
          "output_type": "execute_result",
          "data": {
            "text/plain": [
              "(53692, 11)"
            ]
          },
          "metadata": {},
          "execution_count": 698
        }
      ],
      "source": [
        "df.shape"
      ]
    },
    {
      "cell_type": "code",
      "execution_count": 699,
      "metadata": {
        "colab": {
          "base_uri": "https://localhost:8080/"
        },
        "id": "YNBDTCwU1nyp",
        "outputId": "15bac4b3-7419-4c84-ab5c-f0d4994af231"
      },
      "outputs": [
        {
          "output_type": "execute_result",
          "data": {
            "text/plain": [
              "Index(['gender', 'age', 'hypertension', 'heart_disease', 'ever_married',\n",
              "       'work_type', 'Residence_type', 'avg_glucose_level', 'bmi',\n",
              "       'smoking_status', 'stroke'],\n",
              "      dtype='object')"
            ]
          },
          "metadata": {},
          "execution_count": 699
        }
      ],
      "source": [
        "df.columns"
      ]
    },
    {
      "cell_type": "code",
      "execution_count": 700,
      "metadata": {
        "id": "0GScXLqi1obi"
      },
      "outputs": [],
      "source": [
        "df.rename(columns={'Residence_type':'type_of_residence'},inplace=True)"
      ]
    },
    {
      "cell_type": "code",
      "execution_count": 701,
      "metadata": {
        "colab": {
          "base_uri": "https://localhost:8080/"
        },
        "id": "MeUf3_tE1xZr",
        "outputId": "f370a736-f12c-42ea-91b1-5bd24a799617"
      },
      "outputs": [
        {
          "output_type": "execute_result",
          "data": {
            "text/plain": [
              "Index(['gender', 'age', 'hypertension', 'heart_disease', 'ever_married',\n",
              "       'work_type', 'type_of_residence', 'avg_glucose_level', 'bmi',\n",
              "       'smoking_status', 'stroke'],\n",
              "      dtype='object')"
            ]
          },
          "metadata": {},
          "execution_count": 701
        }
      ],
      "source": [
        "df.columns"
      ]
    },
    {
      "cell_type": "markdown",
      "metadata": {
        "id": "1wa9m8UqZmFA"
      },
      "source": [
        "DATA PREPROCESSING"
      ]
    },
    {
      "cell_type": "code",
      "execution_count": 702,
      "metadata": {
        "colab": {
          "base_uri": "https://localhost:8080/"
        },
        "id": "IXOo3dwp1y3m",
        "outputId": "6f381c01-e653-4bc4-ac20-1cfd12288c69"
      },
      "outputs": [
        {
          "output_type": "stream",
          "name": "stdout",
          "text": [
            "<class 'pandas.core.frame.DataFrame'>\n",
            "Index: 53692 entries, 0 to 5109\n",
            "Data columns (total 11 columns):\n",
            " #   Column             Non-Null Count  Dtype  \n",
            "---  ------             --------------  -----  \n",
            " 0   gender             53692 non-null  object \n",
            " 1   age                53692 non-null  float64\n",
            " 2   hypertension       53692 non-null  int64  \n",
            " 3   heart_disease      53692 non-null  int64  \n",
            " 4   ever_married       53692 non-null  object \n",
            " 5   work_type          53692 non-null  object \n",
            " 6   type_of_residence  53692 non-null  object \n",
            " 7   avg_glucose_level  53692 non-null  float64\n",
            " 8   bmi                52029 non-null  float64\n",
            " 9   smoking_status     40400 non-null  object \n",
            " 10  stroke             53692 non-null  int64  \n",
            "dtypes: float64(3), int64(3), object(5)\n",
            "memory usage: 4.9+ MB\n"
          ]
        }
      ],
      "source": [
        "df.info()"
      ]
    },
    {
      "cell_type": "code",
      "execution_count": 703,
      "metadata": {
        "id": "LRV2Ry5f115i"
      },
      "outputs": [],
      "source": [
        "df=df.astype({'hypertension':'object'})"
      ]
    },
    {
      "cell_type": "code",
      "execution_count": 704,
      "metadata": {
        "id": "mQBrvQ-Y13Ou"
      },
      "outputs": [],
      "source": [
        "df=df.astype({'heart_disease':'object'})"
      ]
    },
    {
      "cell_type": "code",
      "execution_count": 705,
      "metadata": {
        "id": "lIdPYori14tV"
      },
      "outputs": [],
      "source": [
        "df=df.astype({'stroke':'object'})"
      ]
    },
    {
      "cell_type": "code",
      "execution_count": 706,
      "metadata": {
        "colab": {
          "base_uri": "https://localhost:8080/"
        },
        "id": "hnk0uWXa16AP",
        "outputId": "621b8498-e832-4df3-b626-3a416a699885"
      },
      "outputs": [
        {
          "output_type": "stream",
          "name": "stdout",
          "text": [
            "<class 'pandas.core.frame.DataFrame'>\n",
            "Index: 53692 entries, 0 to 5109\n",
            "Data columns (total 11 columns):\n",
            " #   Column             Non-Null Count  Dtype  \n",
            "---  ------             --------------  -----  \n",
            " 0   gender             53692 non-null  object \n",
            " 1   age                53692 non-null  float64\n",
            " 2   hypertension       53692 non-null  object \n",
            " 3   heart_disease      53692 non-null  object \n",
            " 4   ever_married       53692 non-null  object \n",
            " 5   work_type          53692 non-null  object \n",
            " 6   type_of_residence  53692 non-null  object \n",
            " 7   avg_glucose_level  53692 non-null  float64\n",
            " 8   bmi                52029 non-null  float64\n",
            " 9   smoking_status     40400 non-null  object \n",
            " 10  stroke             53692 non-null  object \n",
            "dtypes: float64(3), object(8)\n",
            "memory usage: 4.9+ MB\n"
          ]
        }
      ],
      "source": [
        "df.info()"
      ]
    },
    {
      "cell_type": "code",
      "execution_count": 707,
      "metadata": {
        "colab": {
          "base_uri": "https://localhost:8080/"
        },
        "id": "O6pNwzAp185s",
        "outputId": "b69d14b3-785a-4636-aca3-4f0b2324ed55"
      },
      "outputs": [
        {
          "output_type": "execute_result",
          "data": {
            "text/plain": [
              "array(['Male', 'Female', 'Other'], dtype=object)"
            ]
          },
          "metadata": {},
          "execution_count": 707
        }
      ],
      "source": [
        "df['gender'].unique()"
      ]
    },
    {
      "cell_type": "code",
      "execution_count": 708,
      "metadata": {
        "colab": {
          "base_uri": "https://localhost:8080/"
        },
        "id": "gFD6uhV01-jW",
        "outputId": "4e527a95-2709-439e-f8aa-4f5d377dcd13"
      },
      "outputs": [
        {
          "output_type": "execute_result",
          "data": {
            "text/plain": [
              "array([0, 1], dtype=object)"
            ]
          },
          "metadata": {},
          "execution_count": 708
        }
      ],
      "source": [
        "df['hypertension'].unique()"
      ]
    },
    {
      "cell_type": "code",
      "execution_count": 709,
      "metadata": {
        "id": "44mQorIv2AN-"
      },
      "outputs": [],
      "source": [
        "def hypertension_convert(num):\n",
        "  if num==0:\n",
        "    return \"No\"\n",
        "  else:\n",
        "    return \"Yes\""
      ]
    },
    {
      "cell_type": "code",
      "execution_count": 710,
      "metadata": {
        "id": "oguFhymJ2CgZ"
      },
      "outputs": [],
      "source": [
        "df['hypertension']=df['hypertension'].apply(hypertension_convert)"
      ]
    },
    {
      "cell_type": "code",
      "execution_count": 711,
      "metadata": {
        "colab": {
          "base_uri": "https://localhost:8080/",
          "height": 112
        },
        "id": "uS2rz31_2Eqy",
        "outputId": "48603d95-cd52-41ac-bc65-3f318f9a234a"
      },
      "outputs": [
        {
          "output_type": "execute_result",
          "data": {
            "text/plain": [
              "  hypertension\n",
              "0           No\n",
              "1          Yes"
            ],
            "text/html": [
              "\n",
              "  <div id=\"df-b72c4def-c186-4b5f-8492-190ddcdbc83f\" class=\"colab-df-container\">\n",
              "    <div>\n",
              "<style scoped>\n",
              "    .dataframe tbody tr th:only-of-type {\n",
              "        vertical-align: middle;\n",
              "    }\n",
              "\n",
              "    .dataframe tbody tr th {\n",
              "        vertical-align: top;\n",
              "    }\n",
              "\n",
              "    .dataframe thead th {\n",
              "        text-align: right;\n",
              "    }\n",
              "</style>\n",
              "<table border=\"1\" class=\"dataframe\">\n",
              "  <thead>\n",
              "    <tr style=\"text-align: right;\">\n",
              "      <th></th>\n",
              "      <th>hypertension</th>\n",
              "    </tr>\n",
              "  </thead>\n",
              "  <tbody>\n",
              "    <tr>\n",
              "      <th>0</th>\n",
              "      <td>No</td>\n",
              "    </tr>\n",
              "    <tr>\n",
              "      <th>1</th>\n",
              "      <td>Yes</td>\n",
              "    </tr>\n",
              "  </tbody>\n",
              "</table>\n",
              "</div>\n",
              "    <div class=\"colab-df-buttons\">\n",
              "\n",
              "  <div class=\"colab-df-container\">\n",
              "    <button class=\"colab-df-convert\" onclick=\"convertToInteractive('df-b72c4def-c186-4b5f-8492-190ddcdbc83f')\"\n",
              "            title=\"Convert this dataframe to an interactive table.\"\n",
              "            style=\"display:none;\">\n",
              "\n",
              "  <svg xmlns=\"http://www.w3.org/2000/svg\" height=\"24px\" viewBox=\"0 -960 960 960\">\n",
              "    <path d=\"M120-120v-720h720v720H120Zm60-500h600v-160H180v160Zm220 220h160v-160H400v160Zm0 220h160v-160H400v160ZM180-400h160v-160H180v160Zm440 0h160v-160H620v160ZM180-180h160v-160H180v160Zm440 0h160v-160H620v160Z\"/>\n",
              "  </svg>\n",
              "    </button>\n",
              "\n",
              "  <style>\n",
              "    .colab-df-container {\n",
              "      display:flex;\n",
              "      gap: 12px;\n",
              "    }\n",
              "\n",
              "    .colab-df-convert {\n",
              "      background-color: #E8F0FE;\n",
              "      border: none;\n",
              "      border-radius: 50%;\n",
              "      cursor: pointer;\n",
              "      display: none;\n",
              "      fill: #1967D2;\n",
              "      height: 32px;\n",
              "      padding: 0 0 0 0;\n",
              "      width: 32px;\n",
              "    }\n",
              "\n",
              "    .colab-df-convert:hover {\n",
              "      background-color: #E2EBFA;\n",
              "      box-shadow: 0px 1px 2px rgba(60, 64, 67, 0.3), 0px 1px 3px 1px rgba(60, 64, 67, 0.15);\n",
              "      fill: #174EA6;\n",
              "    }\n",
              "\n",
              "    .colab-df-buttons div {\n",
              "      margin-bottom: 4px;\n",
              "    }\n",
              "\n",
              "    [theme=dark] .colab-df-convert {\n",
              "      background-color: #3B4455;\n",
              "      fill: #D2E3FC;\n",
              "    }\n",
              "\n",
              "    [theme=dark] .colab-df-convert:hover {\n",
              "      background-color: #434B5C;\n",
              "      box-shadow: 0px 1px 3px 1px rgba(0, 0, 0, 0.15);\n",
              "      filter: drop-shadow(0px 1px 2px rgba(0, 0, 0, 0.3));\n",
              "      fill: #FFFFFF;\n",
              "    }\n",
              "  </style>\n",
              "\n",
              "    <script>\n",
              "      const buttonEl =\n",
              "        document.querySelector('#df-b72c4def-c186-4b5f-8492-190ddcdbc83f button.colab-df-convert');\n",
              "      buttonEl.style.display =\n",
              "        google.colab.kernel.accessAllowed ? 'block' : 'none';\n",
              "\n",
              "      async function convertToInteractive(key) {\n",
              "        const element = document.querySelector('#df-b72c4def-c186-4b5f-8492-190ddcdbc83f');\n",
              "        const dataTable =\n",
              "          await google.colab.kernel.invokeFunction('convertToInteractive',\n",
              "                                                    [key], {});\n",
              "        if (!dataTable) return;\n",
              "\n",
              "        const docLinkHtml = 'Like what you see? Visit the ' +\n",
              "          '<a target=\"_blank\" href=https://colab.research.google.com/notebooks/data_table.ipynb>data table notebook</a>'\n",
              "          + ' to learn more about interactive tables.';\n",
              "        element.innerHTML = '';\n",
              "        dataTable['output_type'] = 'display_data';\n",
              "        await google.colab.output.renderOutput(dataTable, element);\n",
              "        const docLink = document.createElement('div');\n",
              "        docLink.innerHTML = docLinkHtml;\n",
              "        element.appendChild(docLink);\n",
              "      }\n",
              "    </script>\n",
              "  </div>\n",
              "\n",
              "\n",
              "<div id=\"df-78ffa3dc-1e3a-4ff2-ae16-aede1d25aa4d\">\n",
              "  <button class=\"colab-df-quickchart\" onclick=\"quickchart('df-78ffa3dc-1e3a-4ff2-ae16-aede1d25aa4d')\"\n",
              "            title=\"Suggest charts\"\n",
              "            style=\"display:none;\">\n",
              "\n",
              "<svg xmlns=\"http://www.w3.org/2000/svg\" height=\"24px\"viewBox=\"0 0 24 24\"\n",
              "     width=\"24px\">\n",
              "    <g>\n",
              "        <path d=\"M19 3H5c-1.1 0-2 .9-2 2v14c0 1.1.9 2 2 2h14c1.1 0 2-.9 2-2V5c0-1.1-.9-2-2-2zM9 17H7v-7h2v7zm4 0h-2V7h2v10zm4 0h-2v-4h2v4z\"/>\n",
              "    </g>\n",
              "</svg>\n",
              "  </button>\n",
              "\n",
              "<style>\n",
              "  .colab-df-quickchart {\n",
              "      --bg-color: #E8F0FE;\n",
              "      --fill-color: #1967D2;\n",
              "      --hover-bg-color: #E2EBFA;\n",
              "      --hover-fill-color: #174EA6;\n",
              "      --disabled-fill-color: #AAA;\n",
              "      --disabled-bg-color: #DDD;\n",
              "  }\n",
              "\n",
              "  [theme=dark] .colab-df-quickchart {\n",
              "      --bg-color: #3B4455;\n",
              "      --fill-color: #D2E3FC;\n",
              "      --hover-bg-color: #434B5C;\n",
              "      --hover-fill-color: #FFFFFF;\n",
              "      --disabled-bg-color: #3B4455;\n",
              "      --disabled-fill-color: #666;\n",
              "  }\n",
              "\n",
              "  .colab-df-quickchart {\n",
              "    background-color: var(--bg-color);\n",
              "    border: none;\n",
              "    border-radius: 50%;\n",
              "    cursor: pointer;\n",
              "    display: none;\n",
              "    fill: var(--fill-color);\n",
              "    height: 32px;\n",
              "    padding: 0;\n",
              "    width: 32px;\n",
              "  }\n",
              "\n",
              "  .colab-df-quickchart:hover {\n",
              "    background-color: var(--hover-bg-color);\n",
              "    box-shadow: 0 1px 2px rgba(60, 64, 67, 0.3), 0 1px 3px 1px rgba(60, 64, 67, 0.15);\n",
              "    fill: var(--button-hover-fill-color);\n",
              "  }\n",
              "\n",
              "  .colab-df-quickchart-complete:disabled,\n",
              "  .colab-df-quickchart-complete:disabled:hover {\n",
              "    background-color: var(--disabled-bg-color);\n",
              "    fill: var(--disabled-fill-color);\n",
              "    box-shadow: none;\n",
              "  }\n",
              "\n",
              "  .colab-df-spinner {\n",
              "    border: 2px solid var(--fill-color);\n",
              "    border-color: transparent;\n",
              "    border-bottom-color: var(--fill-color);\n",
              "    animation:\n",
              "      spin 1s steps(1) infinite;\n",
              "  }\n",
              "\n",
              "  @keyframes spin {\n",
              "    0% {\n",
              "      border-color: transparent;\n",
              "      border-bottom-color: var(--fill-color);\n",
              "      border-left-color: var(--fill-color);\n",
              "    }\n",
              "    20% {\n",
              "      border-color: transparent;\n",
              "      border-left-color: var(--fill-color);\n",
              "      border-top-color: var(--fill-color);\n",
              "    }\n",
              "    30% {\n",
              "      border-color: transparent;\n",
              "      border-left-color: var(--fill-color);\n",
              "      border-top-color: var(--fill-color);\n",
              "      border-right-color: var(--fill-color);\n",
              "    }\n",
              "    40% {\n",
              "      border-color: transparent;\n",
              "      border-right-color: var(--fill-color);\n",
              "      border-top-color: var(--fill-color);\n",
              "    }\n",
              "    60% {\n",
              "      border-color: transparent;\n",
              "      border-right-color: var(--fill-color);\n",
              "    }\n",
              "    80% {\n",
              "      border-color: transparent;\n",
              "      border-right-color: var(--fill-color);\n",
              "      border-bottom-color: var(--fill-color);\n",
              "    }\n",
              "    90% {\n",
              "      border-color: transparent;\n",
              "      border-bottom-color: var(--fill-color);\n",
              "    }\n",
              "  }\n",
              "</style>\n",
              "\n",
              "  <script>\n",
              "    async function quickchart(key) {\n",
              "      const quickchartButtonEl =\n",
              "        document.querySelector('#' + key + ' button');\n",
              "      quickchartButtonEl.disabled = true;  // To prevent multiple clicks.\n",
              "      quickchartButtonEl.classList.add('colab-df-spinner');\n",
              "      try {\n",
              "        const charts = await google.colab.kernel.invokeFunction(\n",
              "            'suggestCharts', [key], {});\n",
              "      } catch (error) {\n",
              "        console.error('Error during call to suggestCharts:', error);\n",
              "      }\n",
              "      quickchartButtonEl.classList.remove('colab-df-spinner');\n",
              "      quickchartButtonEl.classList.add('colab-df-quickchart-complete');\n",
              "    }\n",
              "    (() => {\n",
              "      let quickchartButtonEl =\n",
              "        document.querySelector('#df-78ffa3dc-1e3a-4ff2-ae16-aede1d25aa4d button');\n",
              "      quickchartButtonEl.style.display =\n",
              "        google.colab.kernel.accessAllowed ? 'block' : 'none';\n",
              "    })();\n",
              "  </script>\n",
              "</div>\n",
              "\n",
              "    </div>\n",
              "  </div>\n"
            ],
            "application/vnd.google.colaboratory.intrinsic+json": {
              "type": "dataframe",
              "summary": "{\n  \"name\": \"df[['hypertension']]\",\n  \"rows\": 2,\n  \"fields\": [\n    {\n      \"column\": \"hypertension\",\n      \"properties\": {\n        \"dtype\": \"string\",\n        \"num_unique_values\": 2,\n        \"samples\": [\n          \"Yes\",\n          \"No\"\n        ],\n        \"semantic_type\": \"\",\n        \"description\": \"\"\n      }\n    }\n  ]\n}"
            }
          },
          "metadata": {},
          "execution_count": 711
        }
      ],
      "source": [
        "df[['hypertension']].head(2)"
      ]
    },
    {
      "cell_type": "code",
      "execution_count": 712,
      "metadata": {
        "colab": {
          "base_uri": "https://localhost:8080/"
        },
        "id": "3ZCB62M42GFt",
        "outputId": "255aa972-4399-49fc-938a-3f9be3d4fbc6"
      },
      "outputs": [
        {
          "output_type": "execute_result",
          "data": {
            "text/plain": [
              "array([0, 1], dtype=object)"
            ]
          },
          "metadata": {},
          "execution_count": 712
        }
      ],
      "source": [
        "df['heart_disease'].unique()"
      ]
    },
    {
      "cell_type": "code",
      "execution_count": 713,
      "metadata": {
        "id": "Z0lpz4gO2Gwn"
      },
      "outputs": [],
      "source": [
        "def heart_disease_convert(num):\n",
        "  if(num==0):\n",
        "    return \"No\"\n",
        "  else:\n",
        "    return \"Yes\""
      ]
    },
    {
      "cell_type": "code",
      "execution_count": 714,
      "metadata": {
        "id": "ZrwNgHIH2IDF"
      },
      "outputs": [],
      "source": [
        "df['heart_disease']=df['heart_disease'].apply(heart_disease_convert)"
      ]
    },
    {
      "cell_type": "code",
      "execution_count": 715,
      "metadata": {
        "colab": {
          "base_uri": "https://localhost:8080/"
        },
        "id": "3c5AU5cg2Rny",
        "outputId": "1886cef0-b51c-489b-e8bc-2e1657523664"
      },
      "outputs": [
        {
          "output_type": "execute_result",
          "data": {
            "text/plain": [
              "array(['No', 'Yes'], dtype=object)"
            ]
          },
          "metadata": {},
          "execution_count": 715
        }
      ],
      "source": [
        "df['heart_disease'].unique()"
      ]
    },
    {
      "cell_type": "code",
      "execution_count": 716,
      "metadata": {
        "colab": {
          "base_uri": "https://localhost:8080/"
        },
        "id": "YkEafOLk2TDy",
        "outputId": "91a6bfa6-b952-46e6-f645-e19e91615fc1"
      },
      "outputs": [
        {
          "output_type": "execute_result",
          "data": {
            "text/plain": [
              "array(['No', 'Yes'], dtype=object)"
            ]
          },
          "metadata": {},
          "execution_count": 716
        }
      ],
      "source": [
        "df['ever_married'].unique()"
      ]
    },
    {
      "cell_type": "code",
      "execution_count": 717,
      "metadata": {
        "colab": {
          "base_uri": "https://localhost:8080/"
        },
        "id": "3g-PhGxV2UwZ",
        "outputId": "5a653fd8-f2c5-44db-cc13-347b0740df8c"
      },
      "outputs": [
        {
          "output_type": "execute_result",
          "data": {
            "text/plain": [
              "array(['children', 'Private', 'Never_worked', 'Self-employed', 'Govt_job'],\n",
              "      dtype=object)"
            ]
          },
          "metadata": {},
          "execution_count": 717
        }
      ],
      "source": [
        "df['work_type'].unique()"
      ]
    },
    {
      "cell_type": "code",
      "execution_count": 718,
      "metadata": {
        "id": "UpCSH7yW2XS7"
      },
      "outputs": [],
      "source": [
        "def clean_work_type(text):\n",
        "  if text==\"Never_worked\":\n",
        "    return \"Never Worked\"\n",
        "  if text==\"Self-employed\":\n",
        "    return \"Self Employed\"\n",
        "  if text==\"Govt_job\":\n",
        "    return \"Govt Job\"\n",
        "  if text==\"children\":\n",
        "    return \"Children\"\n",
        "  if text==\"Private\":\n",
        "    return \"Private\""
      ]
    },
    {
      "cell_type": "code",
      "execution_count": 719,
      "metadata": {
        "id": "MpepHJoc2Ynv"
      },
      "outputs": [],
      "source": [
        "df['work_type']=df['work_type'].apply(clean_work_type)"
      ]
    },
    {
      "cell_type": "code",
      "execution_count": 720,
      "metadata": {
        "colab": {
          "base_uri": "https://localhost:8080/"
        },
        "id": "gFqKj9jc2aiH",
        "outputId": "fae6292d-4a60-4a3b-a74a-5266b0c7e36c"
      },
      "outputs": [
        {
          "output_type": "execute_result",
          "data": {
            "text/plain": [
              "array(['Children', 'Private', 'Never Worked', 'Self Employed', 'Govt Job'],\n",
              "      dtype=object)"
            ]
          },
          "metadata": {},
          "execution_count": 720
        }
      ],
      "source": [
        "df['work_type'].unique()"
      ]
    },
    {
      "cell_type": "code",
      "execution_count": 721,
      "metadata": {
        "colab": {
          "base_uri": "https://localhost:8080/"
        },
        "id": "Ax_6QPyN2c9k",
        "outputId": "aba4d8e6-9141-4735-f247-7d893024abe9"
      },
      "outputs": [
        {
          "output_type": "execute_result",
          "data": {
            "text/plain": [
              "array(['Rural', 'Urban'], dtype=object)"
            ]
          },
          "metadata": {},
          "execution_count": 721
        }
      ],
      "source": [
        "df['type_of_residence'].unique()"
      ]
    },
    {
      "cell_type": "code",
      "execution_count": 722,
      "metadata": {
        "colab": {
          "base_uri": "https://localhost:8080/"
        },
        "id": "p8rpsMM32fZK",
        "outputId": "92595cb6-e403-4803-ed15-c1e6f8afb577"
      },
      "outputs": [
        {
          "output_type": "execute_result",
          "data": {
            "text/plain": [
              "array([nan, 'never smoked', 'formerly smoked', 'smokes', 'Unknown'],\n",
              "      dtype=object)"
            ]
          },
          "metadata": {},
          "execution_count": 722
        }
      ],
      "source": [
        "df['smoking_status'].unique()"
      ]
    },
    {
      "cell_type": "code",
      "execution_count": 723,
      "metadata": {
        "id": "VvQ4vYIY2hCK"
      },
      "outputs": [],
      "source": [
        "def smoking_status_clean(text):\n",
        "  if text==\"never smoked\":\n",
        "    return \"Never Smoked\"\n",
        "  if text==\"formerly smoked\":\n",
        "    return \"Formerly Smoked\"\n",
        "  if text==\"smokes\":\n",
        "    return \"Currently Smokes\"\n",
        "  if text==\"Unknown\":\n",
        "    return \"Unknown Status\""
      ]
    },
    {
      "cell_type": "code",
      "execution_count": 724,
      "metadata": {
        "id": "CVasCBlF2kCs"
      },
      "outputs": [],
      "source": [
        "df['smoking_status']=df['smoking_status'].apply(smoking_status_clean)"
      ]
    },
    {
      "cell_type": "code",
      "execution_count": 725,
      "metadata": {
        "colab": {
          "base_uri": "https://localhost:8080/"
        },
        "id": "t_vbYPhw2l44",
        "outputId": "1ade9554-11ec-49d6-acf7-b95ed1a91e11"
      },
      "outputs": [
        {
          "output_type": "execute_result",
          "data": {
            "text/plain": [
              "array([None, 'Never Smoked', 'Formerly Smoked', 'Currently Smokes',\n",
              "       'Unknown Status'], dtype=object)"
            ]
          },
          "metadata": {},
          "execution_count": 725
        }
      ],
      "source": [
        "df['smoking_status'].unique()"
      ]
    },
    {
      "cell_type": "code",
      "execution_count": 726,
      "metadata": {
        "colab": {
          "base_uri": "https://localhost:8080/"
        },
        "id": "ohNe_tk42nZs",
        "outputId": "fdcfef2e-b19b-473a-a923-e347a6288d81"
      },
      "outputs": [
        {
          "output_type": "execute_result",
          "data": {
            "text/plain": [
              "array([0, 1], dtype=object)"
            ]
          },
          "metadata": {},
          "execution_count": 726
        }
      ],
      "source": [
        "df['stroke'].unique()"
      ]
    },
    {
      "cell_type": "code",
      "execution_count": 727,
      "metadata": {
        "id": "R_CKHLlY2pes"
      },
      "outputs": [],
      "source": [
        "def stroke_clean(num):\n",
        "  if num==0:\n",
        "    return \"No\"\n",
        "  else:\n",
        "    return \"Yes\""
      ]
    },
    {
      "cell_type": "code",
      "execution_count": 728,
      "metadata": {
        "id": "gpMjrBKK2qNv"
      },
      "outputs": [],
      "source": [
        "df['stroke']=df['stroke'].apply(stroke_clean)"
      ]
    },
    {
      "cell_type": "code",
      "execution_count": 729,
      "metadata": {
        "colab": {
          "base_uri": "https://localhost:8080/"
        },
        "id": "0y5oMUex2uSf",
        "outputId": "94a5086c-ed73-4a05-abe7-8960dcce1f21"
      },
      "outputs": [
        {
          "output_type": "execute_result",
          "data": {
            "text/plain": [
              "array(['No', 'Yes'], dtype=object)"
            ]
          },
          "metadata": {},
          "execution_count": 729
        }
      ],
      "source": [
        "df['stroke'].unique()"
      ]
    },
    {
      "cell_type": "code",
      "execution_count": 730,
      "metadata": {
        "colab": {
          "base_uri": "https://localhost:8080/"
        },
        "id": "1vz7H6GK2vmu",
        "outputId": "de762f55-e003-4772-9732-b8e1a04271c4"
      },
      "outputs": [
        {
          "output_type": "execute_result",
          "data": {
            "text/plain": [
              "gender                   0\n",
              "age                      0\n",
              "hypertension             0\n",
              "heart_disease            0\n",
              "ever_married             0\n",
              "work_type                0\n",
              "type_of_residence        0\n",
              "avg_glucose_level        0\n",
              "bmi                   1663\n",
              "smoking_status       13292\n",
              "stroke                   0\n",
              "dtype: int64"
            ]
          },
          "metadata": {},
          "execution_count": 730
        }
      ],
      "source": [
        "df.isnull().sum()"
      ]
    },
    {
      "cell_type": "code",
      "execution_count": 731,
      "metadata": {
        "colab": {
          "base_uri": "https://localhost:8080/"
        },
        "id": "MoON0VEX2x90",
        "outputId": "8df96b08-2a32-46d2-f25e-ba4792b8a96d"
      },
      "outputs": [
        {
          "output_type": "execute_result",
          "data": {
            "text/plain": [
              "28.624826748310028"
            ]
          },
          "metadata": {},
          "execution_count": 731
        }
      ],
      "source": [
        "df['bmi'].mean()"
      ]
    },
    {
      "cell_type": "code",
      "execution_count": 732,
      "metadata": {
        "id": "dL_8chmZ2zYY"
      },
      "outputs": [],
      "source": [
        "df['bmi'].fillna(df['bmi'].mean(),inplace=True)"
      ]
    },
    {
      "cell_type": "code",
      "execution_count": 733,
      "metadata": {
        "colab": {
          "base_uri": "https://localhost:8080/"
        },
        "id": "C1yUPHlO21Z-",
        "outputId": "89111e9f-69c5-404a-da65-36ca585f353c"
      },
      "outputs": [
        {
          "output_type": "execute_result",
          "data": {
            "text/plain": [
              "0    Never Smoked\n",
              "Name: smoking_status, dtype: object"
            ]
          },
          "metadata": {},
          "execution_count": 733
        }
      ],
      "source": [
        "df['smoking_status'].mode()"
      ]
    },
    {
      "cell_type": "code",
      "execution_count": 734,
      "metadata": {
        "id": "_n9Zf0Id22IR"
      },
      "outputs": [],
      "source": [
        "df['smoking_status'].fillna(df['smoking_status'].mode().iloc[0],inplace=True)"
      ]
    },
    {
      "cell_type": "code",
      "execution_count": 735,
      "metadata": {
        "colab": {
          "base_uri": "https://localhost:8080/"
        },
        "id": "-BA20qht242D",
        "outputId": "891c1c44-4550-4e41-a74d-8e007e2a3083"
      },
      "outputs": [
        {
          "output_type": "execute_result",
          "data": {
            "text/plain": [
              "gender               0\n",
              "age                  0\n",
              "hypertension         0\n",
              "heart_disease        0\n",
              "ever_married         0\n",
              "work_type            0\n",
              "type_of_residence    0\n",
              "avg_glucose_level    0\n",
              "bmi                  0\n",
              "smoking_status       0\n",
              "stroke               0\n",
              "dtype: int64"
            ]
          },
          "metadata": {},
          "execution_count": 735
        }
      ],
      "source": [
        "df.isnull().sum()"
      ]
    },
    {
      "cell_type": "code",
      "execution_count": 736,
      "metadata": {
        "id": "wu_2Kgx-CPCz"
      },
      "outputs": [],
      "source": [
        "df=df.drop_duplicates()"
      ]
    },
    {
      "cell_type": "code",
      "execution_count": 737,
      "metadata": {
        "id": "loRio3CVCasT"
      },
      "outputs": [],
      "source": [
        "df.to_csv(\"data.csv\")"
      ]
    },
    {
      "cell_type": "markdown",
      "metadata": {
        "id": "BzFrU4AS267K"
      },
      "source": [
        "FEATURE ENGINEERING"
      ]
    },
    {
      "cell_type": "code",
      "execution_count": 738,
      "metadata": {
        "id": "DC4NZ8Ox29ll"
      },
      "outputs": [],
      "source": [
        "def age_group(age):\n",
        "  if(age>=0 and age<=2):\n",
        "    return \"Baby\"\n",
        "  elif(age>=3 and age<=39):\n",
        "    return \"Young Adult\"\n",
        "  elif(age>=40 and age<=59):\n",
        "    return \"Middle Aged Adult\"\n",
        "  else:\n",
        "    return \"Old Adult\""
      ]
    },
    {
      "cell_type": "code",
      "execution_count": 739,
      "metadata": {
        "id": "lMELyM-73APw"
      },
      "outputs": [],
      "source": [
        "df['age_group']=\"\""
      ]
    },
    {
      "cell_type": "code",
      "execution_count": 740,
      "metadata": {
        "id": "0HmpBT9J3BXY"
      },
      "outputs": [],
      "source": [
        "df['age_group']=df['age'].apply(age_group)"
      ]
    },
    {
      "cell_type": "code",
      "execution_count": 741,
      "metadata": {
        "colab": {
          "base_uri": "https://localhost:8080/"
        },
        "id": "8ZIdTXdU3Dvn",
        "outputId": "6838d391-e799-4d2d-af3c-8d780b1687f5"
      },
      "outputs": [
        {
          "output_type": "execute_result",
          "data": {
            "text/plain": [
              "array(['Young Adult', 'Middle Aged Adult', 'Old Adult', 'Baby'],\n",
              "      dtype=object)"
            ]
          },
          "metadata": {},
          "execution_count": 741
        }
      ],
      "source": [
        "df['age_group'].unique()"
      ]
    },
    {
      "cell_type": "code",
      "execution_count": 742,
      "metadata": {
        "colab": {
          "base_uri": "https://localhost:8080/"
        },
        "id": "rDPj-Yrp3GsZ",
        "outputId": "45309e7f-1b75-4d8a-a917-96939af4d38d"
      },
      "outputs": [
        {
          "output_type": "execute_result",
          "data": {
            "text/plain": [
              "Index(['gender', 'age', 'hypertension', 'heart_disease', 'ever_married',\n",
              "       'work_type', 'type_of_residence', 'avg_glucose_level', 'bmi',\n",
              "       'smoking_status', 'stroke', 'age_group'],\n",
              "      dtype='object')"
            ]
          },
          "metadata": {},
          "execution_count": 742
        }
      ],
      "source": [
        "df.columns"
      ]
    },
    {
      "cell_type": "code",
      "execution_count": 743,
      "metadata": {
        "colab": {
          "base_uri": "https://localhost:8080/",
          "height": 313
        },
        "id": "nAgKrrix3IAx",
        "outputId": "90ab575b-229e-472a-fadf-eb389cb4f123"
      },
      "outputs": [
        {
          "output_type": "execute_result",
          "data": {
            "text/plain": [
              "   gender   age hypertension heart_disease ever_married     work_type  \\\n",
              "0    Male   3.0           No            No           No      Children   \n",
              "1    Male  58.0          Yes            No          Yes       Private   \n",
              "2  Female   8.0           No            No           No       Private   \n",
              "3  Female  70.0           No            No          Yes       Private   \n",
              "4    Male  14.0           No            No           No  Never Worked   \n",
              "\n",
              "  type_of_residence  avg_glucose_level   bmi   smoking_status stroke  \\\n",
              "0             Rural              95.12  18.0     Never Smoked     No   \n",
              "1             Urban              87.96  39.2     Never Smoked     No   \n",
              "2             Urban             110.89  17.6     Never Smoked     No   \n",
              "3             Rural              69.04  35.9  Formerly Smoked     No   \n",
              "4             Rural             161.28  19.1     Never Smoked     No   \n",
              "\n",
              "           age_group  \n",
              "0        Young Adult  \n",
              "1  Middle Aged Adult  \n",
              "2        Young Adult  \n",
              "3          Old Adult  \n",
              "4        Young Adult  "
            ],
            "text/html": [
              "\n",
              "  <div id=\"df-bacbe643-afb2-4f82-a277-5ad611ef3421\" class=\"colab-df-container\">\n",
              "    <div>\n",
              "<style scoped>\n",
              "    .dataframe tbody tr th:only-of-type {\n",
              "        vertical-align: middle;\n",
              "    }\n",
              "\n",
              "    .dataframe tbody tr th {\n",
              "        vertical-align: top;\n",
              "    }\n",
              "\n",
              "    .dataframe thead th {\n",
              "        text-align: right;\n",
              "    }\n",
              "</style>\n",
              "<table border=\"1\" class=\"dataframe\">\n",
              "  <thead>\n",
              "    <tr style=\"text-align: right;\">\n",
              "      <th></th>\n",
              "      <th>gender</th>\n",
              "      <th>age</th>\n",
              "      <th>hypertension</th>\n",
              "      <th>heart_disease</th>\n",
              "      <th>ever_married</th>\n",
              "      <th>work_type</th>\n",
              "      <th>type_of_residence</th>\n",
              "      <th>avg_glucose_level</th>\n",
              "      <th>bmi</th>\n",
              "      <th>smoking_status</th>\n",
              "      <th>stroke</th>\n",
              "      <th>age_group</th>\n",
              "    </tr>\n",
              "  </thead>\n",
              "  <tbody>\n",
              "    <tr>\n",
              "      <th>0</th>\n",
              "      <td>Male</td>\n",
              "      <td>3.0</td>\n",
              "      <td>No</td>\n",
              "      <td>No</td>\n",
              "      <td>No</td>\n",
              "      <td>Children</td>\n",
              "      <td>Rural</td>\n",
              "      <td>95.12</td>\n",
              "      <td>18.0</td>\n",
              "      <td>Never Smoked</td>\n",
              "      <td>No</td>\n",
              "      <td>Young Adult</td>\n",
              "    </tr>\n",
              "    <tr>\n",
              "      <th>1</th>\n",
              "      <td>Male</td>\n",
              "      <td>58.0</td>\n",
              "      <td>Yes</td>\n",
              "      <td>No</td>\n",
              "      <td>Yes</td>\n",
              "      <td>Private</td>\n",
              "      <td>Urban</td>\n",
              "      <td>87.96</td>\n",
              "      <td>39.2</td>\n",
              "      <td>Never Smoked</td>\n",
              "      <td>No</td>\n",
              "      <td>Middle Aged Adult</td>\n",
              "    </tr>\n",
              "    <tr>\n",
              "      <th>2</th>\n",
              "      <td>Female</td>\n",
              "      <td>8.0</td>\n",
              "      <td>No</td>\n",
              "      <td>No</td>\n",
              "      <td>No</td>\n",
              "      <td>Private</td>\n",
              "      <td>Urban</td>\n",
              "      <td>110.89</td>\n",
              "      <td>17.6</td>\n",
              "      <td>Never Smoked</td>\n",
              "      <td>No</td>\n",
              "      <td>Young Adult</td>\n",
              "    </tr>\n",
              "    <tr>\n",
              "      <th>3</th>\n",
              "      <td>Female</td>\n",
              "      <td>70.0</td>\n",
              "      <td>No</td>\n",
              "      <td>No</td>\n",
              "      <td>Yes</td>\n",
              "      <td>Private</td>\n",
              "      <td>Rural</td>\n",
              "      <td>69.04</td>\n",
              "      <td>35.9</td>\n",
              "      <td>Formerly Smoked</td>\n",
              "      <td>No</td>\n",
              "      <td>Old Adult</td>\n",
              "    </tr>\n",
              "    <tr>\n",
              "      <th>4</th>\n",
              "      <td>Male</td>\n",
              "      <td>14.0</td>\n",
              "      <td>No</td>\n",
              "      <td>No</td>\n",
              "      <td>No</td>\n",
              "      <td>Never Worked</td>\n",
              "      <td>Rural</td>\n",
              "      <td>161.28</td>\n",
              "      <td>19.1</td>\n",
              "      <td>Never Smoked</td>\n",
              "      <td>No</td>\n",
              "      <td>Young Adult</td>\n",
              "    </tr>\n",
              "  </tbody>\n",
              "</table>\n",
              "</div>\n",
              "    <div class=\"colab-df-buttons\">\n",
              "\n",
              "  <div class=\"colab-df-container\">\n",
              "    <button class=\"colab-df-convert\" onclick=\"convertToInteractive('df-bacbe643-afb2-4f82-a277-5ad611ef3421')\"\n",
              "            title=\"Convert this dataframe to an interactive table.\"\n",
              "            style=\"display:none;\">\n",
              "\n",
              "  <svg xmlns=\"http://www.w3.org/2000/svg\" height=\"24px\" viewBox=\"0 -960 960 960\">\n",
              "    <path d=\"M120-120v-720h720v720H120Zm60-500h600v-160H180v160Zm220 220h160v-160H400v160Zm0 220h160v-160H400v160ZM180-400h160v-160H180v160Zm440 0h160v-160H620v160ZM180-180h160v-160H180v160Zm440 0h160v-160H620v160Z\"/>\n",
              "  </svg>\n",
              "    </button>\n",
              "\n",
              "  <style>\n",
              "    .colab-df-container {\n",
              "      display:flex;\n",
              "      gap: 12px;\n",
              "    }\n",
              "\n",
              "    .colab-df-convert {\n",
              "      background-color: #E8F0FE;\n",
              "      border: none;\n",
              "      border-radius: 50%;\n",
              "      cursor: pointer;\n",
              "      display: none;\n",
              "      fill: #1967D2;\n",
              "      height: 32px;\n",
              "      padding: 0 0 0 0;\n",
              "      width: 32px;\n",
              "    }\n",
              "\n",
              "    .colab-df-convert:hover {\n",
              "      background-color: #E2EBFA;\n",
              "      box-shadow: 0px 1px 2px rgba(60, 64, 67, 0.3), 0px 1px 3px 1px rgba(60, 64, 67, 0.15);\n",
              "      fill: #174EA6;\n",
              "    }\n",
              "\n",
              "    .colab-df-buttons div {\n",
              "      margin-bottom: 4px;\n",
              "    }\n",
              "\n",
              "    [theme=dark] .colab-df-convert {\n",
              "      background-color: #3B4455;\n",
              "      fill: #D2E3FC;\n",
              "    }\n",
              "\n",
              "    [theme=dark] .colab-df-convert:hover {\n",
              "      background-color: #434B5C;\n",
              "      box-shadow: 0px 1px 3px 1px rgba(0, 0, 0, 0.15);\n",
              "      filter: drop-shadow(0px 1px 2px rgba(0, 0, 0, 0.3));\n",
              "      fill: #FFFFFF;\n",
              "    }\n",
              "  </style>\n",
              "\n",
              "    <script>\n",
              "      const buttonEl =\n",
              "        document.querySelector('#df-bacbe643-afb2-4f82-a277-5ad611ef3421 button.colab-df-convert');\n",
              "      buttonEl.style.display =\n",
              "        google.colab.kernel.accessAllowed ? 'block' : 'none';\n",
              "\n",
              "      async function convertToInteractive(key) {\n",
              "        const element = document.querySelector('#df-bacbe643-afb2-4f82-a277-5ad611ef3421');\n",
              "        const dataTable =\n",
              "          await google.colab.kernel.invokeFunction('convertToInteractive',\n",
              "                                                    [key], {});\n",
              "        if (!dataTable) return;\n",
              "\n",
              "        const docLinkHtml = 'Like what you see? Visit the ' +\n",
              "          '<a target=\"_blank\" href=https://colab.research.google.com/notebooks/data_table.ipynb>data table notebook</a>'\n",
              "          + ' to learn more about interactive tables.';\n",
              "        element.innerHTML = '';\n",
              "        dataTable['output_type'] = 'display_data';\n",
              "        await google.colab.output.renderOutput(dataTable, element);\n",
              "        const docLink = document.createElement('div');\n",
              "        docLink.innerHTML = docLinkHtml;\n",
              "        element.appendChild(docLink);\n",
              "      }\n",
              "    </script>\n",
              "  </div>\n",
              "\n",
              "\n",
              "<div id=\"df-b47dad8e-5ef8-4012-8abc-d58cc18c1f43\">\n",
              "  <button class=\"colab-df-quickchart\" onclick=\"quickchart('df-b47dad8e-5ef8-4012-8abc-d58cc18c1f43')\"\n",
              "            title=\"Suggest charts\"\n",
              "            style=\"display:none;\">\n",
              "\n",
              "<svg xmlns=\"http://www.w3.org/2000/svg\" height=\"24px\"viewBox=\"0 0 24 24\"\n",
              "     width=\"24px\">\n",
              "    <g>\n",
              "        <path d=\"M19 3H5c-1.1 0-2 .9-2 2v14c0 1.1.9 2 2 2h14c1.1 0 2-.9 2-2V5c0-1.1-.9-2-2-2zM9 17H7v-7h2v7zm4 0h-2V7h2v10zm4 0h-2v-4h2v4z\"/>\n",
              "    </g>\n",
              "</svg>\n",
              "  </button>\n",
              "\n",
              "<style>\n",
              "  .colab-df-quickchart {\n",
              "      --bg-color: #E8F0FE;\n",
              "      --fill-color: #1967D2;\n",
              "      --hover-bg-color: #E2EBFA;\n",
              "      --hover-fill-color: #174EA6;\n",
              "      --disabled-fill-color: #AAA;\n",
              "      --disabled-bg-color: #DDD;\n",
              "  }\n",
              "\n",
              "  [theme=dark] .colab-df-quickchart {\n",
              "      --bg-color: #3B4455;\n",
              "      --fill-color: #D2E3FC;\n",
              "      --hover-bg-color: #434B5C;\n",
              "      --hover-fill-color: #FFFFFF;\n",
              "      --disabled-bg-color: #3B4455;\n",
              "      --disabled-fill-color: #666;\n",
              "  }\n",
              "\n",
              "  .colab-df-quickchart {\n",
              "    background-color: var(--bg-color);\n",
              "    border: none;\n",
              "    border-radius: 50%;\n",
              "    cursor: pointer;\n",
              "    display: none;\n",
              "    fill: var(--fill-color);\n",
              "    height: 32px;\n",
              "    padding: 0;\n",
              "    width: 32px;\n",
              "  }\n",
              "\n",
              "  .colab-df-quickchart:hover {\n",
              "    background-color: var(--hover-bg-color);\n",
              "    box-shadow: 0 1px 2px rgba(60, 64, 67, 0.3), 0 1px 3px 1px rgba(60, 64, 67, 0.15);\n",
              "    fill: var(--button-hover-fill-color);\n",
              "  }\n",
              "\n",
              "  .colab-df-quickchart-complete:disabled,\n",
              "  .colab-df-quickchart-complete:disabled:hover {\n",
              "    background-color: var(--disabled-bg-color);\n",
              "    fill: var(--disabled-fill-color);\n",
              "    box-shadow: none;\n",
              "  }\n",
              "\n",
              "  .colab-df-spinner {\n",
              "    border: 2px solid var(--fill-color);\n",
              "    border-color: transparent;\n",
              "    border-bottom-color: var(--fill-color);\n",
              "    animation:\n",
              "      spin 1s steps(1) infinite;\n",
              "  }\n",
              "\n",
              "  @keyframes spin {\n",
              "    0% {\n",
              "      border-color: transparent;\n",
              "      border-bottom-color: var(--fill-color);\n",
              "      border-left-color: var(--fill-color);\n",
              "    }\n",
              "    20% {\n",
              "      border-color: transparent;\n",
              "      border-left-color: var(--fill-color);\n",
              "      border-top-color: var(--fill-color);\n",
              "    }\n",
              "    30% {\n",
              "      border-color: transparent;\n",
              "      border-left-color: var(--fill-color);\n",
              "      border-top-color: var(--fill-color);\n",
              "      border-right-color: var(--fill-color);\n",
              "    }\n",
              "    40% {\n",
              "      border-color: transparent;\n",
              "      border-right-color: var(--fill-color);\n",
              "      border-top-color: var(--fill-color);\n",
              "    }\n",
              "    60% {\n",
              "      border-color: transparent;\n",
              "      border-right-color: var(--fill-color);\n",
              "    }\n",
              "    80% {\n",
              "      border-color: transparent;\n",
              "      border-right-color: var(--fill-color);\n",
              "      border-bottom-color: var(--fill-color);\n",
              "    }\n",
              "    90% {\n",
              "      border-color: transparent;\n",
              "      border-bottom-color: var(--fill-color);\n",
              "    }\n",
              "  }\n",
              "</style>\n",
              "\n",
              "  <script>\n",
              "    async function quickchart(key) {\n",
              "      const quickchartButtonEl =\n",
              "        document.querySelector('#' + key + ' button');\n",
              "      quickchartButtonEl.disabled = true;  // To prevent multiple clicks.\n",
              "      quickchartButtonEl.classList.add('colab-df-spinner');\n",
              "      try {\n",
              "        const charts = await google.colab.kernel.invokeFunction(\n",
              "            'suggestCharts', [key], {});\n",
              "      } catch (error) {\n",
              "        console.error('Error during call to suggestCharts:', error);\n",
              "      }\n",
              "      quickchartButtonEl.classList.remove('colab-df-spinner');\n",
              "      quickchartButtonEl.classList.add('colab-df-quickchart-complete');\n",
              "    }\n",
              "    (() => {\n",
              "      let quickchartButtonEl =\n",
              "        document.querySelector('#df-b47dad8e-5ef8-4012-8abc-d58cc18c1f43 button');\n",
              "      quickchartButtonEl.style.display =\n",
              "        google.colab.kernel.accessAllowed ? 'block' : 'none';\n",
              "    })();\n",
              "  </script>\n",
              "</div>\n",
              "\n",
              "    </div>\n",
              "  </div>\n"
            ],
            "application/vnd.google.colaboratory.intrinsic+json": {
              "type": "dataframe",
              "variable_name": "df",
              "summary": "{\n  \"name\": \"df\",\n  \"rows\": 45346,\n  \"fields\": [\n    {\n      \"column\": \"gender\",\n      \"properties\": {\n        \"dtype\": \"category\",\n        \"num_unique_values\": 3,\n        \"samples\": [\n          \"Male\",\n          \"Female\",\n          \"Other\"\n        ],\n        \"semantic_type\": \"\",\n        \"description\": \"\"\n      }\n    },\n    {\n      \"column\": \"age\",\n      \"properties\": {\n        \"dtype\": \"number\",\n        \"std\": 22.732297846613168,\n        \"min\": 0.08,\n        \"max\": 82.0,\n        \"num_unique_values\": 104,\n        \"samples\": [\n          13.0,\n          80.0,\n          5.0\n        ],\n        \"semantic_type\": \"\",\n        \"description\": \"\"\n      }\n    },\n    {\n      \"column\": \"hypertension\",\n      \"properties\": {\n        \"dtype\": \"category\",\n        \"num_unique_values\": 2,\n        \"samples\": [\n          \"Yes\",\n          \"No\"\n        ],\n        \"semantic_type\": \"\",\n        \"description\": \"\"\n      }\n    },\n    {\n      \"column\": \"heart_disease\",\n      \"properties\": {\n        \"dtype\": \"category\",\n        \"num_unique_values\": 2,\n        \"samples\": [\n          \"Yes\",\n          \"No\"\n        ],\n        \"semantic_type\": \"\",\n        \"description\": \"\"\n      }\n    },\n    {\n      \"column\": \"ever_married\",\n      \"properties\": {\n        \"dtype\": \"category\",\n        \"num_unique_values\": 2,\n        \"samples\": [\n          \"Yes\",\n          \"No\"\n        ],\n        \"semantic_type\": \"\",\n        \"description\": \"\"\n      }\n    },\n    {\n      \"column\": \"work_type\",\n      \"properties\": {\n        \"dtype\": \"category\",\n        \"num_unique_values\": 5,\n        \"samples\": [\n          \"Private\",\n          \"Govt Job\"\n        ],\n        \"semantic_type\": \"\",\n        \"description\": \"\"\n      }\n    },\n    {\n      \"column\": \"type_of_residence\",\n      \"properties\": {\n        \"dtype\": \"category\",\n        \"num_unique_values\": 2,\n        \"samples\": [\n          \"Urban\",\n          \"Rural\"\n        ],\n        \"semantic_type\": \"\",\n        \"description\": \"\"\n      }\n    },\n    {\n      \"column\": \"avg_glucose_level\",\n      \"properties\": {\n        \"dtype\": \"number\",\n        \"std\": 43.13479980006332,\n        \"min\": 55.0,\n        \"max\": 291.05,\n        \"num_unique_values\": 12543,\n        \"samples\": [\n          74.61,\n          227.81\n        ],\n        \"semantic_type\": \"\",\n        \"description\": \"\"\n      }\n    },\n    {\n      \"column\": \"bmi\",\n      \"properties\": {\n        \"dtype\": \"number\",\n        \"std\": 7.640876492742431,\n        \"min\": 10.1,\n        \"max\": 97.6,\n        \"num_unique_values\": 735,\n        \"samples\": [\n          33.80840960032553,\n          16.0\n        ],\n        \"semantic_type\": \"\",\n        \"description\": \"\"\n      }\n    },\n    {\n      \"column\": \"smoking_status\",\n      \"properties\": {\n        \"dtype\": \"category\",\n        \"num_unique_values\": 4,\n        \"samples\": [\n          \"Formerly Smoked\",\n          \"Unknown Status\"\n        ],\n        \"semantic_type\": \"\",\n        \"description\": \"\"\n      }\n    },\n    {\n      \"column\": \"stroke\",\n      \"properties\": {\n        \"dtype\": \"category\",\n        \"num_unique_values\": 2,\n        \"samples\": [\n          \"Yes\",\n          \"No\"\n        ],\n        \"semantic_type\": \"\",\n        \"description\": \"\"\n      }\n    },\n    {\n      \"column\": \"age_group\",\n      \"properties\": {\n        \"dtype\": \"category\",\n        \"num_unique_values\": 4,\n        \"samples\": [\n          \"Middle Aged Adult\",\n          \"Baby\"\n        ],\n        \"semantic_type\": \"\",\n        \"description\": \"\"\n      }\n    }\n  ]\n}"
            }
          },
          "metadata": {},
          "execution_count": 743
        }
      ],
      "source": [
        "df.head()"
      ]
    },
    {
      "cell_type": "code",
      "execution_count": 744,
      "metadata": {
        "id": "0DFFAX3O3KFi"
      },
      "outputs": [],
      "source": [
        "def bmi_category(num):\n",
        "  if num<=18.5:\n",
        "    return \"Underweight\"\n",
        "  elif num>18.5 and num<=24.9:\n",
        "    return \"Healthy Weight\"\n",
        "  elif num>25.0 and num<29.9:\n",
        "    return \"Overweight\"\n",
        "  else:\n",
        "    return \"Obese\""
      ]
    },
    {
      "cell_type": "code",
      "execution_count": 745,
      "metadata": {
        "id": "_1DEfpzi3Le6"
      },
      "outputs": [],
      "source": [
        "df['bmi_category']=\"\""
      ]
    },
    {
      "cell_type": "code",
      "execution_count": 746,
      "metadata": {
        "id": "OqnQ0yg63NJX"
      },
      "outputs": [],
      "source": [
        "df['bmi_category']=df['bmi'].apply(bmi_category)"
      ]
    },
    {
      "cell_type": "code",
      "execution_count": 747,
      "metadata": {
        "colab": {
          "base_uri": "https://localhost:8080/"
        },
        "id": "D5aa9T2b3QAK",
        "outputId": "316a8e50-a505-4728-bdff-bb2c557b620c"
      },
      "outputs": [
        {
          "output_type": "execute_result",
          "data": {
            "text/plain": [
              "array(['Underweight', 'Obese', 'Healthy Weight', 'Overweight'],\n",
              "      dtype=object)"
            ]
          },
          "metadata": {},
          "execution_count": 747
        }
      ],
      "source": [
        "df['bmi_category'].unique()"
      ]
    },
    {
      "cell_type": "code",
      "execution_count": 748,
      "metadata": {
        "colab": {
          "base_uri": "https://localhost:8080/"
        },
        "id": "WWoSu5xJ3Qs2",
        "outputId": "16a7ed9a-582f-4ba6-e82e-9746ce525d60"
      },
      "outputs": [
        {
          "output_type": "stream",
          "name": "stdout",
          "text": [
            "<class 'pandas.core.frame.DataFrame'>\n",
            "Index: 45346 entries, 0 to 4934\n",
            "Data columns (total 13 columns):\n",
            " #   Column             Non-Null Count  Dtype  \n",
            "---  ------             --------------  -----  \n",
            " 0   gender             45346 non-null  object \n",
            " 1   age                45346 non-null  float64\n",
            " 2   hypertension       45346 non-null  object \n",
            " 3   heart_disease      45346 non-null  object \n",
            " 4   ever_married       45346 non-null  object \n",
            " 5   work_type          45346 non-null  object \n",
            " 6   type_of_residence  45346 non-null  object \n",
            " 7   avg_glucose_level  45346 non-null  float64\n",
            " 8   bmi                45346 non-null  float64\n",
            " 9   smoking_status     45346 non-null  object \n",
            " 10  stroke             45346 non-null  object \n",
            " 11  age_group          45346 non-null  object \n",
            " 12  bmi_category       45346 non-null  object \n",
            "dtypes: float64(3), object(10)\n",
            "memory usage: 4.8+ MB\n"
          ]
        }
      ],
      "source": [
        "df.info()"
      ]
    },
    {
      "cell_type": "code",
      "execution_count": 749,
      "metadata": {
        "id": "UH6fluSZ3TqJ"
      },
      "outputs": [],
      "source": [
        "df=df.astype({'age':'int'})"
      ]
    },
    {
      "cell_type": "code",
      "execution_count": 750,
      "metadata": {
        "id": "LIwPWjRS3VI_"
      },
      "outputs": [],
      "source": [
        "def age_year_convert(num):\n",
        "  return (2020-num)"
      ]
    },
    {
      "cell_type": "code",
      "execution_count": 751,
      "metadata": {
        "id": "Y1Jbb9AO3Xdw"
      },
      "outputs": [],
      "source": [
        "df['year_of_birth']=0"
      ]
    },
    {
      "cell_type": "code",
      "execution_count": 752,
      "metadata": {
        "id": "_Yx4EQRN3Y1g"
      },
      "outputs": [],
      "source": [
        "df['year_of_birth']=df['age'].apply(age_year_convert)"
      ]
    },
    {
      "cell_type": "code",
      "execution_count": 753,
      "metadata": {
        "colab": {
          "base_uri": "https://localhost:8080/"
        },
        "id": "nXqH3zHU3aIG",
        "outputId": "0c012f19-8502-44c4-8afc-f52746a1ec34"
      },
      "outputs": [
        {
          "output_type": "execute_result",
          "data": {
            "text/plain": [
              "array([2017, 1962, 2012, 1950, 2006, 1973, 1968, 1945, 1988, 1946, 1941,\n",
              "       1983, 1980, 1985, 2000, 1978, 1976, 1955, 1963, 1971, 1949, 1961,\n",
              "       1995, 1953, 1982, 1966, 1993, 1997, 1965, 2003, 2007, 2016, 2004,\n",
              "       1998, 1975, 1954, 1951, 1967, 1942, 1977, 1969, 1990, 1974, 1959,\n",
              "       1972, 1991, 2009, 1944, 1999, 2002, 1987, 1938, 1996, 1986, 1956,\n",
              "       1952, 1960, 1984, 1981, 2020, 1948, 1979, 1964, 2015, 1940, 1994,\n",
              "       1989, 2013, 2008, 1957, 1958, 2018, 1939, 2011, 2005, 1992, 2010,\n",
              "       1943, 2019, 1947, 1970, 2001, 2014])"
            ]
          },
          "metadata": {},
          "execution_count": 753
        }
      ],
      "source": [
        "df['year_of_birth'].unique()"
      ]
    },
    {
      "cell_type": "code",
      "execution_count": 754,
      "metadata": {
        "colab": {
          "base_uri": "https://localhost:8080/"
        },
        "id": "AgkELyoP3cnk",
        "outputId": "0f0de0d5-6c58-4c40-a6c4-87c4a74715ea"
      },
      "outputs": [
        {
          "output_type": "execute_result",
          "data": {
            "text/plain": [
              "array([ 95.12,  87.96, 110.89, ..., 182.45, 121.45, 132.22])"
            ]
          },
          "metadata": {},
          "execution_count": 754
        }
      ],
      "source": [
        "df['avg_glucose_level'].unique()"
      ]
    },
    {
      "cell_type": "code",
      "execution_count": 755,
      "metadata": {
        "id": "uokVEdnE3eQA"
      },
      "outputs": [],
      "source": [
        "df['diabetes']=\"\""
      ]
    },
    {
      "cell_type": "code",
      "execution_count": 756,
      "metadata": {
        "id": "jjkePVW_3fxT"
      },
      "outputs": [],
      "source": [
        "def diabetes_check(num):\n",
        "  if num<=100.0:\n",
        "    return \"Normal\"\n",
        "  elif num>100.0 and num<125.0:\n",
        "    return \"Prediabetes\"\n",
        "  else:\n",
        "    return \"Diabetes\""
      ]
    },
    {
      "cell_type": "code",
      "execution_count": 757,
      "metadata": {
        "id": "HrEzi9tZ3i9E"
      },
      "outputs": [],
      "source": [
        "df['diabetes']=df['avg_glucose_level'].apply(diabetes_check)"
      ]
    },
    {
      "cell_type": "code",
      "execution_count": 758,
      "metadata": {
        "colab": {
          "base_uri": "https://localhost:8080/"
        },
        "id": "TEB7Uous3koT",
        "outputId": "30767710-c290-4214-e89e-cf093c8b6774"
      },
      "outputs": [
        {
          "output_type": "execute_result",
          "data": {
            "text/plain": [
              "Index(['gender', 'age', 'hypertension', 'heart_disease', 'ever_married',\n",
              "       'work_type', 'type_of_residence', 'avg_glucose_level', 'bmi',\n",
              "       'smoking_status', 'stroke', 'age_group', 'bmi_category',\n",
              "       'year_of_birth', 'diabetes'],\n",
              "      dtype='object')"
            ]
          },
          "metadata": {},
          "execution_count": 758
        }
      ],
      "source": [
        "df.columns"
      ]
    },
    {
      "cell_type": "code",
      "execution_count": 759,
      "metadata": {
        "colab": {
          "base_uri": "https://localhost:8080/",
          "height": 313
        },
        "id": "fcE_Odeq3mgs",
        "outputId": "616e5745-d1df-4713-dc2f-9545c8031670"
      },
      "outputs": [
        {
          "output_type": "execute_result",
          "data": {
            "text/plain": [
              "   gender  age hypertension heart_disease ever_married     work_type  \\\n",
              "0    Male    3           No            No           No      Children   \n",
              "1    Male   58          Yes            No          Yes       Private   \n",
              "2  Female    8           No            No           No       Private   \n",
              "3  Female   70           No            No          Yes       Private   \n",
              "4    Male   14           No            No           No  Never Worked   \n",
              "\n",
              "  type_of_residence  avg_glucose_level   bmi   smoking_status stroke  \\\n",
              "0             Rural              95.12  18.0     Never Smoked     No   \n",
              "1             Urban              87.96  39.2     Never Smoked     No   \n",
              "2             Urban             110.89  17.6     Never Smoked     No   \n",
              "3             Rural              69.04  35.9  Formerly Smoked     No   \n",
              "4             Rural             161.28  19.1     Never Smoked     No   \n",
              "\n",
              "           age_group    bmi_category  year_of_birth     diabetes  \n",
              "0        Young Adult     Underweight           2017       Normal  \n",
              "1  Middle Aged Adult           Obese           1962       Normal  \n",
              "2        Young Adult     Underweight           2012  Prediabetes  \n",
              "3          Old Adult           Obese           1950       Normal  \n",
              "4        Young Adult  Healthy Weight           2006     Diabetes  "
            ],
            "text/html": [
              "\n",
              "  <div id=\"df-5d41edd1-b0b0-4b3e-8a26-012993bf4151\" class=\"colab-df-container\">\n",
              "    <div>\n",
              "<style scoped>\n",
              "    .dataframe tbody tr th:only-of-type {\n",
              "        vertical-align: middle;\n",
              "    }\n",
              "\n",
              "    .dataframe tbody tr th {\n",
              "        vertical-align: top;\n",
              "    }\n",
              "\n",
              "    .dataframe thead th {\n",
              "        text-align: right;\n",
              "    }\n",
              "</style>\n",
              "<table border=\"1\" class=\"dataframe\">\n",
              "  <thead>\n",
              "    <tr style=\"text-align: right;\">\n",
              "      <th></th>\n",
              "      <th>gender</th>\n",
              "      <th>age</th>\n",
              "      <th>hypertension</th>\n",
              "      <th>heart_disease</th>\n",
              "      <th>ever_married</th>\n",
              "      <th>work_type</th>\n",
              "      <th>type_of_residence</th>\n",
              "      <th>avg_glucose_level</th>\n",
              "      <th>bmi</th>\n",
              "      <th>smoking_status</th>\n",
              "      <th>stroke</th>\n",
              "      <th>age_group</th>\n",
              "      <th>bmi_category</th>\n",
              "      <th>year_of_birth</th>\n",
              "      <th>diabetes</th>\n",
              "    </tr>\n",
              "  </thead>\n",
              "  <tbody>\n",
              "    <tr>\n",
              "      <th>0</th>\n",
              "      <td>Male</td>\n",
              "      <td>3</td>\n",
              "      <td>No</td>\n",
              "      <td>No</td>\n",
              "      <td>No</td>\n",
              "      <td>Children</td>\n",
              "      <td>Rural</td>\n",
              "      <td>95.12</td>\n",
              "      <td>18.0</td>\n",
              "      <td>Never Smoked</td>\n",
              "      <td>No</td>\n",
              "      <td>Young Adult</td>\n",
              "      <td>Underweight</td>\n",
              "      <td>2017</td>\n",
              "      <td>Normal</td>\n",
              "    </tr>\n",
              "    <tr>\n",
              "      <th>1</th>\n",
              "      <td>Male</td>\n",
              "      <td>58</td>\n",
              "      <td>Yes</td>\n",
              "      <td>No</td>\n",
              "      <td>Yes</td>\n",
              "      <td>Private</td>\n",
              "      <td>Urban</td>\n",
              "      <td>87.96</td>\n",
              "      <td>39.2</td>\n",
              "      <td>Never Smoked</td>\n",
              "      <td>No</td>\n",
              "      <td>Middle Aged Adult</td>\n",
              "      <td>Obese</td>\n",
              "      <td>1962</td>\n",
              "      <td>Normal</td>\n",
              "    </tr>\n",
              "    <tr>\n",
              "      <th>2</th>\n",
              "      <td>Female</td>\n",
              "      <td>8</td>\n",
              "      <td>No</td>\n",
              "      <td>No</td>\n",
              "      <td>No</td>\n",
              "      <td>Private</td>\n",
              "      <td>Urban</td>\n",
              "      <td>110.89</td>\n",
              "      <td>17.6</td>\n",
              "      <td>Never Smoked</td>\n",
              "      <td>No</td>\n",
              "      <td>Young Adult</td>\n",
              "      <td>Underweight</td>\n",
              "      <td>2012</td>\n",
              "      <td>Prediabetes</td>\n",
              "    </tr>\n",
              "    <tr>\n",
              "      <th>3</th>\n",
              "      <td>Female</td>\n",
              "      <td>70</td>\n",
              "      <td>No</td>\n",
              "      <td>No</td>\n",
              "      <td>Yes</td>\n",
              "      <td>Private</td>\n",
              "      <td>Rural</td>\n",
              "      <td>69.04</td>\n",
              "      <td>35.9</td>\n",
              "      <td>Formerly Smoked</td>\n",
              "      <td>No</td>\n",
              "      <td>Old Adult</td>\n",
              "      <td>Obese</td>\n",
              "      <td>1950</td>\n",
              "      <td>Normal</td>\n",
              "    </tr>\n",
              "    <tr>\n",
              "      <th>4</th>\n",
              "      <td>Male</td>\n",
              "      <td>14</td>\n",
              "      <td>No</td>\n",
              "      <td>No</td>\n",
              "      <td>No</td>\n",
              "      <td>Never Worked</td>\n",
              "      <td>Rural</td>\n",
              "      <td>161.28</td>\n",
              "      <td>19.1</td>\n",
              "      <td>Never Smoked</td>\n",
              "      <td>No</td>\n",
              "      <td>Young Adult</td>\n",
              "      <td>Healthy Weight</td>\n",
              "      <td>2006</td>\n",
              "      <td>Diabetes</td>\n",
              "    </tr>\n",
              "  </tbody>\n",
              "</table>\n",
              "</div>\n",
              "    <div class=\"colab-df-buttons\">\n",
              "\n",
              "  <div class=\"colab-df-container\">\n",
              "    <button class=\"colab-df-convert\" onclick=\"convertToInteractive('df-5d41edd1-b0b0-4b3e-8a26-012993bf4151')\"\n",
              "            title=\"Convert this dataframe to an interactive table.\"\n",
              "            style=\"display:none;\">\n",
              "\n",
              "  <svg xmlns=\"http://www.w3.org/2000/svg\" height=\"24px\" viewBox=\"0 -960 960 960\">\n",
              "    <path d=\"M120-120v-720h720v720H120Zm60-500h600v-160H180v160Zm220 220h160v-160H400v160Zm0 220h160v-160H400v160ZM180-400h160v-160H180v160Zm440 0h160v-160H620v160ZM180-180h160v-160H180v160Zm440 0h160v-160H620v160Z\"/>\n",
              "  </svg>\n",
              "    </button>\n",
              "\n",
              "  <style>\n",
              "    .colab-df-container {\n",
              "      display:flex;\n",
              "      gap: 12px;\n",
              "    }\n",
              "\n",
              "    .colab-df-convert {\n",
              "      background-color: #E8F0FE;\n",
              "      border: none;\n",
              "      border-radius: 50%;\n",
              "      cursor: pointer;\n",
              "      display: none;\n",
              "      fill: #1967D2;\n",
              "      height: 32px;\n",
              "      padding: 0 0 0 0;\n",
              "      width: 32px;\n",
              "    }\n",
              "\n",
              "    .colab-df-convert:hover {\n",
              "      background-color: #E2EBFA;\n",
              "      box-shadow: 0px 1px 2px rgba(60, 64, 67, 0.3), 0px 1px 3px 1px rgba(60, 64, 67, 0.15);\n",
              "      fill: #174EA6;\n",
              "    }\n",
              "\n",
              "    .colab-df-buttons div {\n",
              "      margin-bottom: 4px;\n",
              "    }\n",
              "\n",
              "    [theme=dark] .colab-df-convert {\n",
              "      background-color: #3B4455;\n",
              "      fill: #D2E3FC;\n",
              "    }\n",
              "\n",
              "    [theme=dark] .colab-df-convert:hover {\n",
              "      background-color: #434B5C;\n",
              "      box-shadow: 0px 1px 3px 1px rgba(0, 0, 0, 0.15);\n",
              "      filter: drop-shadow(0px 1px 2px rgba(0, 0, 0, 0.3));\n",
              "      fill: #FFFFFF;\n",
              "    }\n",
              "  </style>\n",
              "\n",
              "    <script>\n",
              "      const buttonEl =\n",
              "        document.querySelector('#df-5d41edd1-b0b0-4b3e-8a26-012993bf4151 button.colab-df-convert');\n",
              "      buttonEl.style.display =\n",
              "        google.colab.kernel.accessAllowed ? 'block' : 'none';\n",
              "\n",
              "      async function convertToInteractive(key) {\n",
              "        const element = document.querySelector('#df-5d41edd1-b0b0-4b3e-8a26-012993bf4151');\n",
              "        const dataTable =\n",
              "          await google.colab.kernel.invokeFunction('convertToInteractive',\n",
              "                                                    [key], {});\n",
              "        if (!dataTable) return;\n",
              "\n",
              "        const docLinkHtml = 'Like what you see? Visit the ' +\n",
              "          '<a target=\"_blank\" href=https://colab.research.google.com/notebooks/data_table.ipynb>data table notebook</a>'\n",
              "          + ' to learn more about interactive tables.';\n",
              "        element.innerHTML = '';\n",
              "        dataTable['output_type'] = 'display_data';\n",
              "        await google.colab.output.renderOutput(dataTable, element);\n",
              "        const docLink = document.createElement('div');\n",
              "        docLink.innerHTML = docLinkHtml;\n",
              "        element.appendChild(docLink);\n",
              "      }\n",
              "    </script>\n",
              "  </div>\n",
              "\n",
              "\n",
              "<div id=\"df-b0eb12e6-b293-4d3e-aa2d-21799b56266e\">\n",
              "  <button class=\"colab-df-quickchart\" onclick=\"quickchart('df-b0eb12e6-b293-4d3e-aa2d-21799b56266e')\"\n",
              "            title=\"Suggest charts\"\n",
              "            style=\"display:none;\">\n",
              "\n",
              "<svg xmlns=\"http://www.w3.org/2000/svg\" height=\"24px\"viewBox=\"0 0 24 24\"\n",
              "     width=\"24px\">\n",
              "    <g>\n",
              "        <path d=\"M19 3H5c-1.1 0-2 .9-2 2v14c0 1.1.9 2 2 2h14c1.1 0 2-.9 2-2V5c0-1.1-.9-2-2-2zM9 17H7v-7h2v7zm4 0h-2V7h2v10zm4 0h-2v-4h2v4z\"/>\n",
              "    </g>\n",
              "</svg>\n",
              "  </button>\n",
              "\n",
              "<style>\n",
              "  .colab-df-quickchart {\n",
              "      --bg-color: #E8F0FE;\n",
              "      --fill-color: #1967D2;\n",
              "      --hover-bg-color: #E2EBFA;\n",
              "      --hover-fill-color: #174EA6;\n",
              "      --disabled-fill-color: #AAA;\n",
              "      --disabled-bg-color: #DDD;\n",
              "  }\n",
              "\n",
              "  [theme=dark] .colab-df-quickchart {\n",
              "      --bg-color: #3B4455;\n",
              "      --fill-color: #D2E3FC;\n",
              "      --hover-bg-color: #434B5C;\n",
              "      --hover-fill-color: #FFFFFF;\n",
              "      --disabled-bg-color: #3B4455;\n",
              "      --disabled-fill-color: #666;\n",
              "  }\n",
              "\n",
              "  .colab-df-quickchart {\n",
              "    background-color: var(--bg-color);\n",
              "    border: none;\n",
              "    border-radius: 50%;\n",
              "    cursor: pointer;\n",
              "    display: none;\n",
              "    fill: var(--fill-color);\n",
              "    height: 32px;\n",
              "    padding: 0;\n",
              "    width: 32px;\n",
              "  }\n",
              "\n",
              "  .colab-df-quickchart:hover {\n",
              "    background-color: var(--hover-bg-color);\n",
              "    box-shadow: 0 1px 2px rgba(60, 64, 67, 0.3), 0 1px 3px 1px rgba(60, 64, 67, 0.15);\n",
              "    fill: var(--button-hover-fill-color);\n",
              "  }\n",
              "\n",
              "  .colab-df-quickchart-complete:disabled,\n",
              "  .colab-df-quickchart-complete:disabled:hover {\n",
              "    background-color: var(--disabled-bg-color);\n",
              "    fill: var(--disabled-fill-color);\n",
              "    box-shadow: none;\n",
              "  }\n",
              "\n",
              "  .colab-df-spinner {\n",
              "    border: 2px solid var(--fill-color);\n",
              "    border-color: transparent;\n",
              "    border-bottom-color: var(--fill-color);\n",
              "    animation:\n",
              "      spin 1s steps(1) infinite;\n",
              "  }\n",
              "\n",
              "  @keyframes spin {\n",
              "    0% {\n",
              "      border-color: transparent;\n",
              "      border-bottom-color: var(--fill-color);\n",
              "      border-left-color: var(--fill-color);\n",
              "    }\n",
              "    20% {\n",
              "      border-color: transparent;\n",
              "      border-left-color: var(--fill-color);\n",
              "      border-top-color: var(--fill-color);\n",
              "    }\n",
              "    30% {\n",
              "      border-color: transparent;\n",
              "      border-left-color: var(--fill-color);\n",
              "      border-top-color: var(--fill-color);\n",
              "      border-right-color: var(--fill-color);\n",
              "    }\n",
              "    40% {\n",
              "      border-color: transparent;\n",
              "      border-right-color: var(--fill-color);\n",
              "      border-top-color: var(--fill-color);\n",
              "    }\n",
              "    60% {\n",
              "      border-color: transparent;\n",
              "      border-right-color: var(--fill-color);\n",
              "    }\n",
              "    80% {\n",
              "      border-color: transparent;\n",
              "      border-right-color: var(--fill-color);\n",
              "      border-bottom-color: var(--fill-color);\n",
              "    }\n",
              "    90% {\n",
              "      border-color: transparent;\n",
              "      border-bottom-color: var(--fill-color);\n",
              "    }\n",
              "  }\n",
              "</style>\n",
              "\n",
              "  <script>\n",
              "    async function quickchart(key) {\n",
              "      const quickchartButtonEl =\n",
              "        document.querySelector('#' + key + ' button');\n",
              "      quickchartButtonEl.disabled = true;  // To prevent multiple clicks.\n",
              "      quickchartButtonEl.classList.add('colab-df-spinner');\n",
              "      try {\n",
              "        const charts = await google.colab.kernel.invokeFunction(\n",
              "            'suggestCharts', [key], {});\n",
              "      } catch (error) {\n",
              "        console.error('Error during call to suggestCharts:', error);\n",
              "      }\n",
              "      quickchartButtonEl.classList.remove('colab-df-spinner');\n",
              "      quickchartButtonEl.classList.add('colab-df-quickchart-complete');\n",
              "    }\n",
              "    (() => {\n",
              "      let quickchartButtonEl =\n",
              "        document.querySelector('#df-b0eb12e6-b293-4d3e-aa2d-21799b56266e button');\n",
              "      quickchartButtonEl.style.display =\n",
              "        google.colab.kernel.accessAllowed ? 'block' : 'none';\n",
              "    })();\n",
              "  </script>\n",
              "</div>\n",
              "\n",
              "    </div>\n",
              "  </div>\n"
            ],
            "application/vnd.google.colaboratory.intrinsic+json": {
              "type": "dataframe",
              "variable_name": "df",
              "summary": "{\n  \"name\": \"df\",\n  \"rows\": 45346,\n  \"fields\": [\n    {\n      \"column\": \"gender\",\n      \"properties\": {\n        \"dtype\": \"category\",\n        \"num_unique_values\": 3,\n        \"samples\": [\n          \"Male\",\n          \"Female\",\n          \"Other\"\n        ],\n        \"semantic_type\": \"\",\n        \"description\": \"\"\n      }\n    },\n    {\n      \"column\": \"age\",\n      \"properties\": {\n        \"dtype\": \"number\",\n        \"std\": 22,\n        \"min\": 0,\n        \"max\": 82,\n        \"num_unique_values\": 83,\n        \"samples\": [\n          13,\n          3,\n          25\n        ],\n        \"semantic_type\": \"\",\n        \"description\": \"\"\n      }\n    },\n    {\n      \"column\": \"hypertension\",\n      \"properties\": {\n        \"dtype\": \"category\",\n        \"num_unique_values\": 2,\n        \"samples\": [\n          \"Yes\",\n          \"No\"\n        ],\n        \"semantic_type\": \"\",\n        \"description\": \"\"\n      }\n    },\n    {\n      \"column\": \"heart_disease\",\n      \"properties\": {\n        \"dtype\": \"category\",\n        \"num_unique_values\": 2,\n        \"samples\": [\n          \"Yes\",\n          \"No\"\n        ],\n        \"semantic_type\": \"\",\n        \"description\": \"\"\n      }\n    },\n    {\n      \"column\": \"ever_married\",\n      \"properties\": {\n        \"dtype\": \"category\",\n        \"num_unique_values\": 2,\n        \"samples\": [\n          \"Yes\",\n          \"No\"\n        ],\n        \"semantic_type\": \"\",\n        \"description\": \"\"\n      }\n    },\n    {\n      \"column\": \"work_type\",\n      \"properties\": {\n        \"dtype\": \"category\",\n        \"num_unique_values\": 5,\n        \"samples\": [\n          \"Private\",\n          \"Govt Job\"\n        ],\n        \"semantic_type\": \"\",\n        \"description\": \"\"\n      }\n    },\n    {\n      \"column\": \"type_of_residence\",\n      \"properties\": {\n        \"dtype\": \"category\",\n        \"num_unique_values\": 2,\n        \"samples\": [\n          \"Urban\",\n          \"Rural\"\n        ],\n        \"semantic_type\": \"\",\n        \"description\": \"\"\n      }\n    },\n    {\n      \"column\": \"avg_glucose_level\",\n      \"properties\": {\n        \"dtype\": \"number\",\n        \"std\": 43.13479980006332,\n        \"min\": 55.0,\n        \"max\": 291.05,\n        \"num_unique_values\": 12543,\n        \"samples\": [\n          74.61,\n          227.81\n        ],\n        \"semantic_type\": \"\",\n        \"description\": \"\"\n      }\n    },\n    {\n      \"column\": \"bmi\",\n      \"properties\": {\n        \"dtype\": \"number\",\n        \"std\": 7.640876492742431,\n        \"min\": 10.1,\n        \"max\": 97.6,\n        \"num_unique_values\": 735,\n        \"samples\": [\n          33.80840960032553,\n          16.0\n        ],\n        \"semantic_type\": \"\",\n        \"description\": \"\"\n      }\n    },\n    {\n      \"column\": \"smoking_status\",\n      \"properties\": {\n        \"dtype\": \"category\",\n        \"num_unique_values\": 4,\n        \"samples\": [\n          \"Formerly Smoked\",\n          \"Unknown Status\"\n        ],\n        \"semantic_type\": \"\",\n        \"description\": \"\"\n      }\n    },\n    {\n      \"column\": \"stroke\",\n      \"properties\": {\n        \"dtype\": \"category\",\n        \"num_unique_values\": 2,\n        \"samples\": [\n          \"Yes\",\n          \"No\"\n        ],\n        \"semantic_type\": \"\",\n        \"description\": \"\"\n      }\n    },\n    {\n      \"column\": \"age_group\",\n      \"properties\": {\n        \"dtype\": \"category\",\n        \"num_unique_values\": 4,\n        \"samples\": [\n          \"Middle Aged Adult\",\n          \"Baby\"\n        ],\n        \"semantic_type\": \"\",\n        \"description\": \"\"\n      }\n    },\n    {\n      \"column\": \"bmi_category\",\n      \"properties\": {\n        \"dtype\": \"category\",\n        \"num_unique_values\": 4,\n        \"samples\": [\n          \"Obese\",\n          \"Overweight\"\n        ],\n        \"semantic_type\": \"\",\n        \"description\": \"\"\n      }\n    },\n    {\n      \"column\": \"year_of_birth\",\n      \"properties\": {\n        \"dtype\": \"number\",\n        \"std\": 22,\n        \"min\": 1938,\n        \"max\": 2020,\n        \"num_unique_values\": 83,\n        \"samples\": [\n          2007,\n          2017\n        ],\n        \"semantic_type\": \"\",\n        \"description\": \"\"\n      }\n    },\n    {\n      \"column\": \"diabetes\",\n      \"properties\": {\n        \"dtype\": \"category\",\n        \"num_unique_values\": 3,\n        \"samples\": [\n          \"Normal\",\n          \"Prediabetes\"\n        ],\n        \"semantic_type\": \"\",\n        \"description\": \"\"\n      }\n    }\n  ]\n}"
            }
          },
          "metadata": {},
          "execution_count": 759
        }
      ],
      "source": [
        "df.head()"
      ]
    },
    {
      "cell_type": "code",
      "execution_count": 760,
      "metadata": {
        "colab": {
          "base_uri": "https://localhost:8080/"
        },
        "id": "Wdig4WHO3p-5",
        "outputId": "1a19bab2-fd7f-47ea-dc0e-205de790cc01"
      },
      "outputs": [
        {
          "output_type": "execute_result",
          "data": {
            "text/plain": [
              "0"
            ]
          },
          "metadata": {},
          "execution_count": 760
        }
      ],
      "source": [
        "df.duplicated().sum()"
      ]
    },
    {
      "cell_type": "code",
      "execution_count": 761,
      "metadata": {
        "colab": {
          "base_uri": "https://localhost:8080/"
        },
        "id": "6AoUavIy3tLS",
        "outputId": "23ffaad6-13ec-4f41-cb22-c28305dfa0c8"
      },
      "outputs": [
        {
          "output_type": "execute_result",
          "data": {
            "text/plain": [
              "0"
            ]
          },
          "metadata": {},
          "execution_count": 761
        }
      ],
      "source": [
        "df.duplicated().sum()"
      ]
    },
    {
      "cell_type": "code",
      "execution_count": 762,
      "metadata": {
        "colab": {
          "base_uri": "https://localhost:8080/"
        },
        "id": "en8bSc4f3u01",
        "outputId": "26167789-7958-4c7d-c166-f5e33161c2c1"
      },
      "outputs": [
        {
          "output_type": "execute_result",
          "data": {
            "text/plain": [
              "(45346, 15)"
            ]
          },
          "metadata": {},
          "execution_count": 762
        }
      ],
      "source": [
        "df.shape"
      ]
    },
    {
      "cell_type": "code",
      "execution_count": 763,
      "metadata": {
        "id": "CDxcM_KG3wbO"
      },
      "outputs": [],
      "source": [
        "df.to_csv(\"data.csv\")"
      ]
    },
    {
      "cell_type": "code",
      "execution_count": 764,
      "metadata": {
        "colab": {
          "base_uri": "https://localhost:8080/"
        },
        "id": "r3214uyP3yAL",
        "outputId": "9663bff2-666d-4059-b385-a85de66ccc3d"
      },
      "outputs": [
        {
          "output_type": "execute_result",
          "data": {
            "text/plain": [
              "stroke\n",
              "No     44436\n",
              "Yes      910\n",
              "Name: count, dtype: int64"
            ]
          },
          "metadata": {},
          "execution_count": 764
        }
      ],
      "source": [
        "df['stroke'].value_counts()"
      ]
    },
    {
      "cell_type": "code",
      "execution_count": 765,
      "metadata": {
        "id": "18hbWRTN31To"
      },
      "outputs": [],
      "source": [
        "le=LabelEncoder()"
      ]
    },
    {
      "cell_type": "code",
      "execution_count": 766,
      "metadata": {
        "id": "sp-7stAa33BB"
      },
      "outputs": [],
      "source": [
        "df['gender']=le.fit_transform(df['gender'])\n",
        "df['hypertension']=le.fit_transform(df['hypertension'])\n",
        "df['heart_disease']=le.fit_transform(df['heart_disease'])\n",
        "df['ever_married']=le.fit_transform(df['ever_married'])\n",
        "df['work_type']=le.fit_transform(df['work_type'])\n",
        "df['smoking_status']=le.fit_transform(df['smoking_status'])\n",
        "df['stroke']=le.fit_transform(df['stroke'])\n",
        "df['age_group']=le.fit_transform(df['age_group'])\n",
        "df['bmi_category']=le.fit_transform(df['bmi_category'])\n",
        "df['diabetes']=le.fit_transform(df['diabetes'])\n",
        "df['type_of_residence']=le.fit_transform(df['type_of_residence'])"
      ]
    },
    {
      "cell_type": "code",
      "execution_count": 767,
      "metadata": {
        "colab": {
          "base_uri": "https://localhost:8080/"
        },
        "id": "rDQEpgL-aDUL",
        "outputId": "292935ec-1fb4-4499-ab86-ac51797f0e88"
      },
      "outputs": [
        {
          "output_type": "execute_result",
          "data": {
            "text/plain": [
              "Index(['gender', 'age', 'hypertension', 'heart_disease', 'ever_married',\n",
              "       'work_type', 'type_of_residence', 'avg_glucose_level', 'bmi',\n",
              "       'smoking_status', 'stroke', 'age_group', 'bmi_category',\n",
              "       'year_of_birth', 'diabetes'],\n",
              "      dtype='object')"
            ]
          },
          "metadata": {},
          "execution_count": 767
        }
      ],
      "source": [
        "df.columns"
      ]
    },
    {
      "cell_type": "code",
      "source": [
        "df=df.drop(['age_group', 'bmi_category',\n",
        "       'year_of_birth', 'diabetes'],axis=1)"
      ],
      "metadata": {
        "id": "arOt8cDf2GR6"
      },
      "execution_count": 768,
      "outputs": []
    },
    {
      "cell_type": "markdown",
      "metadata": {
        "id": "aQwqw9BQ4RJS"
      },
      "source": [
        "Sampling"
      ]
    },
    {
      "cell_type": "code",
      "execution_count": 769,
      "metadata": {
        "id": "LZ7wARtn4Q1C"
      },
      "outputs": [],
      "source": [
        "X=df.drop(['stroke'],axis=1)\n",
        "Y=df['stroke']"
      ]
    },
    {
      "cell_type": "markdown",
      "metadata": {
        "id": "nswS4UCu400S"
      },
      "source": [
        "SAMPLING"
      ]
    },
    {
      "cell_type": "markdown",
      "metadata": {
        "id": "RdDSOdKAxmRx"
      },
      "source": [
        "Using ADASYN SMOTE technique for over sampling"
      ]
    },
    {
      "cell_type": "code",
      "execution_count": 770,
      "metadata": {
        "id": "KRup4e5i45WU"
      },
      "outputs": [],
      "source": [
        "ad=ADASYN(sampling_strategy='minority',random_state=32)"
      ]
    },
    {
      "cell_type": "code",
      "execution_count": 771,
      "metadata": {
        "id": "qmobSG1E47By"
      },
      "outputs": [],
      "source": [
        "x_ros1,y_ros1=ad.fit_resample(X,Y)"
      ]
    },
    {
      "cell_type": "code",
      "execution_count": 772,
      "metadata": {
        "colab": {
          "base_uri": "https://localhost:8080/"
        },
        "id": "5-hViEXG49rL",
        "outputId": "008ffb17-3aaa-4c65-9c3e-064091400d4c"
      },
      "outputs": [
        {
          "output_type": "execute_result",
          "data": {
            "text/plain": [
              "(89034,)"
            ]
          },
          "metadata": {},
          "execution_count": 772
        }
      ],
      "source": [
        "y_ros1.shape"
      ]
    },
    {
      "cell_type": "code",
      "source": [
        "x_ros1.shape"
      ],
      "metadata": {
        "colab": {
          "base_uri": "https://localhost:8080/"
        },
        "id": "fi2xOyM1xsN4",
        "outputId": "46a9f204-48aa-462d-e75b-c2b247efbfd4"
      },
      "execution_count": 773,
      "outputs": [
        {
          "output_type": "execute_result",
          "data": {
            "text/plain": [
              "(89034, 10)"
            ]
          },
          "metadata": {},
          "execution_count": 773
        }
      ]
    },
    {
      "cell_type": "markdown",
      "metadata": {
        "id": "2rlaRFJl5ZCV"
      },
      "source": [
        "SPLITTING THE DATASET"
      ]
    },
    {
      "cell_type": "code",
      "execution_count": 774,
      "metadata": {
        "id": "JNMh17_-5oSL"
      },
      "outputs": [],
      "source": [
        "x_train1,x_test1,y_train1,y_test1=train_test_split(x_ros1,y_ros1,test_size=0.25,random_state=30)\n",
        "x_train2,x_test2,y_train2,y_test2=train_test_split(x_ros1,y_ros1,test_size=0.20,random_state=30)"
      ]
    },
    {
      "cell_type": "markdown",
      "metadata": {
        "id": "XoJ9wiYTxvku"
      },
      "source": [
        "MODEL BUILDING"
      ]
    },
    {
      "cell_type": "markdown",
      "metadata": {
        "id": "7ov8S7-sh1Zm"
      },
      "source": [
        "Logistic Regression"
      ]
    },
    {
      "cell_type": "code",
      "execution_count": 775,
      "metadata": {
        "id": "8GiDeNdOiJmH"
      },
      "outputs": [],
      "source": [
        "logReg=LogisticRegression(random_state=30)"
      ]
    },
    {
      "cell_type": "code",
      "execution_count": 776,
      "metadata": {
        "id": "SZeib3MyiLPj"
      },
      "outputs": [],
      "source": [
        "param_grid=[{'penalty' : ['l1', 'l2', 'elasticnet', 'none'],\n",
        "             'max_iter' : [100, 1000,2500, 5000]\n",
        "            }]"
      ]
    },
    {
      "cell_type": "markdown",
      "metadata": {
        "id": "KZT61cxii4tH"
      },
      "source": [
        "Grid Search CV  on Logistic Regession"
      ]
    },
    {
      "cell_type": "code",
      "execution_count": 777,
      "metadata": {
        "id": "7BYZnFPni-YZ"
      },
      "outputs": [],
      "source": [
        "gsvlogreg = GridSearchCV(logReg, param_grid = param_grid, cv = 5, scoring='accuracy')"
      ]
    },
    {
      "cell_type": "code",
      "execution_count": 778,
      "metadata": {
        "id": "gOuZAJdRjER9"
      },
      "outputs": [],
      "source": [
        "model1=gsvlogreg.fit(x_train1,y_train1)\n",
        "model2=gsvlogreg.fit(x_train2,y_train2)"
      ]
    },
    {
      "cell_type": "code",
      "execution_count": 779,
      "metadata": {
        "colab": {
          "base_uri": "https://localhost:8080/"
        },
        "id": "2EkAptT1hHhv",
        "outputId": "f3cd678f-fdd4-46c3-b69b-ebbf7ae6cdcb"
      },
      "outputs": [
        {
          "output_type": "execute_result",
          "data": {
            "text/plain": [
              "{'max_iter': 1000, 'penalty': 'none'}"
            ]
          },
          "metadata": {},
          "execution_count": 779
        }
      ],
      "source": [
        "model1.best_params_"
      ]
    },
    {
      "cell_type": "markdown",
      "metadata": {
        "id": "cCdpJPtSlyTX"
      },
      "source": [
        "Decision Tree Classifier"
      ]
    },
    {
      "cell_type": "code",
      "execution_count": 780,
      "metadata": {
        "id": "y-Ch-FwAmNbZ"
      },
      "outputs": [],
      "source": [
        "dtc=DecisionTreeClassifier(random_state=30)"
      ]
    },
    {
      "cell_type": "code",
      "execution_count": 781,
      "metadata": {
        "id": "tKAD4MhPmVDK"
      },
      "outputs": [],
      "source": [
        "param_grid=[{'criterion':['gini','entropy','none'],\n",
        "             'max_depth':range(5,10)}]"
      ]
    },
    {
      "cell_type": "markdown",
      "metadata": {
        "id": "1pRtYbxHmlQ_"
      },
      "source": [
        "Grid Search CV with Decision Tree Classifier"
      ]
    },
    {
      "cell_type": "code",
      "execution_count": 782,
      "metadata": {
        "id": "A7NEliVLmrDN"
      },
      "outputs": [],
      "source": [
        "gsvdtc = GridSearchCV(dtc, param_grid = param_grid, cv = 5, scoring='accuracy')"
      ]
    },
    {
      "cell_type": "code",
      "execution_count": 783,
      "metadata": {
        "id": "-mnYVZqymulO"
      },
      "outputs": [],
      "source": [
        "model3=gsvdtc.fit(x_train1,y_train1)\n",
        "model4=gsvdtc.fit(x_train2,y_train2)"
      ]
    },
    {
      "cell_type": "code",
      "execution_count": 784,
      "metadata": {
        "id": "gy3FBNeahK9F",
        "colab": {
          "base_uri": "https://localhost:8080/"
        },
        "outputId": "762b1342-b978-4e74-c413-8e87718e4ad2"
      },
      "outputs": [
        {
          "output_type": "execute_result",
          "data": {
            "text/plain": [
              "{'criterion': 'gini', 'max_depth': 9}"
            ]
          },
          "metadata": {},
          "execution_count": 784
        }
      ],
      "source": [
        "model3.best_params_"
      ]
    },
    {
      "cell_type": "markdown",
      "metadata": {
        "id": "ZE5_da1jGwm8"
      },
      "source": [
        "K Nearest Neighbors\n",
        "\n"
      ]
    },
    {
      "cell_type": "code",
      "execution_count": 785,
      "metadata": {
        "id": "OFdr9jgBG_Bk"
      },
      "outputs": [],
      "source": [
        "knn=KNeighborsClassifier()"
      ]
    },
    {
      "cell_type": "code",
      "execution_count": 786,
      "metadata": {
        "id": "sEmKHaW4HDbR"
      },
      "outputs": [],
      "source": [
        "param_grid=[{\n",
        "    'n_neighbors': [3,5,7,9,11],\n",
        "    'metric':['euclidean','manhattan']\n",
        "}]"
      ]
    },
    {
      "cell_type": "markdown",
      "metadata": {
        "id": "zAw0XV4nIqVP"
      },
      "source": [
        "Grid Search CV with K Nearest Neighbors"
      ]
    },
    {
      "cell_type": "code",
      "execution_count": 787,
      "metadata": {
        "id": "JAU9c42dIu_U"
      },
      "outputs": [],
      "source": [
        "gsvknn = GridSearchCV(knn, param_grid = param_grid, cv = 5, scoring='accuracy')"
      ]
    },
    {
      "cell_type": "code",
      "execution_count": 788,
      "metadata": {
        "id": "FAP4xksFI0gZ"
      },
      "outputs": [],
      "source": [
        "model5=gsvknn.fit(x_train1,y_train1)\n",
        "model6=gsvknn.fit(x_train2,y_train2)"
      ]
    },
    {
      "cell_type": "code",
      "execution_count": 789,
      "metadata": {
        "colab": {
          "base_uri": "https://localhost:8080/"
        },
        "id": "qW6mGko4hNf0",
        "outputId": "15abafb1-15d3-423a-fed4-7dfae1efbe88"
      },
      "outputs": [
        {
          "output_type": "execute_result",
          "data": {
            "text/plain": [
              "{'metric': 'manhattan', 'n_neighbors': 3}"
            ]
          },
          "metadata": {},
          "execution_count": 789
        }
      ],
      "source": [
        "model5.best_params_"
      ]
    },
    {
      "cell_type": "markdown",
      "metadata": {
        "id": "IabQV0vzWAjr"
      },
      "source": [
        "Gaussian Naive Bayes"
      ]
    },
    {
      "cell_type": "code",
      "execution_count": 790,
      "metadata": {
        "id": "y7NAbtWeWRtF"
      },
      "outputs": [],
      "source": [
        "gnb=GaussianNB()"
      ]
    },
    {
      "cell_type": "code",
      "execution_count": 791,
      "metadata": {
        "id": "4VhfEIk_WUSo"
      },
      "outputs": [],
      "source": [
        "model7=gnb.fit(x_train1,y_train1)\n",
        "model8=gnb.fit(x_train2,y_train2)"
      ]
    },
    {
      "cell_type": "markdown",
      "metadata": {
        "id": "-4IDTlIQfuZd"
      },
      "source": [
        "Random Forest Classifier"
      ]
    },
    {
      "cell_type": "code",
      "execution_count": 792,
      "metadata": {
        "id": "KnE2f7bsgBRx"
      },
      "outputs": [],
      "source": [
        "rfc=RandomForestClassifier(random_state=30)"
      ]
    },
    {
      "cell_type": "code",
      "execution_count": 793,
      "metadata": {
        "id": "RsAWY5gNgLzB"
      },
      "outputs": [],
      "source": [
        "param_grid=[{\n",
        "    'n_estimators':[5,10,15,20],\n",
        "    'max_depth':[10,15,20,25],\n",
        "    'max_features':['int','float','sqrt'],\n",
        "    'criterion':['entropy','gini']\n",
        "}]"
      ]
    },
    {
      "cell_type": "markdown",
      "metadata": {
        "id": "rNSbNObwgxhr"
      },
      "source": [
        "Grid Search CV with Random Forest Classifier"
      ]
    },
    {
      "cell_type": "code",
      "execution_count": 794,
      "metadata": {
        "id": "V8I5LWBSgxOv"
      },
      "outputs": [],
      "source": [
        "gsvrfc=GridSearchCV(rfc,param_grid=param_grid,cv=5,scoring='accuracy')"
      ]
    },
    {
      "cell_type": "code",
      "execution_count": 795,
      "metadata": {
        "collapsed": true,
        "id": "Y8rKt5ochCm8"
      },
      "outputs": [],
      "source": [
        "model9=gsvrfc.fit(x_train1,y_train1)\n",
        "model10=gsvrfc.fit(x_train2,y_train2)"
      ]
    },
    {
      "cell_type": "code",
      "execution_count": 796,
      "metadata": {
        "colab": {
          "base_uri": "https://localhost:8080/"
        },
        "id": "fvDnpAmtZQMX",
        "outputId": "4903bd9c-073f-4631-c597-04b42aff2882"
      },
      "outputs": [
        {
          "output_type": "execute_result",
          "data": {
            "text/plain": [
              "{'criterion': 'gini',\n",
              " 'max_depth': 25,\n",
              " 'max_features': 'sqrt',\n",
              " 'n_estimators': 20}"
            ]
          },
          "metadata": {},
          "execution_count": 796
        }
      ],
      "source": [
        "model9.best_params_"
      ]
    },
    {
      "cell_type": "markdown",
      "metadata": {
        "id": "--gDaqoyh7Qv"
      },
      "source": [
        "Bagging Classifier with Logistic Regression"
      ]
    },
    {
      "cell_type": "code",
      "execution_count": 797,
      "metadata": {
        "id": "438NKgE4iKsZ"
      },
      "outputs": [],
      "source": [
        "bc=BaggingClassifier(LogisticRegression(max_iter= 1000, penalty='l2',random_state=30))"
      ]
    },
    {
      "cell_type": "code",
      "execution_count": 798,
      "metadata": {
        "id": "K7D7Pi9j-D8f"
      },
      "outputs": [],
      "source": [
        "param_grid=[{\n",
        "    'bootstrap':[True,False]\n",
        "}]"
      ]
    },
    {
      "cell_type": "markdown",
      "metadata": {
        "id": "3RtP1NI598RY"
      },
      "source": [
        "Grid Search CV with Bagging Classifier and Logistic Regression"
      ]
    },
    {
      "cell_type": "code",
      "execution_count": 799,
      "metadata": {
        "id": "du0P_RAw-_bF"
      },
      "outputs": [],
      "source": [
        "gsvbc=GridSearchCV(bc,param_grid=param_grid,cv=5,scoring='accuracy')"
      ]
    },
    {
      "cell_type": "code",
      "execution_count": 800,
      "metadata": {
        "id": "n2FiGoyii11q"
      },
      "outputs": [],
      "source": [
        "model11=gsvbc.fit(x_train1,y_train1)\n",
        "model12=gsvbc.fit(x_train2,y_train2)"
      ]
    },
    {
      "cell_type": "markdown",
      "metadata": {
        "id": "iuzV-aF3jpzZ"
      },
      "source": [
        "Bagging Classifier with Decision Tree Classifier"
      ]
    },
    {
      "cell_type": "code",
      "execution_count": 801,
      "metadata": {
        "id": "juBl7lr1jpOs"
      },
      "outputs": [],
      "source": [
        "bc=BaggingClassifier(DecisionTreeClassifier(criterion='gini',max_depth=9,random_state=30))"
      ]
    },
    {
      "cell_type": "markdown",
      "metadata": {
        "id": "2ALtFFhU_hpB"
      },
      "source": [
        "Bagging Classifier with Grid Search CV and Decision Tree Classifier"
      ]
    },
    {
      "cell_type": "code",
      "execution_count": 802,
      "metadata": {
        "id": "NsvDu44E_m3n"
      },
      "outputs": [],
      "source": [
        "gsvbc=GridSearchCV(bc,param_grid=param_grid,cv=5,scoring='accuracy')"
      ]
    },
    {
      "cell_type": "code",
      "execution_count": 803,
      "metadata": {
        "id": "_2stFOFEkAsz"
      },
      "outputs": [],
      "source": [
        "model13=gsvbc.fit(x_train1,y_train1)\n",
        "model14=gsvbc.fit(x_train2,y_train2)"
      ]
    },
    {
      "cell_type": "markdown",
      "metadata": {
        "id": "5Xr_tyUPkMaM"
      },
      "source": [
        "Bagging Classifier with KNearest Neighbors"
      ]
    },
    {
      "cell_type": "code",
      "execution_count": 804,
      "metadata": {
        "id": "QyiQLmRmkQLk"
      },
      "outputs": [],
      "source": [
        "bc=BaggingClassifier(KNeighborsClassifier(metric='manhattan', n_neighbors=3))"
      ]
    },
    {
      "cell_type": "markdown",
      "metadata": {
        "id": "IoW5xHqb_yij"
      },
      "source": [
        "Grid Search CV with KNN and Bagging Classifier"
      ]
    },
    {
      "cell_type": "code",
      "execution_count": 805,
      "metadata": {
        "id": "UlvM1sCR_9zV"
      },
      "outputs": [],
      "source": [
        "gsvbc=GridSearchCV(bc,param_grid=param_grid,cv=5,scoring='accuracy')"
      ]
    },
    {
      "cell_type": "code",
      "execution_count": 806,
      "metadata": {
        "id": "ScM1wFHckW1B"
      },
      "outputs": [],
      "source": [
        "model15=gsvbc.fit(x_train1,y_train1)\n",
        "model16=gsvbc.fit(x_train2,y_train2)"
      ]
    },
    {
      "cell_type": "markdown",
      "metadata": {
        "id": "3DeVSQ_F0_Mw"
      },
      "source": [
        "Bagging Classifier with Gaussian Naive Bayes"
      ]
    },
    {
      "cell_type": "code",
      "execution_count": 807,
      "metadata": {
        "id": "U3sK6S2YAftf"
      },
      "outputs": [],
      "source": [
        "bc=BaggingClassifier(GaussianNB())"
      ]
    },
    {
      "cell_type": "markdown",
      "metadata": {
        "id": "fB6L8j9_AoZ8"
      },
      "source": [
        "Grid Search CV with Bagging Classifier  and Gaussian Naive Bayes"
      ]
    },
    {
      "cell_type": "code",
      "execution_count": 808,
      "metadata": {
        "id": "UUioJXKGAxnu"
      },
      "outputs": [],
      "source": [
        "gsvbc=GridSearchCV(bc,param_grid=param_grid,cv=5,scoring='accuracy')"
      ]
    },
    {
      "cell_type": "code",
      "execution_count": 809,
      "metadata": {
        "id": "DoV0_2TdBBbG"
      },
      "outputs": [],
      "source": [
        "model17=gsvbc.fit(x_train1,y_train1)\n",
        "model18=gsvbc.fit(x_train2,y_train2)"
      ]
    },
    {
      "cell_type": "markdown",
      "metadata": {
        "id": "bI88U-qjTMde"
      },
      "source": [
        "Ada Boost with Logistic Regression"
      ]
    },
    {
      "cell_type": "code",
      "execution_count": 810,
      "metadata": {
        "id": "2tH4Dr93VK89"
      },
      "outputs": [],
      "source": [
        "lr=LogisticRegression(max_iter= 1000, penalty='l2',random_state=30)"
      ]
    },
    {
      "cell_type": "code",
      "execution_count": 811,
      "metadata": {
        "id": "LSYq6raYVQ3g"
      },
      "outputs": [],
      "source": [
        "adalr=AdaBoostClassifier(lr)"
      ]
    },
    {
      "cell_type": "code",
      "execution_count": 812,
      "metadata": {
        "id": "AQuGoq5SWs1C"
      },
      "outputs": [],
      "source": [
        "model19=adalr.fit(x_train1,y_train1)\n",
        "model20=adalr.fit(x_train2,y_train2)"
      ]
    },
    {
      "cell_type": "markdown",
      "metadata": {
        "id": "shgKGrG1Wx0g"
      },
      "source": [
        "Ada Boost with Decision Tree Classifier"
      ]
    },
    {
      "cell_type": "code",
      "execution_count": 813,
      "metadata": {
        "id": "m6GTNdj7YPNC"
      },
      "outputs": [],
      "source": [
        "dtc=DecisionTreeClassifier(criterion='gini',max_depth=9,random_state=30)"
      ]
    },
    {
      "cell_type": "code",
      "execution_count": 814,
      "metadata": {
        "id": "HI5B8-P9YxjL"
      },
      "outputs": [],
      "source": [
        "adadtc=AdaBoostClassifier(dtc)"
      ]
    },
    {
      "cell_type": "code",
      "execution_count": 815,
      "metadata": {
        "id": "h8qNc0I0ZJM7"
      },
      "outputs": [],
      "source": [
        "model21=adadtc.fit(x_train1,y_train1)\n",
        "model22=adadtc.fit(x_train2,y_train2)"
      ]
    },
    {
      "cell_type": "markdown",
      "metadata": {
        "id": "6FZqs8LVcsvn"
      },
      "source": [
        "Ada Boost with Gaussian NB"
      ]
    },
    {
      "cell_type": "code",
      "execution_count": 816,
      "metadata": {
        "id": "aiUK-tKLcxEX"
      },
      "outputs": [],
      "source": [
        "adagnb=AdaBoostClassifier(GaussianNB())"
      ]
    },
    {
      "cell_type": "code",
      "execution_count": 817,
      "metadata": {
        "id": "fYsxM8VAdEPD"
      },
      "outputs": [],
      "source": [
        "model23=adagnb.fit(x_train1,y_train1)\n",
        "model24=adagnb.fit(x_train2,y_train2)"
      ]
    },
    {
      "cell_type": "markdown",
      "metadata": {
        "id": "Eveuuv0WMPVU"
      },
      "source": [
        "Ada Boost Classifier"
      ]
    },
    {
      "cell_type": "code",
      "execution_count": 818,
      "metadata": {
        "id": "o3zOGt4cMYEz"
      },
      "outputs": [],
      "source": [
        "ada=AdaBoostClassifier(random_state=30)"
      ]
    },
    {
      "cell_type": "code",
      "execution_count": 819,
      "metadata": {
        "id": "Yw8xjGqGMfO6"
      },
      "outputs": [],
      "source": [
        "model25=ada.fit(x_train1,y_train1)\n",
        "model26=ada.fit(x_train2,y_train2)"
      ]
    },
    {
      "cell_type": "markdown",
      "metadata": {
        "id": "Oc_2rRkqdVc8"
      },
      "source": [
        "Extra Trees Classifier"
      ]
    },
    {
      "cell_type": "code",
      "execution_count": 820,
      "metadata": {
        "id": "HojfV1Vrditb"
      },
      "outputs": [],
      "source": [
        "etc=ExtraTreesClassifier(random_state=30)"
      ]
    },
    {
      "cell_type": "code",
      "execution_count": 821,
      "metadata": {
        "id": "A38ubtbFeDdf"
      },
      "outputs": [],
      "source": [
        "model27=etc.fit(x_train1,y_train1)\n",
        "model28=etc.fit(x_train2,y_train2)"
      ]
    },
    {
      "cell_type": "markdown",
      "metadata": {
        "id": "KHUAxqZc6R1G"
      },
      "source": [
        "Gradient Boost"
      ]
    },
    {
      "cell_type": "code",
      "execution_count": 822,
      "metadata": {
        "id": "2bG_InMg62qe"
      },
      "outputs": [],
      "source": [
        "gb=GradientBoostingClassifier(random_state=30)"
      ]
    },
    {
      "cell_type": "code",
      "execution_count": 823,
      "metadata": {
        "id": "CQpRaz4b7W89"
      },
      "outputs": [],
      "source": [
        "model29=gb.fit(x_train1,y_train1)\n",
        "model30=gb.fit(x_train2,y_train2)"
      ]
    },
    {
      "cell_type": "markdown",
      "metadata": {
        "id": "8BKaj42JtH5A"
      },
      "source": [
        "XG Boost"
      ]
    },
    {
      "cell_type": "code",
      "execution_count": 824,
      "metadata": {
        "id": "y5vqPfKVtS9k"
      },
      "outputs": [],
      "source": [
        "x=xgb.XGBClassifier(random_state=30)"
      ]
    },
    {
      "cell_type": "code",
      "execution_count": 825,
      "metadata": {
        "id": "j5scYOAktpfs"
      },
      "outputs": [],
      "source": [
        "param_grid=[{\n",
        "    'learning_rate':[0.001,0.01,0.1,1],\n",
        "    'min_child_weight':[1,2,5,10],\n",
        "     'max_depth':[2,3,4,5,6]\n",
        "}]"
      ]
    },
    {
      "cell_type": "markdown",
      "metadata": {
        "id": "-LqRlYbJuEyC"
      },
      "source": [
        "Grid Search CV on XGBoost"
      ]
    },
    {
      "cell_type": "code",
      "execution_count": 826,
      "metadata": {
        "id": "jY1eVFnouEJM"
      },
      "outputs": [],
      "source": [
        "gsvxgb=GridSearchCV(x, param_grid = param_grid, cv = 5, scoring='accuracy')"
      ]
    },
    {
      "cell_type": "code",
      "execution_count": 827,
      "metadata": {
        "id": "-UfV9_27uVBU"
      },
      "outputs": [],
      "source": [
        "model31=gsvxgb.fit(x_train1,y_train1)\n",
        "model32=gsvxgb.fit(x_train2,y_train2)"
      ]
    },
    {
      "cell_type": "code",
      "execution_count": 828,
      "metadata": {
        "id": "8_LpFqOU6CY9",
        "colab": {
          "base_uri": "https://localhost:8080/"
        },
        "outputId": "432eb251-6cd2-4973-8c16-1fd94412b6e4"
      },
      "outputs": [
        {
          "output_type": "execute_result",
          "data": {
            "text/plain": [
              "{'learning_rate': 1, 'max_depth': 6, 'min_child_weight': 1}"
            ]
          },
          "metadata": {},
          "execution_count": 828
        }
      ],
      "source": [
        "model32.best_params_"
      ]
    },
    {
      "cell_type": "markdown",
      "metadata": {
        "id": "9JPSjJgixEuo"
      },
      "source": [
        "Light GBM"
      ]
    },
    {
      "cell_type": "code",
      "execution_count": 829,
      "metadata": {
        "id": "10ilozCzxL5d"
      },
      "outputs": [],
      "source": [
        "l=lgb.LGBMClassifier(random_state=30)"
      ]
    },
    {
      "cell_type": "code",
      "execution_count": 830,
      "metadata": {
        "id": "NofJ19UsxTXB"
      },
      "outputs": [],
      "source": [
        "param_grid=[{\n",
        "    'num_iterations':[50,100,150],\n",
        "    'learning_rate':[0.001,0.01,0.1,1],\n",
        "    'num_leaves':[20,30]\n",
        "}]"
      ]
    },
    {
      "cell_type": "markdown",
      "metadata": {
        "id": "ufUSAZFYzBdo"
      },
      "source": [
        "Grid Search CV on Light GBM"
      ]
    },
    {
      "cell_type": "code",
      "execution_count": 831,
      "metadata": {
        "id": "z2yigoMezD78"
      },
      "outputs": [],
      "source": [
        "gsvlgbm=GridSearchCV(l, param_grid = param_grid, cv = 5, scoring='accuracy')"
      ]
    },
    {
      "cell_type": "code",
      "execution_count": 832,
      "metadata": {
        "id": "TvFupjPKzQWC",
        "colab": {
          "base_uri": "https://localhost:8080/"
        },
        "outputId": "5d6024c0-15b8-4c02-b6c2-6733ce56c0ca"
      },
      "outputs": [
        {
          "output_type": "stream",
          "name": "stdout",
          "text": [
            "[LightGBM] [Info] Number of positive: 26789, number of negative: 26631\n",
            "[LightGBM] [Info] Auto-choosing row-wise multi-threading, the overhead of testing was 0.006663 seconds.\n",
            "You can set `force_row_wise=true` to remove the overhead.\n",
            "And if memory is not enough, you can set `force_col_wise=true`.\n",
            "[LightGBM] [Info] Total Bins 613\n",
            "[LightGBM] [Info] Number of data points in the train set: 53420, number of used features: 10\n",
            "[LightGBM] [Info] [binary:BoostFromScore]: pavg=0.501479 -> initscore=0.005915\n",
            "[LightGBM] [Info] Start training from score 0.005915\n",
            "[LightGBM] [Info] Number of positive: 26789, number of negative: 26631\n",
            "[LightGBM] [Info] Auto-choosing col-wise multi-threading, the overhead of testing was 0.008792 seconds.\n",
            "You can set `force_col_wise=true` to remove the overhead.\n",
            "[LightGBM] [Info] Total Bins 613\n",
            "[LightGBM] [Info] Number of data points in the train set: 53420, number of used features: 10\n",
            "[LightGBM] [Info] [binary:BoostFromScore]: pavg=0.501479 -> initscore=0.005915\n",
            "[LightGBM] [Info] Start training from score 0.005915\n",
            "[LightGBM] [Info] Number of positive: 26789, number of negative: 26631\n",
            "[LightGBM] [Info] Auto-choosing row-wise multi-threading, the overhead of testing was 0.008842 seconds.\n",
            "You can set `force_row_wise=true` to remove the overhead.\n",
            "And if memory is not enough, you can set `force_col_wise=true`.\n",
            "[LightGBM] [Info] Total Bins 613\n",
            "[LightGBM] [Info] Number of data points in the train set: 53420, number of used features: 10\n",
            "[LightGBM] [Info] [binary:BoostFromScore]: pavg=0.501479 -> initscore=0.005915\n",
            "[LightGBM] [Info] Start training from score 0.005915\n",
            "[LightGBM] [Info] Number of positive: 26789, number of negative: 26631\n",
            "[LightGBM] [Info] Auto-choosing row-wise multi-threading, the overhead of testing was 0.008536 seconds.\n",
            "You can set `force_row_wise=true` to remove the overhead.\n",
            "And if memory is not enough, you can set `force_col_wise=true`.\n",
            "[LightGBM] [Info] Total Bins 613\n",
            "[LightGBM] [Info] Number of data points in the train set: 53420, number of used features: 10\n",
            "[LightGBM] [Info] [binary:BoostFromScore]: pavg=0.501479 -> initscore=0.005915\n",
            "[LightGBM] [Info] Start training from score 0.005915\n",
            "[LightGBM] [Info] Number of positive: 26788, number of negative: 26632\n",
            "[LightGBM] [Info] Auto-choosing row-wise multi-threading, the overhead of testing was 0.007608 seconds.\n",
            "You can set `force_row_wise=true` to remove the overhead.\n",
            "And if memory is not enough, you can set `force_col_wise=true`.\n",
            "[LightGBM] [Info] Total Bins 613\n",
            "[LightGBM] [Info] Number of data points in the train set: 53420, number of used features: 10\n",
            "[LightGBM] [Info] [binary:BoostFromScore]: pavg=0.501460 -> initscore=0.005841\n",
            "[LightGBM] [Info] Start training from score 0.005841\n",
            "[LightGBM] [Info] Number of positive: 26789, number of negative: 26631\n",
            "[LightGBM] [Info] Auto-choosing row-wise multi-threading, the overhead of testing was 0.008883 seconds.\n",
            "You can set `force_row_wise=true` to remove the overhead.\n",
            "And if memory is not enough, you can set `force_col_wise=true`.\n",
            "[LightGBM] [Info] Total Bins 613\n",
            "[LightGBM] [Info] Number of data points in the train set: 53420, number of used features: 10\n",
            "[LightGBM] [Info] [binary:BoostFromScore]: pavg=0.501479 -> initscore=0.005915\n",
            "[LightGBM] [Info] Start training from score 0.005915\n",
            "[LightGBM] [Info] Number of positive: 26789, number of negative: 26631\n",
            "[LightGBM] [Info] Auto-choosing row-wise multi-threading, the overhead of testing was 0.008382 seconds.\n",
            "You can set `force_row_wise=true` to remove the overhead.\n",
            "And if memory is not enough, you can set `force_col_wise=true`.\n",
            "[LightGBM] [Info] Total Bins 613\n",
            "[LightGBM] [Info] Number of data points in the train set: 53420, number of used features: 10\n",
            "[LightGBM] [Info] [binary:BoostFromScore]: pavg=0.501479 -> initscore=0.005915\n",
            "[LightGBM] [Info] Start training from score 0.005915\n",
            "[LightGBM] [Info] Number of positive: 26789, number of negative: 26631\n",
            "[LightGBM] [Info] Auto-choosing col-wise multi-threading, the overhead of testing was 0.012789 seconds.\n",
            "You can set `force_col_wise=true` to remove the overhead.\n",
            "[LightGBM] [Info] Total Bins 613\n",
            "[LightGBM] [Info] Number of data points in the train set: 53420, number of used features: 10\n",
            "[LightGBM] [Info] [binary:BoostFromScore]: pavg=0.501479 -> initscore=0.005915\n",
            "[LightGBM] [Info] Start training from score 0.005915\n",
            "[LightGBM] [Info] Number of positive: 26789, number of negative: 26631\n",
            "[LightGBM] [Info] Auto-choosing row-wise multi-threading, the overhead of testing was 0.007859 seconds.\n",
            "You can set `force_row_wise=true` to remove the overhead.\n",
            "And if memory is not enough, you can set `force_col_wise=true`.\n",
            "[LightGBM] [Info] Total Bins 613\n",
            "[LightGBM] [Info] Number of data points in the train set: 53420, number of used features: 10\n",
            "[LightGBM] [Info] [binary:BoostFromScore]: pavg=0.501479 -> initscore=0.005915\n",
            "[LightGBM] [Info] Start training from score 0.005915\n",
            "[LightGBM] [Info] Number of positive: 26788, number of negative: 26632\n",
            "[LightGBM] [Info] Auto-choosing row-wise multi-threading, the overhead of testing was 0.006275 seconds.\n",
            "You can set `force_row_wise=true` to remove the overhead.\n",
            "And if memory is not enough, you can set `force_col_wise=true`.\n",
            "[LightGBM] [Info] Total Bins 613\n",
            "[LightGBM] [Info] Number of data points in the train set: 53420, number of used features: 10\n",
            "[LightGBM] [Info] [binary:BoostFromScore]: pavg=0.501460 -> initscore=0.005841\n",
            "[LightGBM] [Info] Start training from score 0.005841\n",
            "[LightGBM] [Info] Number of positive: 26789, number of negative: 26631\n",
            "[LightGBM] [Info] Auto-choosing row-wise multi-threading, the overhead of testing was 0.005981 seconds.\n",
            "You can set `force_row_wise=true` to remove the overhead.\n",
            "And if memory is not enough, you can set `force_col_wise=true`.\n",
            "[LightGBM] [Info] Total Bins 613\n",
            "[LightGBM] [Info] Number of data points in the train set: 53420, number of used features: 10\n",
            "[LightGBM] [Info] [binary:BoostFromScore]: pavg=0.501479 -> initscore=0.005915\n",
            "[LightGBM] [Info] Start training from score 0.005915\n",
            "[LightGBM] [Info] Number of positive: 26789, number of negative: 26631\n",
            "[LightGBM] [Info] Auto-choosing row-wise multi-threading, the overhead of testing was 0.006235 seconds.\n",
            "You can set `force_row_wise=true` to remove the overhead.\n",
            "And if memory is not enough, you can set `force_col_wise=true`.\n",
            "[LightGBM] [Info] Total Bins 613\n",
            "[LightGBM] [Info] Number of data points in the train set: 53420, number of used features: 10\n",
            "[LightGBM] [Info] [binary:BoostFromScore]: pavg=0.501479 -> initscore=0.005915\n",
            "[LightGBM] [Info] Start training from score 0.005915\n",
            "[LightGBM] [Info] Number of positive: 26789, number of negative: 26631\n",
            "[LightGBM] [Info] Auto-choosing row-wise multi-threading, the overhead of testing was 0.005813 seconds.\n",
            "You can set `force_row_wise=true` to remove the overhead.\n",
            "And if memory is not enough, you can set `force_col_wise=true`.\n",
            "[LightGBM] [Info] Total Bins 613\n",
            "[LightGBM] [Info] Number of data points in the train set: 53420, number of used features: 10\n",
            "[LightGBM] [Info] [binary:BoostFromScore]: pavg=0.501479 -> initscore=0.005915\n",
            "[LightGBM] [Info] Start training from score 0.005915\n",
            "[LightGBM] [Info] Number of positive: 26789, number of negative: 26631\n",
            "[LightGBM] [Info] Auto-choosing col-wise multi-threading, the overhead of testing was 0.008820 seconds.\n",
            "You can set `force_col_wise=true` to remove the overhead.\n",
            "[LightGBM] [Info] Total Bins 613\n",
            "[LightGBM] [Info] Number of data points in the train set: 53420, number of used features: 10\n",
            "[LightGBM] [Info] [binary:BoostFromScore]: pavg=0.501479 -> initscore=0.005915\n",
            "[LightGBM] [Info] Start training from score 0.005915\n",
            "[LightGBM] [Info] Number of positive: 26788, number of negative: 26632\n",
            "[LightGBM] [Info] Auto-choosing col-wise multi-threading, the overhead of testing was 0.008726 seconds.\n",
            "You can set `force_col_wise=true` to remove the overhead.\n",
            "[LightGBM] [Info] Total Bins 613\n",
            "[LightGBM] [Info] Number of data points in the train set: 53420, number of used features: 10\n",
            "[LightGBM] [Info] [binary:BoostFromScore]: pavg=0.501460 -> initscore=0.005841\n",
            "[LightGBM] [Info] Start training from score 0.005841\n",
            "[LightGBM] [Info] Number of positive: 26789, number of negative: 26631\n",
            "[LightGBM] [Info] Auto-choosing col-wise multi-threading, the overhead of testing was 0.008544 seconds.\n",
            "You can set `force_col_wise=true` to remove the overhead.\n",
            "[LightGBM] [Info] Total Bins 613\n",
            "[LightGBM] [Info] Number of data points in the train set: 53420, number of used features: 10\n",
            "[LightGBM] [Info] [binary:BoostFromScore]: pavg=0.501479 -> initscore=0.005915\n",
            "[LightGBM] [Info] Start training from score 0.005915\n",
            "[LightGBM] [Info] Number of positive: 26789, number of negative: 26631\n",
            "[LightGBM] [Info] Auto-choosing row-wise multi-threading, the overhead of testing was 0.006212 seconds.\n",
            "You can set `force_row_wise=true` to remove the overhead.\n",
            "And if memory is not enough, you can set `force_col_wise=true`.\n",
            "[LightGBM] [Info] Total Bins 613\n",
            "[LightGBM] [Info] Number of data points in the train set: 53420, number of used features: 10\n",
            "[LightGBM] [Info] [binary:BoostFromScore]: pavg=0.501479 -> initscore=0.005915\n",
            "[LightGBM] [Info] Start training from score 0.005915\n",
            "[LightGBM] [Info] Number of positive: 26789, number of negative: 26631\n",
            "[LightGBM] [Info] Auto-choosing row-wise multi-threading, the overhead of testing was 0.006476 seconds.\n",
            "You can set `force_row_wise=true` to remove the overhead.\n",
            "And if memory is not enough, you can set `force_col_wise=true`.\n",
            "[LightGBM] [Info] Total Bins 613\n",
            "[LightGBM] [Info] Number of data points in the train set: 53420, number of used features: 10\n",
            "[LightGBM] [Info] [binary:BoostFromScore]: pavg=0.501479 -> initscore=0.005915\n",
            "[LightGBM] [Info] Start training from score 0.005915\n",
            "[LightGBM] [Info] Number of positive: 26789, number of negative: 26631\n",
            "[LightGBM] [Info] Auto-choosing row-wise multi-threading, the overhead of testing was 0.006213 seconds.\n",
            "You can set `force_row_wise=true` to remove the overhead.\n",
            "And if memory is not enough, you can set `force_col_wise=true`.\n",
            "[LightGBM] [Info] Total Bins 613\n",
            "[LightGBM] [Info] Number of data points in the train set: 53420, number of used features: 10\n",
            "[LightGBM] [Info] [binary:BoostFromScore]: pavg=0.501479 -> initscore=0.005915\n",
            "[LightGBM] [Info] Start training from score 0.005915\n",
            "[LightGBM] [Info] Number of positive: 26788, number of negative: 26632\n",
            "[LightGBM] [Info] Auto-choosing col-wise multi-threading, the overhead of testing was 0.009054 seconds.\n",
            "You can set `force_col_wise=true` to remove the overhead.\n",
            "[LightGBM] [Info] Total Bins 613\n",
            "[LightGBM] [Info] Number of data points in the train set: 53420, number of used features: 10\n",
            "[LightGBM] [Info] [binary:BoostFromScore]: pavg=0.501460 -> initscore=0.005841\n",
            "[LightGBM] [Info] Start training from score 0.005841\n",
            "[LightGBM] [Info] Number of positive: 26789, number of negative: 26631\n",
            "[LightGBM] [Info] Auto-choosing row-wise multi-threading, the overhead of testing was 0.006406 seconds.\n",
            "You can set `force_row_wise=true` to remove the overhead.\n",
            "And if memory is not enough, you can set `force_col_wise=true`.\n",
            "[LightGBM] [Info] Total Bins 613\n",
            "[LightGBM] [Info] Number of data points in the train set: 53420, number of used features: 10\n",
            "[LightGBM] [Info] [binary:BoostFromScore]: pavg=0.501479 -> initscore=0.005915\n",
            "[LightGBM] [Info] Start training from score 0.005915\n",
            "[LightGBM] [Info] Number of positive: 26789, number of negative: 26631\n",
            "[LightGBM] [Info] Auto-choosing col-wise multi-threading, the overhead of testing was 0.013546 seconds.\n",
            "You can set `force_col_wise=true` to remove the overhead.\n",
            "[LightGBM] [Info] Total Bins 613\n",
            "[LightGBM] [Info] Number of data points in the train set: 53420, number of used features: 10\n",
            "[LightGBM] [Info] [binary:BoostFromScore]: pavg=0.501479 -> initscore=0.005915\n",
            "[LightGBM] [Info] Start training from score 0.005915\n",
            "[LightGBM] [Info] Number of positive: 26789, number of negative: 26631\n",
            "[LightGBM] [Info] Auto-choosing row-wise multi-threading, the overhead of testing was 0.008086 seconds.\n",
            "You can set `force_row_wise=true` to remove the overhead.\n",
            "And if memory is not enough, you can set `force_col_wise=true`.\n",
            "[LightGBM] [Info] Total Bins 613\n",
            "[LightGBM] [Info] Number of data points in the train set: 53420, number of used features: 10\n",
            "[LightGBM] [Info] [binary:BoostFromScore]: pavg=0.501479 -> initscore=0.005915\n",
            "[LightGBM] [Info] Start training from score 0.005915\n",
            "[LightGBM] [Info] Number of positive: 26789, number of negative: 26631\n",
            "[LightGBM] [Info] Auto-choosing row-wise multi-threading, the overhead of testing was 0.008154 seconds.\n",
            "You can set `force_row_wise=true` to remove the overhead.\n",
            "And if memory is not enough, you can set `force_col_wise=true`.\n",
            "[LightGBM] [Info] Total Bins 613\n",
            "[LightGBM] [Info] Number of data points in the train set: 53420, number of used features: 10\n",
            "[LightGBM] [Info] [binary:BoostFromScore]: pavg=0.501479 -> initscore=0.005915\n",
            "[LightGBM] [Info] Start training from score 0.005915\n",
            "[LightGBM] [Info] Number of positive: 26788, number of negative: 26632\n",
            "[LightGBM] [Info] Auto-choosing row-wise multi-threading, the overhead of testing was 0.006249 seconds.\n",
            "You can set `force_row_wise=true` to remove the overhead.\n",
            "And if memory is not enough, you can set `force_col_wise=true`.\n",
            "[LightGBM] [Info] Total Bins 613\n",
            "[LightGBM] [Info] Number of data points in the train set: 53420, number of used features: 10\n",
            "[LightGBM] [Info] [binary:BoostFromScore]: pavg=0.501460 -> initscore=0.005841\n",
            "[LightGBM] [Info] Start training from score 0.005841\n",
            "[LightGBM] [Info] Number of positive: 26789, number of negative: 26631\n",
            "[LightGBM] [Info] Auto-choosing row-wise multi-threading, the overhead of testing was 0.006521 seconds.\n",
            "You can set `force_row_wise=true` to remove the overhead.\n",
            "And if memory is not enough, you can set `force_col_wise=true`.\n",
            "[LightGBM] [Info] Total Bins 613\n",
            "[LightGBM] [Info] Number of data points in the train set: 53420, number of used features: 10\n",
            "[LightGBM] [Info] [binary:BoostFromScore]: pavg=0.501479 -> initscore=0.005915\n",
            "[LightGBM] [Info] Start training from score 0.005915\n",
            "[LightGBM] [Info] Number of positive: 26789, number of negative: 26631\n",
            "[LightGBM] [Info] Auto-choosing col-wise multi-threading, the overhead of testing was 0.008838 seconds.\n",
            "You can set `force_col_wise=true` to remove the overhead.\n",
            "[LightGBM] [Info] Total Bins 613\n",
            "[LightGBM] [Info] Number of data points in the train set: 53420, number of used features: 10\n",
            "[LightGBM] [Info] [binary:BoostFromScore]: pavg=0.501479 -> initscore=0.005915\n",
            "[LightGBM] [Info] Start training from score 0.005915\n",
            "[LightGBM] [Info] Number of positive: 26789, number of negative: 26631\n",
            "[LightGBM] [Info] Auto-choosing col-wise multi-threading, the overhead of testing was 0.008703 seconds.\n",
            "You can set `force_col_wise=true` to remove the overhead.\n",
            "[LightGBM] [Info] Total Bins 613\n",
            "[LightGBM] [Info] Number of data points in the train set: 53420, number of used features: 10\n",
            "[LightGBM] [Info] [binary:BoostFromScore]: pavg=0.501479 -> initscore=0.005915\n",
            "[LightGBM] [Info] Start training from score 0.005915\n",
            "[LightGBM] [Info] Number of positive: 26789, number of negative: 26631\n",
            "[LightGBM] [Info] Auto-choosing col-wise multi-threading, the overhead of testing was 0.008511 seconds.\n",
            "You can set `force_col_wise=true` to remove the overhead.\n",
            "[LightGBM] [Info] Total Bins 613\n",
            "[LightGBM] [Info] Number of data points in the train set: 53420, number of used features: 10\n",
            "[LightGBM] [Info] [binary:BoostFromScore]: pavg=0.501479 -> initscore=0.005915\n",
            "[LightGBM] [Info] Start training from score 0.005915\n",
            "[LightGBM] [Info] Number of positive: 26788, number of negative: 26632\n",
            "[LightGBM] [Info] Auto-choosing row-wise multi-threading, the overhead of testing was 0.006324 seconds.\n",
            "You can set `force_row_wise=true` to remove the overhead.\n",
            "And if memory is not enough, you can set `force_col_wise=true`.\n",
            "[LightGBM] [Info] Total Bins 613\n",
            "[LightGBM] [Info] Number of data points in the train set: 53420, number of used features: 10\n",
            "[LightGBM] [Info] [binary:BoostFromScore]: pavg=0.501460 -> initscore=0.005841\n",
            "[LightGBM] [Info] Start training from score 0.005841\n",
            "[LightGBM] [Info] Number of positive: 26789, number of negative: 26631\n",
            "[LightGBM] [Info] Auto-choosing row-wise multi-threading, the overhead of testing was 0.006882 seconds.\n",
            "You can set `force_row_wise=true` to remove the overhead.\n",
            "And if memory is not enough, you can set `force_col_wise=true`.\n",
            "[LightGBM] [Info] Total Bins 613\n",
            "[LightGBM] [Info] Number of data points in the train set: 53420, number of used features: 10\n",
            "[LightGBM] [Info] [binary:BoostFromScore]: pavg=0.501479 -> initscore=0.005915\n",
            "[LightGBM] [Info] Start training from score 0.005915\n",
            "[LightGBM] [Info] Number of positive: 26789, number of negative: 26631\n",
            "[LightGBM] [Info] Auto-choosing row-wise multi-threading, the overhead of testing was 0.006285 seconds.\n",
            "You can set `force_row_wise=true` to remove the overhead.\n",
            "And if memory is not enough, you can set `force_col_wise=true`.\n",
            "[LightGBM] [Info] Total Bins 613\n",
            "[LightGBM] [Info] Number of data points in the train set: 53420, number of used features: 10\n",
            "[LightGBM] [Info] [binary:BoostFromScore]: pavg=0.501479 -> initscore=0.005915\n",
            "[LightGBM] [Info] Start training from score 0.005915\n",
            "[LightGBM] [Info] Number of positive: 26789, number of negative: 26631\n",
            "[LightGBM] [Info] Auto-choosing row-wise multi-threading, the overhead of testing was 0.006140 seconds.\n",
            "You can set `force_row_wise=true` to remove the overhead.\n",
            "And if memory is not enough, you can set `force_col_wise=true`.\n",
            "[LightGBM] [Info] Total Bins 613\n",
            "[LightGBM] [Info] Number of data points in the train set: 53420, number of used features: 10\n",
            "[LightGBM] [Info] [binary:BoostFromScore]: pavg=0.501479 -> initscore=0.005915\n",
            "[LightGBM] [Info] Start training from score 0.005915\n",
            "[LightGBM] [Info] Number of positive: 26789, number of negative: 26631\n",
            "[LightGBM] [Info] Auto-choosing col-wise multi-threading, the overhead of testing was 0.008676 seconds.\n",
            "You can set `force_col_wise=true` to remove the overhead.\n",
            "[LightGBM] [Info] Total Bins 613\n",
            "[LightGBM] [Info] Number of data points in the train set: 53420, number of used features: 10\n",
            "[LightGBM] [Info] [binary:BoostFromScore]: pavg=0.501479 -> initscore=0.005915\n",
            "[LightGBM] [Info] Start training from score 0.005915\n",
            "[LightGBM] [Info] Number of positive: 26788, number of negative: 26632\n",
            "[LightGBM] [Info] Auto-choosing row-wise multi-threading, the overhead of testing was 0.006434 seconds.\n",
            "You can set `force_row_wise=true` to remove the overhead.\n",
            "And if memory is not enough, you can set `force_col_wise=true`.\n",
            "[LightGBM] [Info] Total Bins 613\n",
            "[LightGBM] [Info] Number of data points in the train set: 53420, number of used features: 10\n",
            "[LightGBM] [Info] [binary:BoostFromScore]: pavg=0.501460 -> initscore=0.005841\n",
            "[LightGBM] [Info] Start training from score 0.005841\n",
            "[LightGBM] [Info] Number of positive: 26789, number of negative: 26631\n",
            "[LightGBM] [Info] Auto-choosing col-wise multi-threading, the overhead of testing was 0.008710 seconds.\n",
            "You can set `force_col_wise=true` to remove the overhead.\n",
            "[LightGBM] [Info] Total Bins 613\n",
            "[LightGBM] [Info] Number of data points in the train set: 53420, number of used features: 10\n",
            "[LightGBM] [Info] [binary:BoostFromScore]: pavg=0.501479 -> initscore=0.005915\n",
            "[LightGBM] [Info] Start training from score 0.005915\n",
            "[LightGBM] [Info] Number of positive: 26789, number of negative: 26631\n",
            "[LightGBM] [Info] Auto-choosing row-wise multi-threading, the overhead of testing was 0.008498 seconds.\n",
            "You can set `force_row_wise=true` to remove the overhead.\n",
            "And if memory is not enough, you can set `force_col_wise=true`.\n",
            "[LightGBM] [Info] Total Bins 613\n",
            "[LightGBM] [Info] Number of data points in the train set: 53420, number of used features: 10\n",
            "[LightGBM] [Info] [binary:BoostFromScore]: pavg=0.501479 -> initscore=0.005915\n",
            "[LightGBM] [Info] Start training from score 0.005915\n",
            "[LightGBM] [Info] Number of positive: 26789, number of negative: 26631\n",
            "[LightGBM] [Info] Auto-choosing row-wise multi-threading, the overhead of testing was 0.008696 seconds.\n",
            "You can set `force_row_wise=true` to remove the overhead.\n",
            "And if memory is not enough, you can set `force_col_wise=true`.\n",
            "[LightGBM] [Info] Total Bins 613\n",
            "[LightGBM] [Info] Number of data points in the train set: 53420, number of used features: 10\n",
            "[LightGBM] [Info] [binary:BoostFromScore]: pavg=0.501479 -> initscore=0.005915\n",
            "[LightGBM] [Info] Start training from score 0.005915\n",
            "[LightGBM] [Info] Number of positive: 26789, number of negative: 26631\n",
            "[LightGBM] [Info] Auto-choosing row-wise multi-threading, the overhead of testing was 0.008661 seconds.\n",
            "You can set `force_row_wise=true` to remove the overhead.\n",
            "And if memory is not enough, you can set `force_col_wise=true`.\n",
            "[LightGBM] [Info] Total Bins 613\n",
            "[LightGBM] [Info] Number of data points in the train set: 53420, number of used features: 10\n",
            "[LightGBM] [Info] [binary:BoostFromScore]: pavg=0.501479 -> initscore=0.005915\n",
            "[LightGBM] [Info] Start training from score 0.005915\n",
            "[LightGBM] [Info] Number of positive: 26788, number of negative: 26632\n",
            "[LightGBM] [Info] Auto-choosing row-wise multi-threading, the overhead of testing was 0.008460 seconds.\n",
            "You can set `force_row_wise=true` to remove the overhead.\n",
            "And if memory is not enough, you can set `force_col_wise=true`.\n",
            "[LightGBM] [Info] Total Bins 613\n",
            "[LightGBM] [Info] Number of data points in the train set: 53420, number of used features: 10\n",
            "[LightGBM] [Info] [binary:BoostFromScore]: pavg=0.501460 -> initscore=0.005841\n",
            "[LightGBM] [Info] Start training from score 0.005841\n",
            "[LightGBM] [Info] Number of positive: 26789, number of negative: 26631\n",
            "[LightGBM] [Info] Auto-choosing col-wise multi-threading, the overhead of testing was 0.014025 seconds.\n",
            "You can set `force_col_wise=true` to remove the overhead.\n",
            "[LightGBM] [Info] Total Bins 613\n",
            "[LightGBM] [Info] Number of data points in the train set: 53420, number of used features: 10\n",
            "[LightGBM] [Info] [binary:BoostFromScore]: pavg=0.501479 -> initscore=0.005915\n",
            "[LightGBM] [Info] Start training from score 0.005915\n",
            "[LightGBM] [Info] Number of positive: 26789, number of negative: 26631\n",
            "[LightGBM] [Info] Auto-choosing row-wise multi-threading, the overhead of testing was 0.013112 seconds.\n",
            "You can set `force_row_wise=true` to remove the overhead.\n",
            "And if memory is not enough, you can set `force_col_wise=true`.\n",
            "[LightGBM] [Info] Total Bins 613\n",
            "[LightGBM] [Info] Number of data points in the train set: 53420, number of used features: 10\n",
            "[LightGBM] [Info] [binary:BoostFromScore]: pavg=0.501479 -> initscore=0.005915\n",
            "[LightGBM] [Info] Start training from score 0.005915\n",
            "[LightGBM] [Info] Number of positive: 26789, number of negative: 26631\n",
            "[LightGBM] [Info] Auto-choosing row-wise multi-threading, the overhead of testing was 0.008310 seconds.\n",
            "You can set `force_row_wise=true` to remove the overhead.\n",
            "And if memory is not enough, you can set `force_col_wise=true`.\n",
            "[LightGBM] [Info] Total Bins 613\n",
            "[LightGBM] [Info] Number of data points in the train set: 53420, number of used features: 10\n",
            "[LightGBM] [Info] [binary:BoostFromScore]: pavg=0.501479 -> initscore=0.005915\n",
            "[LightGBM] [Info] Start training from score 0.005915\n",
            "[LightGBM] [Info] Number of positive: 26789, number of negative: 26631\n",
            "[LightGBM] [Info] Auto-choosing row-wise multi-threading, the overhead of testing was 0.007838 seconds.\n",
            "You can set `force_row_wise=true` to remove the overhead.\n",
            "And if memory is not enough, you can set `force_col_wise=true`.\n",
            "[LightGBM] [Info] Total Bins 613\n",
            "[LightGBM] [Info] Number of data points in the train set: 53420, number of used features: 10\n",
            "[LightGBM] [Info] [binary:BoostFromScore]: pavg=0.501479 -> initscore=0.005915\n",
            "[LightGBM] [Info] Start training from score 0.005915\n",
            "[LightGBM] [Info] Number of positive: 26788, number of negative: 26632\n",
            "[LightGBM] [Info] Auto-choosing row-wise multi-threading, the overhead of testing was 0.008319 seconds.\n",
            "You can set `force_row_wise=true` to remove the overhead.\n",
            "And if memory is not enough, you can set `force_col_wise=true`.\n",
            "[LightGBM] [Info] Total Bins 613\n",
            "[LightGBM] [Info] Number of data points in the train set: 53420, number of used features: 10\n",
            "[LightGBM] [Info] [binary:BoostFromScore]: pavg=0.501460 -> initscore=0.005841\n",
            "[LightGBM] [Info] Start training from score 0.005841\n",
            "[LightGBM] [Info] Number of positive: 26789, number of negative: 26631\n",
            "[LightGBM] [Info] Auto-choosing row-wise multi-threading, the overhead of testing was 0.009073 seconds.\n",
            "You can set `force_row_wise=true` to remove the overhead.\n",
            "And if memory is not enough, you can set `force_col_wise=true`.\n",
            "[LightGBM] [Info] Total Bins 613\n",
            "[LightGBM] [Info] Number of data points in the train set: 53420, number of used features: 10\n",
            "[LightGBM] [Info] [binary:BoostFromScore]: pavg=0.501479 -> initscore=0.005915\n",
            "[LightGBM] [Info] Start training from score 0.005915\n",
            "[LightGBM] [Info] Number of positive: 26789, number of negative: 26631\n",
            "[LightGBM] [Info] Auto-choosing row-wise multi-threading, the overhead of testing was 0.006203 seconds.\n",
            "You can set `force_row_wise=true` to remove the overhead.\n",
            "And if memory is not enough, you can set `force_col_wise=true`.\n",
            "[LightGBM] [Info] Total Bins 613\n",
            "[LightGBM] [Info] Number of data points in the train set: 53420, number of used features: 10\n",
            "[LightGBM] [Info] [binary:BoostFromScore]: pavg=0.501479 -> initscore=0.005915\n",
            "[LightGBM] [Info] Start training from score 0.005915\n",
            "[LightGBM] [Info] Number of positive: 26789, number of negative: 26631\n",
            "[LightGBM] [Info] Auto-choosing col-wise multi-threading, the overhead of testing was 0.008523 seconds.\n",
            "You can set `force_col_wise=true` to remove the overhead.\n",
            "[LightGBM] [Info] Total Bins 613\n",
            "[LightGBM] [Info] Number of data points in the train set: 53420, number of used features: 10\n",
            "[LightGBM] [Info] [binary:BoostFromScore]: pavg=0.501479 -> initscore=0.005915\n",
            "[LightGBM] [Info] Start training from score 0.005915\n",
            "[LightGBM] [Info] Number of positive: 26789, number of negative: 26631\n",
            "[LightGBM] [Info] Auto-choosing row-wise multi-threading, the overhead of testing was 0.006397 seconds.\n",
            "You can set `force_row_wise=true` to remove the overhead.\n",
            "And if memory is not enough, you can set `force_col_wise=true`.\n",
            "[LightGBM] [Info] Total Bins 613\n",
            "[LightGBM] [Info] Number of data points in the train set: 53420, number of used features: 10\n",
            "[LightGBM] [Info] [binary:BoostFromScore]: pavg=0.501479 -> initscore=0.005915\n",
            "[LightGBM] [Info] Start training from score 0.005915\n",
            "[LightGBM] [Info] Number of positive: 26788, number of negative: 26632\n",
            "[LightGBM] [Info] Auto-choosing col-wise multi-threading, the overhead of testing was 0.008526 seconds.\n",
            "You can set `force_col_wise=true` to remove the overhead.\n",
            "[LightGBM] [Info] Total Bins 613\n",
            "[LightGBM] [Info] Number of data points in the train set: 53420, number of used features: 10\n",
            "[LightGBM] [Info] [binary:BoostFromScore]: pavg=0.501460 -> initscore=0.005841\n",
            "[LightGBM] [Info] Start training from score 0.005841\n",
            "[LightGBM] [Info] Number of positive: 26789, number of negative: 26631\n",
            "[LightGBM] [Info] Auto-choosing row-wise multi-threading, the overhead of testing was 0.007152 seconds.\n",
            "You can set `force_row_wise=true` to remove the overhead.\n",
            "And if memory is not enough, you can set `force_col_wise=true`.\n",
            "[LightGBM] [Info] Total Bins 613\n",
            "[LightGBM] [Info] Number of data points in the train set: 53420, number of used features: 10\n",
            "[LightGBM] [Info] [binary:BoostFromScore]: pavg=0.501479 -> initscore=0.005915\n",
            "[LightGBM] [Info] Start training from score 0.005915\n",
            "[LightGBM] [Info] Number of positive: 26789, number of negative: 26631\n",
            "[LightGBM] [Info] Auto-choosing col-wise multi-threading, the overhead of testing was 0.008277 seconds.\n",
            "You can set `force_col_wise=true` to remove the overhead.\n",
            "[LightGBM] [Info] Total Bins 613\n",
            "[LightGBM] [Info] Number of data points in the train set: 53420, number of used features: 10\n",
            "[LightGBM] [Info] [binary:BoostFromScore]: pavg=0.501479 -> initscore=0.005915\n",
            "[LightGBM] [Info] Start training from score 0.005915\n",
            "[LightGBM] [Info] Number of positive: 26789, number of negative: 26631\n",
            "[LightGBM] [Info] Auto-choosing col-wise multi-threading, the overhead of testing was 0.008677 seconds.\n",
            "You can set `force_col_wise=true` to remove the overhead.\n",
            "[LightGBM] [Info] Total Bins 613\n",
            "[LightGBM] [Info] Number of data points in the train set: 53420, number of used features: 10\n",
            "[LightGBM] [Info] [binary:BoostFromScore]: pavg=0.501479 -> initscore=0.005915\n",
            "[LightGBM] [Info] Start training from score 0.005915\n",
            "[LightGBM] [Info] Number of positive: 26789, number of negative: 26631\n",
            "[LightGBM] [Info] Auto-choosing row-wise multi-threading, the overhead of testing was 0.008823 seconds.\n",
            "You can set `force_row_wise=true` to remove the overhead.\n",
            "And if memory is not enough, you can set `force_col_wise=true`.\n",
            "[LightGBM] [Info] Total Bins 613\n",
            "[LightGBM] [Info] Number of data points in the train set: 53420, number of used features: 10\n",
            "[LightGBM] [Info] [binary:BoostFromScore]: pavg=0.501479 -> initscore=0.005915\n",
            "[LightGBM] [Info] Start training from score 0.005915\n",
            "[LightGBM] [Info] Number of positive: 26788, number of negative: 26632\n",
            "[LightGBM] [Info] Auto-choosing row-wise multi-threading, the overhead of testing was 0.008231 seconds.\n",
            "You can set `force_row_wise=true` to remove the overhead.\n",
            "And if memory is not enough, you can set `force_col_wise=true`.\n",
            "[LightGBM] [Info] Total Bins 613\n",
            "[LightGBM] [Info] Number of data points in the train set: 53420, number of used features: 10\n",
            "[LightGBM] [Info] [binary:BoostFromScore]: pavg=0.501460 -> initscore=0.005841\n",
            "[LightGBM] [Info] Start training from score 0.005841\n",
            "[LightGBM] [Info] Number of positive: 26789, number of negative: 26631\n",
            "[LightGBM] [Info] Auto-choosing row-wise multi-threading, the overhead of testing was 0.006207 seconds.\n",
            "You can set `force_row_wise=true` to remove the overhead.\n",
            "And if memory is not enough, you can set `force_col_wise=true`.\n",
            "[LightGBM] [Info] Total Bins 613\n",
            "[LightGBM] [Info] Number of data points in the train set: 53420, number of used features: 10\n",
            "[LightGBM] [Info] [binary:BoostFromScore]: pavg=0.501479 -> initscore=0.005915\n",
            "[LightGBM] [Info] Start training from score 0.005915\n",
            "[LightGBM] [Info] Number of positive: 26789, number of negative: 26631\n",
            "[LightGBM] [Info] Auto-choosing col-wise multi-threading, the overhead of testing was 0.008682 seconds.\n",
            "You can set `force_col_wise=true` to remove the overhead.\n",
            "[LightGBM] [Info] Total Bins 613\n",
            "[LightGBM] [Info] Number of data points in the train set: 53420, number of used features: 10\n",
            "[LightGBM] [Info] [binary:BoostFromScore]: pavg=0.501479 -> initscore=0.005915\n",
            "[LightGBM] [Info] Start training from score 0.005915\n",
            "[LightGBM] [Info] Number of positive: 26789, number of negative: 26631\n",
            "[LightGBM] [Info] Auto-choosing row-wise multi-threading, the overhead of testing was 0.006444 seconds.\n",
            "You can set `force_row_wise=true` to remove the overhead.\n",
            "And if memory is not enough, you can set `force_col_wise=true`.\n",
            "[LightGBM] [Info] Total Bins 613\n",
            "[LightGBM] [Info] Number of data points in the train set: 53420, number of used features: 10\n",
            "[LightGBM] [Info] [binary:BoostFromScore]: pavg=0.501479 -> initscore=0.005915\n",
            "[LightGBM] [Info] Start training from score 0.005915\n",
            "[LightGBM] [Info] Number of positive: 26789, number of negative: 26631\n",
            "[LightGBM] [Info] Auto-choosing row-wise multi-threading, the overhead of testing was 0.006217 seconds.\n",
            "You can set `force_row_wise=true` to remove the overhead.\n",
            "And if memory is not enough, you can set `force_col_wise=true`.\n",
            "[LightGBM] [Info] Total Bins 613\n",
            "[LightGBM] [Info] Number of data points in the train set: 53420, number of used features: 10\n",
            "[LightGBM] [Info] [binary:BoostFromScore]: pavg=0.501479 -> initscore=0.005915\n",
            "[LightGBM] [Info] Start training from score 0.005915\n",
            "[LightGBM] [Info] Number of positive: 26788, number of negative: 26632\n",
            "[LightGBM] [Info] Auto-choosing col-wise multi-threading, the overhead of testing was 0.008649 seconds.\n",
            "You can set `force_col_wise=true` to remove the overhead.\n",
            "[LightGBM] [Info] Total Bins 613\n",
            "[LightGBM] [Info] Number of data points in the train set: 53420, number of used features: 10\n",
            "[LightGBM] [Info] [binary:BoostFromScore]: pavg=0.501460 -> initscore=0.005841\n",
            "[LightGBM] [Info] Start training from score 0.005841\n",
            "[LightGBM] [Info] Number of positive: 26789, number of negative: 26631\n",
            "[LightGBM] [Info] Auto-choosing row-wise multi-threading, the overhead of testing was 0.006560 seconds.\n",
            "You can set `force_row_wise=true` to remove the overhead.\n",
            "And if memory is not enough, you can set `force_col_wise=true`.\n",
            "[LightGBM] [Info] Total Bins 613\n",
            "[LightGBM] [Info] Number of data points in the train set: 53420, number of used features: 10\n",
            "[LightGBM] [Info] [binary:BoostFromScore]: pavg=0.501479 -> initscore=0.005915\n",
            "[LightGBM] [Info] Start training from score 0.005915\n",
            "[LightGBM] [Info] Number of positive: 26789, number of negative: 26631\n",
            "[LightGBM] [Info] Auto-choosing row-wise multi-threading, the overhead of testing was 0.006626 seconds.\n",
            "You can set `force_row_wise=true` to remove the overhead.\n",
            "And if memory is not enough, you can set `force_col_wise=true`.\n",
            "[LightGBM] [Info] Total Bins 613\n",
            "[LightGBM] [Info] Number of data points in the train set: 53420, number of used features: 10\n",
            "[LightGBM] [Info] [binary:BoostFromScore]: pavg=0.501479 -> initscore=0.005915\n",
            "[LightGBM] [Info] Start training from score 0.005915\n",
            "[LightGBM] [Info] Number of positive: 26789, number of negative: 26631\n",
            "[LightGBM] [Info] Auto-choosing row-wise multi-threading, the overhead of testing was 0.007094 seconds.\n",
            "You can set `force_row_wise=true` to remove the overhead.\n",
            "And if memory is not enough, you can set `force_col_wise=true`.\n",
            "[LightGBM] [Info] Total Bins 613\n",
            "[LightGBM] [Info] Number of data points in the train set: 53420, number of used features: 10\n",
            "[LightGBM] [Info] [binary:BoostFromScore]: pavg=0.501479 -> initscore=0.005915\n",
            "[LightGBM] [Info] Start training from score 0.005915\n",
            "[LightGBM] [Info] Number of positive: 26789, number of negative: 26631\n",
            "[LightGBM] [Info] Auto-choosing row-wise multi-threading, the overhead of testing was 0.005860 seconds.\n",
            "You can set `force_row_wise=true` to remove the overhead.\n",
            "And if memory is not enough, you can set `force_col_wise=true`.\n",
            "[LightGBM] [Info] Total Bins 613\n",
            "[LightGBM] [Info] Number of data points in the train set: 53420, number of used features: 10\n",
            "[LightGBM] [Info] [binary:BoostFromScore]: pavg=0.501479 -> initscore=0.005915\n",
            "[LightGBM] [Info] Start training from score 0.005915\n",
            "[LightGBM] [Info] Number of positive: 26788, number of negative: 26632\n",
            "[LightGBM] [Info] Auto-choosing col-wise multi-threading, the overhead of testing was 0.008894 seconds.\n",
            "You can set `force_col_wise=true` to remove the overhead.\n",
            "[LightGBM] [Info] Total Bins 613\n",
            "[LightGBM] [Info] Number of data points in the train set: 53420, number of used features: 10\n",
            "[LightGBM] [Info] [binary:BoostFromScore]: pavg=0.501460 -> initscore=0.005841\n",
            "[LightGBM] [Info] Start training from score 0.005841\n",
            "[LightGBM] [Info] Number of positive: 26789, number of negative: 26631\n",
            "[LightGBM] [Info] Auto-choosing row-wise multi-threading, the overhead of testing was 0.006164 seconds.\n",
            "You can set `force_row_wise=true` to remove the overhead.\n",
            "And if memory is not enough, you can set `force_col_wise=true`.\n",
            "[LightGBM] [Info] Total Bins 613\n",
            "[LightGBM] [Info] Number of data points in the train set: 53420, number of used features: 10\n",
            "[LightGBM] [Info] [binary:BoostFromScore]: pavg=0.501479 -> initscore=0.005915\n",
            "[LightGBM] [Info] Start training from score 0.005915\n",
            "[LightGBM] [Info] Number of positive: 26789, number of negative: 26631\n",
            "[LightGBM] [Info] Auto-choosing row-wise multi-threading, the overhead of testing was 0.006126 seconds.\n",
            "You can set `force_row_wise=true` to remove the overhead.\n",
            "And if memory is not enough, you can set `force_col_wise=true`.\n",
            "[LightGBM] [Info] Total Bins 613\n",
            "[LightGBM] [Info] Number of data points in the train set: 53420, number of used features: 10\n",
            "[LightGBM] [Info] [binary:BoostFromScore]: pavg=0.501479 -> initscore=0.005915\n",
            "[LightGBM] [Info] Start training from score 0.005915\n",
            "[LightGBM] [Info] Number of positive: 26789, number of negative: 26631\n",
            "[LightGBM] [Info] Auto-choosing col-wise multi-threading, the overhead of testing was 0.008571 seconds.\n",
            "You can set `force_col_wise=true` to remove the overhead.\n",
            "[LightGBM] [Info] Total Bins 613\n",
            "[LightGBM] [Info] Number of data points in the train set: 53420, number of used features: 10\n",
            "[LightGBM] [Info] [binary:BoostFromScore]: pavg=0.501479 -> initscore=0.005915\n",
            "[LightGBM] [Info] Start training from score 0.005915\n",
            "[LightGBM] [Info] Number of positive: 26789, number of negative: 26631\n",
            "[LightGBM] [Info] Auto-choosing col-wise multi-threading, the overhead of testing was 0.008903 seconds.\n",
            "You can set `force_col_wise=true` to remove the overhead.\n",
            "[LightGBM] [Info] Total Bins 613\n",
            "[LightGBM] [Info] Number of data points in the train set: 53420, number of used features: 10\n",
            "[LightGBM] [Info] [binary:BoostFromScore]: pavg=0.501479 -> initscore=0.005915\n",
            "[LightGBM] [Info] Start training from score 0.005915\n",
            "[LightGBM] [Info] Number of positive: 26788, number of negative: 26632\n",
            "[LightGBM] [Info] Auto-choosing row-wise multi-threading, the overhead of testing was 0.011011 seconds.\n",
            "You can set `force_row_wise=true` to remove the overhead.\n",
            "And if memory is not enough, you can set `force_col_wise=true`.\n",
            "[LightGBM] [Info] Total Bins 613\n",
            "[LightGBM] [Info] Number of data points in the train set: 53420, number of used features: 10\n",
            "[LightGBM] [Info] [binary:BoostFromScore]: pavg=0.501460 -> initscore=0.005841\n",
            "[LightGBM] [Info] Start training from score 0.005841\n",
            "[LightGBM] [Info] Number of positive: 26789, number of negative: 26631\n",
            "[LightGBM] [Info] Auto-choosing row-wise multi-threading, the overhead of testing was 0.008102 seconds.\n",
            "You can set `force_row_wise=true` to remove the overhead.\n",
            "And if memory is not enough, you can set `force_col_wise=true`.\n",
            "[LightGBM] [Info] Total Bins 613\n",
            "[LightGBM] [Info] Number of data points in the train set: 53420, number of used features: 10\n",
            "[LightGBM] [Info] [binary:BoostFromScore]: pavg=0.501479 -> initscore=0.005915\n",
            "[LightGBM] [Info] Start training from score 0.005915\n",
            "[LightGBM] [Info] Number of positive: 26789, number of negative: 26631\n",
            "[LightGBM] [Info] Auto-choosing row-wise multi-threading, the overhead of testing was 0.008196 seconds.\n",
            "You can set `force_row_wise=true` to remove the overhead.\n",
            "And if memory is not enough, you can set `force_col_wise=true`.\n",
            "[LightGBM] [Info] Total Bins 613\n",
            "[LightGBM] [Info] Number of data points in the train set: 53420, number of used features: 10\n",
            "[LightGBM] [Info] [binary:BoostFromScore]: pavg=0.501479 -> initscore=0.005915\n",
            "[LightGBM] [Info] Start training from score 0.005915\n",
            "[LightGBM] [Info] Number of positive: 26789, number of negative: 26631\n",
            "[LightGBM] [Info] Auto-choosing row-wise multi-threading, the overhead of testing was 0.008467 seconds.\n",
            "You can set `force_row_wise=true` to remove the overhead.\n",
            "And if memory is not enough, you can set `force_col_wise=true`.\n",
            "[LightGBM] [Info] Total Bins 613\n",
            "[LightGBM] [Info] Number of data points in the train set: 53420, number of used features: 10\n",
            "[LightGBM] [Info] [binary:BoostFromScore]: pavg=0.501479 -> initscore=0.005915\n",
            "[LightGBM] [Info] Start training from score 0.005915\n",
            "[LightGBM] [Info] Number of positive: 26789, number of negative: 26631\n",
            "[LightGBM] [Info] Auto-choosing row-wise multi-threading, the overhead of testing was 0.008004 seconds.\n",
            "You can set `force_row_wise=true` to remove the overhead.\n",
            "And if memory is not enough, you can set `force_col_wise=true`.\n",
            "[LightGBM] [Info] Total Bins 613\n",
            "[LightGBM] [Info] Number of data points in the train set: 53420, number of used features: 10\n",
            "[LightGBM] [Info] [binary:BoostFromScore]: pavg=0.501479 -> initscore=0.005915\n",
            "[LightGBM] [Info] Start training from score 0.005915\n",
            "[LightGBM] [Info] Number of positive: 26788, number of negative: 26632\n",
            "[LightGBM] [Info] Auto-choosing col-wise multi-threading, the overhead of testing was 0.008575 seconds.\n",
            "You can set `force_col_wise=true` to remove the overhead.\n",
            "[LightGBM] [Info] Total Bins 613\n",
            "[LightGBM] [Info] Number of data points in the train set: 53420, number of used features: 10\n",
            "[LightGBM] [Info] [binary:BoostFromScore]: pavg=0.501460 -> initscore=0.005841\n",
            "[LightGBM] [Info] Start training from score 0.005841\n",
            "[LightGBM] [Info] Number of positive: 26789, number of negative: 26631\n",
            "[LightGBM] [Info] Auto-choosing col-wise multi-threading, the overhead of testing was 0.008242 seconds.\n",
            "You can set `force_col_wise=true` to remove the overhead.\n",
            "[LightGBM] [Info] Total Bins 613\n",
            "[LightGBM] [Info] Number of data points in the train set: 53420, number of used features: 10\n",
            "[LightGBM] [Info] [binary:BoostFromScore]: pavg=0.501479 -> initscore=0.005915\n",
            "[LightGBM] [Info] Start training from score 0.005915\n",
            "[LightGBM] [Info] Number of positive: 26789, number of negative: 26631\n",
            "[LightGBM] [Info] Auto-choosing row-wise multi-threading, the overhead of testing was 0.006196 seconds.\n",
            "You can set `force_row_wise=true` to remove the overhead.\n",
            "And if memory is not enough, you can set `force_col_wise=true`.\n",
            "[LightGBM] [Info] Total Bins 613\n",
            "[LightGBM] [Info] Number of data points in the train set: 53420, number of used features: 10\n",
            "[LightGBM] [Info] [binary:BoostFromScore]: pavg=0.501479 -> initscore=0.005915\n",
            "[LightGBM] [Info] Start training from score 0.005915\n",
            "[LightGBM] [Info] Number of positive: 26789, number of negative: 26631\n",
            "[LightGBM] [Info] Auto-choosing row-wise multi-threading, the overhead of testing was 0.006202 seconds.\n",
            "You can set `force_row_wise=true` to remove the overhead.\n",
            "And if memory is not enough, you can set `force_col_wise=true`.\n",
            "[LightGBM] [Info] Total Bins 613\n",
            "[LightGBM] [Info] Number of data points in the train set: 53420, number of used features: 10\n",
            "[LightGBM] [Info] [binary:BoostFromScore]: pavg=0.501479 -> initscore=0.005915\n",
            "[LightGBM] [Info] Start training from score 0.005915\n",
            "[LightGBM] [Info] Number of positive: 26789, number of negative: 26631\n",
            "[LightGBM] [Info] Auto-choosing row-wise multi-threading, the overhead of testing was 0.006257 seconds.\n",
            "You can set `force_row_wise=true` to remove the overhead.\n",
            "And if memory is not enough, you can set `force_col_wise=true`.\n",
            "[LightGBM] [Info] Total Bins 613\n",
            "[LightGBM] [Info] Number of data points in the train set: 53420, number of used features: 10\n",
            "[LightGBM] [Info] [binary:BoostFromScore]: pavg=0.501479 -> initscore=0.005915\n",
            "[LightGBM] [Info] Start training from score 0.005915\n",
            "[LightGBM] [Info] Number of positive: 26788, number of negative: 26632\n",
            "[LightGBM] [Info] Auto-choosing col-wise multi-threading, the overhead of testing was 0.009386 seconds.\n",
            "You can set `force_col_wise=true` to remove the overhead.\n",
            "[LightGBM] [Info] Total Bins 613\n",
            "[LightGBM] [Info] Number of data points in the train set: 53420, number of used features: 10\n",
            "[LightGBM] [Info] [binary:BoostFromScore]: pavg=0.501460 -> initscore=0.005841\n",
            "[LightGBM] [Info] Start training from score 0.005841\n",
            "[LightGBM] [Info] Number of positive: 26789, number of negative: 26631\n",
            "[LightGBM] [Info] Auto-choosing row-wise multi-threading, the overhead of testing was 0.005936 seconds.\n",
            "You can set `force_row_wise=true` to remove the overhead.\n",
            "And if memory is not enough, you can set `force_col_wise=true`.\n",
            "[LightGBM] [Info] Total Bins 613\n",
            "[LightGBM] [Info] Number of data points in the train set: 53420, number of used features: 10\n",
            "[LightGBM] [Info] [binary:BoostFromScore]: pavg=0.501479 -> initscore=0.005915\n",
            "[LightGBM] [Info] Start training from score 0.005915\n",
            "[LightGBM] [Info] Number of positive: 26789, number of negative: 26631\n",
            "[LightGBM] [Info] Auto-choosing row-wise multi-threading, the overhead of testing was 0.006058 seconds.\n",
            "You can set `force_row_wise=true` to remove the overhead.\n",
            "And if memory is not enough, you can set `force_col_wise=true`.\n",
            "[LightGBM] [Info] Total Bins 613\n",
            "[LightGBM] [Info] Number of data points in the train set: 53420, number of used features: 10\n",
            "[LightGBM] [Info] [binary:BoostFromScore]: pavg=0.501479 -> initscore=0.005915\n",
            "[LightGBM] [Info] Start training from score 0.005915\n",
            "[LightGBM] [Info] Number of positive: 26789, number of negative: 26631\n",
            "[LightGBM] [Info] Auto-choosing row-wise multi-threading, the overhead of testing was 0.006180 seconds.\n",
            "You can set `force_row_wise=true` to remove the overhead.\n",
            "And if memory is not enough, you can set `force_col_wise=true`.\n",
            "[LightGBM] [Info] Total Bins 613\n",
            "[LightGBM] [Info] Number of data points in the train set: 53420, number of used features: 10\n",
            "[LightGBM] [Info] [binary:BoostFromScore]: pavg=0.501479 -> initscore=0.005915\n",
            "[LightGBM] [Info] Start training from score 0.005915\n",
            "[LightGBM] [Info] Number of positive: 26789, number of negative: 26631\n",
            "[LightGBM] [Info] Auto-choosing col-wise multi-threading, the overhead of testing was 0.008818 seconds.\n",
            "You can set `force_col_wise=true` to remove the overhead.\n",
            "[LightGBM] [Info] Total Bins 613\n",
            "[LightGBM] [Info] Number of data points in the train set: 53420, number of used features: 10\n",
            "[LightGBM] [Info] [binary:BoostFromScore]: pavg=0.501479 -> initscore=0.005915\n",
            "[LightGBM] [Info] Start training from score 0.005915\n",
            "[LightGBM] [Info] Number of positive: 26788, number of negative: 26632\n",
            "[LightGBM] [Info] Auto-choosing row-wise multi-threading, the overhead of testing was 0.006118 seconds.\n",
            "You can set `force_row_wise=true` to remove the overhead.\n",
            "And if memory is not enough, you can set `force_col_wise=true`.\n",
            "[LightGBM] [Info] Total Bins 613\n",
            "[LightGBM] [Info] Number of data points in the train set: 53420, number of used features: 10\n",
            "[LightGBM] [Info] [binary:BoostFromScore]: pavg=0.501460 -> initscore=0.005841\n",
            "[LightGBM] [Info] Start training from score 0.005841\n",
            "[LightGBM] [Info] Number of positive: 26789, number of negative: 26631\n",
            "[LightGBM] [Info] Auto-choosing row-wise multi-threading, the overhead of testing was 0.008884 seconds.\n",
            "You can set `force_row_wise=true` to remove the overhead.\n",
            "And if memory is not enough, you can set `force_col_wise=true`.\n",
            "[LightGBM] [Info] Total Bins 613\n",
            "[LightGBM] [Info] Number of data points in the train set: 53420, number of used features: 10\n",
            "[LightGBM] [Info] [binary:BoostFromScore]: pavg=0.501479 -> initscore=0.005915\n",
            "[LightGBM] [Info] Start training from score 0.005915\n",
            "[LightGBM] [Info] Number of positive: 26789, number of negative: 26631\n",
            "[LightGBM] [Info] Auto-choosing row-wise multi-threading, the overhead of testing was 0.008361 seconds.\n",
            "You can set `force_row_wise=true` to remove the overhead.\n",
            "And if memory is not enough, you can set `force_col_wise=true`.\n",
            "[LightGBM] [Info] Total Bins 613\n",
            "[LightGBM] [Info] Number of data points in the train set: 53420, number of used features: 10\n",
            "[LightGBM] [Info] [binary:BoostFromScore]: pavg=0.501479 -> initscore=0.005915\n",
            "[LightGBM] [Info] Start training from score 0.005915\n",
            "[LightGBM] [Info] Number of positive: 26789, number of negative: 26631\n",
            "[LightGBM] [Info] Auto-choosing row-wise multi-threading, the overhead of testing was 0.009440 seconds.\n",
            "You can set `force_row_wise=true` to remove the overhead.\n",
            "And if memory is not enough, you can set `force_col_wise=true`.\n",
            "[LightGBM] [Info] Total Bins 613\n",
            "[LightGBM] [Info] Number of data points in the train set: 53420, number of used features: 10\n",
            "[LightGBM] [Info] [binary:BoostFromScore]: pavg=0.501479 -> initscore=0.005915\n",
            "[LightGBM] [Info] Start training from score 0.005915\n",
            "[LightGBM] [Info] Number of positive: 26789, number of negative: 26631\n",
            "[LightGBM] [Info] Auto-choosing row-wise multi-threading, the overhead of testing was 0.006238 seconds.\n",
            "You can set `force_row_wise=true` to remove the overhead.\n",
            "And if memory is not enough, you can set `force_col_wise=true`.\n",
            "[LightGBM] [Info] Total Bins 613\n",
            "[LightGBM] [Info] Number of data points in the train set: 53420, number of used features: 10\n",
            "[LightGBM] [Info] [binary:BoostFromScore]: pavg=0.501479 -> initscore=0.005915\n",
            "[LightGBM] [Info] Start training from score 0.005915\n",
            "[LightGBM] [Info] Number of positive: 26788, number of negative: 26632\n",
            "[LightGBM] [Info] Auto-choosing row-wise multi-threading, the overhead of testing was 0.006325 seconds.\n",
            "You can set `force_row_wise=true` to remove the overhead.\n",
            "And if memory is not enough, you can set `force_col_wise=true`.\n",
            "[LightGBM] [Info] Total Bins 613\n",
            "[LightGBM] [Info] Number of data points in the train set: 53420, number of used features: 10\n",
            "[LightGBM] [Info] [binary:BoostFromScore]: pavg=0.501460 -> initscore=0.005841\n",
            "[LightGBM] [Info] Start training from score 0.005841\n",
            "[LightGBM] [Info] Number of positive: 26789, number of negative: 26631\n",
            "[LightGBM] [Info] Auto-choosing col-wise multi-threading, the overhead of testing was 0.008452 seconds.\n",
            "You can set `force_col_wise=true` to remove the overhead.\n",
            "[LightGBM] [Info] Total Bins 613\n",
            "[LightGBM] [Info] Number of data points in the train set: 53420, number of used features: 10\n",
            "[LightGBM] [Info] [binary:BoostFromScore]: pavg=0.501479 -> initscore=0.005915\n",
            "[LightGBM] [Info] Start training from score 0.005915\n",
            "[LightGBM] [Info] Number of positive: 26789, number of negative: 26631\n",
            "[LightGBM] [Info] Auto-choosing row-wise multi-threading, the overhead of testing was 0.006264 seconds.\n",
            "You can set `force_row_wise=true` to remove the overhead.\n",
            "And if memory is not enough, you can set `force_col_wise=true`.\n",
            "[LightGBM] [Info] Total Bins 613\n",
            "[LightGBM] [Info] Number of data points in the train set: 53420, number of used features: 10\n",
            "[LightGBM] [Info] [binary:BoostFromScore]: pavg=0.501479 -> initscore=0.005915\n",
            "[LightGBM] [Info] Start training from score 0.005915\n",
            "[LightGBM] [Info] Number of positive: 26789, number of negative: 26631\n",
            "[LightGBM] [Info] Auto-choosing row-wise multi-threading, the overhead of testing was 0.006105 seconds.\n",
            "You can set `force_row_wise=true` to remove the overhead.\n",
            "And if memory is not enough, you can set `force_col_wise=true`.\n",
            "[LightGBM] [Info] Total Bins 613\n",
            "[LightGBM] [Info] Number of data points in the train set: 53420, number of used features: 10\n",
            "[LightGBM] [Info] [binary:BoostFromScore]: pavg=0.501479 -> initscore=0.005915\n",
            "[LightGBM] [Info] Start training from score 0.005915\n",
            "[LightGBM] [Info] Number of positive: 26789, number of negative: 26631\n",
            "[LightGBM] [Info] Auto-choosing col-wise multi-threading, the overhead of testing was 0.008636 seconds.\n",
            "You can set `force_col_wise=true` to remove the overhead.\n",
            "[LightGBM] [Info] Total Bins 613\n",
            "[LightGBM] [Info] Number of data points in the train set: 53420, number of used features: 10\n",
            "[LightGBM] [Info] [binary:BoostFromScore]: pavg=0.501479 -> initscore=0.005915\n",
            "[LightGBM] [Info] Start training from score 0.005915\n",
            "[LightGBM] [Info] Number of positive: 26788, number of negative: 26632\n",
            "[LightGBM] [Info] Auto-choosing row-wise multi-threading, the overhead of testing was 0.006016 seconds.\n",
            "You can set `force_row_wise=true` to remove the overhead.\n",
            "And if memory is not enough, you can set `force_col_wise=true`.\n",
            "[LightGBM] [Info] Total Bins 613\n",
            "[LightGBM] [Info] Number of data points in the train set: 53420, number of used features: 10\n",
            "[LightGBM] [Info] [binary:BoostFromScore]: pavg=0.501460 -> initscore=0.005841\n",
            "[LightGBM] [Info] Start training from score 0.005841\n",
            "[LightGBM] [Info] Number of positive: 26789, number of negative: 26631\n",
            "[LightGBM] [Info] Auto-choosing col-wise multi-threading, the overhead of testing was 0.017545 seconds.\n",
            "You can set `force_col_wise=true` to remove the overhead.\n",
            "[LightGBM] [Info] Total Bins 613\n",
            "[LightGBM] [Info] Number of data points in the train set: 53420, number of used features: 10\n",
            "[LightGBM] [Info] [binary:BoostFromScore]: pavg=0.501479 -> initscore=0.005915\n",
            "[LightGBM] [Info] Start training from score 0.005915\n",
            "[LightGBM] [Info] Number of positive: 26789, number of negative: 26631\n",
            "[LightGBM] [Info] Auto-choosing row-wise multi-threading, the overhead of testing was 0.006344 seconds.\n",
            "You can set `force_row_wise=true` to remove the overhead.\n",
            "And if memory is not enough, you can set `force_col_wise=true`.\n",
            "[LightGBM] [Info] Total Bins 613\n",
            "[LightGBM] [Info] Number of data points in the train set: 53420, number of used features: 10\n",
            "[LightGBM] [Info] [binary:BoostFromScore]: pavg=0.501479 -> initscore=0.005915\n",
            "[LightGBM] [Info] Start training from score 0.005915\n",
            "[LightGBM] [Info] Number of positive: 26789, number of negative: 26631\n",
            "[LightGBM] [Info] Auto-choosing col-wise multi-threading, the overhead of testing was 0.008572 seconds.\n",
            "You can set `force_col_wise=true` to remove the overhead.\n",
            "[LightGBM] [Info] Total Bins 613\n",
            "[LightGBM] [Info] Number of data points in the train set: 53420, number of used features: 10\n",
            "[LightGBM] [Info] [binary:BoostFromScore]: pavg=0.501479 -> initscore=0.005915\n",
            "[LightGBM] [Info] Start training from score 0.005915\n",
            "[LightGBM] [Info] Number of positive: 26789, number of negative: 26631\n",
            "[LightGBM] [Info] Auto-choosing row-wise multi-threading, the overhead of testing was 0.006477 seconds.\n",
            "You can set `force_row_wise=true` to remove the overhead.\n",
            "And if memory is not enough, you can set `force_col_wise=true`.\n",
            "[LightGBM] [Info] Total Bins 613\n",
            "[LightGBM] [Info] Number of data points in the train set: 53420, number of used features: 10\n",
            "[LightGBM] [Info] [binary:BoostFromScore]: pavg=0.501479 -> initscore=0.005915\n",
            "[LightGBM] [Info] Start training from score 0.005915\n",
            "[LightGBM] [Info] Number of positive: 26788, number of negative: 26632\n",
            "[LightGBM] [Info] Auto-choosing col-wise multi-threading, the overhead of testing was 0.008418 seconds.\n",
            "You can set `force_col_wise=true` to remove the overhead.\n",
            "[LightGBM] [Info] Total Bins 613\n",
            "[LightGBM] [Info] Number of data points in the train set: 53420, number of used features: 10\n",
            "[LightGBM] [Info] [binary:BoostFromScore]: pavg=0.501460 -> initscore=0.005841\n",
            "[LightGBM] [Info] Start training from score 0.005841\n",
            "[LightGBM] [Info] Number of positive: 26789, number of negative: 26631\n",
            "[LightGBM] [Info] Auto-choosing col-wise multi-threading, the overhead of testing was 0.009111 seconds.\n",
            "You can set `force_col_wise=true` to remove the overhead.\n",
            "[LightGBM] [Info] Total Bins 613\n",
            "[LightGBM] [Info] Number of data points in the train set: 53420, number of used features: 10\n",
            "[LightGBM] [Info] [binary:BoostFromScore]: pavg=0.501479 -> initscore=0.005915\n",
            "[LightGBM] [Info] Start training from score 0.005915\n",
            "[LightGBM] [Info] Number of positive: 26789, number of negative: 26631\n",
            "[LightGBM] [Info] Auto-choosing col-wise multi-threading, the overhead of testing was 0.008716 seconds.\n",
            "You can set `force_col_wise=true` to remove the overhead.\n",
            "[LightGBM] [Info] Total Bins 613\n",
            "[LightGBM] [Info] Number of data points in the train set: 53420, number of used features: 10\n",
            "[LightGBM] [Info] [binary:BoostFromScore]: pavg=0.501479 -> initscore=0.005915\n",
            "[LightGBM] [Info] Start training from score 0.005915\n",
            "[LightGBM] [Info] Number of positive: 26789, number of negative: 26631\n",
            "[LightGBM] [Info] Auto-choosing col-wise multi-threading, the overhead of testing was 0.008455 seconds.\n",
            "You can set `force_col_wise=true` to remove the overhead.\n",
            "[LightGBM] [Info] Total Bins 613\n",
            "[LightGBM] [Info] Number of data points in the train set: 53420, number of used features: 10\n",
            "[LightGBM] [Info] [binary:BoostFromScore]: pavg=0.501479 -> initscore=0.005915\n",
            "[LightGBM] [Info] Start training from score 0.005915\n",
            "[LightGBM] [Info] Number of positive: 26789, number of negative: 26631\n",
            "[LightGBM] [Info] Auto-choosing col-wise multi-threading, the overhead of testing was 0.008371 seconds.\n",
            "You can set `force_col_wise=true` to remove the overhead.\n",
            "[LightGBM] [Info] Total Bins 613\n",
            "[LightGBM] [Info] Number of data points in the train set: 53420, number of used features: 10\n",
            "[LightGBM] [Info] [binary:BoostFromScore]: pavg=0.501479 -> initscore=0.005915\n",
            "[LightGBM] [Info] Start training from score 0.005915\n",
            "[LightGBM] [Info] Number of positive: 26788, number of negative: 26632\n",
            "[LightGBM] [Info] Auto-choosing col-wise multi-threading, the overhead of testing was 0.008891 seconds.\n",
            "You can set `force_col_wise=true` to remove the overhead.\n",
            "[LightGBM] [Info] Total Bins 613\n",
            "[LightGBM] [Info] Number of data points in the train set: 53420, number of used features: 10\n",
            "[LightGBM] [Info] [binary:BoostFromScore]: pavg=0.501460 -> initscore=0.005841\n",
            "[LightGBM] [Info] Start training from score 0.005841\n",
            "[LightGBM] [Info] Number of positive: 26789, number of negative: 26631\n",
            "[LightGBM] [Info] Auto-choosing row-wise multi-threading, the overhead of testing was 0.006987 seconds.\n",
            "You can set `force_row_wise=true` to remove the overhead.\n",
            "And if memory is not enough, you can set `force_col_wise=true`.\n",
            "[LightGBM] [Info] Total Bins 613\n",
            "[LightGBM] [Info] Number of data points in the train set: 53420, number of used features: 10\n",
            "[LightGBM] [Info] [binary:BoostFromScore]: pavg=0.501479 -> initscore=0.005915\n",
            "[LightGBM] [Info] Start training from score 0.005915\n",
            "[LightGBM] [Info] Number of positive: 26789, number of negative: 26631\n",
            "[LightGBM] [Info] Auto-choosing row-wise multi-threading, the overhead of testing was 0.006362 seconds.\n",
            "You can set `force_row_wise=true` to remove the overhead.\n",
            "And if memory is not enough, you can set `force_col_wise=true`.\n",
            "[LightGBM] [Info] Total Bins 613\n",
            "[LightGBM] [Info] Number of data points in the train set: 53420, number of used features: 10\n",
            "[LightGBM] [Info] [binary:BoostFromScore]: pavg=0.501479 -> initscore=0.005915\n",
            "[LightGBM] [Info] Start training from score 0.005915\n",
            "[LightGBM] [Info] Number of positive: 26789, number of negative: 26631\n",
            "[LightGBM] [Info] Auto-choosing row-wise multi-threading, the overhead of testing was 0.008315 seconds.\n",
            "You can set `force_row_wise=true` to remove the overhead.\n",
            "And if memory is not enough, you can set `force_col_wise=true`.\n",
            "[LightGBM] [Info] Total Bins 613\n",
            "[LightGBM] [Info] Number of data points in the train set: 53420, number of used features: 10\n",
            "[LightGBM] [Info] [binary:BoostFromScore]: pavg=0.501479 -> initscore=0.005915\n",
            "[LightGBM] [Info] Start training from score 0.005915\n",
            "[LightGBM] [Info] Number of positive: 26789, number of negative: 26631\n",
            "[LightGBM] [Info] Auto-choosing row-wise multi-threading, the overhead of testing was 0.008387 seconds.\n",
            "You can set `force_row_wise=true` to remove the overhead.\n",
            "And if memory is not enough, you can set `force_col_wise=true`.\n",
            "[LightGBM] [Info] Total Bins 613\n",
            "[LightGBM] [Info] Number of data points in the train set: 53420, number of used features: 10\n",
            "[LightGBM] [Info] [binary:BoostFromScore]: pavg=0.501479 -> initscore=0.005915\n",
            "[LightGBM] [Info] Start training from score 0.005915\n",
            "[LightGBM] [Info] Number of positive: 26788, number of negative: 26632\n",
            "[LightGBM] [Info] Auto-choosing row-wise multi-threading, the overhead of testing was 0.008305 seconds.\n",
            "You can set `force_row_wise=true` to remove the overhead.\n",
            "And if memory is not enough, you can set `force_col_wise=true`.\n",
            "[LightGBM] [Info] Total Bins 613\n",
            "[LightGBM] [Info] Number of data points in the train set: 53420, number of used features: 10\n",
            "[LightGBM] [Info] [binary:BoostFromScore]: pavg=0.501460 -> initscore=0.005841\n",
            "[LightGBM] [Info] Start training from score 0.005841\n",
            "[LightGBM] [Info] Number of positive: 26789, number of negative: 26631\n",
            "[LightGBM] [Info] Auto-choosing row-wise multi-threading, the overhead of testing was 0.008239 seconds.\n",
            "You can set `force_row_wise=true` to remove the overhead.\n",
            "And if memory is not enough, you can set `force_col_wise=true`.\n",
            "[LightGBM] [Info] Total Bins 613\n",
            "[LightGBM] [Info] Number of data points in the train set: 53420, number of used features: 10\n",
            "[LightGBM] [Info] [binary:BoostFromScore]: pavg=0.501479 -> initscore=0.005915\n",
            "[LightGBM] [Info] Start training from score 0.005915\n",
            "[LightGBM] [Info] Number of positive: 26789, number of negative: 26631\n",
            "[LightGBM] [Info] Auto-choosing col-wise multi-threading, the overhead of testing was 0.008438 seconds.\n",
            "You can set `force_col_wise=true` to remove the overhead.\n",
            "[LightGBM] [Info] Total Bins 613\n",
            "[LightGBM] [Info] Number of data points in the train set: 53420, number of used features: 10\n",
            "[LightGBM] [Info] [binary:BoostFromScore]: pavg=0.501479 -> initscore=0.005915\n",
            "[LightGBM] [Info] Start training from score 0.005915\n",
            "[LightGBM] [Info] Number of positive: 26789, number of negative: 26631\n",
            "[LightGBM] [Info] Auto-choosing col-wise multi-threading, the overhead of testing was 0.008575 seconds.\n",
            "You can set `force_col_wise=true` to remove the overhead.\n",
            "[LightGBM] [Info] Total Bins 613\n",
            "[LightGBM] [Info] Number of data points in the train set: 53420, number of used features: 10\n",
            "[LightGBM] [Info] [binary:BoostFromScore]: pavg=0.501479 -> initscore=0.005915\n",
            "[LightGBM] [Info] Start training from score 0.005915\n",
            "[LightGBM] [Info] Number of positive: 26789, number of negative: 26631\n",
            "[LightGBM] [Info] Auto-choosing row-wise multi-threading, the overhead of testing was 0.006337 seconds.\n",
            "You can set `force_row_wise=true` to remove the overhead.\n",
            "And if memory is not enough, you can set `force_col_wise=true`.\n",
            "[LightGBM] [Info] Total Bins 613\n",
            "[LightGBM] [Info] Number of data points in the train set: 53420, number of used features: 10\n",
            "[LightGBM] [Info] [binary:BoostFromScore]: pavg=0.501479 -> initscore=0.005915\n",
            "[LightGBM] [Info] Start training from score 0.005915\n",
            "[LightGBM] [Info] Number of positive: 26788, number of negative: 26632\n",
            "[LightGBM] [Info] Auto-choosing col-wise multi-threading, the overhead of testing was 0.008677 seconds.\n",
            "You can set `force_col_wise=true` to remove the overhead.\n",
            "[LightGBM] [Info] Total Bins 613\n",
            "[LightGBM] [Info] Number of data points in the train set: 53420, number of used features: 10\n",
            "[LightGBM] [Info] [binary:BoostFromScore]: pavg=0.501460 -> initscore=0.005841\n",
            "[LightGBM] [Info] Start training from score 0.005841\n",
            "[LightGBM] [Info] Number of positive: 26789, number of negative: 26631\n",
            "[LightGBM] [Info] Auto-choosing row-wise multi-threading, the overhead of testing was 0.006192 seconds.\n",
            "You can set `force_row_wise=true` to remove the overhead.\n",
            "And if memory is not enough, you can set `force_col_wise=true`.\n",
            "[LightGBM] [Info] Total Bins 613\n",
            "[LightGBM] [Info] Number of data points in the train set: 53420, number of used features: 10\n",
            "[LightGBM] [Info] [binary:BoostFromScore]: pavg=0.501479 -> initscore=0.005915\n",
            "[LightGBM] [Info] Start training from score 0.005915\n",
            "[LightGBM] [Info] Number of positive: 26789, number of negative: 26631\n",
            "[LightGBM] [Info] Auto-choosing col-wise multi-threading, the overhead of testing was 0.008558 seconds.\n",
            "You can set `force_col_wise=true` to remove the overhead.\n",
            "[LightGBM] [Info] Total Bins 613\n",
            "[LightGBM] [Info] Number of data points in the train set: 53420, number of used features: 10\n",
            "[LightGBM] [Info] [binary:BoostFromScore]: pavg=0.501479 -> initscore=0.005915\n",
            "[LightGBM] [Info] Start training from score 0.005915\n",
            "[LightGBM] [Info] Number of positive: 26789, number of negative: 26631\n",
            "[LightGBM] [Info] Auto-choosing row-wise multi-threading, the overhead of testing was 0.006274 seconds.\n",
            "You can set `force_row_wise=true` to remove the overhead.\n",
            "And if memory is not enough, you can set `force_col_wise=true`.\n",
            "[LightGBM] [Info] Total Bins 613\n",
            "[LightGBM] [Info] Number of data points in the train set: 53420, number of used features: 10\n",
            "[LightGBM] [Info] [binary:BoostFromScore]: pavg=0.501479 -> initscore=0.005915\n",
            "[LightGBM] [Info] Start training from score 0.005915\n",
            "[LightGBM] [Info] Number of positive: 26789, number of negative: 26631\n",
            "[LightGBM] [Info] Auto-choosing row-wise multi-threading, the overhead of testing was 0.008131 seconds.\n",
            "You can set `force_row_wise=true` to remove the overhead.\n",
            "And if memory is not enough, you can set `force_col_wise=true`.\n",
            "[LightGBM] [Info] Total Bins 613\n",
            "[LightGBM] [Info] Number of data points in the train set: 53420, number of used features: 10\n",
            "[LightGBM] [Info] [binary:BoostFromScore]: pavg=0.501479 -> initscore=0.005915\n",
            "[LightGBM] [Info] Start training from score 0.005915\n",
            "[LightGBM] [Info] Number of positive: 26788, number of negative: 26632\n",
            "[LightGBM] [Info] Auto-choosing col-wise multi-threading, the overhead of testing was 0.008252 seconds.\n",
            "You can set `force_col_wise=true` to remove the overhead.\n",
            "[LightGBM] [Info] Total Bins 613\n",
            "[LightGBM] [Info] Number of data points in the train set: 53420, number of used features: 10\n",
            "[LightGBM] [Info] [binary:BoostFromScore]: pavg=0.501460 -> initscore=0.005841\n",
            "[LightGBM] [Info] Start training from score 0.005841\n",
            "[LightGBM] [Info] Number of positive: 33486, number of negative: 33289\n",
            "[LightGBM] [Info] Auto-choosing col-wise multi-threading, the overhead of testing was 0.011129 seconds.\n",
            "You can set `force_col_wise=true` to remove the overhead.\n",
            "[LightGBM] [Info] Total Bins 613\n",
            "[LightGBM] [Info] Number of data points in the train set: 66775, number of used features: 10\n",
            "[LightGBM] [Info] [binary:BoostFromScore]: pavg=0.501475 -> initscore=0.005900\n",
            "[LightGBM] [Info] Start training from score 0.005900\n",
            "[LightGBM] [Info] Number of positive: 28535, number of negative: 28446\n",
            "[LightGBM] [Info] Auto-choosing row-wise multi-threading, the overhead of testing was 0.006159 seconds.\n",
            "You can set `force_row_wise=true` to remove the overhead.\n",
            "And if memory is not enough, you can set `force_col_wise=true`.\n",
            "[LightGBM] [Info] Total Bins 613\n",
            "[LightGBM] [Info] Number of data points in the train set: 56981, number of used features: 10\n",
            "[LightGBM] [Info] [binary:BoostFromScore]: pavg=0.500781 -> initscore=0.003124\n",
            "[LightGBM] [Info] Start training from score 0.003124\n",
            "[LightGBM] [Info] Number of positive: 28535, number of negative: 28446\n",
            "[LightGBM] [Info] Auto-choosing row-wise multi-threading, the overhead of testing was 0.006390 seconds.\n",
            "You can set `force_row_wise=true` to remove the overhead.\n",
            "And if memory is not enough, you can set `force_col_wise=true`.\n",
            "[LightGBM] [Info] Total Bins 613\n",
            "[LightGBM] [Info] Number of data points in the train set: 56981, number of used features: 10\n",
            "[LightGBM] [Info] [binary:BoostFromScore]: pavg=0.500781 -> initscore=0.003124\n",
            "[LightGBM] [Info] Start training from score 0.003124\n",
            "[LightGBM] [Info] Number of positive: 28536, number of negative: 28446\n",
            "[LightGBM] [Info] Auto-choosing row-wise multi-threading, the overhead of testing was 0.007927 seconds.\n",
            "You can set `force_row_wise=true` to remove the overhead.\n",
            "And if memory is not enough, you can set `force_col_wise=true`.\n",
            "[LightGBM] [Info] Total Bins 613\n",
            "[LightGBM] [Info] Number of data points in the train set: 56982, number of used features: 10\n",
            "[LightGBM] [Info] [binary:BoostFromScore]: pavg=0.500790 -> initscore=0.003159\n",
            "[LightGBM] [Info] Start training from score 0.003159\n",
            "[LightGBM] [Info] Number of positive: 28535, number of negative: 28447\n",
            "[LightGBM] [Info] Auto-choosing row-wise multi-threading, the overhead of testing was 0.008514 seconds.\n",
            "You can set `force_row_wise=true` to remove the overhead.\n",
            "And if memory is not enough, you can set `force_col_wise=true`.\n",
            "[LightGBM] [Info] Total Bins 613\n",
            "[LightGBM] [Info] Number of data points in the train set: 56982, number of used features: 10\n",
            "[LightGBM] [Info] [binary:BoostFromScore]: pavg=0.500772 -> initscore=0.003089\n",
            "[LightGBM] [Info] Start training from score 0.003089\n",
            "[LightGBM] [Info] Number of positive: 28535, number of negative: 28447\n",
            "[LightGBM] [Info] Auto-choosing row-wise multi-threading, the overhead of testing was 0.008496 seconds.\n",
            "You can set `force_row_wise=true` to remove the overhead.\n",
            "And if memory is not enough, you can set `force_col_wise=true`.\n",
            "[LightGBM] [Info] Total Bins 613\n",
            "[LightGBM] [Info] Number of data points in the train set: 56982, number of used features: 10\n",
            "[LightGBM] [Info] [binary:BoostFromScore]: pavg=0.500772 -> initscore=0.003089\n",
            "[LightGBM] [Info] Start training from score 0.003089\n",
            "[LightGBM] [Info] Number of positive: 28535, number of negative: 28446\n",
            "[LightGBM] [Info] Auto-choosing row-wise multi-threading, the overhead of testing was 0.008517 seconds.\n",
            "You can set `force_row_wise=true` to remove the overhead.\n",
            "And if memory is not enough, you can set `force_col_wise=true`.\n",
            "[LightGBM] [Info] Total Bins 613\n",
            "[LightGBM] [Info] Number of data points in the train set: 56981, number of used features: 10\n",
            "[LightGBM] [Info] [binary:BoostFromScore]: pavg=0.500781 -> initscore=0.003124\n",
            "[LightGBM] [Info] Start training from score 0.003124\n",
            "[LightGBM] [Info] Number of positive: 28535, number of negative: 28446\n",
            "[LightGBM] [Info] Auto-choosing row-wise multi-threading, the overhead of testing was 0.008737 seconds.\n",
            "You can set `force_row_wise=true` to remove the overhead.\n",
            "And if memory is not enough, you can set `force_col_wise=true`.\n",
            "[LightGBM] [Info] Total Bins 613\n",
            "[LightGBM] [Info] Number of data points in the train set: 56981, number of used features: 10\n",
            "[LightGBM] [Info] [binary:BoostFromScore]: pavg=0.500781 -> initscore=0.003124\n",
            "[LightGBM] [Info] Start training from score 0.003124\n",
            "[LightGBM] [Info] Number of positive: 28536, number of negative: 28446\n",
            "[LightGBM] [Info] Auto-choosing row-wise multi-threading, the overhead of testing was 0.007571 seconds.\n",
            "You can set `force_row_wise=true` to remove the overhead.\n",
            "And if memory is not enough, you can set `force_col_wise=true`.\n",
            "[LightGBM] [Info] Total Bins 613\n",
            "[LightGBM] [Info] Number of data points in the train set: 56982, number of used features: 10\n",
            "[LightGBM] [Info] [binary:BoostFromScore]: pavg=0.500790 -> initscore=0.003159\n",
            "[LightGBM] [Info] Start training from score 0.003159\n",
            "[LightGBM] [Info] Number of positive: 28535, number of negative: 28447\n",
            "[LightGBM] [Info] Auto-choosing row-wise multi-threading, the overhead of testing was 0.006285 seconds.\n",
            "You can set `force_row_wise=true` to remove the overhead.\n",
            "And if memory is not enough, you can set `force_col_wise=true`.\n",
            "[LightGBM] [Info] Total Bins 613\n",
            "[LightGBM] [Info] Number of data points in the train set: 56982, number of used features: 10\n",
            "[LightGBM] [Info] [binary:BoostFromScore]: pavg=0.500772 -> initscore=0.003089\n",
            "[LightGBM] [Info] Start training from score 0.003089\n",
            "[LightGBM] [Info] Number of positive: 28535, number of negative: 28447\n",
            "[LightGBM] [Info] Auto-choosing col-wise multi-threading, the overhead of testing was 0.009145 seconds.\n",
            "You can set `force_col_wise=true` to remove the overhead.\n",
            "[LightGBM] [Info] Total Bins 613\n",
            "[LightGBM] [Info] Number of data points in the train set: 56982, number of used features: 10\n",
            "[LightGBM] [Info] [binary:BoostFromScore]: pavg=0.500772 -> initscore=0.003089\n",
            "[LightGBM] [Info] Start training from score 0.003089\n",
            "[LightGBM] [Info] Number of positive: 28535, number of negative: 28446\n",
            "[LightGBM] [Info] Auto-choosing col-wise multi-threading, the overhead of testing was 0.009588 seconds.\n",
            "You can set `force_col_wise=true` to remove the overhead.\n",
            "[LightGBM] [Info] Total Bins 613\n",
            "[LightGBM] [Info] Number of data points in the train set: 56981, number of used features: 10\n",
            "[LightGBM] [Info] [binary:BoostFromScore]: pavg=0.500781 -> initscore=0.003124\n",
            "[LightGBM] [Info] Start training from score 0.003124\n",
            "[LightGBM] [Info] Number of positive: 28535, number of negative: 28446\n",
            "[LightGBM] [Info] Auto-choosing col-wise multi-threading, the overhead of testing was 0.009080 seconds.\n",
            "You can set `force_col_wise=true` to remove the overhead.\n",
            "[LightGBM] [Info] Total Bins 613\n",
            "[LightGBM] [Info] Number of data points in the train set: 56981, number of used features: 10\n",
            "[LightGBM] [Info] [binary:BoostFromScore]: pavg=0.500781 -> initscore=0.003124\n",
            "[LightGBM] [Info] Start training from score 0.003124\n",
            "[LightGBM] [Info] Number of positive: 28536, number of negative: 28446\n",
            "[LightGBM] [Info] Auto-choosing row-wise multi-threading, the overhead of testing was 0.005303 seconds.\n",
            "You can set `force_row_wise=true` to remove the overhead.\n",
            "And if memory is not enough, you can set `force_col_wise=true`.\n",
            "[LightGBM] [Info] Total Bins 613\n",
            "[LightGBM] [Info] Number of data points in the train set: 56982, number of used features: 10\n",
            "[LightGBM] [Info] [binary:BoostFromScore]: pavg=0.500790 -> initscore=0.003159\n",
            "[LightGBM] [Info] Start training from score 0.003159\n",
            "[LightGBM] [Info] Number of positive: 28535, number of negative: 28447\n",
            "[LightGBM] [Info] Auto-choosing row-wise multi-threading, the overhead of testing was 0.006422 seconds.\n",
            "You can set `force_row_wise=true` to remove the overhead.\n",
            "And if memory is not enough, you can set `force_col_wise=true`.\n",
            "[LightGBM] [Info] Total Bins 613\n",
            "[LightGBM] [Info] Number of data points in the train set: 56982, number of used features: 10\n",
            "[LightGBM] [Info] [binary:BoostFromScore]: pavg=0.500772 -> initscore=0.003089\n",
            "[LightGBM] [Info] Start training from score 0.003089\n",
            "[LightGBM] [Info] Number of positive: 28535, number of negative: 28447\n",
            "[LightGBM] [Info] Auto-choosing col-wise multi-threading, the overhead of testing was 0.009353 seconds.\n",
            "You can set `force_col_wise=true` to remove the overhead.\n",
            "[LightGBM] [Info] Total Bins 613\n",
            "[LightGBM] [Info] Number of data points in the train set: 56982, number of used features: 10\n",
            "[LightGBM] [Info] [binary:BoostFromScore]: pavg=0.500772 -> initscore=0.003089\n",
            "[LightGBM] [Info] Start training from score 0.003089\n",
            "[LightGBM] [Info] Number of positive: 28535, number of negative: 28446\n",
            "[LightGBM] [Info] Auto-choosing col-wise multi-threading, the overhead of testing was 0.009340 seconds.\n",
            "You can set `force_col_wise=true` to remove the overhead.\n",
            "[LightGBM] [Info] Total Bins 613\n",
            "[LightGBM] [Info] Number of data points in the train set: 56981, number of used features: 10\n",
            "[LightGBM] [Info] [binary:BoostFromScore]: pavg=0.500781 -> initscore=0.003124\n",
            "[LightGBM] [Info] Start training from score 0.003124\n",
            "[LightGBM] [Info] Number of positive: 28535, number of negative: 28446\n",
            "[LightGBM] [Info] Auto-choosing col-wise multi-threading, the overhead of testing was 0.009095 seconds.\n",
            "You can set `force_col_wise=true` to remove the overhead.\n",
            "[LightGBM] [Info] Total Bins 613\n",
            "[LightGBM] [Info] Number of data points in the train set: 56981, number of used features: 10\n",
            "[LightGBM] [Info] [binary:BoostFromScore]: pavg=0.500781 -> initscore=0.003124\n",
            "[LightGBM] [Info] Start training from score 0.003124\n",
            "[LightGBM] [Info] Number of positive: 28536, number of negative: 28446\n",
            "[LightGBM] [Info] Auto-choosing col-wise multi-threading, the overhead of testing was 0.009451 seconds.\n",
            "You can set `force_col_wise=true` to remove the overhead.\n",
            "[LightGBM] [Info] Total Bins 613\n",
            "[LightGBM] [Info] Number of data points in the train set: 56982, number of used features: 10\n",
            "[LightGBM] [Info] [binary:BoostFromScore]: pavg=0.500790 -> initscore=0.003159\n",
            "[LightGBM] [Info] Start training from score 0.003159\n",
            "[LightGBM] [Info] Number of positive: 28535, number of negative: 28447\n",
            "[LightGBM] [Info] Auto-choosing row-wise multi-threading, the overhead of testing was 0.006641 seconds.\n",
            "You can set `force_row_wise=true` to remove the overhead.\n",
            "And if memory is not enough, you can set `force_col_wise=true`.\n",
            "[LightGBM] [Info] Total Bins 613\n",
            "[LightGBM] [Info] Number of data points in the train set: 56982, number of used features: 10\n",
            "[LightGBM] [Info] [binary:BoostFromScore]: pavg=0.500772 -> initscore=0.003089\n",
            "[LightGBM] [Info] Start training from score 0.003089\n",
            "[LightGBM] [Info] Number of positive: 28535, number of negative: 28447\n",
            "[LightGBM] [Info] Auto-choosing row-wise multi-threading, the overhead of testing was 0.006246 seconds.\n",
            "You can set `force_row_wise=true` to remove the overhead.\n",
            "And if memory is not enough, you can set `force_col_wise=true`.\n",
            "[LightGBM] [Info] Total Bins 613\n",
            "[LightGBM] [Info] Number of data points in the train set: 56982, number of used features: 10\n",
            "[LightGBM] [Info] [binary:BoostFromScore]: pavg=0.500772 -> initscore=0.003089\n",
            "[LightGBM] [Info] Start training from score 0.003089\n",
            "[LightGBM] [Info] Number of positive: 28535, number of negative: 28446\n",
            "[LightGBM] [Info] Auto-choosing row-wise multi-threading, the overhead of testing was 0.006516 seconds.\n",
            "You can set `force_row_wise=true` to remove the overhead.\n",
            "And if memory is not enough, you can set `force_col_wise=true`.\n",
            "[LightGBM] [Info] Total Bins 613\n",
            "[LightGBM] [Info] Number of data points in the train set: 56981, number of used features: 10\n",
            "[LightGBM] [Info] [binary:BoostFromScore]: pavg=0.500781 -> initscore=0.003124\n",
            "[LightGBM] [Info] Start training from score 0.003124\n",
            "[LightGBM] [Info] Number of positive: 28535, number of negative: 28446\n",
            "[LightGBM] [Info] Auto-choosing row-wise multi-threading, the overhead of testing was 0.011637 seconds.\n",
            "You can set `force_row_wise=true` to remove the overhead.\n",
            "And if memory is not enough, you can set `force_col_wise=true`.\n",
            "[LightGBM] [Info] Total Bins 613\n",
            "[LightGBM] [Info] Number of data points in the train set: 56981, number of used features: 10\n",
            "[LightGBM] [Info] [binary:BoostFromScore]: pavg=0.500781 -> initscore=0.003124\n",
            "[LightGBM] [Info] Start training from score 0.003124\n",
            "[LightGBM] [Info] Number of positive: 28536, number of negative: 28446\n",
            "[LightGBM] [Info] Auto-choosing col-wise multi-threading, the overhead of testing was 0.017291 seconds.\n",
            "You can set `force_col_wise=true` to remove the overhead.\n",
            "[LightGBM] [Info] Total Bins 613\n",
            "[LightGBM] [Info] Number of data points in the train set: 56982, number of used features: 10\n",
            "[LightGBM] [Info] [binary:BoostFromScore]: pavg=0.500790 -> initscore=0.003159\n",
            "[LightGBM] [Info] Start training from score 0.003159\n",
            "[LightGBM] [Info] Number of positive: 28535, number of negative: 28447\n",
            "[LightGBM] [Info] Auto-choosing col-wise multi-threading, the overhead of testing was 0.009108 seconds.\n",
            "You can set `force_col_wise=true` to remove the overhead.\n",
            "[LightGBM] [Info] Total Bins 613\n",
            "[LightGBM] [Info] Number of data points in the train set: 56982, number of used features: 10\n",
            "[LightGBM] [Info] [binary:BoostFromScore]: pavg=0.500772 -> initscore=0.003089\n",
            "[LightGBM] [Info] Start training from score 0.003089\n",
            "[LightGBM] [Info] Number of positive: 28535, number of negative: 28447\n",
            "[LightGBM] [Info] Auto-choosing col-wise multi-threading, the overhead of testing was 0.009243 seconds.\n",
            "You can set `force_col_wise=true` to remove the overhead.\n",
            "[LightGBM] [Info] Total Bins 613\n",
            "[LightGBM] [Info] Number of data points in the train set: 56982, number of used features: 10\n",
            "[LightGBM] [Info] [binary:BoostFromScore]: pavg=0.500772 -> initscore=0.003089\n",
            "[LightGBM] [Info] Start training from score 0.003089\n",
            "[LightGBM] [Info] Number of positive: 28535, number of negative: 28446\n",
            "[LightGBM] [Info] Auto-choosing col-wise multi-threading, the overhead of testing was 0.009728 seconds.\n",
            "You can set `force_col_wise=true` to remove the overhead.\n",
            "[LightGBM] [Info] Total Bins 613\n",
            "[LightGBM] [Info] Number of data points in the train set: 56981, number of used features: 10\n",
            "[LightGBM] [Info] [binary:BoostFromScore]: pavg=0.500781 -> initscore=0.003124\n",
            "[LightGBM] [Info] Start training from score 0.003124\n",
            "[LightGBM] [Info] Number of positive: 28535, number of negative: 28446\n",
            "[LightGBM] [Info] Auto-choosing col-wise multi-threading, the overhead of testing was 0.009217 seconds.\n",
            "You can set `force_col_wise=true` to remove the overhead.\n",
            "[LightGBM] [Info] Total Bins 613\n",
            "[LightGBM] [Info] Number of data points in the train set: 56981, number of used features: 10\n",
            "[LightGBM] [Info] [binary:BoostFromScore]: pavg=0.500781 -> initscore=0.003124\n",
            "[LightGBM] [Info] Start training from score 0.003124\n",
            "[LightGBM] [Info] Number of positive: 28536, number of negative: 28446\n",
            "[LightGBM] [Info] Auto-choosing row-wise multi-threading, the overhead of testing was 0.005449 seconds.\n",
            "You can set `force_row_wise=true` to remove the overhead.\n",
            "And if memory is not enough, you can set `force_col_wise=true`.\n",
            "[LightGBM] [Info] Total Bins 613\n",
            "[LightGBM] [Info] Number of data points in the train set: 56982, number of used features: 10\n",
            "[LightGBM] [Info] [binary:BoostFromScore]: pavg=0.500790 -> initscore=0.003159\n",
            "[LightGBM] [Info] Start training from score 0.003159\n",
            "[LightGBM] [Info] Number of positive: 28535, number of negative: 28447\n",
            "[LightGBM] [Info] Auto-choosing row-wise multi-threading, the overhead of testing was 0.006388 seconds.\n",
            "You can set `force_row_wise=true` to remove the overhead.\n",
            "And if memory is not enough, you can set `force_col_wise=true`.\n",
            "[LightGBM] [Info] Total Bins 613\n",
            "[LightGBM] [Info] Number of data points in the train set: 56982, number of used features: 10\n",
            "[LightGBM] [Info] [binary:BoostFromScore]: pavg=0.500772 -> initscore=0.003089\n",
            "[LightGBM] [Info] Start training from score 0.003089\n",
            "[LightGBM] [Info] Number of positive: 28535, number of negative: 28447\n",
            "[LightGBM] [Info] Auto-choosing col-wise multi-threading, the overhead of testing was 0.008937 seconds.\n",
            "You can set `force_col_wise=true` to remove the overhead.\n",
            "[LightGBM] [Info] Total Bins 613\n",
            "[LightGBM] [Info] Number of data points in the train set: 56982, number of used features: 10\n",
            "[LightGBM] [Info] [binary:BoostFromScore]: pavg=0.500772 -> initscore=0.003089\n",
            "[LightGBM] [Info] Start training from score 0.003089\n",
            "[LightGBM] [Info] Number of positive: 28535, number of negative: 28446\n",
            "[LightGBM] [Info] Auto-choosing col-wise multi-threading, the overhead of testing was 0.009216 seconds.\n",
            "You can set `force_col_wise=true` to remove the overhead.\n",
            "[LightGBM] [Info] Total Bins 613\n",
            "[LightGBM] [Info] Number of data points in the train set: 56981, number of used features: 10\n",
            "[LightGBM] [Info] [binary:BoostFromScore]: pavg=0.500781 -> initscore=0.003124\n",
            "[LightGBM] [Info] Start training from score 0.003124\n",
            "[LightGBM] [Info] Number of positive: 28535, number of negative: 28446\n",
            "[LightGBM] [Info] Auto-choosing row-wise multi-threading, the overhead of testing was 0.006631 seconds.\n",
            "You can set `force_row_wise=true` to remove the overhead.\n",
            "And if memory is not enough, you can set `force_col_wise=true`.\n",
            "[LightGBM] [Info] Total Bins 613\n",
            "[LightGBM] [Info] Number of data points in the train set: 56981, number of used features: 10\n",
            "[LightGBM] [Info] [binary:BoostFromScore]: pavg=0.500781 -> initscore=0.003124\n",
            "[LightGBM] [Info] Start training from score 0.003124\n",
            "[LightGBM] [Info] Number of positive: 28536, number of negative: 28446\n",
            "[LightGBM] [Info] Auto-choosing row-wise multi-threading, the overhead of testing was 0.007516 seconds.\n",
            "You can set `force_row_wise=true` to remove the overhead.\n",
            "And if memory is not enough, you can set `force_col_wise=true`.\n",
            "[LightGBM] [Info] Total Bins 613\n",
            "[LightGBM] [Info] Number of data points in the train set: 56982, number of used features: 10\n",
            "[LightGBM] [Info] [binary:BoostFromScore]: pavg=0.500790 -> initscore=0.003159\n",
            "[LightGBM] [Info] Start training from score 0.003159\n",
            "[LightGBM] [Info] Number of positive: 28535, number of negative: 28447\n",
            "[LightGBM] [Info] Auto-choosing row-wise multi-threading, the overhead of testing was 0.008953 seconds.\n",
            "You can set `force_row_wise=true` to remove the overhead.\n",
            "And if memory is not enough, you can set `force_col_wise=true`.\n",
            "[LightGBM] [Info] Total Bins 613\n",
            "[LightGBM] [Info] Number of data points in the train set: 56982, number of used features: 10\n",
            "[LightGBM] [Info] [binary:BoostFromScore]: pavg=0.500772 -> initscore=0.003089\n",
            "[LightGBM] [Info] Start training from score 0.003089\n",
            "[LightGBM] [Info] Number of positive: 28535, number of negative: 28447\n",
            "[LightGBM] [Info] Auto-choosing row-wise multi-threading, the overhead of testing was 0.008917 seconds.\n",
            "You can set `force_row_wise=true` to remove the overhead.\n",
            "And if memory is not enough, you can set `force_col_wise=true`.\n",
            "[LightGBM] [Info] Total Bins 613\n",
            "[LightGBM] [Info] Number of data points in the train set: 56982, number of used features: 10\n",
            "[LightGBM] [Info] [binary:BoostFromScore]: pavg=0.500772 -> initscore=0.003089\n",
            "[LightGBM] [Info] Start training from score 0.003089\n",
            "[LightGBM] [Info] Number of positive: 28535, number of negative: 28446\n",
            "[LightGBM] [Info] Auto-choosing row-wise multi-threading, the overhead of testing was 0.008382 seconds.\n",
            "You can set `force_row_wise=true` to remove the overhead.\n",
            "And if memory is not enough, you can set `force_col_wise=true`.\n",
            "[LightGBM] [Info] Total Bins 613\n",
            "[LightGBM] [Info] Number of data points in the train set: 56981, number of used features: 10\n",
            "[LightGBM] [Info] [binary:BoostFromScore]: pavg=0.500781 -> initscore=0.003124\n",
            "[LightGBM] [Info] Start training from score 0.003124\n",
            "[LightGBM] [Info] Number of positive: 28535, number of negative: 28446\n",
            "[LightGBM] [Info] Auto-choosing col-wise multi-threading, the overhead of testing was 0.016901 seconds.\n",
            "You can set `force_col_wise=true` to remove the overhead.\n",
            "[LightGBM] [Info] Total Bins 613\n",
            "[LightGBM] [Info] Number of data points in the train set: 56981, number of used features: 10\n",
            "[LightGBM] [Info] [binary:BoostFromScore]: pavg=0.500781 -> initscore=0.003124\n",
            "[LightGBM] [Info] Start training from score 0.003124\n",
            "[LightGBM] [Info] Number of positive: 28536, number of negative: 28446\n",
            "[LightGBM] [Info] Auto-choosing row-wise multi-threading, the overhead of testing was 0.007774 seconds.\n",
            "You can set `force_row_wise=true` to remove the overhead.\n",
            "And if memory is not enough, you can set `force_col_wise=true`.\n",
            "[LightGBM] [Info] Total Bins 613\n",
            "[LightGBM] [Info] Number of data points in the train set: 56982, number of used features: 10\n",
            "[LightGBM] [Info] [binary:BoostFromScore]: pavg=0.500790 -> initscore=0.003159\n",
            "[LightGBM] [Info] Start training from score 0.003159\n",
            "[LightGBM] [Info] Number of positive: 28535, number of negative: 28447\n",
            "[LightGBM] [Info] Auto-choosing row-wise multi-threading, the overhead of testing was 0.006294 seconds.\n",
            "You can set `force_row_wise=true` to remove the overhead.\n",
            "And if memory is not enough, you can set `force_col_wise=true`.\n",
            "[LightGBM] [Info] Total Bins 613\n",
            "[LightGBM] [Info] Number of data points in the train set: 56982, number of used features: 10\n",
            "[LightGBM] [Info] [binary:BoostFromScore]: pavg=0.500772 -> initscore=0.003089\n",
            "[LightGBM] [Info] Start training from score 0.003089\n",
            "[LightGBM] [Info] Number of positive: 28535, number of negative: 28447\n",
            "[LightGBM] [Info] Auto-choosing row-wise multi-threading, the overhead of testing was 0.006477 seconds.\n",
            "You can set `force_row_wise=true` to remove the overhead.\n",
            "And if memory is not enough, you can set `force_col_wise=true`.\n",
            "[LightGBM] [Info] Total Bins 613\n",
            "[LightGBM] [Info] Number of data points in the train set: 56982, number of used features: 10\n",
            "[LightGBM] [Info] [binary:BoostFromScore]: pavg=0.500772 -> initscore=0.003089\n",
            "[LightGBM] [Info] Start training from score 0.003089\n",
            "[LightGBM] [Info] Number of positive: 28535, number of negative: 28446\n",
            "[LightGBM] [Info] Auto-choosing row-wise multi-threading, the overhead of testing was 0.006536 seconds.\n",
            "You can set `force_row_wise=true` to remove the overhead.\n",
            "And if memory is not enough, you can set `force_col_wise=true`.\n",
            "[LightGBM] [Info] Total Bins 613\n",
            "[LightGBM] [Info] Number of data points in the train set: 56981, number of used features: 10\n",
            "[LightGBM] [Info] [binary:BoostFromScore]: pavg=0.500781 -> initscore=0.003124\n",
            "[LightGBM] [Info] Start training from score 0.003124\n",
            "[LightGBM] [Info] Number of positive: 28535, number of negative: 28446\n",
            "[LightGBM] [Info] Auto-choosing row-wise multi-threading, the overhead of testing was 0.006319 seconds.\n",
            "You can set `force_row_wise=true` to remove the overhead.\n",
            "And if memory is not enough, you can set `force_col_wise=true`.\n",
            "[LightGBM] [Info] Total Bins 613\n",
            "[LightGBM] [Info] Number of data points in the train set: 56981, number of used features: 10\n",
            "[LightGBM] [Info] [binary:BoostFromScore]: pavg=0.500781 -> initscore=0.003124\n",
            "[LightGBM] [Info] Start training from score 0.003124\n",
            "[LightGBM] [Info] Number of positive: 28536, number of negative: 28446\n",
            "[LightGBM] [Info] Auto-choosing row-wise multi-threading, the overhead of testing was 0.005551 seconds.\n",
            "You can set `force_row_wise=true` to remove the overhead.\n",
            "And if memory is not enough, you can set `force_col_wise=true`.\n",
            "[LightGBM] [Info] Total Bins 613\n",
            "[LightGBM] [Info] Number of data points in the train set: 56982, number of used features: 10\n",
            "[LightGBM] [Info] [binary:BoostFromScore]: pavg=0.500790 -> initscore=0.003159\n",
            "[LightGBM] [Info] Start training from score 0.003159\n",
            "[LightGBM] [Info] Number of positive: 28535, number of negative: 28447\n",
            "[LightGBM] [Info] Auto-choosing col-wise multi-threading, the overhead of testing was 0.009242 seconds.\n",
            "You can set `force_col_wise=true` to remove the overhead.\n",
            "[LightGBM] [Info] Total Bins 613\n",
            "[LightGBM] [Info] Number of data points in the train set: 56982, number of used features: 10\n",
            "[LightGBM] [Info] [binary:BoostFromScore]: pavg=0.500772 -> initscore=0.003089\n",
            "[LightGBM] [Info] Start training from score 0.003089\n",
            "[LightGBM] [Info] Number of positive: 28535, number of negative: 28447\n",
            "[LightGBM] [Info] Auto-choosing col-wise multi-threading, the overhead of testing was 0.009598 seconds.\n",
            "You can set `force_col_wise=true` to remove the overhead.\n",
            "[LightGBM] [Info] Total Bins 613\n",
            "[LightGBM] [Info] Number of data points in the train set: 56982, number of used features: 10\n",
            "[LightGBM] [Info] [binary:BoostFromScore]: pavg=0.500772 -> initscore=0.003089\n",
            "[LightGBM] [Info] Start training from score 0.003089\n",
            "[LightGBM] [Info] Number of positive: 28535, number of negative: 28446\n",
            "[LightGBM] [Info] Auto-choosing row-wise multi-threading, the overhead of testing was 0.006347 seconds.\n",
            "You can set `force_row_wise=true` to remove the overhead.\n",
            "And if memory is not enough, you can set `force_col_wise=true`.\n",
            "[LightGBM] [Info] Total Bins 613\n",
            "[LightGBM] [Info] Number of data points in the train set: 56981, number of used features: 10\n",
            "[LightGBM] [Info] [binary:BoostFromScore]: pavg=0.500781 -> initscore=0.003124\n",
            "[LightGBM] [Info] Start training from score 0.003124\n",
            "[LightGBM] [Info] Number of positive: 28535, number of negative: 28446\n",
            "[LightGBM] [Info] Auto-choosing row-wise multi-threading, the overhead of testing was 0.006280 seconds.\n",
            "You can set `force_row_wise=true` to remove the overhead.\n",
            "And if memory is not enough, you can set `force_col_wise=true`.\n",
            "[LightGBM] [Info] Total Bins 613\n",
            "[LightGBM] [Info] Number of data points in the train set: 56981, number of used features: 10\n",
            "[LightGBM] [Info] [binary:BoostFromScore]: pavg=0.500781 -> initscore=0.003124\n",
            "[LightGBM] [Info] Start training from score 0.003124\n",
            "[LightGBM] [Info] Number of positive: 28536, number of negative: 28446\n",
            "[LightGBM] [Info] Auto-choosing row-wise multi-threading, the overhead of testing was 0.005477 seconds.\n",
            "You can set `force_row_wise=true` to remove the overhead.\n",
            "And if memory is not enough, you can set `force_col_wise=true`.\n",
            "[LightGBM] [Info] Total Bins 613\n",
            "[LightGBM] [Info] Number of data points in the train set: 56982, number of used features: 10\n",
            "[LightGBM] [Info] [binary:BoostFromScore]: pavg=0.500790 -> initscore=0.003159\n",
            "[LightGBM] [Info] Start training from score 0.003159\n",
            "[LightGBM] [Info] Number of positive: 28535, number of negative: 28447\n",
            "[LightGBM] [Info] Auto-choosing col-wise multi-threading, the overhead of testing was 0.009693 seconds.\n",
            "You can set `force_col_wise=true` to remove the overhead.\n",
            "[LightGBM] [Info] Total Bins 613\n",
            "[LightGBM] [Info] Number of data points in the train set: 56982, number of used features: 10\n",
            "[LightGBM] [Info] [binary:BoostFromScore]: pavg=0.500772 -> initscore=0.003089\n",
            "[LightGBM] [Info] Start training from score 0.003089\n",
            "[LightGBM] [Info] Number of positive: 28535, number of negative: 28447\n",
            "[LightGBM] [Info] Auto-choosing col-wise multi-threading, the overhead of testing was 0.009303 seconds.\n",
            "You can set `force_col_wise=true` to remove the overhead.\n",
            "[LightGBM] [Info] Total Bins 613\n",
            "[LightGBM] [Info] Number of data points in the train set: 56982, number of used features: 10\n",
            "[LightGBM] [Info] [binary:BoostFromScore]: pavg=0.500772 -> initscore=0.003089\n",
            "[LightGBM] [Info] Start training from score 0.003089\n",
            "[LightGBM] [Info] Number of positive: 28535, number of negative: 28446\n",
            "[LightGBM] [Info] Auto-choosing row-wise multi-threading, the overhead of testing was 0.006277 seconds.\n",
            "You can set `force_row_wise=true` to remove the overhead.\n",
            "And if memory is not enough, you can set `force_col_wise=true`.\n",
            "[LightGBM] [Info] Total Bins 613\n",
            "[LightGBM] [Info] Number of data points in the train set: 56981, number of used features: 10\n",
            "[LightGBM] [Info] [binary:BoostFromScore]: pavg=0.500781 -> initscore=0.003124\n",
            "[LightGBM] [Info] Start training from score 0.003124\n",
            "[LightGBM] [Info] Number of positive: 28535, number of negative: 28446\n",
            "[LightGBM] [Info] Auto-choosing row-wise multi-threading, the overhead of testing was 0.008694 seconds.\n",
            "You can set `force_row_wise=true` to remove the overhead.\n",
            "And if memory is not enough, you can set `force_col_wise=true`.\n",
            "[LightGBM] [Info] Total Bins 613\n",
            "[LightGBM] [Info] Number of data points in the train set: 56981, number of used features: 10\n",
            "[LightGBM] [Info] [binary:BoostFromScore]: pavg=0.500781 -> initscore=0.003124\n",
            "[LightGBM] [Info] Start training from score 0.003124\n",
            "[LightGBM] [Info] Number of positive: 28536, number of negative: 28446\n",
            "[LightGBM] [Info] Auto-choosing row-wise multi-threading, the overhead of testing was 0.007716 seconds.\n",
            "You can set `force_row_wise=true` to remove the overhead.\n",
            "And if memory is not enough, you can set `force_col_wise=true`.\n",
            "[LightGBM] [Info] Total Bins 613\n",
            "[LightGBM] [Info] Number of data points in the train set: 56982, number of used features: 10\n",
            "[LightGBM] [Info] [binary:BoostFromScore]: pavg=0.500790 -> initscore=0.003159\n",
            "[LightGBM] [Info] Start training from score 0.003159\n",
            "[LightGBM] [Info] Number of positive: 28535, number of negative: 28447\n",
            "[LightGBM] [Info] Auto-choosing row-wise multi-threading, the overhead of testing was 0.006199 seconds.\n",
            "You can set `force_row_wise=true` to remove the overhead.\n",
            "And if memory is not enough, you can set `force_col_wise=true`.\n",
            "[LightGBM] [Info] Total Bins 613\n",
            "[LightGBM] [Info] Number of data points in the train set: 56982, number of used features: 10\n",
            "[LightGBM] [Info] [binary:BoostFromScore]: pavg=0.500772 -> initscore=0.003089\n",
            "[LightGBM] [Info] Start training from score 0.003089\n",
            "[LightGBM] [Info] Number of positive: 28535, number of negative: 28447\n",
            "[LightGBM] [Info] Auto-choosing row-wise multi-threading, the overhead of testing was 0.006283 seconds.\n",
            "You can set `force_row_wise=true` to remove the overhead.\n",
            "And if memory is not enough, you can set `force_col_wise=true`.\n",
            "[LightGBM] [Info] Total Bins 613\n",
            "[LightGBM] [Info] Number of data points in the train set: 56982, number of used features: 10\n",
            "[LightGBM] [Info] [binary:BoostFromScore]: pavg=0.500772 -> initscore=0.003089\n",
            "[LightGBM] [Info] Start training from score 0.003089\n",
            "[LightGBM] [Info] Number of positive: 28535, number of negative: 28446\n",
            "[LightGBM] [Info] Auto-choosing col-wise multi-threading, the overhead of testing was 0.009439 seconds.\n",
            "You can set `force_col_wise=true` to remove the overhead.\n",
            "[LightGBM] [Info] Total Bins 613\n",
            "[LightGBM] [Info] Number of data points in the train set: 56981, number of used features: 10\n",
            "[LightGBM] [Info] [binary:BoostFromScore]: pavg=0.500781 -> initscore=0.003124\n",
            "[LightGBM] [Info] Start training from score 0.003124\n",
            "[LightGBM] [Info] Number of positive: 28535, number of negative: 28446\n",
            "[LightGBM] [Info] Auto-choosing row-wise multi-threading, the overhead of testing was 0.008756 seconds.\n",
            "You can set `force_row_wise=true` to remove the overhead.\n",
            "And if memory is not enough, you can set `force_col_wise=true`.\n",
            "[LightGBM] [Info] Total Bins 613\n",
            "[LightGBM] [Info] Number of data points in the train set: 56981, number of used features: 10\n",
            "[LightGBM] [Info] [binary:BoostFromScore]: pavg=0.500781 -> initscore=0.003124\n",
            "[LightGBM] [Info] Start training from score 0.003124\n",
            "[LightGBM] [Info] Number of positive: 28536, number of negative: 28446\n",
            "[LightGBM] [Info] Auto-choosing row-wise multi-threading, the overhead of testing was 0.005320 seconds.\n",
            "You can set `force_row_wise=true` to remove the overhead.\n",
            "And if memory is not enough, you can set `force_col_wise=true`.\n",
            "[LightGBM] [Info] Total Bins 613\n",
            "[LightGBM] [Info] Number of data points in the train set: 56982, number of used features: 10\n",
            "[LightGBM] [Info] [binary:BoostFromScore]: pavg=0.500790 -> initscore=0.003159\n",
            "[LightGBM] [Info] Start training from score 0.003159\n",
            "[LightGBM] [Info] Number of positive: 28535, number of negative: 28447\n",
            "[LightGBM] [Info] Auto-choosing col-wise multi-threading, the overhead of testing was 0.009011 seconds.\n",
            "You can set `force_col_wise=true` to remove the overhead.\n",
            "[LightGBM] [Info] Total Bins 613\n",
            "[LightGBM] [Info] Number of data points in the train set: 56982, number of used features: 10\n",
            "[LightGBM] [Info] [binary:BoostFromScore]: pavg=0.500772 -> initscore=0.003089\n",
            "[LightGBM] [Info] Start training from score 0.003089\n",
            "[LightGBM] [Info] Number of positive: 28535, number of negative: 28447\n",
            "[LightGBM] [Info] Auto-choosing row-wise multi-threading, the overhead of testing was 0.006383 seconds.\n",
            "You can set `force_row_wise=true` to remove the overhead.\n",
            "And if memory is not enough, you can set `force_col_wise=true`.\n",
            "[LightGBM] [Info] Total Bins 613\n",
            "[LightGBM] [Info] Number of data points in the train set: 56982, number of used features: 10\n",
            "[LightGBM] [Info] [binary:BoostFromScore]: pavg=0.500772 -> initscore=0.003089\n",
            "[LightGBM] [Info] Start training from score 0.003089\n",
            "[LightGBM] [Info] Number of positive: 28535, number of negative: 28446\n",
            "[LightGBM] [Info] Auto-choosing row-wise multi-threading, the overhead of testing was 0.006188 seconds.\n",
            "You can set `force_row_wise=true` to remove the overhead.\n",
            "And if memory is not enough, you can set `force_col_wise=true`.\n",
            "[LightGBM] [Info] Total Bins 613\n",
            "[LightGBM] [Info] Number of data points in the train set: 56981, number of used features: 10\n",
            "[LightGBM] [Info] [binary:BoostFromScore]: pavg=0.500781 -> initscore=0.003124\n",
            "[LightGBM] [Info] Start training from score 0.003124\n",
            "[LightGBM] [Info] Number of positive: 28535, number of negative: 28446\n",
            "[LightGBM] [Info] Auto-choosing row-wise multi-threading, the overhead of testing was 0.006527 seconds.\n",
            "You can set `force_row_wise=true` to remove the overhead.\n",
            "And if memory is not enough, you can set `force_col_wise=true`.\n",
            "[LightGBM] [Info] Total Bins 613\n",
            "[LightGBM] [Info] Number of data points in the train set: 56981, number of used features: 10\n",
            "[LightGBM] [Info] [binary:BoostFromScore]: pavg=0.500781 -> initscore=0.003124\n",
            "[LightGBM] [Info] Start training from score 0.003124\n",
            "[LightGBM] [Info] Number of positive: 28536, number of negative: 28446\n",
            "[LightGBM] [Info] Auto-choosing row-wise multi-threading, the overhead of testing was 0.007274 seconds.\n",
            "You can set `force_row_wise=true` to remove the overhead.\n",
            "And if memory is not enough, you can set `force_col_wise=true`.\n",
            "[LightGBM] [Info] Total Bins 613\n",
            "[LightGBM] [Info] Number of data points in the train set: 56982, number of used features: 10\n",
            "[LightGBM] [Info] [binary:BoostFromScore]: pavg=0.500790 -> initscore=0.003159\n",
            "[LightGBM] [Info] Start training from score 0.003159\n",
            "[LightGBM] [Info] Number of positive: 28535, number of negative: 28447\n",
            "[LightGBM] [Info] Auto-choosing row-wise multi-threading, the overhead of testing was 0.008829 seconds.\n",
            "You can set `force_row_wise=true` to remove the overhead.\n",
            "And if memory is not enough, you can set `force_col_wise=true`.\n",
            "[LightGBM] [Info] Total Bins 613\n",
            "[LightGBM] [Info] Number of data points in the train set: 56982, number of used features: 10\n",
            "[LightGBM] [Info] [binary:BoostFromScore]: pavg=0.500772 -> initscore=0.003089\n",
            "[LightGBM] [Info] Start training from score 0.003089\n",
            "[LightGBM] [Info] Number of positive: 28535, number of negative: 28447\n",
            "[LightGBM] [Info] Auto-choosing row-wise multi-threading, the overhead of testing was 0.009040 seconds.\n",
            "You can set `force_row_wise=true` to remove the overhead.\n",
            "And if memory is not enough, you can set `force_col_wise=true`.\n",
            "[LightGBM] [Info] Total Bins 613\n",
            "[LightGBM] [Info] Number of data points in the train set: 56982, number of used features: 10\n",
            "[LightGBM] [Info] [binary:BoostFromScore]: pavg=0.500772 -> initscore=0.003089\n",
            "[LightGBM] [Info] Start training from score 0.003089\n",
            "[LightGBM] [Info] Number of positive: 28535, number of negative: 28446\n",
            "[LightGBM] [Info] Auto-choosing row-wise multi-threading, the overhead of testing was 0.008640 seconds.\n",
            "You can set `force_row_wise=true` to remove the overhead.\n",
            "And if memory is not enough, you can set `force_col_wise=true`.\n",
            "[LightGBM] [Info] Total Bins 613\n",
            "[LightGBM] [Info] Number of data points in the train set: 56981, number of used features: 10\n",
            "[LightGBM] [Info] [binary:BoostFromScore]: pavg=0.500781 -> initscore=0.003124\n",
            "[LightGBM] [Info] Start training from score 0.003124\n",
            "[LightGBM] [Info] Number of positive: 28535, number of negative: 28446\n",
            "[LightGBM] [Info] Auto-choosing col-wise multi-threading, the overhead of testing was 0.016744 seconds.\n",
            "You can set `force_col_wise=true` to remove the overhead.\n",
            "[LightGBM] [Info] Total Bins 613\n",
            "[LightGBM] [Info] Number of data points in the train set: 56981, number of used features: 10\n",
            "[LightGBM] [Info] [binary:BoostFromScore]: pavg=0.500781 -> initscore=0.003124\n",
            "[LightGBM] [Info] Start training from score 0.003124\n",
            "[LightGBM] [Info] Number of positive: 28536, number of negative: 28446\n",
            "[LightGBM] [Info] Auto-choosing row-wise multi-threading, the overhead of testing was 0.007729 seconds.\n",
            "You can set `force_row_wise=true` to remove the overhead.\n",
            "And if memory is not enough, you can set `force_col_wise=true`.\n",
            "[LightGBM] [Info] Total Bins 613\n",
            "[LightGBM] [Info] Number of data points in the train set: 56982, number of used features: 10\n",
            "[LightGBM] [Info] [binary:BoostFromScore]: pavg=0.500790 -> initscore=0.003159\n",
            "[LightGBM] [Info] Start training from score 0.003159\n",
            "[LightGBM] [Info] Number of positive: 28535, number of negative: 28447\n",
            "[LightGBM] [Info] Auto-choosing row-wise multi-threading, the overhead of testing was 0.008286 seconds.\n",
            "You can set `force_row_wise=true` to remove the overhead.\n",
            "And if memory is not enough, you can set `force_col_wise=true`.\n",
            "[LightGBM] [Info] Total Bins 613\n",
            "[LightGBM] [Info] Number of data points in the train set: 56982, number of used features: 10\n",
            "[LightGBM] [Info] [binary:BoostFromScore]: pavg=0.500772 -> initscore=0.003089\n",
            "[LightGBM] [Info] Start training from score 0.003089\n",
            "[LightGBM] [Info] Number of positive: 28535, number of negative: 28447\n",
            "[LightGBM] [Info] Auto-choosing col-wise multi-threading, the overhead of testing was 0.009029 seconds.\n",
            "You can set `force_col_wise=true` to remove the overhead.\n",
            "[LightGBM] [Info] Total Bins 613\n",
            "[LightGBM] [Info] Number of data points in the train set: 56982, number of used features: 10\n",
            "[LightGBM] [Info] [binary:BoostFromScore]: pavg=0.500772 -> initscore=0.003089\n",
            "[LightGBM] [Info] Start training from score 0.003089\n",
            "[LightGBM] [Info] Number of positive: 28535, number of negative: 28446\n",
            "[LightGBM] [Info] Auto-choosing row-wise multi-threading, the overhead of testing was 0.006204 seconds.\n",
            "You can set `force_row_wise=true` to remove the overhead.\n",
            "And if memory is not enough, you can set `force_col_wise=true`.\n",
            "[LightGBM] [Info] Total Bins 613\n",
            "[LightGBM] [Info] Number of data points in the train set: 56981, number of used features: 10\n",
            "[LightGBM] [Info] [binary:BoostFromScore]: pavg=0.500781 -> initscore=0.003124\n",
            "[LightGBM] [Info] Start training from score 0.003124\n",
            "[LightGBM] [Info] Number of positive: 28535, number of negative: 28446\n",
            "[LightGBM] [Info] Auto-choosing row-wise multi-threading, the overhead of testing was 0.006329 seconds.\n",
            "You can set `force_row_wise=true` to remove the overhead.\n",
            "And if memory is not enough, you can set `force_col_wise=true`.\n",
            "[LightGBM] [Info] Total Bins 613\n",
            "[LightGBM] [Info] Number of data points in the train set: 56981, number of used features: 10\n",
            "[LightGBM] [Info] [binary:BoostFromScore]: pavg=0.500781 -> initscore=0.003124\n",
            "[LightGBM] [Info] Start training from score 0.003124\n",
            "[LightGBM] [Info] Number of positive: 28536, number of negative: 28446\n",
            "[LightGBM] [Info] Auto-choosing col-wise multi-threading, the overhead of testing was 0.009822 seconds.\n",
            "You can set `force_col_wise=true` to remove the overhead.\n",
            "[LightGBM] [Info] Total Bins 613\n",
            "[LightGBM] [Info] Number of data points in the train set: 56982, number of used features: 10\n",
            "[LightGBM] [Info] [binary:BoostFromScore]: pavg=0.500790 -> initscore=0.003159\n",
            "[LightGBM] [Info] Start training from score 0.003159\n",
            "[LightGBM] [Info] Number of positive: 28535, number of negative: 28447\n",
            "[LightGBM] [Info] Auto-choosing row-wise multi-threading, the overhead of testing was 0.006489 seconds.\n",
            "You can set `force_row_wise=true` to remove the overhead.\n",
            "And if memory is not enough, you can set `force_col_wise=true`.\n",
            "[LightGBM] [Info] Total Bins 613\n",
            "[LightGBM] [Info] Number of data points in the train set: 56982, number of used features: 10\n",
            "[LightGBM] [Info] [binary:BoostFromScore]: pavg=0.500772 -> initscore=0.003089\n",
            "[LightGBM] [Info] Start training from score 0.003089\n",
            "[LightGBM] [Info] Number of positive: 28535, number of negative: 28447\n",
            "[LightGBM] [Info] Auto-choosing row-wise multi-threading, the overhead of testing was 0.006192 seconds.\n",
            "You can set `force_row_wise=true` to remove the overhead.\n",
            "And if memory is not enough, you can set `force_col_wise=true`.\n",
            "[LightGBM] [Info] Total Bins 613\n",
            "[LightGBM] [Info] Number of data points in the train set: 56982, number of used features: 10\n",
            "[LightGBM] [Info] [binary:BoostFromScore]: pavg=0.500772 -> initscore=0.003089\n",
            "[LightGBM] [Info] Start training from score 0.003089\n",
            "[LightGBM] [Info] Number of positive: 28535, number of negative: 28446\n",
            "[LightGBM] [Info] Auto-choosing row-wise multi-threading, the overhead of testing was 0.006327 seconds.\n",
            "You can set `force_row_wise=true` to remove the overhead.\n",
            "And if memory is not enough, you can set `force_col_wise=true`.\n",
            "[LightGBM] [Info] Total Bins 613\n",
            "[LightGBM] [Info] Number of data points in the train set: 56981, number of used features: 10\n",
            "[LightGBM] [Info] [binary:BoostFromScore]: pavg=0.500781 -> initscore=0.003124\n",
            "[LightGBM] [Info] Start training from score 0.003124\n",
            "[LightGBM] [Info] Number of positive: 28535, number of negative: 28446\n",
            "[LightGBM] [Info] Auto-choosing row-wise multi-threading, the overhead of testing was 0.006272 seconds.\n",
            "You can set `force_row_wise=true` to remove the overhead.\n",
            "And if memory is not enough, you can set `force_col_wise=true`.\n",
            "[LightGBM] [Info] Total Bins 613\n",
            "[LightGBM] [Info] Number of data points in the train set: 56981, number of used features: 10\n",
            "[LightGBM] [Info] [binary:BoostFromScore]: pavg=0.500781 -> initscore=0.003124\n",
            "[LightGBM] [Info] Start training from score 0.003124\n",
            "[LightGBM] [Info] Number of positive: 28536, number of negative: 28446\n",
            "[LightGBM] [Info] Auto-choosing row-wise multi-threading, the overhead of testing was 0.005328 seconds.\n",
            "You can set `force_row_wise=true` to remove the overhead.\n",
            "And if memory is not enough, you can set `force_col_wise=true`.\n",
            "[LightGBM] [Info] Total Bins 613\n",
            "[LightGBM] [Info] Number of data points in the train set: 56982, number of used features: 10\n",
            "[LightGBM] [Info] [binary:BoostFromScore]: pavg=0.500790 -> initscore=0.003159\n",
            "[LightGBM] [Info] Start training from score 0.003159\n",
            "[LightGBM] [Info] Number of positive: 28535, number of negative: 28447\n",
            "[LightGBM] [Info] Auto-choosing row-wise multi-threading, the overhead of testing was 0.006258 seconds.\n",
            "You can set `force_row_wise=true` to remove the overhead.\n",
            "And if memory is not enough, you can set `force_col_wise=true`.\n",
            "[LightGBM] [Info] Total Bins 613\n",
            "[LightGBM] [Info] Number of data points in the train set: 56982, number of used features: 10\n",
            "[LightGBM] [Info] [binary:BoostFromScore]: pavg=0.500772 -> initscore=0.003089\n",
            "[LightGBM] [Info] Start training from score 0.003089\n",
            "[LightGBM] [Info] Number of positive: 28535, number of negative: 28447\n",
            "[LightGBM] [Info] Auto-choosing row-wise multi-threading, the overhead of testing was 0.006325 seconds.\n",
            "You can set `force_row_wise=true` to remove the overhead.\n",
            "And if memory is not enough, you can set `force_col_wise=true`.\n",
            "[LightGBM] [Info] Total Bins 613\n",
            "[LightGBM] [Info] Number of data points in the train set: 56982, number of used features: 10\n",
            "[LightGBM] [Info] [binary:BoostFromScore]: pavg=0.500772 -> initscore=0.003089\n",
            "[LightGBM] [Info] Start training from score 0.003089\n",
            "[LightGBM] [Info] Number of positive: 28535, number of negative: 28446\n",
            "[LightGBM] [Info] Auto-choosing row-wise multi-threading, the overhead of testing was 0.006187 seconds.\n",
            "You can set `force_row_wise=true` to remove the overhead.\n",
            "And if memory is not enough, you can set `force_col_wise=true`.\n",
            "[LightGBM] [Info] Total Bins 613\n",
            "[LightGBM] [Info] Number of data points in the train set: 56981, number of used features: 10\n",
            "[LightGBM] [Info] [binary:BoostFromScore]: pavg=0.500781 -> initscore=0.003124\n",
            "[LightGBM] [Info] Start training from score 0.003124\n",
            "[LightGBM] [Info] Number of positive: 28535, number of negative: 28446\n",
            "[LightGBM] [Info] Auto-choosing row-wise multi-threading, the overhead of testing was 0.006159 seconds.\n",
            "You can set `force_row_wise=true` to remove the overhead.\n",
            "And if memory is not enough, you can set `force_col_wise=true`.\n",
            "[LightGBM] [Info] Total Bins 613\n",
            "[LightGBM] [Info] Number of data points in the train set: 56981, number of used features: 10\n",
            "[LightGBM] [Info] [binary:BoostFromScore]: pavg=0.500781 -> initscore=0.003124\n",
            "[LightGBM] [Info] Start training from score 0.003124\n",
            "[LightGBM] [Info] Number of positive: 28536, number of negative: 28446\n",
            "[LightGBM] [Info] Auto-choosing row-wise multi-threading, the overhead of testing was 0.007947 seconds.\n",
            "You can set `force_row_wise=true` to remove the overhead.\n",
            "And if memory is not enough, you can set `force_col_wise=true`.\n",
            "[LightGBM] [Info] Total Bins 613\n",
            "[LightGBM] [Info] Number of data points in the train set: 56982, number of used features: 10\n",
            "[LightGBM] [Info] [binary:BoostFromScore]: pavg=0.500790 -> initscore=0.003159\n",
            "[LightGBM] [Info] Start training from score 0.003159\n",
            "[LightGBM] [Info] Number of positive: 28535, number of negative: 28447\n",
            "[LightGBM] [Info] Auto-choosing row-wise multi-threading, the overhead of testing was 0.009539 seconds.\n",
            "You can set `force_row_wise=true` to remove the overhead.\n",
            "And if memory is not enough, you can set `force_col_wise=true`.\n",
            "[LightGBM] [Info] Total Bins 613\n",
            "[LightGBM] [Info] Number of data points in the train set: 56982, number of used features: 10\n",
            "[LightGBM] [Info] [binary:BoostFromScore]: pavg=0.500772 -> initscore=0.003089\n",
            "[LightGBM] [Info] Start training from score 0.003089\n",
            "[LightGBM] [Info] Number of positive: 28535, number of negative: 28447\n",
            "[LightGBM] [Info] Auto-choosing col-wise multi-threading, the overhead of testing was 0.009055 seconds.\n",
            "You can set `force_col_wise=true` to remove the overhead.\n",
            "[LightGBM] [Info] Total Bins 613\n",
            "[LightGBM] [Info] Number of data points in the train set: 56982, number of used features: 10\n",
            "[LightGBM] [Info] [binary:BoostFromScore]: pavg=0.500772 -> initscore=0.003089\n",
            "[LightGBM] [Info] Start training from score 0.003089\n",
            "[LightGBM] [Info] Number of positive: 28535, number of negative: 28446\n",
            "[LightGBM] [Info] Auto-choosing row-wise multi-threading, the overhead of testing was 0.007606 seconds.\n",
            "You can set `force_row_wise=true` to remove the overhead.\n",
            "And if memory is not enough, you can set `force_col_wise=true`.\n",
            "[LightGBM] [Info] Total Bins 613\n",
            "[LightGBM] [Info] Number of data points in the train set: 56981, number of used features: 10\n",
            "[LightGBM] [Info] [binary:BoostFromScore]: pavg=0.500781 -> initscore=0.003124\n",
            "[LightGBM] [Info] Start training from score 0.003124\n",
            "[LightGBM] [Info] Number of positive: 28535, number of negative: 28446\n",
            "[LightGBM] [Info] Auto-choosing row-wise multi-threading, the overhead of testing was 0.006380 seconds.\n",
            "You can set `force_row_wise=true` to remove the overhead.\n",
            "And if memory is not enough, you can set `force_col_wise=true`.\n",
            "[LightGBM] [Info] Total Bins 613\n",
            "[LightGBM] [Info] Number of data points in the train set: 56981, number of used features: 10\n",
            "[LightGBM] [Info] [binary:BoostFromScore]: pavg=0.500781 -> initscore=0.003124\n",
            "[LightGBM] [Info] Start training from score 0.003124\n",
            "[LightGBM] [Info] Number of positive: 28536, number of negative: 28446\n",
            "[LightGBM] [Info] Auto-choosing row-wise multi-threading, the overhead of testing was 0.005794 seconds.\n",
            "You can set `force_row_wise=true` to remove the overhead.\n",
            "And if memory is not enough, you can set `force_col_wise=true`.\n",
            "[LightGBM] [Info] Total Bins 613\n",
            "[LightGBM] [Info] Number of data points in the train set: 56982, number of used features: 10\n",
            "[LightGBM] [Info] [binary:BoostFromScore]: pavg=0.500790 -> initscore=0.003159\n",
            "[LightGBM] [Info] Start training from score 0.003159\n",
            "[LightGBM] [Info] Number of positive: 28535, number of negative: 28447\n",
            "[LightGBM] [Info] Auto-choosing row-wise multi-threading, the overhead of testing was 0.006218 seconds.\n",
            "You can set `force_row_wise=true` to remove the overhead.\n",
            "And if memory is not enough, you can set `force_col_wise=true`.\n",
            "[LightGBM] [Info] Total Bins 613\n",
            "[LightGBM] [Info] Number of data points in the train set: 56982, number of used features: 10\n",
            "[LightGBM] [Info] [binary:BoostFromScore]: pavg=0.500772 -> initscore=0.003089\n",
            "[LightGBM] [Info] Start training from score 0.003089\n",
            "[LightGBM] [Info] Number of positive: 28535, number of negative: 28447\n",
            "[LightGBM] [Info] Auto-choosing col-wise multi-threading, the overhead of testing was 0.009055 seconds.\n",
            "You can set `force_col_wise=true` to remove the overhead.\n",
            "[LightGBM] [Info] Total Bins 613\n",
            "[LightGBM] [Info] Number of data points in the train set: 56982, number of used features: 10\n",
            "[LightGBM] [Info] [binary:BoostFromScore]: pavg=0.500772 -> initscore=0.003089\n",
            "[LightGBM] [Info] Start training from score 0.003089\n",
            "[LightGBM] [Info] Number of positive: 28535, number of negative: 28446\n",
            "[LightGBM] [Info] Auto-choosing row-wise multi-threading, the overhead of testing was 0.006166 seconds.\n",
            "You can set `force_row_wise=true` to remove the overhead.\n",
            "And if memory is not enough, you can set `force_col_wise=true`.\n",
            "[LightGBM] [Info] Total Bins 613\n",
            "[LightGBM] [Info] Number of data points in the train set: 56981, number of used features: 10\n",
            "[LightGBM] [Info] [binary:BoostFromScore]: pavg=0.500781 -> initscore=0.003124\n",
            "[LightGBM] [Info] Start training from score 0.003124\n",
            "[LightGBM] [Info] Number of positive: 28535, number of negative: 28446\n",
            "[LightGBM] [Info] Auto-choosing row-wise multi-threading, the overhead of testing was 0.006330 seconds.\n",
            "You can set `force_row_wise=true` to remove the overhead.\n",
            "And if memory is not enough, you can set `force_col_wise=true`.\n",
            "[LightGBM] [Info] Total Bins 613\n",
            "[LightGBM] [Info] Number of data points in the train set: 56981, number of used features: 10\n",
            "[LightGBM] [Info] [binary:BoostFromScore]: pavg=0.500781 -> initscore=0.003124\n",
            "[LightGBM] [Info] Start training from score 0.003124\n",
            "[LightGBM] [Info] Number of positive: 28536, number of negative: 28446\n",
            "[LightGBM] [Info] Auto-choosing col-wise multi-threading, the overhead of testing was 0.009373 seconds.\n",
            "You can set `force_col_wise=true` to remove the overhead.\n",
            "[LightGBM] [Info] Total Bins 613\n",
            "[LightGBM] [Info] Number of data points in the train set: 56982, number of used features: 10\n",
            "[LightGBM] [Info] [binary:BoostFromScore]: pavg=0.500790 -> initscore=0.003159\n",
            "[LightGBM] [Info] Start training from score 0.003159\n",
            "[LightGBM] [Info] Number of positive: 28535, number of negative: 28447\n",
            "[LightGBM] [Info] Auto-choosing row-wise multi-threading, the overhead of testing was 0.006188 seconds.\n",
            "You can set `force_row_wise=true` to remove the overhead.\n",
            "And if memory is not enough, you can set `force_col_wise=true`.\n",
            "[LightGBM] [Info] Total Bins 613\n",
            "[LightGBM] [Info] Number of data points in the train set: 56982, number of used features: 10\n",
            "[LightGBM] [Info] [binary:BoostFromScore]: pavg=0.500772 -> initscore=0.003089\n",
            "[LightGBM] [Info] Start training from score 0.003089\n",
            "[LightGBM] [Info] Number of positive: 28535, number of negative: 28447\n",
            "[LightGBM] [Info] Auto-choosing col-wise multi-threading, the overhead of testing was 0.009643 seconds.\n",
            "You can set `force_col_wise=true` to remove the overhead.\n",
            "[LightGBM] [Info] Total Bins 613\n",
            "[LightGBM] [Info] Number of data points in the train set: 56982, number of used features: 10\n",
            "[LightGBM] [Info] [binary:BoostFromScore]: pavg=0.500772 -> initscore=0.003089\n",
            "[LightGBM] [Info] Start training from score 0.003089\n",
            "[LightGBM] [Info] Number of positive: 28535, number of negative: 28446\n",
            "[LightGBM] [Info] Auto-choosing row-wise multi-threading, the overhead of testing was 0.006721 seconds.\n",
            "You can set `force_row_wise=true` to remove the overhead.\n",
            "And if memory is not enough, you can set `force_col_wise=true`.\n",
            "[LightGBM] [Info] Total Bins 613\n",
            "[LightGBM] [Info] Number of data points in the train set: 56981, number of used features: 10\n",
            "[LightGBM] [Info] [binary:BoostFromScore]: pavg=0.500781 -> initscore=0.003124\n",
            "[LightGBM] [Info] Start training from score 0.003124\n",
            "[LightGBM] [Info] Number of positive: 28535, number of negative: 28446\n",
            "[LightGBM] [Info] Auto-choosing row-wise multi-threading, the overhead of testing was 0.006647 seconds.\n",
            "You can set `force_row_wise=true` to remove the overhead.\n",
            "And if memory is not enough, you can set `force_col_wise=true`.\n",
            "[LightGBM] [Info] Total Bins 613\n",
            "[LightGBM] [Info] Number of data points in the train set: 56981, number of used features: 10\n",
            "[LightGBM] [Info] [binary:BoostFromScore]: pavg=0.500781 -> initscore=0.003124\n",
            "[LightGBM] [Info] Start training from score 0.003124\n",
            "[LightGBM] [Info] Number of positive: 28536, number of negative: 28446\n",
            "[LightGBM] [Info] Auto-choosing row-wise multi-threading, the overhead of testing was 0.006425 seconds.\n",
            "You can set `force_row_wise=true` to remove the overhead.\n",
            "And if memory is not enough, you can set `force_col_wise=true`.\n",
            "[LightGBM] [Info] Total Bins 613\n",
            "[LightGBM] [Info] Number of data points in the train set: 56982, number of used features: 10\n",
            "[LightGBM] [Info] [binary:BoostFromScore]: pavg=0.500790 -> initscore=0.003159\n",
            "[LightGBM] [Info] Start training from score 0.003159\n",
            "[LightGBM] [Info] Number of positive: 28535, number of negative: 28447\n",
            "[LightGBM] [Info] Auto-choosing col-wise multi-threading, the overhead of testing was 0.009968 seconds.\n",
            "You can set `force_col_wise=true` to remove the overhead.\n",
            "[LightGBM] [Info] Total Bins 613\n",
            "[LightGBM] [Info] Number of data points in the train set: 56982, number of used features: 10\n",
            "[LightGBM] [Info] [binary:BoostFromScore]: pavg=0.500772 -> initscore=0.003089\n",
            "[LightGBM] [Info] Start training from score 0.003089\n",
            "[LightGBM] [Info] Number of positive: 28535, number of negative: 28447\n",
            "[LightGBM] [Info] Auto-choosing row-wise multi-threading, the overhead of testing was 0.008177 seconds.\n",
            "You can set `force_row_wise=true` to remove the overhead.\n",
            "And if memory is not enough, you can set `force_col_wise=true`.\n",
            "[LightGBM] [Info] Total Bins 613\n",
            "[LightGBM] [Info] Number of data points in the train set: 56982, number of used features: 10\n",
            "[LightGBM] [Info] [binary:BoostFromScore]: pavg=0.500772 -> initscore=0.003089\n",
            "[LightGBM] [Info] Start training from score 0.003089\n",
            "[LightGBM] [Info] Number of positive: 28535, number of negative: 28446\n",
            "[LightGBM] [Info] Auto-choosing row-wise multi-threading, the overhead of testing was 0.008431 seconds.\n",
            "You can set `force_row_wise=true` to remove the overhead.\n",
            "And if memory is not enough, you can set `force_col_wise=true`.\n",
            "[LightGBM] [Info] Total Bins 613\n",
            "[LightGBM] [Info] Number of data points in the train set: 56981, number of used features: 10\n",
            "[LightGBM] [Info] [binary:BoostFromScore]: pavg=0.500781 -> initscore=0.003124\n",
            "[LightGBM] [Info] Start training from score 0.003124\n",
            "[LightGBM] [Info] Number of positive: 28535, number of negative: 28446\n",
            "[LightGBM] [Info] Auto-choosing row-wise multi-threading, the overhead of testing was 0.008784 seconds.\n",
            "You can set `force_row_wise=true` to remove the overhead.\n",
            "And if memory is not enough, you can set `force_col_wise=true`.\n",
            "[LightGBM] [Info] Total Bins 613\n",
            "[LightGBM] [Info] Number of data points in the train set: 56981, number of used features: 10\n",
            "[LightGBM] [Info] [binary:BoostFromScore]: pavg=0.500781 -> initscore=0.003124\n",
            "[LightGBM] [Info] Start training from score 0.003124\n",
            "[LightGBM] [Info] Number of positive: 28536, number of negative: 28446\n",
            "[LightGBM] [Info] Auto-choosing row-wise multi-threading, the overhead of testing was 0.007560 seconds.\n",
            "You can set `force_row_wise=true` to remove the overhead.\n",
            "And if memory is not enough, you can set `force_col_wise=true`.\n",
            "[LightGBM] [Info] Total Bins 613\n",
            "[LightGBM] [Info] Number of data points in the train set: 56982, number of used features: 10\n",
            "[LightGBM] [Info] [binary:BoostFromScore]: pavg=0.500790 -> initscore=0.003159\n",
            "[LightGBM] [Info] Start training from score 0.003159\n",
            "[LightGBM] [Info] Number of positive: 28535, number of negative: 28447\n",
            "[LightGBM] [Info] Auto-choosing row-wise multi-threading, the overhead of testing was 0.008979 seconds.\n",
            "You can set `force_row_wise=true` to remove the overhead.\n",
            "And if memory is not enough, you can set `force_col_wise=true`.\n",
            "[LightGBM] [Info] Total Bins 613\n",
            "[LightGBM] [Info] Number of data points in the train set: 56982, number of used features: 10\n",
            "[LightGBM] [Info] [binary:BoostFromScore]: pavg=0.500772 -> initscore=0.003089\n",
            "[LightGBM] [Info] Start training from score 0.003089\n",
            "[LightGBM] [Info] Number of positive: 28535, number of negative: 28447\n",
            "[LightGBM] [Info] Auto-choosing row-wise multi-threading, the overhead of testing was 0.006653 seconds.\n",
            "You can set `force_row_wise=true` to remove the overhead.\n",
            "And if memory is not enough, you can set `force_col_wise=true`.\n",
            "[LightGBM] [Info] Total Bins 613\n",
            "[LightGBM] [Info] Number of data points in the train set: 56982, number of used features: 10\n",
            "[LightGBM] [Info] [binary:BoostFromScore]: pavg=0.500772 -> initscore=0.003089\n",
            "[LightGBM] [Info] Start training from score 0.003089\n",
            "[LightGBM] [Info] Number of positive: 28535, number of negative: 28446\n",
            "[LightGBM] [Info] Auto-choosing row-wise multi-threading, the overhead of testing was 0.007054 seconds.\n",
            "You can set `force_row_wise=true` to remove the overhead.\n",
            "And if memory is not enough, you can set `force_col_wise=true`.\n",
            "[LightGBM] [Info] Total Bins 613\n",
            "[LightGBM] [Info] Number of data points in the train set: 56981, number of used features: 10\n",
            "[LightGBM] [Info] [binary:BoostFromScore]: pavg=0.500781 -> initscore=0.003124\n",
            "[LightGBM] [Info] Start training from score 0.003124\n",
            "[LightGBM] [Info] Number of positive: 28535, number of negative: 28446\n",
            "[LightGBM] [Info] Auto-choosing col-wise multi-threading, the overhead of testing was 0.009524 seconds.\n",
            "You can set `force_col_wise=true` to remove the overhead.\n",
            "[LightGBM] [Info] Total Bins 613\n",
            "[LightGBM] [Info] Number of data points in the train set: 56981, number of used features: 10\n",
            "[LightGBM] [Info] [binary:BoostFromScore]: pavg=0.500781 -> initscore=0.003124\n",
            "[LightGBM] [Info] Start training from score 0.003124\n",
            "[LightGBM] [Info] Number of positive: 28536, number of negative: 28446\n",
            "[LightGBM] [Info] Auto-choosing row-wise multi-threading, the overhead of testing was 0.005395 seconds.\n",
            "You can set `force_row_wise=true` to remove the overhead.\n",
            "And if memory is not enough, you can set `force_col_wise=true`.\n",
            "[LightGBM] [Info] Total Bins 613\n",
            "[LightGBM] [Info] Number of data points in the train set: 56982, number of used features: 10\n",
            "[LightGBM] [Info] [binary:BoostFromScore]: pavg=0.500790 -> initscore=0.003159\n",
            "[LightGBM] [Info] Start training from score 0.003159\n",
            "[LightGBM] [Info] Number of positive: 28535, number of negative: 28447\n",
            "[LightGBM] [Info] Auto-choosing row-wise multi-threading, the overhead of testing was 0.006569 seconds.\n",
            "You can set `force_row_wise=true` to remove the overhead.\n",
            "And if memory is not enough, you can set `force_col_wise=true`.\n",
            "[LightGBM] [Info] Total Bins 613\n",
            "[LightGBM] [Info] Number of data points in the train set: 56982, number of used features: 10\n",
            "[LightGBM] [Info] [binary:BoostFromScore]: pavg=0.500772 -> initscore=0.003089\n",
            "[LightGBM] [Info] Start training from score 0.003089\n",
            "[LightGBM] [Info] Number of positive: 28535, number of negative: 28447\n",
            "[LightGBM] [Info] Auto-choosing row-wise multi-threading, the overhead of testing was 0.006806 seconds.\n",
            "You can set `force_row_wise=true` to remove the overhead.\n",
            "And if memory is not enough, you can set `force_col_wise=true`.\n",
            "[LightGBM] [Info] Total Bins 613\n",
            "[LightGBM] [Info] Number of data points in the train set: 56982, number of used features: 10\n",
            "[LightGBM] [Info] [binary:BoostFromScore]: pavg=0.500772 -> initscore=0.003089\n",
            "[LightGBM] [Info] Start training from score 0.003089\n",
            "[LightGBM] [Info] Number of positive: 28535, number of negative: 28446\n",
            "[LightGBM] [Info] Auto-choosing row-wise multi-threading, the overhead of testing was 0.006376 seconds.\n",
            "You can set `force_row_wise=true` to remove the overhead.\n",
            "And if memory is not enough, you can set `force_col_wise=true`.\n",
            "[LightGBM] [Info] Total Bins 613\n",
            "[LightGBM] [Info] Number of data points in the train set: 56981, number of used features: 10\n",
            "[LightGBM] [Info] [binary:BoostFromScore]: pavg=0.500781 -> initscore=0.003124\n",
            "[LightGBM] [Info] Start training from score 0.003124\n",
            "[LightGBM] [Info] Number of positive: 28535, number of negative: 28446\n",
            "[LightGBM] [Info] Auto-choosing row-wise multi-threading, the overhead of testing was 0.006279 seconds.\n",
            "You can set `force_row_wise=true` to remove the overhead.\n",
            "And if memory is not enough, you can set `force_col_wise=true`.\n",
            "[LightGBM] [Info] Total Bins 613\n",
            "[LightGBM] [Info] Number of data points in the train set: 56981, number of used features: 10\n",
            "[LightGBM] [Info] [binary:BoostFromScore]: pavg=0.500781 -> initscore=0.003124\n",
            "[LightGBM] [Info] Start training from score 0.003124\n",
            "[LightGBM] [Info] Number of positive: 28536, number of negative: 28446\n",
            "[LightGBM] [Info] Auto-choosing row-wise multi-threading, the overhead of testing was 0.005326 seconds.\n",
            "You can set `force_row_wise=true` to remove the overhead.\n",
            "And if memory is not enough, you can set `force_col_wise=true`.\n",
            "[LightGBM] [Info] Total Bins 613\n",
            "[LightGBM] [Info] Number of data points in the train set: 56982, number of used features: 10\n",
            "[LightGBM] [Info] [binary:BoostFromScore]: pavg=0.500790 -> initscore=0.003159\n",
            "[LightGBM] [Info] Start training from score 0.003159\n",
            "[LightGBM] [Info] Number of positive: 28535, number of negative: 28447\n",
            "[LightGBM] [Info] Auto-choosing row-wise multi-threading, the overhead of testing was 0.006205 seconds.\n",
            "You can set `force_row_wise=true` to remove the overhead.\n",
            "And if memory is not enough, you can set `force_col_wise=true`.\n",
            "[LightGBM] [Info] Total Bins 613\n",
            "[LightGBM] [Info] Number of data points in the train set: 56982, number of used features: 10\n",
            "[LightGBM] [Info] [binary:BoostFromScore]: pavg=0.500772 -> initscore=0.003089\n",
            "[LightGBM] [Info] Start training from score 0.003089\n",
            "[LightGBM] [Info] Number of positive: 28535, number of negative: 28447\n",
            "[LightGBM] [Info] Auto-choosing row-wise multi-threading, the overhead of testing was 0.006300 seconds.\n",
            "You can set `force_row_wise=true` to remove the overhead.\n",
            "And if memory is not enough, you can set `force_col_wise=true`.\n",
            "[LightGBM] [Info] Total Bins 613\n",
            "[LightGBM] [Info] Number of data points in the train set: 56982, number of used features: 10\n",
            "[LightGBM] [Info] [binary:BoostFromScore]: pavg=0.500772 -> initscore=0.003089\n",
            "[LightGBM] [Info] Start training from score 0.003089\n",
            "[LightGBM] [Info] Number of positive: 28535, number of negative: 28446\n",
            "[LightGBM] [Info] Auto-choosing row-wise multi-threading, the overhead of testing was 0.006300 seconds.\n",
            "You can set `force_row_wise=true` to remove the overhead.\n",
            "And if memory is not enough, you can set `force_col_wise=true`.\n",
            "[LightGBM] [Info] Total Bins 613\n",
            "[LightGBM] [Info] Number of data points in the train set: 56981, number of used features: 10\n",
            "[LightGBM] [Info] [binary:BoostFromScore]: pavg=0.500781 -> initscore=0.003124\n",
            "[LightGBM] [Info] Start training from score 0.003124\n",
            "[LightGBM] [Info] Number of positive: 28535, number of negative: 28446\n",
            "[LightGBM] [Info] Auto-choosing row-wise multi-threading, the overhead of testing was 0.006229 seconds.\n",
            "You can set `force_row_wise=true` to remove the overhead.\n",
            "And if memory is not enough, you can set `force_col_wise=true`.\n",
            "[LightGBM] [Info] Total Bins 613\n",
            "[LightGBM] [Info] Number of data points in the train set: 56981, number of used features: 10\n",
            "[LightGBM] [Info] [binary:BoostFromScore]: pavg=0.500781 -> initscore=0.003124\n",
            "[LightGBM] [Info] Start training from score 0.003124\n",
            "[LightGBM] [Info] Number of positive: 28536, number of negative: 28446\n",
            "[LightGBM] [Info] Auto-choosing row-wise multi-threading, the overhead of testing was 0.007884 seconds.\n",
            "You can set `force_row_wise=true` to remove the overhead.\n",
            "And if memory is not enough, you can set `force_col_wise=true`.\n",
            "[LightGBM] [Info] Total Bins 613\n",
            "[LightGBM] [Info] Number of data points in the train set: 56982, number of used features: 10\n",
            "[LightGBM] [Info] [binary:BoostFromScore]: pavg=0.500790 -> initscore=0.003159\n",
            "[LightGBM] [Info] Start training from score 0.003159\n",
            "[LightGBM] [Info] Number of positive: 28535, number of negative: 28447\n",
            "[LightGBM] [Info] Auto-choosing row-wise multi-threading, the overhead of testing was 0.008628 seconds.\n",
            "You can set `force_row_wise=true` to remove the overhead.\n",
            "And if memory is not enough, you can set `force_col_wise=true`.\n",
            "[LightGBM] [Info] Total Bins 613\n",
            "[LightGBM] [Info] Number of data points in the train set: 56982, number of used features: 10\n",
            "[LightGBM] [Info] [binary:BoostFromScore]: pavg=0.500772 -> initscore=0.003089\n",
            "[LightGBM] [Info] Start training from score 0.003089\n",
            "[LightGBM] [Info] Number of positive: 28535, number of negative: 28447\n",
            "[LightGBM] [Info] Auto-choosing row-wise multi-threading, the overhead of testing was 0.008699 seconds.\n",
            "You can set `force_row_wise=true` to remove the overhead.\n",
            "And if memory is not enough, you can set `force_col_wise=true`.\n",
            "[LightGBM] [Info] Total Bins 613\n",
            "[LightGBM] [Info] Number of data points in the train set: 56982, number of used features: 10\n",
            "[LightGBM] [Info] [binary:BoostFromScore]: pavg=0.500772 -> initscore=0.003089\n",
            "[LightGBM] [Info] Start training from score 0.003089\n",
            "[LightGBM] [Info] Number of positive: 35669, number of negative: 35558\n",
            "[LightGBM] [Info] Auto-choosing row-wise multi-threading, the overhead of testing was 0.009365 seconds.\n",
            "You can set `force_row_wise=true` to remove the overhead.\n",
            "And if memory is not enough, you can set `force_col_wise=true`.\n",
            "[LightGBM] [Info] Total Bins 613\n",
            "[LightGBM] [Info] Number of data points in the train set: 71227, number of used features: 10\n",
            "[LightGBM] [Info] [binary:BoostFromScore]: pavg=0.500779 -> initscore=0.003117\n",
            "[LightGBM] [Info] Start training from score 0.003117\n"
          ]
        }
      ],
      "source": [
        "model33=gsvlgbm.fit(x_train1,y_train1)\n",
        "model34=gsvlgbm.fit(x_train2,y_train2)"
      ]
    },
    {
      "cell_type": "markdown",
      "metadata": {
        "id": "bH5J3p_c0PX4"
      },
      "source": [
        " Cat Boost"
      ]
    },
    {
      "cell_type": "code",
      "execution_count": 833,
      "metadata": {
        "id": "G39gFCjM0ZjE"
      },
      "outputs": [],
      "source": [
        "cat=CatBoostClassifier(random_state=30)"
      ]
    },
    {
      "cell_type": "code",
      "execution_count": 834,
      "metadata": {
        "id": "tXnyO-1n1B-d",
        "colab": {
          "base_uri": "https://localhost:8080/"
        },
        "outputId": "bebfce51-2779-45ce-febb-b7033d42a841"
      },
      "outputs": [
        {
          "output_type": "stream",
          "name": "stdout",
          "text": [
            "Learning rate set to 0.06195\n",
            "0:\tlearn: 0.6563225\ttotal: 26.3ms\tremaining: 26.2s\n",
            "1:\tlearn: 0.6207940\ttotal: 51.6ms\tremaining: 25.8s\n",
            "2:\tlearn: 0.5905520\ttotal: 67.5ms\tremaining: 22.4s\n",
            "3:\tlearn: 0.5670038\ttotal: 87.8ms\tremaining: 21.9s\n",
            "4:\tlearn: 0.5488507\ttotal: 116ms\tremaining: 23s\n",
            "5:\tlearn: 0.5316029\ttotal: 134ms\tremaining: 22.2s\n",
            "6:\tlearn: 0.5156879\ttotal: 150ms\tremaining: 21.2s\n",
            "7:\tlearn: 0.5028059\ttotal: 166ms\tremaining: 20.6s\n",
            "8:\tlearn: 0.4916353\ttotal: 182ms\tremaining: 20s\n",
            "9:\tlearn: 0.4823476\ttotal: 202ms\tremaining: 20s\n",
            "10:\tlearn: 0.4738501\ttotal: 216ms\tremaining: 19.4s\n",
            "11:\tlearn: 0.4658547\ttotal: 234ms\tremaining: 19.3s\n",
            "12:\tlearn: 0.4591061\ttotal: 252ms\tremaining: 19.1s\n",
            "13:\tlearn: 0.4513660\ttotal: 268ms\tremaining: 18.9s\n",
            "14:\tlearn: 0.4442947\ttotal: 284ms\tremaining: 18.7s\n",
            "15:\tlearn: 0.4394341\ttotal: 300ms\tremaining: 18.5s\n",
            "16:\tlearn: 0.4347236\ttotal: 316ms\tremaining: 18.3s\n",
            "17:\tlearn: 0.4303502\ttotal: 331ms\tremaining: 18.1s\n",
            "18:\tlearn: 0.4264213\ttotal: 347ms\tremaining: 17.9s\n",
            "19:\tlearn: 0.4225413\ttotal: 363ms\tremaining: 17.8s\n",
            "20:\tlearn: 0.4188855\ttotal: 379ms\tremaining: 17.7s\n",
            "21:\tlearn: 0.4156545\ttotal: 395ms\tremaining: 17.5s\n",
            "22:\tlearn: 0.4127454\ttotal: 413ms\tremaining: 17.5s\n",
            "23:\tlearn: 0.4092447\ttotal: 429ms\tremaining: 17.4s\n",
            "24:\tlearn: 0.4043461\ttotal: 445ms\tremaining: 17.3s\n",
            "25:\tlearn: 0.4017173\ttotal: 460ms\tremaining: 17.2s\n",
            "26:\tlearn: 0.3995013\ttotal: 476ms\tremaining: 17.2s\n",
            "27:\tlearn: 0.3973387\ttotal: 492ms\tremaining: 17.1s\n",
            "28:\tlearn: 0.3954318\ttotal: 511ms\tremaining: 17.1s\n",
            "29:\tlearn: 0.3935619\ttotal: 527ms\tremaining: 17s\n",
            "30:\tlearn: 0.3916448\ttotal: 545ms\tremaining: 17s\n",
            "31:\tlearn: 0.3899876\ttotal: 561ms\tremaining: 17s\n",
            "32:\tlearn: 0.3874898\ttotal: 577ms\tremaining: 16.9s\n",
            "33:\tlearn: 0.3857828\ttotal: 593ms\tremaining: 16.9s\n",
            "34:\tlearn: 0.3839916\ttotal: 608ms\tremaining: 16.8s\n",
            "35:\tlearn: 0.3825074\ttotal: 627ms\tremaining: 16.8s\n",
            "36:\tlearn: 0.3778883\ttotal: 643ms\tremaining: 16.7s\n",
            "37:\tlearn: 0.3767167\ttotal: 658ms\tremaining: 16.7s\n",
            "38:\tlearn: 0.3750590\ttotal: 675ms\tremaining: 16.6s\n",
            "39:\tlearn: 0.3740482\ttotal: 690ms\tremaining: 16.6s\n",
            "40:\tlearn: 0.3728443\ttotal: 706ms\tremaining: 16.5s\n",
            "41:\tlearn: 0.3711036\ttotal: 722ms\tremaining: 16.5s\n",
            "42:\tlearn: 0.3684764\ttotal: 739ms\tremaining: 16.5s\n",
            "43:\tlearn: 0.3675320\ttotal: 756ms\tremaining: 16.4s\n",
            "44:\tlearn: 0.3653973\ttotal: 773ms\tremaining: 16.4s\n",
            "45:\tlearn: 0.3643616\ttotal: 793ms\tremaining: 16.4s\n",
            "46:\tlearn: 0.3634511\ttotal: 808ms\tremaining: 16.4s\n",
            "47:\tlearn: 0.3626287\ttotal: 823ms\tremaining: 16.3s\n",
            "48:\tlearn: 0.3617980\ttotal: 841ms\tremaining: 16.3s\n",
            "49:\tlearn: 0.3604189\ttotal: 857ms\tremaining: 16.3s\n",
            "50:\tlearn: 0.3587183\ttotal: 873ms\tremaining: 16.2s\n",
            "51:\tlearn: 0.3579119\ttotal: 902ms\tremaining: 16.4s\n",
            "52:\tlearn: 0.3569841\ttotal: 919ms\tremaining: 16.4s\n",
            "53:\tlearn: 0.3560525\ttotal: 935ms\tremaining: 16.4s\n",
            "54:\tlearn: 0.3551133\ttotal: 953ms\tremaining: 16.4s\n",
            "55:\tlearn: 0.3543528\ttotal: 968ms\tremaining: 16.3s\n",
            "56:\tlearn: 0.3531395\ttotal: 984ms\tremaining: 16.3s\n",
            "57:\tlearn: 0.3521793\ttotal: 1s\tremaining: 16.3s\n",
            "58:\tlearn: 0.3512351\ttotal: 1.02s\tremaining: 16.3s\n",
            "59:\tlearn: 0.3505712\ttotal: 1.04s\tremaining: 16.2s\n",
            "60:\tlearn: 0.3497341\ttotal: 1.05s\tremaining: 16.2s\n",
            "61:\tlearn: 0.3490669\ttotal: 1.07s\tremaining: 16.2s\n",
            "62:\tlearn: 0.3479909\ttotal: 1.09s\tremaining: 16.2s\n",
            "63:\tlearn: 0.3472840\ttotal: 1.12s\tremaining: 16.4s\n",
            "64:\tlearn: 0.3465646\ttotal: 1.14s\tremaining: 16.4s\n",
            "65:\tlearn: 0.3457610\ttotal: 1.15s\tremaining: 16.3s\n",
            "66:\tlearn: 0.3449884\ttotal: 1.17s\tremaining: 16.3s\n",
            "67:\tlearn: 0.3434142\ttotal: 1.19s\tremaining: 16.2s\n",
            "68:\tlearn: 0.3426932\ttotal: 1.2s\tremaining: 16.2s\n",
            "69:\tlearn: 0.3419436\ttotal: 1.22s\tremaining: 16.2s\n",
            "70:\tlearn: 0.3413820\ttotal: 1.24s\tremaining: 16.2s\n",
            "71:\tlearn: 0.3407944\ttotal: 1.25s\tremaining: 16.1s\n",
            "72:\tlearn: 0.3401665\ttotal: 1.27s\tremaining: 16.1s\n",
            "73:\tlearn: 0.3396579\ttotal: 1.29s\tremaining: 16.1s\n",
            "74:\tlearn: 0.3389593\ttotal: 1.3s\tremaining: 16.1s\n",
            "75:\tlearn: 0.3379673\ttotal: 1.32s\tremaining: 16s\n",
            "76:\tlearn: 0.3374748\ttotal: 1.33s\tremaining: 16s\n",
            "77:\tlearn: 0.3369695\ttotal: 1.35s\tremaining: 16s\n",
            "78:\tlearn: 0.3362921\ttotal: 1.37s\tremaining: 15.9s\n",
            "79:\tlearn: 0.3357409\ttotal: 1.38s\tremaining: 15.9s\n",
            "80:\tlearn: 0.3353115\ttotal: 1.4s\tremaining: 15.9s\n",
            "81:\tlearn: 0.3347731\ttotal: 1.41s\tremaining: 15.8s\n",
            "82:\tlearn: 0.3342394\ttotal: 1.43s\tremaining: 15.8s\n",
            "83:\tlearn: 0.3336952\ttotal: 1.45s\tremaining: 15.8s\n",
            "84:\tlearn: 0.3330954\ttotal: 1.46s\tremaining: 15.8s\n",
            "85:\tlearn: 0.3324195\ttotal: 1.48s\tremaining: 15.8s\n",
            "86:\tlearn: 0.3317688\ttotal: 1.5s\tremaining: 15.8s\n",
            "87:\tlearn: 0.3310441\ttotal: 1.52s\tremaining: 15.8s\n",
            "88:\tlearn: 0.3305228\ttotal: 1.54s\tremaining: 15.8s\n",
            "89:\tlearn: 0.3301307\ttotal: 1.55s\tremaining: 15.7s\n",
            "90:\tlearn: 0.3295957\ttotal: 1.57s\tremaining: 15.7s\n",
            "91:\tlearn: 0.3289585\ttotal: 1.58s\tremaining: 15.7s\n",
            "92:\tlearn: 0.3283481\ttotal: 1.6s\tremaining: 15.6s\n",
            "93:\tlearn: 0.3277906\ttotal: 1.61s\tremaining: 15.6s\n",
            "94:\tlearn: 0.3273024\ttotal: 1.63s\tremaining: 15.5s\n",
            "95:\tlearn: 0.3268847\ttotal: 1.65s\tremaining: 15.5s\n",
            "96:\tlearn: 0.3262798\ttotal: 1.66s\tremaining: 15.5s\n",
            "97:\tlearn: 0.3258376\ttotal: 1.68s\tremaining: 15.4s\n",
            "98:\tlearn: 0.3254564\ttotal: 1.7s\tremaining: 15.4s\n",
            "99:\tlearn: 0.3249644\ttotal: 1.71s\tremaining: 15.4s\n",
            "100:\tlearn: 0.3243926\ttotal: 1.73s\tremaining: 15.4s\n",
            "101:\tlearn: 0.3240519\ttotal: 1.75s\tremaining: 15.4s\n",
            "102:\tlearn: 0.3236448\ttotal: 1.76s\tremaining: 15.3s\n",
            "103:\tlearn: 0.3233053\ttotal: 1.78s\tremaining: 15.3s\n",
            "104:\tlearn: 0.3225433\ttotal: 1.79s\tremaining: 15.3s\n",
            "105:\tlearn: 0.3219325\ttotal: 1.81s\tremaining: 15.3s\n",
            "106:\tlearn: 0.3212878\ttotal: 1.83s\tremaining: 15.3s\n",
            "107:\tlearn: 0.3208447\ttotal: 1.85s\tremaining: 15.3s\n",
            "108:\tlearn: 0.3205105\ttotal: 1.87s\tremaining: 15.3s\n",
            "109:\tlearn: 0.3200710\ttotal: 1.89s\tremaining: 15.3s\n",
            "110:\tlearn: 0.3195811\ttotal: 1.91s\tremaining: 15.3s\n",
            "111:\tlearn: 0.3189101\ttotal: 1.92s\tremaining: 15.3s\n",
            "112:\tlearn: 0.3183431\ttotal: 1.94s\tremaining: 15.2s\n",
            "113:\tlearn: 0.3178780\ttotal: 1.96s\tremaining: 15.2s\n",
            "114:\tlearn: 0.3173409\ttotal: 1.98s\tremaining: 15.2s\n",
            "115:\tlearn: 0.3169004\ttotal: 2s\tremaining: 15.2s\n",
            "116:\tlearn: 0.3164429\ttotal: 2.02s\tremaining: 15.2s\n",
            "117:\tlearn: 0.3159704\ttotal: 2.03s\tremaining: 15.2s\n",
            "118:\tlearn: 0.3155612\ttotal: 2.05s\tremaining: 15.2s\n",
            "119:\tlearn: 0.3151658\ttotal: 2.06s\tremaining: 15.1s\n",
            "120:\tlearn: 0.3146338\ttotal: 2.08s\tremaining: 15.1s\n",
            "121:\tlearn: 0.3142131\ttotal: 2.1s\tremaining: 15.1s\n",
            "122:\tlearn: 0.3138313\ttotal: 2.14s\tremaining: 15.2s\n",
            "123:\tlearn: 0.3134556\ttotal: 2.15s\tremaining: 15.2s\n",
            "124:\tlearn: 0.3129984\ttotal: 2.17s\tremaining: 15.2s\n",
            "125:\tlearn: 0.3127463\ttotal: 2.18s\tremaining: 15.2s\n",
            "126:\tlearn: 0.3120617\ttotal: 2.2s\tremaining: 15.1s\n",
            "127:\tlearn: 0.3116810\ttotal: 2.22s\tremaining: 15.1s\n",
            "128:\tlearn: 0.3113171\ttotal: 2.23s\tremaining: 15.1s\n",
            "129:\tlearn: 0.3109451\ttotal: 2.25s\tremaining: 15s\n",
            "130:\tlearn: 0.3105907\ttotal: 2.26s\tremaining: 15s\n",
            "131:\tlearn: 0.3101857\ttotal: 2.28s\tremaining: 15s\n",
            "132:\tlearn: 0.3097563\ttotal: 2.3s\tremaining: 15s\n",
            "133:\tlearn: 0.3094353\ttotal: 2.32s\tremaining: 15s\n",
            "134:\tlearn: 0.3089288\ttotal: 2.33s\tremaining: 14.9s\n",
            "135:\tlearn: 0.3084508\ttotal: 2.35s\tremaining: 14.9s\n",
            "136:\tlearn: 0.3079978\ttotal: 2.37s\tremaining: 14.9s\n",
            "137:\tlearn: 0.3076385\ttotal: 2.38s\tremaining: 14.9s\n",
            "138:\tlearn: 0.3072421\ttotal: 2.4s\tremaining: 14.8s\n",
            "139:\tlearn: 0.3067666\ttotal: 2.41s\tremaining: 14.8s\n",
            "140:\tlearn: 0.3064052\ttotal: 2.43s\tremaining: 14.8s\n",
            "141:\tlearn: 0.3057529\ttotal: 2.44s\tremaining: 14.8s\n",
            "142:\tlearn: 0.3053013\ttotal: 2.46s\tremaining: 14.7s\n",
            "143:\tlearn: 0.3047666\ttotal: 2.48s\tremaining: 14.7s\n",
            "144:\tlearn: 0.3045530\ttotal: 2.49s\tremaining: 14.7s\n",
            "145:\tlearn: 0.3041384\ttotal: 2.51s\tremaining: 14.7s\n",
            "146:\tlearn: 0.3038129\ttotal: 2.53s\tremaining: 14.7s\n",
            "147:\tlearn: 0.3034189\ttotal: 2.54s\tremaining: 14.6s\n",
            "148:\tlearn: 0.3030685\ttotal: 2.56s\tremaining: 14.7s\n",
            "149:\tlearn: 0.3028341\ttotal: 2.58s\tremaining: 14.6s\n",
            "150:\tlearn: 0.3023649\ttotal: 2.6s\tremaining: 14.6s\n",
            "151:\tlearn: 0.3016657\ttotal: 2.61s\tremaining: 14.6s\n",
            "152:\tlearn: 0.3012768\ttotal: 2.63s\tremaining: 14.6s\n",
            "153:\tlearn: 0.3008880\ttotal: 2.64s\tremaining: 14.5s\n",
            "154:\tlearn: 0.3004872\ttotal: 2.66s\tremaining: 14.5s\n",
            "155:\tlearn: 0.2998509\ttotal: 2.68s\tremaining: 14.5s\n",
            "156:\tlearn: 0.2995865\ttotal: 2.69s\tremaining: 14.5s\n",
            "157:\tlearn: 0.2990715\ttotal: 2.71s\tremaining: 14.5s\n",
            "158:\tlearn: 0.2986751\ttotal: 2.73s\tremaining: 14.5s\n",
            "159:\tlearn: 0.2983654\ttotal: 2.75s\tremaining: 14.4s\n",
            "160:\tlearn: 0.2979519\ttotal: 2.77s\tremaining: 14.4s\n",
            "161:\tlearn: 0.2975630\ttotal: 2.78s\tremaining: 14.4s\n",
            "162:\tlearn: 0.2972980\ttotal: 2.8s\tremaining: 14.4s\n",
            "163:\tlearn: 0.2967713\ttotal: 2.82s\tremaining: 14.4s\n",
            "164:\tlearn: 0.2964307\ttotal: 2.83s\tremaining: 14.3s\n",
            "165:\tlearn: 0.2960635\ttotal: 2.85s\tremaining: 14.3s\n",
            "166:\tlearn: 0.2957581\ttotal: 2.86s\tremaining: 14.3s\n",
            "167:\tlearn: 0.2953272\ttotal: 2.88s\tremaining: 14.3s\n",
            "168:\tlearn: 0.2950407\ttotal: 2.9s\tremaining: 14.2s\n",
            "169:\tlearn: 0.2946081\ttotal: 2.91s\tremaining: 14.2s\n",
            "170:\tlearn: 0.2942903\ttotal: 2.93s\tremaining: 14.2s\n",
            "171:\tlearn: 0.2939946\ttotal: 2.96s\tremaining: 14.2s\n",
            "172:\tlearn: 0.2935627\ttotal: 2.98s\tremaining: 14.3s\n",
            "173:\tlearn: 0.2933072\ttotal: 3.01s\tremaining: 14.3s\n",
            "174:\tlearn: 0.2927880\ttotal: 3.02s\tremaining: 14.3s\n",
            "175:\tlearn: 0.2923123\ttotal: 3.04s\tremaining: 14.2s\n",
            "176:\tlearn: 0.2919411\ttotal: 3.06s\tremaining: 14.2s\n",
            "177:\tlearn: 0.2915929\ttotal: 3.07s\tremaining: 14.2s\n",
            "178:\tlearn: 0.2913289\ttotal: 3.09s\tremaining: 14.2s\n",
            "179:\tlearn: 0.2910327\ttotal: 3.11s\tremaining: 14.2s\n",
            "180:\tlearn: 0.2907521\ttotal: 3.14s\tremaining: 14.2s\n",
            "181:\tlearn: 0.2905068\ttotal: 3.16s\tremaining: 14.2s\n",
            "182:\tlearn: 0.2902653\ttotal: 3.17s\tremaining: 14.2s\n",
            "183:\tlearn: 0.2899302\ttotal: 3.19s\tremaining: 14.2s\n",
            "184:\tlearn: 0.2893690\ttotal: 3.21s\tremaining: 14.1s\n",
            "185:\tlearn: 0.2891088\ttotal: 3.23s\tremaining: 14.1s\n",
            "186:\tlearn: 0.2887175\ttotal: 3.24s\tremaining: 14.1s\n",
            "187:\tlearn: 0.2883943\ttotal: 3.26s\tremaining: 14.1s\n",
            "188:\tlearn: 0.2878935\ttotal: 3.27s\tremaining: 14s\n",
            "189:\tlearn: 0.2874502\ttotal: 3.29s\tremaining: 14s\n",
            "190:\tlearn: 0.2870348\ttotal: 3.3s\tremaining: 14s\n",
            "191:\tlearn: 0.2867224\ttotal: 3.32s\tremaining: 14s\n",
            "192:\tlearn: 0.2863812\ttotal: 3.34s\tremaining: 14s\n",
            "193:\tlearn: 0.2861378\ttotal: 3.35s\tremaining: 13.9s\n",
            "194:\tlearn: 0.2858823\ttotal: 3.38s\tremaining: 13.9s\n",
            "195:\tlearn: 0.2855905\ttotal: 3.39s\tremaining: 13.9s\n",
            "196:\tlearn: 0.2853329\ttotal: 3.41s\tremaining: 13.9s\n",
            "197:\tlearn: 0.2848715\ttotal: 3.42s\tremaining: 13.9s\n",
            "198:\tlearn: 0.2845422\ttotal: 3.44s\tremaining: 13.9s\n",
            "199:\tlearn: 0.2839747\ttotal: 3.46s\tremaining: 13.8s\n",
            "200:\tlearn: 0.2834859\ttotal: 3.48s\tremaining: 13.8s\n",
            "201:\tlearn: 0.2828977\ttotal: 3.49s\tremaining: 13.8s\n",
            "202:\tlearn: 0.2825424\ttotal: 3.51s\tremaining: 13.8s\n",
            "203:\tlearn: 0.2821921\ttotal: 3.53s\tremaining: 13.8s\n",
            "204:\tlearn: 0.2819427\ttotal: 3.54s\tremaining: 13.7s\n",
            "205:\tlearn: 0.2816111\ttotal: 3.56s\tremaining: 13.7s\n",
            "206:\tlearn: 0.2813115\ttotal: 3.58s\tremaining: 13.7s\n",
            "207:\tlearn: 0.2809047\ttotal: 3.59s\tremaining: 13.7s\n",
            "208:\tlearn: 0.2805567\ttotal: 3.61s\tremaining: 13.7s\n",
            "209:\tlearn: 0.2802165\ttotal: 3.63s\tremaining: 13.7s\n",
            "210:\tlearn: 0.2798291\ttotal: 3.65s\tremaining: 13.6s\n",
            "211:\tlearn: 0.2795622\ttotal: 3.66s\tremaining: 13.6s\n",
            "212:\tlearn: 0.2793258\ttotal: 3.68s\tremaining: 13.6s\n",
            "213:\tlearn: 0.2789450\ttotal: 3.69s\tremaining: 13.6s\n",
            "214:\tlearn: 0.2786360\ttotal: 3.71s\tremaining: 13.6s\n",
            "215:\tlearn: 0.2783836\ttotal: 3.73s\tremaining: 13.5s\n",
            "216:\tlearn: 0.2779822\ttotal: 3.74s\tremaining: 13.5s\n",
            "217:\tlearn: 0.2775607\ttotal: 3.76s\tremaining: 13.5s\n",
            "218:\tlearn: 0.2771964\ttotal: 3.77s\tremaining: 13.5s\n",
            "219:\tlearn: 0.2768158\ttotal: 3.79s\tremaining: 13.5s\n",
            "220:\tlearn: 0.2763478\ttotal: 3.81s\tremaining: 13.4s\n",
            "221:\tlearn: 0.2761264\ttotal: 3.83s\tremaining: 13.4s\n",
            "222:\tlearn: 0.2757870\ttotal: 3.85s\tremaining: 13.4s\n",
            "223:\tlearn: 0.2755457\ttotal: 3.86s\tremaining: 13.4s\n",
            "224:\tlearn: 0.2752746\ttotal: 3.88s\tremaining: 13.4s\n",
            "225:\tlearn: 0.2750484\ttotal: 3.9s\tremaining: 13.3s\n",
            "226:\tlearn: 0.2747686\ttotal: 3.91s\tremaining: 13.3s\n",
            "227:\tlearn: 0.2742482\ttotal: 3.93s\tremaining: 13.3s\n",
            "228:\tlearn: 0.2739484\ttotal: 3.95s\tremaining: 13.3s\n",
            "229:\tlearn: 0.2737413\ttotal: 3.97s\tremaining: 13.3s\n",
            "230:\tlearn: 0.2733922\ttotal: 3.98s\tremaining: 13.3s\n",
            "231:\tlearn: 0.2728135\ttotal: 4s\tremaining: 13.2s\n",
            "232:\tlearn: 0.2725092\ttotal: 4.02s\tremaining: 13.2s\n",
            "233:\tlearn: 0.2722574\ttotal: 4.04s\tremaining: 13.2s\n",
            "234:\tlearn: 0.2719449\ttotal: 4.05s\tremaining: 13.2s\n",
            "235:\tlearn: 0.2715578\ttotal: 4.07s\tremaining: 13.2s\n",
            "236:\tlearn: 0.2712475\ttotal: 4.09s\tremaining: 13.2s\n",
            "237:\tlearn: 0.2709657\ttotal: 4.1s\tremaining: 13.1s\n",
            "238:\tlearn: 0.2706441\ttotal: 4.12s\tremaining: 13.1s\n",
            "239:\tlearn: 0.2703498\ttotal: 4.15s\tremaining: 13.1s\n",
            "240:\tlearn: 0.2701235\ttotal: 4.17s\tremaining: 13.1s\n",
            "241:\tlearn: 0.2699000\ttotal: 4.18s\tremaining: 13.1s\n",
            "242:\tlearn: 0.2695628\ttotal: 4.21s\tremaining: 13.1s\n",
            "243:\tlearn: 0.2692562\ttotal: 4.22s\tremaining: 13.1s\n",
            "244:\tlearn: 0.2688751\ttotal: 4.24s\tremaining: 13.1s\n",
            "245:\tlearn: 0.2684623\ttotal: 4.26s\tremaining: 13.1s\n",
            "246:\tlearn: 0.2681445\ttotal: 4.28s\tremaining: 13s\n",
            "247:\tlearn: 0.2680024\ttotal: 4.29s\tremaining: 13s\n",
            "248:\tlearn: 0.2676815\ttotal: 4.31s\tremaining: 13s\n",
            "249:\tlearn: 0.2674890\ttotal: 4.32s\tremaining: 13s\n",
            "250:\tlearn: 0.2673132\ttotal: 4.34s\tremaining: 13s\n",
            "251:\tlearn: 0.2670387\ttotal: 4.36s\tremaining: 12.9s\n",
            "252:\tlearn: 0.2666616\ttotal: 4.37s\tremaining: 12.9s\n",
            "253:\tlearn: 0.2663695\ttotal: 4.39s\tremaining: 12.9s\n",
            "254:\tlearn: 0.2660637\ttotal: 4.41s\tremaining: 12.9s\n",
            "255:\tlearn: 0.2657339\ttotal: 4.42s\tremaining: 12.8s\n",
            "256:\tlearn: 0.2653795\ttotal: 4.44s\tremaining: 12.8s\n",
            "257:\tlearn: 0.2651545\ttotal: 4.46s\tremaining: 12.8s\n",
            "258:\tlearn: 0.2647995\ttotal: 4.48s\tremaining: 12.8s\n",
            "259:\tlearn: 0.2644162\ttotal: 4.5s\tremaining: 12.8s\n",
            "260:\tlearn: 0.2640414\ttotal: 4.51s\tremaining: 12.8s\n",
            "261:\tlearn: 0.2635999\ttotal: 4.53s\tremaining: 12.8s\n",
            "262:\tlearn: 0.2633414\ttotal: 4.54s\tremaining: 12.7s\n",
            "263:\tlearn: 0.2631492\ttotal: 4.56s\tremaining: 12.7s\n",
            "264:\tlearn: 0.2627969\ttotal: 4.58s\tremaining: 12.7s\n",
            "265:\tlearn: 0.2625435\ttotal: 4.6s\tremaining: 12.7s\n",
            "266:\tlearn: 0.2622884\ttotal: 4.62s\tremaining: 12.7s\n",
            "267:\tlearn: 0.2620943\ttotal: 4.63s\tremaining: 12.7s\n",
            "268:\tlearn: 0.2618439\ttotal: 4.65s\tremaining: 12.6s\n",
            "269:\tlearn: 0.2614929\ttotal: 4.67s\tremaining: 12.6s\n",
            "270:\tlearn: 0.2612700\ttotal: 4.69s\tremaining: 12.6s\n",
            "271:\tlearn: 0.2609367\ttotal: 4.7s\tremaining: 12.6s\n",
            "272:\tlearn: 0.2606838\ttotal: 4.72s\tremaining: 12.6s\n",
            "273:\tlearn: 0.2605490\ttotal: 4.74s\tremaining: 12.5s\n",
            "274:\tlearn: 0.2603164\ttotal: 4.75s\tremaining: 12.5s\n",
            "275:\tlearn: 0.2601287\ttotal: 4.77s\tremaining: 12.5s\n",
            "276:\tlearn: 0.2598668\ttotal: 4.79s\tremaining: 12.5s\n",
            "277:\tlearn: 0.2595850\ttotal: 4.8s\tremaining: 12.5s\n",
            "278:\tlearn: 0.2593135\ttotal: 4.82s\tremaining: 12.5s\n",
            "279:\tlearn: 0.2590682\ttotal: 4.83s\tremaining: 12.4s\n",
            "280:\tlearn: 0.2587295\ttotal: 4.85s\tremaining: 12.4s\n",
            "281:\tlearn: 0.2584724\ttotal: 4.87s\tremaining: 12.4s\n",
            "282:\tlearn: 0.2582678\ttotal: 4.89s\tremaining: 12.4s\n",
            "283:\tlearn: 0.2580563\ttotal: 4.9s\tremaining: 12.4s\n",
            "284:\tlearn: 0.2578392\ttotal: 4.92s\tremaining: 12.3s\n",
            "285:\tlearn: 0.2575697\ttotal: 4.94s\tremaining: 12.3s\n",
            "286:\tlearn: 0.2573354\ttotal: 4.96s\tremaining: 12.3s\n",
            "287:\tlearn: 0.2570194\ttotal: 4.97s\tremaining: 12.3s\n",
            "288:\tlearn: 0.2568268\ttotal: 4.99s\tremaining: 12.3s\n",
            "289:\tlearn: 0.2565780\ttotal: 5.01s\tremaining: 12.3s\n",
            "290:\tlearn: 0.2561880\ttotal: 5.03s\tremaining: 12.2s\n",
            "291:\tlearn: 0.2559514\ttotal: 5.04s\tremaining: 12.2s\n",
            "292:\tlearn: 0.2557878\ttotal: 5.06s\tremaining: 12.2s\n",
            "293:\tlearn: 0.2555496\ttotal: 5.07s\tremaining: 12.2s\n",
            "294:\tlearn: 0.2552813\ttotal: 5.09s\tremaining: 12.2s\n",
            "295:\tlearn: 0.2550844\ttotal: 5.11s\tremaining: 12.2s\n",
            "296:\tlearn: 0.2548936\ttotal: 5.13s\tremaining: 12.1s\n",
            "297:\tlearn: 0.2544939\ttotal: 5.14s\tremaining: 12.1s\n",
            "298:\tlearn: 0.2538558\ttotal: 5.18s\tremaining: 12.1s\n",
            "299:\tlearn: 0.2535116\ttotal: 5.19s\tremaining: 12.1s\n",
            "300:\tlearn: 0.2532497\ttotal: 5.21s\tremaining: 12.1s\n",
            "301:\tlearn: 0.2531078\ttotal: 5.22s\tremaining: 12.1s\n",
            "302:\tlearn: 0.2529232\ttotal: 5.24s\tremaining: 12.1s\n",
            "303:\tlearn: 0.2527653\ttotal: 5.26s\tremaining: 12s\n",
            "304:\tlearn: 0.2525430\ttotal: 5.27s\tremaining: 12s\n",
            "305:\tlearn: 0.2521635\ttotal: 5.29s\tremaining: 12s\n",
            "306:\tlearn: 0.2516761\ttotal: 5.31s\tremaining: 12s\n",
            "307:\tlearn: 0.2514298\ttotal: 5.32s\tremaining: 12s\n",
            "308:\tlearn: 0.2511641\ttotal: 5.34s\tremaining: 11.9s\n",
            "309:\tlearn: 0.2510025\ttotal: 5.36s\tremaining: 11.9s\n",
            "310:\tlearn: 0.2507479\ttotal: 5.37s\tremaining: 11.9s\n",
            "311:\tlearn: 0.2504257\ttotal: 5.39s\tremaining: 11.9s\n",
            "312:\tlearn: 0.2502077\ttotal: 5.41s\tremaining: 11.9s\n",
            "313:\tlearn: 0.2500956\ttotal: 5.42s\tremaining: 11.8s\n",
            "314:\tlearn: 0.2498372\ttotal: 5.44s\tremaining: 11.8s\n",
            "315:\tlearn: 0.2495773\ttotal: 5.46s\tremaining: 11.8s\n",
            "316:\tlearn: 0.2494013\ttotal: 5.47s\tremaining: 11.8s\n",
            "317:\tlearn: 0.2490785\ttotal: 5.49s\tremaining: 11.8s\n",
            "318:\tlearn: 0.2489362\ttotal: 5.51s\tremaining: 11.8s\n",
            "319:\tlearn: 0.2487597\ttotal: 5.53s\tremaining: 11.7s\n",
            "320:\tlearn: 0.2484870\ttotal: 5.54s\tremaining: 11.7s\n",
            "321:\tlearn: 0.2482438\ttotal: 5.56s\tremaining: 11.7s\n",
            "322:\tlearn: 0.2479275\ttotal: 5.57s\tremaining: 11.7s\n",
            "323:\tlearn: 0.2476872\ttotal: 5.59s\tremaining: 11.7s\n",
            "324:\tlearn: 0.2472184\ttotal: 5.6s\tremaining: 11.6s\n",
            "325:\tlearn: 0.2470707\ttotal: 5.62s\tremaining: 11.6s\n",
            "326:\tlearn: 0.2469413\ttotal: 5.64s\tremaining: 11.6s\n",
            "327:\tlearn: 0.2465244\ttotal: 5.65s\tremaining: 11.6s\n",
            "328:\tlearn: 0.2462364\ttotal: 5.67s\tremaining: 11.6s\n",
            "329:\tlearn: 0.2460201\ttotal: 5.69s\tremaining: 11.5s\n",
            "330:\tlearn: 0.2458150\ttotal: 5.7s\tremaining: 11.5s\n",
            "331:\tlearn: 0.2455409\ttotal: 5.72s\tremaining: 11.5s\n",
            "332:\tlearn: 0.2453117\ttotal: 5.74s\tremaining: 11.5s\n",
            "333:\tlearn: 0.2450088\ttotal: 5.75s\tremaining: 11.5s\n",
            "334:\tlearn: 0.2449074\ttotal: 5.77s\tremaining: 11.5s\n",
            "335:\tlearn: 0.2446337\ttotal: 5.79s\tremaining: 11.4s\n",
            "336:\tlearn: 0.2443538\ttotal: 5.8s\tremaining: 11.4s\n",
            "337:\tlearn: 0.2440160\ttotal: 5.82s\tremaining: 11.4s\n",
            "338:\tlearn: 0.2437580\ttotal: 5.84s\tremaining: 11.4s\n",
            "339:\tlearn: 0.2434873\ttotal: 5.86s\tremaining: 11.4s\n",
            "340:\tlearn: 0.2432245\ttotal: 5.89s\tremaining: 11.4s\n",
            "341:\tlearn: 0.2429182\ttotal: 5.93s\tremaining: 11.4s\n",
            "342:\tlearn: 0.2427380\ttotal: 5.96s\tremaining: 11.4s\n",
            "343:\tlearn: 0.2426440\ttotal: 5.97s\tremaining: 11.4s\n",
            "344:\tlearn: 0.2424520\ttotal: 5.99s\tremaining: 11.4s\n",
            "345:\tlearn: 0.2423498\ttotal: 6s\tremaining: 11.3s\n",
            "346:\tlearn: 0.2420927\ttotal: 6.02s\tremaining: 11.3s\n",
            "347:\tlearn: 0.2417604\ttotal: 6.04s\tremaining: 11.3s\n",
            "348:\tlearn: 0.2415471\ttotal: 6.05s\tremaining: 11.3s\n",
            "349:\tlearn: 0.2411788\ttotal: 6.07s\tremaining: 11.3s\n",
            "350:\tlearn: 0.2409477\ttotal: 6.09s\tremaining: 11.3s\n",
            "351:\tlearn: 0.2407703\ttotal: 6.1s\tremaining: 11.2s\n",
            "352:\tlearn: 0.2406226\ttotal: 6.12s\tremaining: 11.2s\n",
            "353:\tlearn: 0.2404296\ttotal: 6.14s\tremaining: 11.2s\n",
            "354:\tlearn: 0.2402043\ttotal: 6.15s\tremaining: 11.2s\n",
            "355:\tlearn: 0.2399515\ttotal: 6.19s\tremaining: 11.2s\n",
            "356:\tlearn: 0.2397582\ttotal: 6.2s\tremaining: 11.2s\n",
            "357:\tlearn: 0.2393795\ttotal: 6.22s\tremaining: 11.2s\n",
            "358:\tlearn: 0.2392395\ttotal: 6.24s\tremaining: 11.1s\n",
            "359:\tlearn: 0.2390728\ttotal: 6.25s\tremaining: 11.1s\n",
            "360:\tlearn: 0.2388706\ttotal: 6.27s\tremaining: 11.1s\n",
            "361:\tlearn: 0.2386722\ttotal: 6.28s\tremaining: 11.1s\n",
            "362:\tlearn: 0.2384761\ttotal: 6.3s\tremaining: 11.1s\n",
            "363:\tlearn: 0.2382875\ttotal: 6.31s\tremaining: 11s\n",
            "364:\tlearn: 0.2380361\ttotal: 6.33s\tremaining: 11s\n",
            "365:\tlearn: 0.2378095\ttotal: 6.35s\tremaining: 11s\n",
            "366:\tlearn: 0.2376791\ttotal: 6.37s\tremaining: 11s\n",
            "367:\tlearn: 0.2373645\ttotal: 6.38s\tremaining: 11s\n",
            "368:\tlearn: 0.2371363\ttotal: 6.4s\tremaining: 10.9s\n",
            "369:\tlearn: 0.2369355\ttotal: 6.41s\tremaining: 10.9s\n",
            "370:\tlearn: 0.2367058\ttotal: 6.43s\tremaining: 10.9s\n",
            "371:\tlearn: 0.2364867\ttotal: 6.45s\tremaining: 10.9s\n",
            "372:\tlearn: 0.2362936\ttotal: 6.47s\tremaining: 10.9s\n",
            "373:\tlearn: 0.2361401\ttotal: 6.49s\tremaining: 10.9s\n",
            "374:\tlearn: 0.2359512\ttotal: 6.5s\tremaining: 10.8s\n",
            "375:\tlearn: 0.2357474\ttotal: 6.52s\tremaining: 10.8s\n",
            "376:\tlearn: 0.2354894\ttotal: 6.53s\tremaining: 10.8s\n",
            "377:\tlearn: 0.2352173\ttotal: 6.55s\tremaining: 10.8s\n",
            "378:\tlearn: 0.2350274\ttotal: 6.57s\tremaining: 10.8s\n",
            "379:\tlearn: 0.2348565\ttotal: 6.59s\tremaining: 10.7s\n",
            "380:\tlearn: 0.2346972\ttotal: 6.6s\tremaining: 10.7s\n",
            "381:\tlearn: 0.2346249\ttotal: 6.62s\tremaining: 10.7s\n",
            "382:\tlearn: 0.2344082\ttotal: 6.64s\tremaining: 10.7s\n",
            "383:\tlearn: 0.2342083\ttotal: 6.66s\tremaining: 10.7s\n",
            "384:\tlearn: 0.2339890\ttotal: 6.68s\tremaining: 10.7s\n",
            "385:\tlearn: 0.2338518\ttotal: 6.69s\tremaining: 10.6s\n",
            "386:\tlearn: 0.2337336\ttotal: 6.71s\tremaining: 10.6s\n",
            "387:\tlearn: 0.2336473\ttotal: 6.72s\tremaining: 10.6s\n",
            "388:\tlearn: 0.2334708\ttotal: 6.74s\tremaining: 10.6s\n",
            "389:\tlearn: 0.2332261\ttotal: 6.76s\tremaining: 10.6s\n",
            "390:\tlearn: 0.2330890\ttotal: 6.78s\tremaining: 10.6s\n",
            "391:\tlearn: 0.2327859\ttotal: 6.79s\tremaining: 10.5s\n",
            "392:\tlearn: 0.2325609\ttotal: 6.81s\tremaining: 10.5s\n",
            "393:\tlearn: 0.2324247\ttotal: 6.83s\tremaining: 10.5s\n",
            "394:\tlearn: 0.2322831\ttotal: 6.84s\tremaining: 10.5s\n",
            "395:\tlearn: 0.2320190\ttotal: 6.86s\tremaining: 10.5s\n",
            "396:\tlearn: 0.2315934\ttotal: 6.88s\tremaining: 10.4s\n",
            "397:\tlearn: 0.2313744\ttotal: 6.89s\tremaining: 10.4s\n",
            "398:\tlearn: 0.2310726\ttotal: 6.92s\tremaining: 10.4s\n",
            "399:\tlearn: 0.2309407\ttotal: 6.93s\tremaining: 10.4s\n",
            "400:\tlearn: 0.2306538\ttotal: 6.95s\tremaining: 10.4s\n",
            "401:\tlearn: 0.2305148\ttotal: 6.97s\tremaining: 10.4s\n",
            "402:\tlearn: 0.2302759\ttotal: 6.98s\tremaining: 10.3s\n",
            "403:\tlearn: 0.2301622\ttotal: 7s\tremaining: 10.3s\n",
            "404:\tlearn: 0.2298505\ttotal: 7.02s\tremaining: 10.3s\n",
            "405:\tlearn: 0.2296514\ttotal: 7.04s\tremaining: 10.3s\n",
            "406:\tlearn: 0.2293315\ttotal: 7.05s\tremaining: 10.3s\n",
            "407:\tlearn: 0.2291590\ttotal: 7.07s\tremaining: 10.3s\n",
            "408:\tlearn: 0.2290397\ttotal: 7.09s\tremaining: 10.2s\n",
            "409:\tlearn: 0.2289452\ttotal: 7.1s\tremaining: 10.2s\n",
            "410:\tlearn: 0.2287793\ttotal: 7.12s\tremaining: 10.2s\n",
            "411:\tlearn: 0.2285820\ttotal: 7.13s\tremaining: 10.2s\n",
            "412:\tlearn: 0.2284254\ttotal: 7.15s\tremaining: 10.2s\n",
            "413:\tlearn: 0.2283090\ttotal: 7.18s\tremaining: 10.2s\n",
            "414:\tlearn: 0.2281401\ttotal: 7.2s\tremaining: 10.2s\n",
            "415:\tlearn: 0.2279708\ttotal: 7.22s\tremaining: 10.1s\n",
            "416:\tlearn: 0.2278025\ttotal: 7.24s\tremaining: 10.1s\n",
            "417:\tlearn: 0.2275505\ttotal: 7.25s\tremaining: 10.1s\n",
            "418:\tlearn: 0.2274429\ttotal: 7.27s\tremaining: 10.1s\n",
            "419:\tlearn: 0.2271327\ttotal: 7.29s\tremaining: 10.1s\n",
            "420:\tlearn: 0.2269232\ttotal: 7.3s\tremaining: 10s\n",
            "421:\tlearn: 0.2267770\ttotal: 7.32s\tremaining: 10s\n",
            "422:\tlearn: 0.2264260\ttotal: 7.33s\tremaining: 10s\n",
            "423:\tlearn: 0.2262709\ttotal: 7.35s\tremaining: 9.99s\n",
            "424:\tlearn: 0.2259483\ttotal: 7.37s\tremaining: 9.97s\n",
            "425:\tlearn: 0.2257847\ttotal: 7.39s\tremaining: 9.96s\n",
            "426:\tlearn: 0.2255799\ttotal: 7.41s\tremaining: 9.94s\n",
            "427:\tlearn: 0.2253166\ttotal: 7.42s\tremaining: 9.92s\n",
            "428:\tlearn: 0.2252423\ttotal: 7.44s\tremaining: 9.9s\n",
            "429:\tlearn: 0.2249839\ttotal: 7.46s\tremaining: 9.89s\n",
            "430:\tlearn: 0.2248333\ttotal: 7.48s\tremaining: 9.87s\n",
            "431:\tlearn: 0.2245945\ttotal: 7.5s\tremaining: 9.86s\n",
            "432:\tlearn: 0.2244363\ttotal: 7.51s\tremaining: 9.84s\n",
            "433:\tlearn: 0.2242151\ttotal: 7.53s\tremaining: 9.82s\n",
            "434:\tlearn: 0.2240928\ttotal: 7.54s\tremaining: 9.8s\n",
            "435:\tlearn: 0.2238375\ttotal: 7.56s\tremaining: 9.78s\n",
            "436:\tlearn: 0.2236990\ttotal: 7.58s\tremaining: 9.76s\n",
            "437:\tlearn: 0.2235210\ttotal: 7.6s\tremaining: 9.75s\n",
            "438:\tlearn: 0.2233460\ttotal: 7.62s\tremaining: 9.73s\n",
            "439:\tlearn: 0.2232674\ttotal: 7.63s\tremaining: 9.71s\n",
            "440:\tlearn: 0.2230984\ttotal: 7.65s\tremaining: 9.7s\n",
            "441:\tlearn: 0.2229501\ttotal: 7.67s\tremaining: 9.68s\n",
            "442:\tlearn: 0.2227552\ttotal: 7.68s\tremaining: 9.66s\n",
            "443:\tlearn: 0.2225086\ttotal: 7.7s\tremaining: 9.64s\n",
            "444:\tlearn: 0.2223363\ttotal: 7.72s\tremaining: 9.62s\n",
            "445:\tlearn: 0.2221929\ttotal: 7.73s\tremaining: 9.61s\n",
            "446:\tlearn: 0.2220355\ttotal: 7.75s\tremaining: 9.59s\n",
            "447:\tlearn: 0.2217876\ttotal: 7.77s\tremaining: 9.57s\n",
            "448:\tlearn: 0.2215826\ttotal: 7.78s\tremaining: 9.55s\n",
            "449:\tlearn: 0.2213278\ttotal: 7.8s\tremaining: 9.54s\n",
            "450:\tlearn: 0.2212341\ttotal: 7.82s\tremaining: 9.52s\n",
            "451:\tlearn: 0.2210783\ttotal: 7.84s\tremaining: 9.5s\n",
            "452:\tlearn: 0.2208889\ttotal: 7.85s\tremaining: 9.48s\n",
            "453:\tlearn: 0.2206180\ttotal: 7.87s\tremaining: 9.46s\n",
            "454:\tlearn: 0.2204574\ttotal: 7.9s\tremaining: 9.46s\n",
            "455:\tlearn: 0.2202775\ttotal: 7.91s\tremaining: 9.44s\n",
            "456:\tlearn: 0.2200839\ttotal: 7.93s\tremaining: 9.42s\n",
            "457:\tlearn: 0.2198957\ttotal: 7.95s\tremaining: 9.4s\n",
            "458:\tlearn: 0.2196887\ttotal: 7.96s\tremaining: 9.38s\n",
            "459:\tlearn: 0.2194861\ttotal: 7.98s\tremaining: 9.37s\n",
            "460:\tlearn: 0.2193515\ttotal: 8s\tremaining: 9.35s\n",
            "461:\tlearn: 0.2191948\ttotal: 8.02s\tremaining: 9.34s\n",
            "462:\tlearn: 0.2189873\ttotal: 8.03s\tremaining: 9.32s\n",
            "463:\tlearn: 0.2188493\ttotal: 8.05s\tremaining: 9.3s\n",
            "464:\tlearn: 0.2187051\ttotal: 8.06s\tremaining: 9.28s\n",
            "465:\tlearn: 0.2184498\ttotal: 8.08s\tremaining: 9.26s\n",
            "466:\tlearn: 0.2181912\ttotal: 8.1s\tremaining: 9.24s\n",
            "467:\tlearn: 0.2179893\ttotal: 8.11s\tremaining: 9.22s\n",
            "468:\tlearn: 0.2178580\ttotal: 8.13s\tremaining: 9.2s\n",
            "469:\tlearn: 0.2175214\ttotal: 8.15s\tremaining: 9.19s\n",
            "470:\tlearn: 0.2174334\ttotal: 8.16s\tremaining: 9.17s\n",
            "471:\tlearn: 0.2172805\ttotal: 8.18s\tremaining: 9.15s\n",
            "472:\tlearn: 0.2171628\ttotal: 8.21s\tremaining: 9.15s\n",
            "473:\tlearn: 0.2170736\ttotal: 8.23s\tremaining: 9.13s\n",
            "474:\tlearn: 0.2168809\ttotal: 8.25s\tremaining: 9.12s\n",
            "475:\tlearn: 0.2167335\ttotal: 8.26s\tremaining: 9.1s\n",
            "476:\tlearn: 0.2165053\ttotal: 8.28s\tremaining: 9.08s\n",
            "477:\tlearn: 0.2162319\ttotal: 8.3s\tremaining: 9.06s\n",
            "478:\tlearn: 0.2160466\ttotal: 8.31s\tremaining: 9.04s\n",
            "479:\tlearn: 0.2158630\ttotal: 8.33s\tremaining: 9.03s\n",
            "480:\tlearn: 0.2156317\ttotal: 8.35s\tremaining: 9.01s\n",
            "481:\tlearn: 0.2155088\ttotal: 8.37s\tremaining: 8.99s\n",
            "482:\tlearn: 0.2152954\ttotal: 8.38s\tremaining: 8.97s\n",
            "483:\tlearn: 0.2151933\ttotal: 8.4s\tremaining: 8.95s\n",
            "484:\tlearn: 0.2150823\ttotal: 8.42s\tremaining: 8.94s\n",
            "485:\tlearn: 0.2149348\ttotal: 8.44s\tremaining: 8.93s\n",
            "486:\tlearn: 0.2148012\ttotal: 8.47s\tremaining: 8.92s\n",
            "487:\tlearn: 0.2145981\ttotal: 8.5s\tremaining: 8.91s\n",
            "488:\tlearn: 0.2143536\ttotal: 8.52s\tremaining: 8.9s\n",
            "489:\tlearn: 0.2141383\ttotal: 8.55s\tremaining: 8.9s\n",
            "490:\tlearn: 0.2139406\ttotal: 8.58s\tremaining: 8.9s\n",
            "491:\tlearn: 0.2138003\ttotal: 8.61s\tremaining: 8.89s\n",
            "492:\tlearn: 0.2136856\ttotal: 8.66s\tremaining: 8.91s\n",
            "493:\tlearn: 0.2135377\ttotal: 8.7s\tremaining: 8.91s\n",
            "494:\tlearn: 0.2133286\ttotal: 8.74s\tremaining: 8.92s\n",
            "495:\tlearn: 0.2131527\ttotal: 8.79s\tremaining: 8.93s\n",
            "496:\tlearn: 0.2129962\ttotal: 8.83s\tremaining: 8.94s\n",
            "497:\tlearn: 0.2128466\ttotal: 8.89s\tremaining: 8.97s\n",
            "498:\tlearn: 0.2126915\ttotal: 8.93s\tremaining: 8.96s\n",
            "499:\tlearn: 0.2125582\ttotal: 8.97s\tremaining: 8.97s\n",
            "500:\tlearn: 0.2123962\ttotal: 9.02s\tremaining: 8.98s\n",
            "501:\tlearn: 0.2122727\ttotal: 9.06s\tremaining: 8.99s\n",
            "502:\tlearn: 0.2120895\ttotal: 9.11s\tremaining: 9s\n",
            "503:\tlearn: 0.2119229\ttotal: 9.16s\tremaining: 9.02s\n",
            "504:\tlearn: 0.2117457\ttotal: 9.21s\tremaining: 9.03s\n",
            "505:\tlearn: 0.2116088\ttotal: 9.24s\tremaining: 9.03s\n",
            "506:\tlearn: 0.2114965\ttotal: 9.27s\tremaining: 9.01s\n",
            "507:\tlearn: 0.2113277\ttotal: 9.29s\tremaining: 9s\n",
            "508:\tlearn: 0.2112297\ttotal: 9.32s\tremaining: 8.99s\n",
            "509:\tlearn: 0.2111329\ttotal: 9.35s\tremaining: 8.98s\n",
            "510:\tlearn: 0.2109289\ttotal: 9.4s\tremaining: 8.99s\n",
            "511:\tlearn: 0.2106925\ttotal: 9.44s\tremaining: 9s\n",
            "512:\tlearn: 0.2106013\ttotal: 9.48s\tremaining: 9s\n",
            "513:\tlearn: 0.2104137\ttotal: 9.53s\tremaining: 9.01s\n",
            "514:\tlearn: 0.2101885\ttotal: 9.55s\tremaining: 8.99s\n",
            "515:\tlearn: 0.2101024\ttotal: 9.58s\tremaining: 8.98s\n",
            "516:\tlearn: 0.2098922\ttotal: 9.63s\tremaining: 8.99s\n",
            "517:\tlearn: 0.2096725\ttotal: 9.67s\tremaining: 9s\n",
            "518:\tlearn: 0.2094688\ttotal: 9.71s\tremaining: 9s\n",
            "519:\tlearn: 0.2093085\ttotal: 9.76s\tremaining: 9.01s\n",
            "520:\tlearn: 0.2091211\ttotal: 9.8s\tremaining: 9.01s\n",
            "521:\tlearn: 0.2089319\ttotal: 9.86s\tremaining: 9.03s\n",
            "522:\tlearn: 0.2087271\ttotal: 9.9s\tremaining: 9.03s\n",
            "523:\tlearn: 0.2085915\ttotal: 9.94s\tremaining: 9.03s\n",
            "524:\tlearn: 0.2083396\ttotal: 10s\tremaining: 9.04s\n",
            "525:\tlearn: 0.2081449\ttotal: 10s\tremaining: 9.04s\n",
            "526:\tlearn: 0.2079995\ttotal: 10.1s\tremaining: 9.04s\n",
            "527:\tlearn: 0.2078028\ttotal: 10.1s\tremaining: 9.04s\n",
            "528:\tlearn: 0.2077046\ttotal: 10.1s\tremaining: 9.03s\n",
            "529:\tlearn: 0.2075382\ttotal: 10.2s\tremaining: 9.03s\n",
            "530:\tlearn: 0.2074630\ttotal: 10.2s\tremaining: 9.03s\n",
            "531:\tlearn: 0.2073123\ttotal: 10.3s\tremaining: 9.04s\n",
            "532:\tlearn: 0.2072023\ttotal: 10.3s\tremaining: 9.04s\n",
            "533:\tlearn: 0.2069668\ttotal: 10.4s\tremaining: 9.04s\n",
            "534:\tlearn: 0.2068819\ttotal: 10.4s\tremaining: 9.03s\n",
            "535:\tlearn: 0.2067587\ttotal: 10.4s\tremaining: 9.04s\n",
            "536:\tlearn: 0.2066391\ttotal: 10.5s\tremaining: 9.04s\n",
            "537:\tlearn: 0.2065346\ttotal: 10.5s\tremaining: 9.02s\n",
            "538:\tlearn: 0.2064274\ttotal: 10.5s\tremaining: 9.02s\n",
            "539:\tlearn: 0.2063039\ttotal: 10.6s\tremaining: 9.02s\n",
            "540:\tlearn: 0.2061827\ttotal: 10.6s\tremaining: 9.02s\n",
            "541:\tlearn: 0.2060663\ttotal: 10.7s\tremaining: 9.01s\n",
            "542:\tlearn: 0.2059436\ttotal: 10.7s\tremaining: 9.01s\n",
            "543:\tlearn: 0.2058242\ttotal: 10.7s\tremaining: 9.01s\n",
            "544:\tlearn: 0.2056959\ttotal: 10.8s\tremaining: 8.99s\n",
            "545:\tlearn: 0.2055952\ttotal: 10.8s\tremaining: 8.99s\n",
            "546:\tlearn: 0.2055011\ttotal: 10.9s\tremaining: 8.99s\n",
            "547:\tlearn: 0.2053907\ttotal: 10.9s\tremaining: 8.99s\n",
            "548:\tlearn: 0.2051777\ttotal: 10.9s\tremaining: 8.99s\n",
            "549:\tlearn: 0.2050421\ttotal: 11s\tremaining: 8.99s\n",
            "550:\tlearn: 0.2049446\ttotal: 11s\tremaining: 8.98s\n",
            "551:\tlearn: 0.2046522\ttotal: 11.1s\tremaining: 8.98s\n",
            "552:\tlearn: 0.2044557\ttotal: 11.1s\tremaining: 8.98s\n",
            "553:\tlearn: 0.2043519\ttotal: 11.2s\tremaining: 8.98s\n",
            "554:\tlearn: 0.2042315\ttotal: 11.2s\tremaining: 8.97s\n",
            "555:\tlearn: 0.2041154\ttotal: 11.2s\tremaining: 8.97s\n",
            "556:\tlearn: 0.2039262\ttotal: 11.3s\tremaining: 8.97s\n",
            "557:\tlearn: 0.2038564\ttotal: 11.3s\tremaining: 8.97s\n",
            "558:\tlearn: 0.2036784\ttotal: 11.4s\tremaining: 8.97s\n",
            "559:\tlearn: 0.2035579\ttotal: 11.4s\tremaining: 8.97s\n",
            "560:\tlearn: 0.2034077\ttotal: 11.5s\tremaining: 8.97s\n",
            "561:\tlearn: 0.2032553\ttotal: 11.5s\tremaining: 8.96s\n",
            "562:\tlearn: 0.2031751\ttotal: 11.5s\tremaining: 8.95s\n",
            "563:\tlearn: 0.2030708\ttotal: 11.6s\tremaining: 8.94s\n",
            "564:\tlearn: 0.2028887\ttotal: 11.6s\tremaining: 8.95s\n",
            "565:\tlearn: 0.2027371\ttotal: 11.7s\tremaining: 8.95s\n",
            "566:\tlearn: 0.2025739\ttotal: 11.7s\tremaining: 8.94s\n",
            "567:\tlearn: 0.2023282\ttotal: 11.8s\tremaining: 8.94s\n",
            "568:\tlearn: 0.2021618\ttotal: 11.8s\tremaining: 8.94s\n",
            "569:\tlearn: 0.2019783\ttotal: 11.8s\tremaining: 8.93s\n",
            "570:\tlearn: 0.2017943\ttotal: 11.9s\tremaining: 8.93s\n",
            "571:\tlearn: 0.2017115\ttotal: 11.9s\tremaining: 8.93s\n",
            "572:\tlearn: 0.2015616\ttotal: 12s\tremaining: 8.93s\n",
            "573:\tlearn: 0.2014905\ttotal: 12s\tremaining: 8.92s\n",
            "574:\tlearn: 0.2013430\ttotal: 12.1s\tremaining: 8.92s\n",
            "575:\tlearn: 0.2012303\ttotal: 12.1s\tremaining: 8.91s\n",
            "576:\tlearn: 0.2011410\ttotal: 12.1s\tremaining: 8.9s\n",
            "577:\tlearn: 0.2010408\ttotal: 12.2s\tremaining: 8.9s\n",
            "578:\tlearn: 0.2008399\ttotal: 12.2s\tremaining: 8.89s\n",
            "579:\tlearn: 0.2006691\ttotal: 12.3s\tremaining: 8.89s\n",
            "580:\tlearn: 0.2005952\ttotal: 12.3s\tremaining: 8.89s\n",
            "581:\tlearn: 0.2004513\ttotal: 12.4s\tremaining: 8.89s\n",
            "582:\tlearn: 0.2003739\ttotal: 12.4s\tremaining: 8.88s\n",
            "583:\tlearn: 0.2002620\ttotal: 12.5s\tremaining: 8.88s\n",
            "584:\tlearn: 0.2001408\ttotal: 12.5s\tremaining: 8.87s\n",
            "585:\tlearn: 0.1999774\ttotal: 12.6s\tremaining: 8.87s\n",
            "586:\tlearn: 0.1998702\ttotal: 12.6s\tremaining: 8.86s\n",
            "587:\tlearn: 0.1997185\ttotal: 12.6s\tremaining: 8.85s\n",
            "588:\tlearn: 0.1996090\ttotal: 12.7s\tremaining: 8.85s\n",
            "589:\tlearn: 0.1994985\ttotal: 12.7s\tremaining: 8.84s\n",
            "590:\tlearn: 0.1993637\ttotal: 12.8s\tremaining: 8.84s\n",
            "591:\tlearn: 0.1992797\ttotal: 12.8s\tremaining: 8.83s\n",
            "592:\tlearn: 0.1991211\ttotal: 12.9s\tremaining: 8.83s\n",
            "593:\tlearn: 0.1990324\ttotal: 12.9s\tremaining: 8.82s\n",
            "594:\tlearn: 0.1989053\ttotal: 12.9s\tremaining: 8.79s\n",
            "595:\tlearn: 0.1987647\ttotal: 12.9s\tremaining: 8.77s\n",
            "596:\tlearn: 0.1985806\ttotal: 13s\tremaining: 8.74s\n",
            "597:\tlearn: 0.1984349\ttotal: 13s\tremaining: 8.72s\n",
            "598:\tlearn: 0.1983873\ttotal: 13s\tremaining: 8.69s\n",
            "599:\tlearn: 0.1982962\ttotal: 13s\tremaining: 8.67s\n",
            "600:\tlearn: 0.1982212\ttotal: 13s\tremaining: 8.64s\n",
            "601:\tlearn: 0.1980750\ttotal: 13s\tremaining: 8.62s\n",
            "602:\tlearn: 0.1979891\ttotal: 13.1s\tremaining: 8.59s\n",
            "603:\tlearn: 0.1978826\ttotal: 13.1s\tremaining: 8.57s\n",
            "604:\tlearn: 0.1977307\ttotal: 13.1s\tremaining: 8.54s\n",
            "605:\tlearn: 0.1976601\ttotal: 13.1s\tremaining: 8.52s\n",
            "606:\tlearn: 0.1975494\ttotal: 13.1s\tremaining: 8.49s\n",
            "607:\tlearn: 0.1973909\ttotal: 13.1s\tremaining: 8.47s\n",
            "608:\tlearn: 0.1972797\ttotal: 13.2s\tremaining: 8.45s\n",
            "609:\tlearn: 0.1971552\ttotal: 13.2s\tremaining: 8.42s\n",
            "610:\tlearn: 0.1970439\ttotal: 13.2s\tremaining: 8.4s\n",
            "611:\tlearn: 0.1968897\ttotal: 13.2s\tremaining: 8.37s\n",
            "612:\tlearn: 0.1968349\ttotal: 13.2s\tremaining: 8.35s\n",
            "613:\tlearn: 0.1966795\ttotal: 13.2s\tremaining: 8.32s\n",
            "614:\tlearn: 0.1965613\ttotal: 13.3s\tremaining: 8.3s\n",
            "615:\tlearn: 0.1964349\ttotal: 13.3s\tremaining: 8.28s\n",
            "616:\tlearn: 0.1963177\ttotal: 13.3s\tremaining: 8.26s\n",
            "617:\tlearn: 0.1961469\ttotal: 13.3s\tremaining: 8.23s\n",
            "618:\tlearn: 0.1959970\ttotal: 13.3s\tremaining: 8.21s\n",
            "619:\tlearn: 0.1959291\ttotal: 13.4s\tremaining: 8.19s\n",
            "620:\tlearn: 0.1957797\ttotal: 13.4s\tremaining: 8.17s\n",
            "621:\tlearn: 0.1956157\ttotal: 13.4s\tremaining: 8.15s\n",
            "622:\tlearn: 0.1955115\ttotal: 13.4s\tremaining: 8.12s\n",
            "623:\tlearn: 0.1954029\ttotal: 13.4s\tremaining: 8.1s\n",
            "624:\tlearn: 0.1952763\ttotal: 13.5s\tremaining: 8.07s\n",
            "625:\tlearn: 0.1951688\ttotal: 13.5s\tremaining: 8.05s\n",
            "626:\tlearn: 0.1950749\ttotal: 13.5s\tremaining: 8.03s\n",
            "627:\tlearn: 0.1949662\ttotal: 13.5s\tremaining: 8s\n",
            "628:\tlearn: 0.1948769\ttotal: 13.5s\tremaining: 7.98s\n",
            "629:\tlearn: 0.1947814\ttotal: 13.5s\tremaining: 7.95s\n",
            "630:\tlearn: 0.1947171\ttotal: 13.6s\tremaining: 7.93s\n",
            "631:\tlearn: 0.1946455\ttotal: 13.6s\tremaining: 7.9s\n",
            "632:\tlearn: 0.1945453\ttotal: 13.6s\tremaining: 7.88s\n",
            "633:\tlearn: 0.1944558\ttotal: 13.6s\tremaining: 7.86s\n",
            "634:\tlearn: 0.1942497\ttotal: 13.6s\tremaining: 7.83s\n",
            "635:\tlearn: 0.1940909\ttotal: 13.6s\tremaining: 7.81s\n",
            "636:\tlearn: 0.1939821\ttotal: 13.7s\tremaining: 7.78s\n",
            "637:\tlearn: 0.1938356\ttotal: 13.7s\tremaining: 7.76s\n",
            "638:\tlearn: 0.1937627\ttotal: 13.7s\tremaining: 7.73s\n",
            "639:\tlearn: 0.1936556\ttotal: 13.7s\tremaining: 7.71s\n",
            "640:\tlearn: 0.1935499\ttotal: 13.7s\tremaining: 7.69s\n",
            "641:\tlearn: 0.1934550\ttotal: 13.7s\tremaining: 7.67s\n",
            "642:\tlearn: 0.1932613\ttotal: 13.8s\tremaining: 7.64s\n",
            "643:\tlearn: 0.1931452\ttotal: 13.8s\tremaining: 7.62s\n",
            "644:\tlearn: 0.1930343\ttotal: 13.8s\tremaining: 7.6s\n",
            "645:\tlearn: 0.1929255\ttotal: 13.8s\tremaining: 7.57s\n",
            "646:\tlearn: 0.1927438\ttotal: 13.8s\tremaining: 7.55s\n",
            "647:\tlearn: 0.1926461\ttotal: 13.9s\tremaining: 7.53s\n",
            "648:\tlearn: 0.1925006\ttotal: 13.9s\tremaining: 7.5s\n",
            "649:\tlearn: 0.1923774\ttotal: 13.9s\tremaining: 7.48s\n",
            "650:\tlearn: 0.1922262\ttotal: 13.9s\tremaining: 7.46s\n",
            "651:\tlearn: 0.1921153\ttotal: 13.9s\tremaining: 7.43s\n",
            "652:\tlearn: 0.1920133\ttotal: 13.9s\tremaining: 7.41s\n",
            "653:\tlearn: 0.1918965\ttotal: 14s\tremaining: 7.39s\n",
            "654:\tlearn: 0.1917846\ttotal: 14s\tremaining: 7.36s\n",
            "655:\tlearn: 0.1917074\ttotal: 14s\tremaining: 7.34s\n",
            "656:\tlearn: 0.1916451\ttotal: 14s\tremaining: 7.31s\n",
            "657:\tlearn: 0.1915504\ttotal: 14s\tremaining: 7.29s\n",
            "658:\tlearn: 0.1914514\ttotal: 14s\tremaining: 7.26s\n",
            "659:\tlearn: 0.1913127\ttotal: 14.1s\tremaining: 7.24s\n",
            "660:\tlearn: 0.1912323\ttotal: 14.1s\tremaining: 7.22s\n",
            "661:\tlearn: 0.1911296\ttotal: 14.1s\tremaining: 7.19s\n",
            "662:\tlearn: 0.1910546\ttotal: 14.1s\tremaining: 7.17s\n",
            "663:\tlearn: 0.1909430\ttotal: 14.1s\tremaining: 7.15s\n",
            "664:\tlearn: 0.1908519\ttotal: 14.1s\tremaining: 7.13s\n",
            "665:\tlearn: 0.1907519\ttotal: 14.2s\tremaining: 7.1s\n",
            "666:\tlearn: 0.1906946\ttotal: 14.2s\tremaining: 7.08s\n",
            "667:\tlearn: 0.1905812\ttotal: 14.2s\tremaining: 7.05s\n",
            "668:\tlearn: 0.1904698\ttotal: 14.2s\tremaining: 7.03s\n",
            "669:\tlearn: 0.1903544\ttotal: 14.2s\tremaining: 7.01s\n",
            "670:\tlearn: 0.1902782\ttotal: 14.2s\tremaining: 6.98s\n",
            "671:\tlearn: 0.1901884\ttotal: 14.3s\tremaining: 6.96s\n",
            "672:\tlearn: 0.1899896\ttotal: 14.3s\tremaining: 6.93s\n",
            "673:\tlearn: 0.1898942\ttotal: 14.3s\tremaining: 6.91s\n",
            "674:\tlearn: 0.1897982\ttotal: 14.3s\tremaining: 6.89s\n",
            "675:\tlearn: 0.1896987\ttotal: 14.3s\tremaining: 6.86s\n",
            "676:\tlearn: 0.1895526\ttotal: 14.3s\tremaining: 6.84s\n",
            "677:\tlearn: 0.1894775\ttotal: 14.4s\tremaining: 6.82s\n",
            "678:\tlearn: 0.1894006\ttotal: 14.4s\tremaining: 6.8s\n",
            "679:\tlearn: 0.1893219\ttotal: 14.4s\tremaining: 6.78s\n",
            "680:\tlearn: 0.1891590\ttotal: 14.4s\tremaining: 6.75s\n",
            "681:\tlearn: 0.1890611\ttotal: 14.4s\tremaining: 6.73s\n",
            "682:\tlearn: 0.1889670\ttotal: 14.5s\tremaining: 6.71s\n",
            "683:\tlearn: 0.1888531\ttotal: 14.5s\tremaining: 6.68s\n",
            "684:\tlearn: 0.1887764\ttotal: 14.5s\tremaining: 6.66s\n",
            "685:\tlearn: 0.1886876\ttotal: 14.5s\tremaining: 6.64s\n",
            "686:\tlearn: 0.1886059\ttotal: 14.5s\tremaining: 6.61s\n",
            "687:\tlearn: 0.1885162\ttotal: 14.5s\tremaining: 6.59s\n",
            "688:\tlearn: 0.1884304\ttotal: 14.6s\tremaining: 6.57s\n",
            "689:\tlearn: 0.1883421\ttotal: 14.6s\tremaining: 6.55s\n",
            "690:\tlearn: 0.1881874\ttotal: 14.6s\tremaining: 6.53s\n",
            "691:\tlearn: 0.1881251\ttotal: 14.6s\tremaining: 6.5s\n",
            "692:\tlearn: 0.1880400\ttotal: 14.6s\tremaining: 6.48s\n",
            "693:\tlearn: 0.1878708\ttotal: 14.6s\tremaining: 6.46s\n",
            "694:\tlearn: 0.1877807\ttotal: 14.7s\tremaining: 6.43s\n",
            "695:\tlearn: 0.1876943\ttotal: 14.7s\tremaining: 6.41s\n",
            "696:\tlearn: 0.1875840\ttotal: 14.7s\tremaining: 6.38s\n",
            "697:\tlearn: 0.1875129\ttotal: 14.7s\tremaining: 6.36s\n",
            "698:\tlearn: 0.1873969\ttotal: 14.7s\tremaining: 6.34s\n",
            "699:\tlearn: 0.1872893\ttotal: 14.7s\tremaining: 6.32s\n",
            "700:\tlearn: 0.1871856\ttotal: 14.8s\tremaining: 6.3s\n",
            "701:\tlearn: 0.1871448\ttotal: 14.8s\tremaining: 6.27s\n",
            "702:\tlearn: 0.1870119\ttotal: 14.8s\tremaining: 6.25s\n",
            "703:\tlearn: 0.1868867\ttotal: 14.8s\tremaining: 6.23s\n",
            "704:\tlearn: 0.1867937\ttotal: 14.8s\tremaining: 6.2s\n",
            "705:\tlearn: 0.1866400\ttotal: 14.8s\tremaining: 6.18s\n",
            "706:\tlearn: 0.1865104\ttotal: 14.9s\tremaining: 6.16s\n",
            "707:\tlearn: 0.1864047\ttotal: 14.9s\tremaining: 6.13s\n",
            "708:\tlearn: 0.1862356\ttotal: 14.9s\tremaining: 6.11s\n",
            "709:\tlearn: 0.1861667\ttotal: 14.9s\tremaining: 6.09s\n",
            "710:\tlearn: 0.1860258\ttotal: 14.9s\tremaining: 6.07s\n",
            "711:\tlearn: 0.1859360\ttotal: 14.9s\tremaining: 6.04s\n",
            "712:\tlearn: 0.1858697\ttotal: 15s\tremaining: 6.02s\n",
            "713:\tlearn: 0.1857834\ttotal: 15s\tremaining: 6s\n",
            "714:\tlearn: 0.1857170\ttotal: 15s\tremaining: 5.98s\n",
            "715:\tlearn: 0.1856033\ttotal: 15s\tremaining: 5.95s\n",
            "716:\tlearn: 0.1855302\ttotal: 15s\tremaining: 5.93s\n",
            "717:\tlearn: 0.1854538\ttotal: 15s\tremaining: 5.91s\n",
            "718:\tlearn: 0.1853371\ttotal: 15.1s\tremaining: 5.88s\n",
            "719:\tlearn: 0.1852551\ttotal: 15.1s\tremaining: 5.86s\n",
            "720:\tlearn: 0.1851580\ttotal: 15.1s\tremaining: 5.84s\n",
            "721:\tlearn: 0.1849063\ttotal: 15.1s\tremaining: 5.82s\n",
            "722:\tlearn: 0.1848082\ttotal: 15.1s\tremaining: 5.79s\n",
            "723:\tlearn: 0.1846930\ttotal: 15.1s\tremaining: 5.77s\n",
            "724:\tlearn: 0.1845639\ttotal: 15.2s\tremaining: 5.75s\n",
            "725:\tlearn: 0.1844507\ttotal: 15.2s\tremaining: 5.73s\n",
            "726:\tlearn: 0.1843555\ttotal: 15.2s\tremaining: 5.7s\n",
            "727:\tlearn: 0.1842816\ttotal: 15.2s\tremaining: 5.68s\n",
            "728:\tlearn: 0.1840667\ttotal: 15.2s\tremaining: 5.66s\n",
            "729:\tlearn: 0.1839190\ttotal: 15.2s\tremaining: 5.63s\n",
            "730:\tlearn: 0.1838172\ttotal: 15.3s\tremaining: 5.61s\n",
            "731:\tlearn: 0.1837483\ttotal: 15.3s\tremaining: 5.59s\n",
            "732:\tlearn: 0.1836696\ttotal: 15.3s\tremaining: 5.57s\n",
            "733:\tlearn: 0.1835999\ttotal: 15.3s\tremaining: 5.54s\n",
            "734:\tlearn: 0.1834944\ttotal: 15.3s\tremaining: 5.52s\n",
            "735:\tlearn: 0.1833351\ttotal: 15.3s\tremaining: 5.5s\n",
            "736:\tlearn: 0.1832244\ttotal: 15.4s\tremaining: 5.48s\n",
            "737:\tlearn: 0.1831210\ttotal: 15.4s\tremaining: 5.46s\n",
            "738:\tlearn: 0.1830611\ttotal: 15.4s\tremaining: 5.44s\n",
            "739:\tlearn: 0.1829888\ttotal: 15.4s\tremaining: 5.42s\n",
            "740:\tlearn: 0.1829023\ttotal: 15.4s\tremaining: 5.4s\n",
            "741:\tlearn: 0.1827979\ttotal: 15.5s\tremaining: 5.38s\n",
            "742:\tlearn: 0.1827088\ttotal: 15.5s\tremaining: 5.35s\n",
            "743:\tlearn: 0.1826337\ttotal: 15.5s\tremaining: 5.33s\n",
            "744:\tlearn: 0.1825350\ttotal: 15.5s\tremaining: 5.31s\n",
            "745:\tlearn: 0.1824661\ttotal: 15.5s\tremaining: 5.29s\n",
            "746:\tlearn: 0.1823791\ttotal: 15.5s\tremaining: 5.26s\n",
            "747:\tlearn: 0.1822823\ttotal: 15.6s\tremaining: 5.24s\n",
            "748:\tlearn: 0.1822111\ttotal: 15.6s\tremaining: 5.22s\n",
            "749:\tlearn: 0.1821158\ttotal: 15.6s\tremaining: 5.2s\n",
            "750:\tlearn: 0.1820097\ttotal: 15.6s\tremaining: 5.17s\n",
            "751:\tlearn: 0.1819198\ttotal: 15.6s\tremaining: 5.15s\n",
            "752:\tlearn: 0.1818552\ttotal: 15.6s\tremaining: 5.13s\n",
            "753:\tlearn: 0.1816830\ttotal: 15.7s\tremaining: 5.11s\n",
            "754:\tlearn: 0.1815176\ttotal: 15.7s\tremaining: 5.08s\n",
            "755:\tlearn: 0.1814182\ttotal: 15.7s\tremaining: 5.06s\n",
            "756:\tlearn: 0.1813122\ttotal: 15.7s\tremaining: 5.04s\n",
            "757:\tlearn: 0.1812116\ttotal: 15.7s\tremaining: 5.02s\n",
            "758:\tlearn: 0.1811585\ttotal: 15.7s\tremaining: 5s\n",
            "759:\tlearn: 0.1810951\ttotal: 15.8s\tremaining: 4.98s\n",
            "760:\tlearn: 0.1809901\ttotal: 15.8s\tremaining: 4.96s\n",
            "761:\tlearn: 0.1809084\ttotal: 15.8s\tremaining: 4.94s\n",
            "762:\tlearn: 0.1807655\ttotal: 15.8s\tremaining: 4.91s\n",
            "763:\tlearn: 0.1806106\ttotal: 15.8s\tremaining: 4.89s\n",
            "764:\tlearn: 0.1804748\ttotal: 15.9s\tremaining: 4.87s\n",
            "765:\tlearn: 0.1804060\ttotal: 15.9s\tremaining: 4.85s\n",
            "766:\tlearn: 0.1802953\ttotal: 15.9s\tremaining: 4.83s\n",
            "767:\tlearn: 0.1801337\ttotal: 15.9s\tremaining: 4.8s\n",
            "768:\tlearn: 0.1799796\ttotal: 15.9s\tremaining: 4.78s\n",
            "769:\tlearn: 0.1798609\ttotal: 15.9s\tremaining: 4.76s\n",
            "770:\tlearn: 0.1797401\ttotal: 15.9s\tremaining: 4.74s\n",
            "771:\tlearn: 0.1796155\ttotal: 16s\tremaining: 4.71s\n",
            "772:\tlearn: 0.1795495\ttotal: 16s\tremaining: 4.69s\n",
            "773:\tlearn: 0.1794704\ttotal: 16s\tremaining: 4.67s\n",
            "774:\tlearn: 0.1794213\ttotal: 16s\tremaining: 4.65s\n",
            "775:\tlearn: 0.1793850\ttotal: 16s\tremaining: 4.63s\n",
            "776:\tlearn: 0.1793275\ttotal: 16s\tremaining: 4.61s\n",
            "777:\tlearn: 0.1792068\ttotal: 16.1s\tremaining: 4.58s\n",
            "778:\tlearn: 0.1791188\ttotal: 16.1s\tremaining: 4.56s\n",
            "779:\tlearn: 0.1790478\ttotal: 16.1s\tremaining: 4.54s\n",
            "780:\tlearn: 0.1788981\ttotal: 16.1s\tremaining: 4.52s\n",
            "781:\tlearn: 0.1787402\ttotal: 16.1s\tremaining: 4.5s\n",
            "782:\tlearn: 0.1786319\ttotal: 16.1s\tremaining: 4.47s\n",
            "783:\tlearn: 0.1785022\ttotal: 16.2s\tremaining: 4.45s\n",
            "784:\tlearn: 0.1784006\ttotal: 16.2s\tremaining: 4.43s\n",
            "785:\tlearn: 0.1783359\ttotal: 16.2s\tremaining: 4.41s\n",
            "786:\tlearn: 0.1782684\ttotal: 16.2s\tremaining: 4.39s\n",
            "787:\tlearn: 0.1781949\ttotal: 16.2s\tremaining: 4.37s\n",
            "788:\tlearn: 0.1781272\ttotal: 16.2s\tremaining: 4.34s\n",
            "789:\tlearn: 0.1779111\ttotal: 16.3s\tremaining: 4.32s\n",
            "790:\tlearn: 0.1778775\ttotal: 16.3s\tremaining: 4.3s\n",
            "791:\tlearn: 0.1778010\ttotal: 16.3s\tremaining: 4.28s\n",
            "792:\tlearn: 0.1777245\ttotal: 16.3s\tremaining: 4.26s\n",
            "793:\tlearn: 0.1776566\ttotal: 16.3s\tremaining: 4.24s\n",
            "794:\tlearn: 0.1775337\ttotal: 16.3s\tremaining: 4.21s\n",
            "795:\tlearn: 0.1774110\ttotal: 16.4s\tremaining: 4.19s\n",
            "796:\tlearn: 0.1772317\ttotal: 16.4s\tremaining: 4.17s\n",
            "797:\tlearn: 0.1771151\ttotal: 16.4s\tremaining: 4.15s\n",
            "798:\tlearn: 0.1769984\ttotal: 16.4s\tremaining: 4.13s\n",
            "799:\tlearn: 0.1769253\ttotal: 16.4s\tremaining: 4.11s\n",
            "800:\tlearn: 0.1768370\ttotal: 16.5s\tremaining: 4.09s\n",
            "801:\tlearn: 0.1767122\ttotal: 16.5s\tremaining: 4.07s\n",
            "802:\tlearn: 0.1766152\ttotal: 16.5s\tremaining: 4.05s\n",
            "803:\tlearn: 0.1765314\ttotal: 16.5s\tremaining: 4.02s\n",
            "804:\tlearn: 0.1764471\ttotal: 16.5s\tremaining: 4s\n",
            "805:\tlearn: 0.1763774\ttotal: 16.5s\tremaining: 3.98s\n",
            "806:\tlearn: 0.1763043\ttotal: 16.6s\tremaining: 3.96s\n",
            "807:\tlearn: 0.1761721\ttotal: 16.6s\tremaining: 3.94s\n",
            "808:\tlearn: 0.1760126\ttotal: 16.6s\tremaining: 3.92s\n",
            "809:\tlearn: 0.1759396\ttotal: 16.6s\tremaining: 3.9s\n",
            "810:\tlearn: 0.1758611\ttotal: 16.6s\tremaining: 3.88s\n",
            "811:\tlearn: 0.1757980\ttotal: 16.6s\tremaining: 3.85s\n",
            "812:\tlearn: 0.1757146\ttotal: 16.7s\tremaining: 3.83s\n",
            "813:\tlearn: 0.1755809\ttotal: 16.7s\tremaining: 3.81s\n",
            "814:\tlearn: 0.1754578\ttotal: 16.7s\tremaining: 3.79s\n",
            "815:\tlearn: 0.1753743\ttotal: 16.7s\tremaining: 3.77s\n",
            "816:\tlearn: 0.1753003\ttotal: 16.7s\tremaining: 3.75s\n",
            "817:\tlearn: 0.1752516\ttotal: 16.8s\tremaining: 3.73s\n",
            "818:\tlearn: 0.1751581\ttotal: 16.8s\tremaining: 3.71s\n",
            "819:\tlearn: 0.1750526\ttotal: 16.8s\tremaining: 3.68s\n",
            "820:\tlearn: 0.1749825\ttotal: 16.8s\tremaining: 3.66s\n",
            "821:\tlearn: 0.1748495\ttotal: 16.8s\tremaining: 3.64s\n",
            "822:\tlearn: 0.1747988\ttotal: 16.8s\tremaining: 3.62s\n",
            "823:\tlearn: 0.1746941\ttotal: 16.9s\tremaining: 3.6s\n",
            "824:\tlearn: 0.1746069\ttotal: 16.9s\tremaining: 3.58s\n",
            "825:\tlearn: 0.1745142\ttotal: 16.9s\tremaining: 3.56s\n",
            "826:\tlearn: 0.1743960\ttotal: 16.9s\tremaining: 3.54s\n",
            "827:\tlearn: 0.1742577\ttotal: 16.9s\tremaining: 3.51s\n",
            "828:\tlearn: 0.1741791\ttotal: 16.9s\tremaining: 3.49s\n",
            "829:\tlearn: 0.1740763\ttotal: 16.9s\tremaining: 3.47s\n",
            "830:\tlearn: 0.1740042\ttotal: 17s\tremaining: 3.45s\n",
            "831:\tlearn: 0.1739181\ttotal: 17s\tremaining: 3.43s\n",
            "832:\tlearn: 0.1738426\ttotal: 17s\tremaining: 3.41s\n",
            "833:\tlearn: 0.1737237\ttotal: 17s\tremaining: 3.39s\n",
            "834:\tlearn: 0.1736095\ttotal: 17s\tremaining: 3.37s\n",
            "835:\tlearn: 0.1735114\ttotal: 17s\tremaining: 3.34s\n",
            "836:\tlearn: 0.1734007\ttotal: 17.1s\tremaining: 3.32s\n",
            "837:\tlearn: 0.1732751\ttotal: 17.1s\tremaining: 3.3s\n",
            "838:\tlearn: 0.1731162\ttotal: 17.1s\tremaining: 3.28s\n",
            "839:\tlearn: 0.1730173\ttotal: 17.1s\tremaining: 3.26s\n",
            "840:\tlearn: 0.1729253\ttotal: 17.1s\tremaining: 3.24s\n",
            "841:\tlearn: 0.1728219\ttotal: 17.1s\tremaining: 3.22s\n",
            "842:\tlearn: 0.1727499\ttotal: 17.2s\tremaining: 3.2s\n",
            "843:\tlearn: 0.1726733\ttotal: 17.2s\tremaining: 3.17s\n",
            "844:\tlearn: 0.1725227\ttotal: 17.2s\tremaining: 3.15s\n",
            "845:\tlearn: 0.1724352\ttotal: 17.2s\tremaining: 3.13s\n",
            "846:\tlearn: 0.1723784\ttotal: 17.2s\tremaining: 3.11s\n",
            "847:\tlearn: 0.1722864\ttotal: 17.2s\tremaining: 3.09s\n",
            "848:\tlearn: 0.1722010\ttotal: 17.3s\tremaining: 3.07s\n",
            "849:\tlearn: 0.1721175\ttotal: 17.3s\tremaining: 3.05s\n",
            "850:\tlearn: 0.1720603\ttotal: 17.3s\tremaining: 3.03s\n",
            "851:\tlearn: 0.1719475\ttotal: 17.3s\tremaining: 3.01s\n",
            "852:\tlearn: 0.1718638\ttotal: 17.3s\tremaining: 2.99s\n",
            "853:\tlearn: 0.1717160\ttotal: 17.3s\tremaining: 2.96s\n",
            "854:\tlearn: 0.1715811\ttotal: 17.4s\tremaining: 2.94s\n",
            "855:\tlearn: 0.1715095\ttotal: 17.4s\tremaining: 2.92s\n",
            "856:\tlearn: 0.1714044\ttotal: 17.4s\tremaining: 2.9s\n",
            "857:\tlearn: 0.1713272\ttotal: 17.4s\tremaining: 2.88s\n",
            "858:\tlearn: 0.1712490\ttotal: 17.4s\tremaining: 2.86s\n",
            "859:\tlearn: 0.1711402\ttotal: 17.5s\tremaining: 2.84s\n",
            "860:\tlearn: 0.1710164\ttotal: 17.5s\tremaining: 2.82s\n",
            "861:\tlearn: 0.1709039\ttotal: 17.5s\tremaining: 2.8s\n",
            "862:\tlearn: 0.1708341\ttotal: 17.5s\tremaining: 2.78s\n",
            "863:\tlearn: 0.1707447\ttotal: 17.5s\tremaining: 2.76s\n",
            "864:\tlearn: 0.1705676\ttotal: 17.6s\tremaining: 2.74s\n",
            "865:\tlearn: 0.1705118\ttotal: 17.6s\tremaining: 2.72s\n",
            "866:\tlearn: 0.1703538\ttotal: 17.6s\tremaining: 2.7s\n",
            "867:\tlearn: 0.1702241\ttotal: 17.6s\tremaining: 2.68s\n",
            "868:\tlearn: 0.1701317\ttotal: 17.6s\tremaining: 2.65s\n",
            "869:\tlearn: 0.1699929\ttotal: 17.6s\tremaining: 2.63s\n",
            "870:\tlearn: 0.1698982\ttotal: 17.7s\tremaining: 2.61s\n",
            "871:\tlearn: 0.1698295\ttotal: 17.7s\tremaining: 2.59s\n",
            "872:\tlearn: 0.1697528\ttotal: 17.7s\tremaining: 2.57s\n",
            "873:\tlearn: 0.1696882\ttotal: 17.7s\tremaining: 2.55s\n",
            "874:\tlearn: 0.1695873\ttotal: 17.7s\tremaining: 2.53s\n",
            "875:\tlearn: 0.1694535\ttotal: 17.7s\tremaining: 2.51s\n",
            "876:\tlearn: 0.1693289\ttotal: 17.8s\tremaining: 2.49s\n",
            "877:\tlearn: 0.1692725\ttotal: 17.8s\tremaining: 2.47s\n",
            "878:\tlearn: 0.1692275\ttotal: 17.8s\tremaining: 2.45s\n",
            "879:\tlearn: 0.1691605\ttotal: 17.8s\tremaining: 2.43s\n",
            "880:\tlearn: 0.1690897\ttotal: 17.8s\tremaining: 2.41s\n",
            "881:\tlearn: 0.1690189\ttotal: 17.8s\tremaining: 2.39s\n",
            "882:\tlearn: 0.1689677\ttotal: 17.9s\tremaining: 2.37s\n",
            "883:\tlearn: 0.1688746\ttotal: 17.9s\tremaining: 2.35s\n",
            "884:\tlearn: 0.1687913\ttotal: 17.9s\tremaining: 2.33s\n",
            "885:\tlearn: 0.1686738\ttotal: 17.9s\tremaining: 2.3s\n",
            "886:\tlearn: 0.1685744\ttotal: 17.9s\tremaining: 2.28s\n",
            "887:\tlearn: 0.1685096\ttotal: 17.9s\tremaining: 2.26s\n",
            "888:\tlearn: 0.1683620\ttotal: 18s\tremaining: 2.24s\n",
            "889:\tlearn: 0.1682947\ttotal: 18s\tremaining: 2.22s\n",
            "890:\tlearn: 0.1682380\ttotal: 18s\tremaining: 2.2s\n",
            "891:\tlearn: 0.1681854\ttotal: 18s\tremaining: 2.18s\n",
            "892:\tlearn: 0.1679774\ttotal: 18s\tremaining: 2.16s\n",
            "893:\tlearn: 0.1679034\ttotal: 18s\tremaining: 2.14s\n",
            "894:\tlearn: 0.1678158\ttotal: 18.1s\tremaining: 2.12s\n",
            "895:\tlearn: 0.1676156\ttotal: 18.1s\tremaining: 2.1s\n",
            "896:\tlearn: 0.1675340\ttotal: 18.1s\tremaining: 2.08s\n",
            "897:\tlearn: 0.1674795\ttotal: 18.1s\tremaining: 2.06s\n",
            "898:\tlearn: 0.1674155\ttotal: 18.1s\tremaining: 2.04s\n",
            "899:\tlearn: 0.1673530\ttotal: 18.1s\tremaining: 2.02s\n",
            "900:\tlearn: 0.1672953\ttotal: 18.2s\tremaining: 2s\n",
            "901:\tlearn: 0.1672011\ttotal: 18.2s\tremaining: 1.97s\n",
            "902:\tlearn: 0.1670638\ttotal: 18.2s\tremaining: 1.95s\n",
            "903:\tlearn: 0.1669665\ttotal: 18.2s\tremaining: 1.93s\n",
            "904:\tlearn: 0.1668663\ttotal: 18.2s\tremaining: 1.91s\n",
            "905:\tlearn: 0.1667380\ttotal: 18.2s\tremaining: 1.89s\n",
            "906:\tlearn: 0.1666617\ttotal: 18.3s\tremaining: 1.87s\n",
            "907:\tlearn: 0.1666127\ttotal: 18.3s\tremaining: 1.85s\n",
            "908:\tlearn: 0.1665228\ttotal: 18.3s\tremaining: 1.83s\n",
            "909:\tlearn: 0.1664806\ttotal: 18.3s\tremaining: 1.81s\n",
            "910:\tlearn: 0.1663859\ttotal: 18.3s\tremaining: 1.79s\n",
            "911:\tlearn: 0.1663266\ttotal: 18.3s\tremaining: 1.77s\n",
            "912:\tlearn: 0.1662693\ttotal: 18.4s\tremaining: 1.75s\n",
            "913:\tlearn: 0.1661635\ttotal: 18.4s\tremaining: 1.73s\n",
            "914:\tlearn: 0.1661002\ttotal: 18.4s\tremaining: 1.71s\n",
            "915:\tlearn: 0.1660225\ttotal: 18.4s\tremaining: 1.69s\n",
            "916:\tlearn: 0.1659061\ttotal: 18.5s\tremaining: 1.67s\n",
            "917:\tlearn: 0.1658087\ttotal: 18.5s\tremaining: 1.65s\n",
            "918:\tlearn: 0.1657341\ttotal: 18.5s\tremaining: 1.63s\n",
            "919:\tlearn: 0.1656668\ttotal: 18.5s\tremaining: 1.61s\n",
            "920:\tlearn: 0.1655895\ttotal: 18.5s\tremaining: 1.59s\n",
            "921:\tlearn: 0.1654600\ttotal: 18.5s\tremaining: 1.57s\n",
            "922:\tlearn: 0.1653689\ttotal: 18.6s\tremaining: 1.55s\n",
            "923:\tlearn: 0.1652681\ttotal: 18.6s\tremaining: 1.53s\n",
            "924:\tlearn: 0.1651820\ttotal: 18.6s\tremaining: 1.51s\n",
            "925:\tlearn: 0.1650210\ttotal: 18.6s\tremaining: 1.49s\n",
            "926:\tlearn: 0.1649690\ttotal: 18.6s\tremaining: 1.47s\n",
            "927:\tlearn: 0.1648853\ttotal: 18.6s\tremaining: 1.45s\n",
            "928:\tlearn: 0.1648234\ttotal: 18.6s\tremaining: 1.43s\n",
            "929:\tlearn: 0.1647306\ttotal: 18.7s\tremaining: 1.4s\n",
            "930:\tlearn: 0.1646446\ttotal: 18.7s\tremaining: 1.39s\n",
            "931:\tlearn: 0.1645690\ttotal: 18.7s\tremaining: 1.36s\n",
            "932:\tlearn: 0.1644141\ttotal: 18.7s\tremaining: 1.34s\n",
            "933:\tlearn: 0.1643057\ttotal: 18.7s\tremaining: 1.32s\n",
            "934:\tlearn: 0.1641973\ttotal: 18.8s\tremaining: 1.3s\n",
            "935:\tlearn: 0.1641471\ttotal: 18.8s\tremaining: 1.28s\n",
            "936:\tlearn: 0.1640650\ttotal: 18.8s\tremaining: 1.26s\n",
            "937:\tlearn: 0.1639644\ttotal: 18.8s\tremaining: 1.24s\n",
            "938:\tlearn: 0.1638846\ttotal: 18.8s\tremaining: 1.22s\n",
            "939:\tlearn: 0.1638261\ttotal: 18.8s\tremaining: 1.2s\n",
            "940:\tlearn: 0.1637187\ttotal: 18.9s\tremaining: 1.18s\n",
            "941:\tlearn: 0.1636430\ttotal: 18.9s\tremaining: 1.16s\n",
            "942:\tlearn: 0.1635284\ttotal: 18.9s\tremaining: 1.14s\n",
            "943:\tlearn: 0.1634601\ttotal: 18.9s\tremaining: 1.12s\n",
            "944:\tlearn: 0.1633272\ttotal: 18.9s\tremaining: 1.1s\n",
            "945:\tlearn: 0.1632509\ttotal: 18.9s\tremaining: 1.08s\n",
            "946:\tlearn: 0.1631019\ttotal: 19s\tremaining: 1.06s\n",
            "947:\tlearn: 0.1630321\ttotal: 19s\tremaining: 1.04s\n",
            "948:\tlearn: 0.1629751\ttotal: 19s\tremaining: 1.02s\n",
            "949:\tlearn: 0.1629031\ttotal: 19s\tremaining: 1s\n",
            "950:\tlearn: 0.1628116\ttotal: 19s\tremaining: 980ms\n",
            "951:\tlearn: 0.1627562\ttotal: 19s\tremaining: 960ms\n",
            "952:\tlearn: 0.1626069\ttotal: 19.1s\tremaining: 940ms\n",
            "953:\tlearn: 0.1624597\ttotal: 19.1s\tremaining: 920ms\n",
            "954:\tlearn: 0.1623376\ttotal: 19.1s\tremaining: 900ms\n",
            "955:\tlearn: 0.1622637\ttotal: 19.1s\tremaining: 879ms\n",
            "956:\tlearn: 0.1621904\ttotal: 19.1s\tremaining: 859ms\n",
            "957:\tlearn: 0.1620916\ttotal: 19.1s\tremaining: 839ms\n",
            "958:\tlearn: 0.1620215\ttotal: 19.2s\tremaining: 819ms\n",
            "959:\tlearn: 0.1619776\ttotal: 19.2s\tremaining: 799ms\n",
            "960:\tlearn: 0.1619151\ttotal: 19.2s\tremaining: 779ms\n",
            "961:\tlearn: 0.1618455\ttotal: 19.2s\tremaining: 759ms\n",
            "962:\tlearn: 0.1617800\ttotal: 19.2s\tremaining: 739ms\n",
            "963:\tlearn: 0.1616992\ttotal: 19.2s\tremaining: 719ms\n",
            "964:\tlearn: 0.1616037\ttotal: 19.3s\tremaining: 699ms\n",
            "965:\tlearn: 0.1615020\ttotal: 19.3s\tremaining: 678ms\n",
            "966:\tlearn: 0.1614355\ttotal: 19.3s\tremaining: 658ms\n",
            "967:\tlearn: 0.1613861\ttotal: 19.3s\tremaining: 638ms\n",
            "968:\tlearn: 0.1612757\ttotal: 19.3s\tremaining: 618ms\n",
            "969:\tlearn: 0.1611818\ttotal: 19.3s\tremaining: 598ms\n",
            "970:\tlearn: 0.1611331\ttotal: 19.4s\tremaining: 579ms\n",
            "971:\tlearn: 0.1610423\ttotal: 19.4s\tremaining: 559ms\n",
            "972:\tlearn: 0.1609594\ttotal: 19.4s\tremaining: 538ms\n",
            "973:\tlearn: 0.1608666\ttotal: 19.4s\tremaining: 518ms\n",
            "974:\tlearn: 0.1607268\ttotal: 19.4s\tremaining: 499ms\n",
            "975:\tlearn: 0.1606513\ttotal: 19.5s\tremaining: 479ms\n",
            "976:\tlearn: 0.1605462\ttotal: 19.5s\tremaining: 459ms\n",
            "977:\tlearn: 0.1604514\ttotal: 19.5s\tremaining: 439ms\n",
            "978:\tlearn: 0.1603124\ttotal: 19.5s\tremaining: 419ms\n",
            "979:\tlearn: 0.1602441\ttotal: 19.5s\tremaining: 399ms\n",
            "980:\tlearn: 0.1601746\ttotal: 19.6s\tremaining: 379ms\n",
            "981:\tlearn: 0.1601136\ttotal: 19.6s\tremaining: 359ms\n",
            "982:\tlearn: 0.1600212\ttotal: 19.6s\tremaining: 339ms\n",
            "983:\tlearn: 0.1599684\ttotal: 19.6s\tremaining: 319ms\n",
            "984:\tlearn: 0.1598425\ttotal: 19.6s\tremaining: 299ms\n",
            "985:\tlearn: 0.1597519\ttotal: 19.6s\tremaining: 279ms\n",
            "986:\tlearn: 0.1597092\ttotal: 19.7s\tremaining: 259ms\n",
            "987:\tlearn: 0.1596170\ttotal: 19.7s\tremaining: 239ms\n",
            "988:\tlearn: 0.1595096\ttotal: 19.7s\tremaining: 219ms\n",
            "989:\tlearn: 0.1594404\ttotal: 19.7s\tremaining: 199ms\n",
            "990:\tlearn: 0.1593290\ttotal: 19.7s\tremaining: 179ms\n",
            "991:\tlearn: 0.1592171\ttotal: 19.7s\tremaining: 159ms\n",
            "992:\tlearn: 0.1591639\ttotal: 19.8s\tremaining: 139ms\n",
            "993:\tlearn: 0.1591214\ttotal: 19.8s\tremaining: 119ms\n",
            "994:\tlearn: 0.1590400\ttotal: 19.8s\tremaining: 99.5ms\n",
            "995:\tlearn: 0.1589572\ttotal: 19.8s\tremaining: 79.6ms\n",
            "996:\tlearn: 0.1588466\ttotal: 19.8s\tremaining: 59.7ms\n",
            "997:\tlearn: 0.1587897\ttotal: 19.9s\tremaining: 39.8ms\n",
            "998:\tlearn: 0.1587132\ttotal: 19.9s\tremaining: 19.9ms\n",
            "999:\tlearn: 0.1586457\ttotal: 19.9s\tremaining: 0us\n",
            "Learning rate set to 0.063682\n",
            "0:\tlearn: 0.6552648\ttotal: 18.5ms\tremaining: 18.5s\n",
            "1:\tlearn: 0.6190810\ttotal: 36.1ms\tremaining: 18s\n",
            "2:\tlearn: 0.5885623\ttotal: 52.3ms\tremaining: 17.4s\n",
            "3:\tlearn: 0.5638986\ttotal: 69ms\tremaining: 17.2s\n",
            "4:\tlearn: 0.5450186\ttotal: 86.1ms\tremaining: 17.1s\n",
            "5:\tlearn: 0.5288077\ttotal: 104ms\tremaining: 17.2s\n",
            "6:\tlearn: 0.5153863\ttotal: 120ms\tremaining: 17.1s\n",
            "7:\tlearn: 0.5024583\ttotal: 138ms\tremaining: 17.1s\n",
            "8:\tlearn: 0.4916018\ttotal: 155ms\tremaining: 17.1s\n",
            "9:\tlearn: 0.4820344\ttotal: 172ms\tremaining: 17s\n",
            "10:\tlearn: 0.4733801\ttotal: 189ms\tremaining: 17s\n",
            "11:\tlearn: 0.4659734\ttotal: 210ms\tremaining: 17.3s\n",
            "12:\tlearn: 0.4583692\ttotal: 227ms\tremaining: 17.2s\n",
            "13:\tlearn: 0.4501412\ttotal: 244ms\tremaining: 17.2s\n",
            "14:\tlearn: 0.4446646\ttotal: 260ms\tremaining: 17.1s\n",
            "15:\tlearn: 0.4379717\ttotal: 278ms\tremaining: 17.1s\n",
            "16:\tlearn: 0.4333129\ttotal: 297ms\tremaining: 17.2s\n",
            "17:\tlearn: 0.4291775\ttotal: 316ms\tremaining: 17.3s\n",
            "18:\tlearn: 0.4251918\ttotal: 333ms\tremaining: 17.2s\n",
            "19:\tlearn: 0.4206100\ttotal: 350ms\tremaining: 17.1s\n",
            "20:\tlearn: 0.4169451\ttotal: 367ms\tremaining: 17.1s\n",
            "21:\tlearn: 0.4134737\ttotal: 384ms\tremaining: 17.1s\n",
            "22:\tlearn: 0.4103501\ttotal: 406ms\tremaining: 17.2s\n",
            "23:\tlearn: 0.4075981\ttotal: 430ms\tremaining: 17.5s\n",
            "24:\tlearn: 0.4049518\ttotal: 448ms\tremaining: 17.5s\n",
            "25:\tlearn: 0.4026114\ttotal: 465ms\tremaining: 17.4s\n",
            "26:\tlearn: 0.3998533\ttotal: 501ms\tremaining: 18.1s\n",
            "27:\tlearn: 0.3975346\ttotal: 519ms\tremaining: 18s\n",
            "28:\tlearn: 0.3957846\ttotal: 536ms\tremaining: 18s\n",
            "29:\tlearn: 0.3932532\ttotal: 553ms\tremaining: 17.9s\n",
            "30:\tlearn: 0.3897574\ttotal: 570ms\tremaining: 17.8s\n",
            "31:\tlearn: 0.3878083\ttotal: 586ms\tremaining: 17.7s\n",
            "32:\tlearn: 0.3855957\ttotal: 603ms\tremaining: 17.7s\n",
            "33:\tlearn: 0.3838691\ttotal: 620ms\tremaining: 17.6s\n",
            "34:\tlearn: 0.3822115\ttotal: 641ms\tremaining: 17.7s\n",
            "35:\tlearn: 0.3807323\ttotal: 657ms\tremaining: 17.6s\n",
            "36:\tlearn: 0.3793504\ttotal: 683ms\tremaining: 17.8s\n",
            "37:\tlearn: 0.3766156\ttotal: 703ms\tremaining: 17.8s\n",
            "38:\tlearn: 0.3743396\ttotal: 720ms\tremaining: 17.7s\n",
            "39:\tlearn: 0.3717492\ttotal: 737ms\tremaining: 17.7s\n",
            "40:\tlearn: 0.3706154\ttotal: 754ms\tremaining: 17.6s\n",
            "41:\tlearn: 0.3694743\ttotal: 770ms\tremaining: 17.6s\n",
            "42:\tlearn: 0.3682498\ttotal: 789ms\tremaining: 17.6s\n",
            "43:\tlearn: 0.3671398\ttotal: 807ms\tremaining: 17.5s\n",
            "44:\tlearn: 0.3659634\ttotal: 829ms\tremaining: 17.6s\n",
            "45:\tlearn: 0.3647314\ttotal: 850ms\tremaining: 17.6s\n",
            "46:\tlearn: 0.3638570\ttotal: 868ms\tremaining: 17.6s\n",
            "47:\tlearn: 0.3630907\ttotal: 884ms\tremaining: 17.5s\n",
            "48:\tlearn: 0.3620244\ttotal: 902ms\tremaining: 17.5s\n",
            "49:\tlearn: 0.3608896\ttotal: 919ms\tremaining: 17.5s\n",
            "50:\tlearn: 0.3600199\ttotal: 936ms\tremaining: 17.4s\n",
            "51:\tlearn: 0.3568535\ttotal: 953ms\tremaining: 17.4s\n",
            "52:\tlearn: 0.3556274\ttotal: 971ms\tremaining: 17.3s\n",
            "53:\tlearn: 0.3546693\ttotal: 988ms\tremaining: 17.3s\n",
            "54:\tlearn: 0.3539154\ttotal: 1s\tremaining: 17.3s\n",
            "55:\tlearn: 0.3531249\ttotal: 1.02s\tremaining: 17.2s\n",
            "56:\tlearn: 0.3525444\ttotal: 1.04s\tremaining: 17.2s\n",
            "57:\tlearn: 0.3517566\ttotal: 1.06s\tremaining: 17.2s\n",
            "58:\tlearn: 0.3508330\ttotal: 1.08s\tremaining: 17.3s\n",
            "59:\tlearn: 0.3500605\ttotal: 1.1s\tremaining: 17.2s\n",
            "60:\tlearn: 0.3493214\ttotal: 1.11s\tremaining: 17.2s\n",
            "61:\tlearn: 0.3484254\ttotal: 1.13s\tremaining: 17.1s\n",
            "62:\tlearn: 0.3467747\ttotal: 1.15s\tremaining: 17.1s\n",
            "63:\tlearn: 0.3454446\ttotal: 1.17s\tremaining: 17.1s\n",
            "64:\tlearn: 0.3443605\ttotal: 1.18s\tremaining: 17s\n",
            "65:\tlearn: 0.3438519\ttotal: 1.2s\tremaining: 17s\n",
            "66:\tlearn: 0.3432146\ttotal: 1.22s\tremaining: 16.9s\n",
            "67:\tlearn: 0.3421385\ttotal: 1.23s\tremaining: 16.9s\n",
            "68:\tlearn: 0.3415343\ttotal: 1.25s\tremaining: 16.9s\n",
            "69:\tlearn: 0.3399727\ttotal: 1.28s\tremaining: 17s\n",
            "70:\tlearn: 0.3393350\ttotal: 1.3s\tremaining: 17s\n",
            "71:\tlearn: 0.3387289\ttotal: 1.32s\tremaining: 17s\n",
            "72:\tlearn: 0.3379571\ttotal: 1.33s\tremaining: 16.9s\n",
            "73:\tlearn: 0.3373992\ttotal: 1.35s\tremaining: 16.9s\n",
            "74:\tlearn: 0.3366274\ttotal: 1.37s\tremaining: 16.9s\n",
            "75:\tlearn: 0.3361055\ttotal: 1.39s\tremaining: 16.9s\n",
            "76:\tlearn: 0.3356068\ttotal: 1.41s\tremaining: 16.9s\n",
            "77:\tlearn: 0.3349084\ttotal: 1.42s\tremaining: 16.8s\n",
            "78:\tlearn: 0.3344104\ttotal: 1.44s\tremaining: 16.8s\n",
            "79:\tlearn: 0.3335067\ttotal: 1.46s\tremaining: 16.8s\n",
            "80:\tlearn: 0.3330104\ttotal: 1.48s\tremaining: 16.7s\n",
            "81:\tlearn: 0.3324322\ttotal: 1.51s\tremaining: 17s\n",
            "82:\tlearn: 0.3318275\ttotal: 1.53s\tremaining: 16.9s\n",
            "83:\tlearn: 0.3313435\ttotal: 1.55s\tremaining: 16.9s\n",
            "84:\tlearn: 0.3306617\ttotal: 1.56s\tremaining: 16.8s\n",
            "85:\tlearn: 0.3302587\ttotal: 1.58s\tremaining: 16.8s\n",
            "86:\tlearn: 0.3289467\ttotal: 1.6s\tremaining: 16.8s\n",
            "87:\tlearn: 0.3284679\ttotal: 1.62s\tremaining: 16.8s\n",
            "88:\tlearn: 0.3279435\ttotal: 1.63s\tremaining: 16.7s\n",
            "89:\tlearn: 0.3274747\ttotal: 1.65s\tremaining: 16.7s\n",
            "90:\tlearn: 0.3269308\ttotal: 1.67s\tremaining: 16.7s\n",
            "91:\tlearn: 0.3260630\ttotal: 1.7s\tremaining: 16.7s\n",
            "92:\tlearn: 0.3254131\ttotal: 1.72s\tremaining: 16.7s\n",
            "93:\tlearn: 0.3250505\ttotal: 1.73s\tremaining: 16.7s\n",
            "94:\tlearn: 0.3244635\ttotal: 1.75s\tremaining: 16.7s\n",
            "95:\tlearn: 0.3239861\ttotal: 1.77s\tremaining: 16.7s\n",
            "96:\tlearn: 0.3235898\ttotal: 1.79s\tremaining: 16.7s\n",
            "97:\tlearn: 0.3230820\ttotal: 1.81s\tremaining: 16.6s\n",
            "98:\tlearn: 0.3225467\ttotal: 1.82s\tremaining: 16.6s\n",
            "99:\tlearn: 0.3218250\ttotal: 1.84s\tremaining: 16.6s\n",
            "100:\tlearn: 0.3211614\ttotal: 1.86s\tremaining: 16.5s\n",
            "101:\tlearn: 0.3207008\ttotal: 1.88s\tremaining: 16.5s\n",
            "102:\tlearn: 0.3203588\ttotal: 1.89s\tremaining: 16.5s\n",
            "103:\tlearn: 0.3198688\ttotal: 1.91s\tremaining: 16.5s\n",
            "104:\tlearn: 0.3193478\ttotal: 1.93s\tremaining: 16.5s\n",
            "105:\tlearn: 0.3187246\ttotal: 1.95s\tremaining: 16.4s\n",
            "106:\tlearn: 0.3180653\ttotal: 1.97s\tremaining: 16.4s\n",
            "107:\tlearn: 0.3176973\ttotal: 1.98s\tremaining: 16.4s\n",
            "108:\tlearn: 0.3174280\ttotal: 2s\tremaining: 16.4s\n",
            "109:\tlearn: 0.3167790\ttotal: 2.02s\tremaining: 16.3s\n",
            "110:\tlearn: 0.3163857\ttotal: 2.03s\tremaining: 16.3s\n",
            "111:\tlearn: 0.3158885\ttotal: 2.05s\tremaining: 16.3s\n",
            "112:\tlearn: 0.3154326\ttotal: 2.07s\tremaining: 16.2s\n",
            "113:\tlearn: 0.3150466\ttotal: 2.08s\tremaining: 16.2s\n",
            "114:\tlearn: 0.3146444\ttotal: 2.1s\tremaining: 16.2s\n",
            "115:\tlearn: 0.3140919\ttotal: 2.13s\tremaining: 16.2s\n",
            "116:\tlearn: 0.3134466\ttotal: 2.15s\tremaining: 16.2s\n",
            "117:\tlearn: 0.3129965\ttotal: 2.17s\tremaining: 16.2s\n",
            "118:\tlearn: 0.3127504\ttotal: 2.18s\tremaining: 16.2s\n",
            "119:\tlearn: 0.3123943\ttotal: 2.2s\tremaining: 16.1s\n",
            "120:\tlearn: 0.3120508\ttotal: 2.22s\tremaining: 16.1s\n",
            "121:\tlearn: 0.3117533\ttotal: 2.23s\tremaining: 16.1s\n",
            "122:\tlearn: 0.3111356\ttotal: 2.25s\tremaining: 16s\n",
            "123:\tlearn: 0.3108278\ttotal: 2.27s\tremaining: 16s\n",
            "124:\tlearn: 0.3104996\ttotal: 2.29s\tremaining: 16s\n",
            "125:\tlearn: 0.3100096\ttotal: 2.3s\tremaining: 16s\n",
            "126:\tlearn: 0.3097237\ttotal: 2.32s\tremaining: 16s\n",
            "127:\tlearn: 0.3093194\ttotal: 2.34s\tremaining: 16s\n",
            "128:\tlearn: 0.3089001\ttotal: 2.36s\tremaining: 15.9s\n",
            "129:\tlearn: 0.3084151\ttotal: 2.38s\tremaining: 15.9s\n",
            "130:\tlearn: 0.3081281\ttotal: 2.4s\tremaining: 15.9s\n",
            "131:\tlearn: 0.3074904\ttotal: 2.41s\tremaining: 15.9s\n",
            "132:\tlearn: 0.3072082\ttotal: 2.43s\tremaining: 15.9s\n",
            "133:\tlearn: 0.3068750\ttotal: 2.45s\tremaining: 15.8s\n",
            "134:\tlearn: 0.3065640\ttotal: 2.46s\tremaining: 15.8s\n",
            "135:\tlearn: 0.3062470\ttotal: 2.48s\tremaining: 15.8s\n",
            "136:\tlearn: 0.3057404\ttotal: 2.5s\tremaining: 15.7s\n",
            "137:\tlearn: 0.3052005\ttotal: 2.54s\tremaining: 15.8s\n",
            "138:\tlearn: 0.3049631\ttotal: 2.56s\tremaining: 15.8s\n",
            "139:\tlearn: 0.3045419\ttotal: 2.57s\tremaining: 15.8s\n",
            "140:\tlearn: 0.3042833\ttotal: 2.59s\tremaining: 15.8s\n",
            "141:\tlearn: 0.3039754\ttotal: 2.61s\tremaining: 15.8s\n",
            "142:\tlearn: 0.3034341\ttotal: 2.63s\tremaining: 15.7s\n",
            "143:\tlearn: 0.3030532\ttotal: 2.65s\tremaining: 15.7s\n",
            "144:\tlearn: 0.3025338\ttotal: 2.67s\tremaining: 15.7s\n",
            "145:\tlearn: 0.3020916\ttotal: 2.69s\tremaining: 15.7s\n",
            "146:\tlearn: 0.3014739\ttotal: 2.7s\tremaining: 15.7s\n",
            "147:\tlearn: 0.3011470\ttotal: 2.72s\tremaining: 15.7s\n",
            "148:\tlearn: 0.3009027\ttotal: 2.73s\tremaining: 15.6s\n",
            "149:\tlearn: 0.3006657\ttotal: 2.75s\tremaining: 15.6s\n",
            "150:\tlearn: 0.3001922\ttotal: 2.79s\tremaining: 15.7s\n",
            "151:\tlearn: 0.2998358\ttotal: 2.82s\tremaining: 15.7s\n",
            "152:\tlearn: 0.2995846\ttotal: 2.85s\tremaining: 15.8s\n",
            "153:\tlearn: 0.2992568\ttotal: 2.89s\tremaining: 15.9s\n",
            "154:\tlearn: 0.2987873\ttotal: 2.91s\tremaining: 15.9s\n",
            "155:\tlearn: 0.2985178\ttotal: 2.95s\tremaining: 16s\n",
            "156:\tlearn: 0.2981597\ttotal: 3s\tremaining: 16.1s\n",
            "157:\tlearn: 0.2978177\ttotal: 3.03s\tremaining: 16.1s\n",
            "158:\tlearn: 0.2974664\ttotal: 3.07s\tremaining: 16.2s\n",
            "159:\tlearn: 0.2969585\ttotal: 3.11s\tremaining: 16.3s\n",
            "160:\tlearn: 0.2966658\ttotal: 3.15s\tremaining: 16.4s\n",
            "161:\tlearn: 0.2963566\ttotal: 3.21s\tremaining: 16.6s\n",
            "162:\tlearn: 0.2960764\ttotal: 3.24s\tremaining: 16.6s\n",
            "163:\tlearn: 0.2957591\ttotal: 3.29s\tremaining: 16.8s\n",
            "164:\tlearn: 0.2954117\ttotal: 3.34s\tremaining: 16.9s\n",
            "165:\tlearn: 0.2951638\ttotal: 3.39s\tremaining: 17s\n",
            "166:\tlearn: 0.2948014\ttotal: 3.44s\tremaining: 17.2s\n",
            "167:\tlearn: 0.2945071\ttotal: 3.49s\tremaining: 17.3s\n",
            "168:\tlearn: 0.2941124\ttotal: 3.54s\tremaining: 17.4s\n",
            "169:\tlearn: 0.2938999\ttotal: 3.58s\tremaining: 17.5s\n",
            "170:\tlearn: 0.2936467\ttotal: 3.63s\tremaining: 17.6s\n",
            "171:\tlearn: 0.2933168\ttotal: 3.68s\tremaining: 17.7s\n",
            "172:\tlearn: 0.2929718\ttotal: 3.72s\tremaining: 17.8s\n",
            "173:\tlearn: 0.2927140\ttotal: 3.77s\tremaining: 17.9s\n",
            "174:\tlearn: 0.2924174\ttotal: 3.81s\tremaining: 17.9s\n",
            "175:\tlearn: 0.2919470\ttotal: 3.83s\tremaining: 17.9s\n",
            "176:\tlearn: 0.2913961\ttotal: 3.88s\tremaining: 18s\n",
            "177:\tlearn: 0.2910529\ttotal: 3.93s\tremaining: 18.1s\n",
            "178:\tlearn: 0.2907101\ttotal: 3.97s\tremaining: 18.2s\n",
            "179:\tlearn: 0.2902641\ttotal: 4.02s\tremaining: 18.3s\n",
            "180:\tlearn: 0.2900217\ttotal: 4.06s\tremaining: 18.4s\n",
            "181:\tlearn: 0.2895546\ttotal: 4.1s\tremaining: 18.4s\n",
            "182:\tlearn: 0.2893669\ttotal: 4.13s\tremaining: 18.4s\n",
            "183:\tlearn: 0.2888519\ttotal: 4.16s\tremaining: 18.5s\n",
            "184:\tlearn: 0.2884301\ttotal: 4.21s\tremaining: 18.5s\n",
            "185:\tlearn: 0.2880683\ttotal: 4.26s\tremaining: 18.7s\n",
            "186:\tlearn: 0.2875199\ttotal: 4.33s\tremaining: 18.8s\n",
            "187:\tlearn: 0.2870469\ttotal: 4.37s\tremaining: 18.9s\n",
            "188:\tlearn: 0.2866649\ttotal: 4.39s\tremaining: 18.8s\n",
            "189:\tlearn: 0.2862491\ttotal: 4.44s\tremaining: 18.9s\n",
            "190:\tlearn: 0.2858744\ttotal: 4.48s\tremaining: 19s\n",
            "191:\tlearn: 0.2854512\ttotal: 4.52s\tremaining: 19s\n",
            "192:\tlearn: 0.2851159\ttotal: 4.57s\tremaining: 19.1s\n",
            "193:\tlearn: 0.2846982\ttotal: 4.63s\tremaining: 19.2s\n",
            "194:\tlearn: 0.2843141\ttotal: 4.67s\tremaining: 19.3s\n",
            "195:\tlearn: 0.2840506\ttotal: 4.69s\tremaining: 19.2s\n",
            "196:\tlearn: 0.2836430\ttotal: 4.74s\tremaining: 19.3s\n",
            "197:\tlearn: 0.2834322\ttotal: 4.78s\tremaining: 19.4s\n",
            "198:\tlearn: 0.2830544\ttotal: 4.81s\tremaining: 19.4s\n",
            "199:\tlearn: 0.2827367\ttotal: 4.85s\tremaining: 19.4s\n",
            "200:\tlearn: 0.2823409\ttotal: 4.89s\tremaining: 19.4s\n",
            "201:\tlearn: 0.2819864\ttotal: 4.93s\tremaining: 19.5s\n",
            "202:\tlearn: 0.2815367\ttotal: 4.97s\tremaining: 19.5s\n",
            "203:\tlearn: 0.2813413\ttotal: 5.02s\tremaining: 19.6s\n",
            "204:\tlearn: 0.2809156\ttotal: 5.06s\tremaining: 19.6s\n",
            "205:\tlearn: 0.2805358\ttotal: 5.09s\tremaining: 19.6s\n",
            "206:\tlearn: 0.2801098\ttotal: 5.14s\tremaining: 19.7s\n",
            "207:\tlearn: 0.2797670\ttotal: 5.18s\tremaining: 19.7s\n",
            "208:\tlearn: 0.2793126\ttotal: 5.24s\tremaining: 19.8s\n",
            "209:\tlearn: 0.2789105\ttotal: 5.29s\tremaining: 19.9s\n",
            "210:\tlearn: 0.2785946\ttotal: 5.34s\tremaining: 20s\n",
            "211:\tlearn: 0.2781776\ttotal: 5.38s\tremaining: 20s\n",
            "212:\tlearn: 0.2778125\ttotal: 5.43s\tremaining: 20.1s\n",
            "213:\tlearn: 0.2775869\ttotal: 5.47s\tremaining: 20.1s\n",
            "214:\tlearn: 0.2768153\ttotal: 5.52s\tremaining: 20.1s\n",
            "215:\tlearn: 0.2765468\ttotal: 5.56s\tremaining: 20.2s\n",
            "216:\tlearn: 0.2761617\ttotal: 5.61s\tremaining: 20.3s\n",
            "217:\tlearn: 0.2758372\ttotal: 5.66s\tremaining: 20.3s\n",
            "218:\tlearn: 0.2755622\ttotal: 5.72s\tremaining: 20.4s\n",
            "219:\tlearn: 0.2751847\ttotal: 5.76s\tremaining: 20.4s\n",
            "220:\tlearn: 0.2749209\ttotal: 5.81s\tremaining: 20.5s\n",
            "221:\tlearn: 0.2744554\ttotal: 5.86s\tremaining: 20.5s\n",
            "222:\tlearn: 0.2741784\ttotal: 5.9s\tremaining: 20.6s\n",
            "223:\tlearn: 0.2739049\ttotal: 5.95s\tremaining: 20.6s\n",
            "224:\tlearn: 0.2735624\ttotal: 6s\tremaining: 20.7s\n",
            "225:\tlearn: 0.2731878\ttotal: 6.04s\tremaining: 20.7s\n",
            "226:\tlearn: 0.2728307\ttotal: 6.09s\tremaining: 20.7s\n",
            "227:\tlearn: 0.2725493\ttotal: 6.13s\tremaining: 20.8s\n",
            "228:\tlearn: 0.2721595\ttotal: 6.18s\tremaining: 20.8s\n",
            "229:\tlearn: 0.2719497\ttotal: 6.22s\tremaining: 20.8s\n",
            "230:\tlearn: 0.2717316\ttotal: 6.26s\tremaining: 20.8s\n",
            "231:\tlearn: 0.2714003\ttotal: 6.29s\tremaining: 20.8s\n",
            "232:\tlearn: 0.2711275\ttotal: 6.34s\tremaining: 20.9s\n",
            "233:\tlearn: 0.2709138\ttotal: 6.39s\tremaining: 20.9s\n",
            "234:\tlearn: 0.2706633\ttotal: 6.41s\tremaining: 20.9s\n",
            "235:\tlearn: 0.2703229\ttotal: 6.44s\tremaining: 20.8s\n",
            "236:\tlearn: 0.2699974\ttotal: 6.48s\tremaining: 20.9s\n",
            "237:\tlearn: 0.2695847\ttotal: 6.51s\tremaining: 20.8s\n",
            "238:\tlearn: 0.2693597\ttotal: 6.53s\tremaining: 20.8s\n",
            "239:\tlearn: 0.2691296\ttotal: 6.56s\tremaining: 20.8s\n",
            "240:\tlearn: 0.2688241\ttotal: 6.6s\tremaining: 20.8s\n",
            "241:\tlearn: 0.2683959\ttotal: 6.65s\tremaining: 20.8s\n",
            "242:\tlearn: 0.2679836\ttotal: 6.7s\tremaining: 20.9s\n",
            "243:\tlearn: 0.2674406\ttotal: 6.74s\tremaining: 20.9s\n",
            "244:\tlearn: 0.2671325\ttotal: 6.79s\tremaining: 20.9s\n",
            "245:\tlearn: 0.2668052\ttotal: 6.85s\tremaining: 21s\n",
            "246:\tlearn: 0.2664667\ttotal: 6.89s\tremaining: 21s\n",
            "247:\tlearn: 0.2662732\ttotal: 6.94s\tremaining: 21s\n",
            "248:\tlearn: 0.2659436\ttotal: 6.98s\tremaining: 21.1s\n",
            "249:\tlearn: 0.2654334\ttotal: 7.03s\tremaining: 21.1s\n",
            "250:\tlearn: 0.2650861\ttotal: 7.08s\tremaining: 21.1s\n",
            "251:\tlearn: 0.2647994\ttotal: 7.13s\tremaining: 21.2s\n",
            "252:\tlearn: 0.2644858\ttotal: 7.17s\tremaining: 21.2s\n",
            "253:\tlearn: 0.2641963\ttotal: 7.23s\tremaining: 21.2s\n",
            "254:\tlearn: 0.2638978\ttotal: 7.3s\tremaining: 21.3s\n",
            "255:\tlearn: 0.2636608\ttotal: 7.36s\tremaining: 21.4s\n",
            "256:\tlearn: 0.2632968\ttotal: 7.41s\tremaining: 21.4s\n",
            "257:\tlearn: 0.2629550\ttotal: 7.45s\tremaining: 21.4s\n",
            "258:\tlearn: 0.2626955\ttotal: 7.47s\tremaining: 21.4s\n",
            "259:\tlearn: 0.2624236\ttotal: 7.49s\tremaining: 21.3s\n",
            "260:\tlearn: 0.2621183\ttotal: 7.51s\tremaining: 21.3s\n",
            "261:\tlearn: 0.2619191\ttotal: 7.53s\tremaining: 21.2s\n",
            "262:\tlearn: 0.2616983\ttotal: 7.54s\tremaining: 21.1s\n",
            "263:\tlearn: 0.2615230\ttotal: 7.57s\tremaining: 21.1s\n",
            "264:\tlearn: 0.2611577\ttotal: 7.59s\tremaining: 21s\n",
            "265:\tlearn: 0.2609098\ttotal: 7.6s\tremaining: 21s\n",
            "266:\tlearn: 0.2606012\ttotal: 7.62s\tremaining: 20.9s\n",
            "267:\tlearn: 0.2602765\ttotal: 7.64s\tremaining: 20.9s\n",
            "268:\tlearn: 0.2601379\ttotal: 7.66s\tremaining: 20.8s\n",
            "269:\tlearn: 0.2599411\ttotal: 7.68s\tremaining: 20.8s\n",
            "270:\tlearn: 0.2596432\ttotal: 7.71s\tremaining: 20.7s\n",
            "271:\tlearn: 0.2594246\ttotal: 7.73s\tremaining: 20.7s\n",
            "272:\tlearn: 0.2591852\ttotal: 7.75s\tremaining: 20.6s\n",
            "273:\tlearn: 0.2588967\ttotal: 7.77s\tremaining: 20.6s\n",
            "274:\tlearn: 0.2586027\ttotal: 7.79s\tremaining: 20.5s\n",
            "275:\tlearn: 0.2583307\ttotal: 7.8s\tremaining: 20.5s\n",
            "276:\tlearn: 0.2580887\ttotal: 7.82s\tremaining: 20.4s\n",
            "277:\tlearn: 0.2578178\ttotal: 7.84s\tremaining: 20.4s\n",
            "278:\tlearn: 0.2576546\ttotal: 7.86s\tremaining: 20.3s\n",
            "279:\tlearn: 0.2573584\ttotal: 7.88s\tremaining: 20.3s\n",
            "280:\tlearn: 0.2571551\ttotal: 7.89s\tremaining: 20.2s\n",
            "281:\tlearn: 0.2569801\ttotal: 7.92s\tremaining: 20.2s\n",
            "282:\tlearn: 0.2565189\ttotal: 7.93s\tremaining: 20.1s\n",
            "283:\tlearn: 0.2561921\ttotal: 7.95s\tremaining: 20s\n",
            "284:\tlearn: 0.2559668\ttotal: 7.97s\tremaining: 20s\n",
            "285:\tlearn: 0.2557832\ttotal: 7.99s\tremaining: 19.9s\n",
            "286:\tlearn: 0.2555879\ttotal: 8s\tremaining: 19.9s\n",
            "287:\tlearn: 0.2553359\ttotal: 8.02s\tremaining: 19.8s\n",
            "288:\tlearn: 0.2551511\ttotal: 8.04s\tremaining: 19.8s\n",
            "289:\tlearn: 0.2548976\ttotal: 8.05s\tremaining: 19.7s\n",
            "290:\tlearn: 0.2545945\ttotal: 8.07s\tremaining: 19.7s\n",
            "291:\tlearn: 0.2543747\ttotal: 8.09s\tremaining: 19.6s\n",
            "292:\tlearn: 0.2541817\ttotal: 8.11s\tremaining: 19.6s\n",
            "293:\tlearn: 0.2538287\ttotal: 8.13s\tremaining: 19.5s\n",
            "294:\tlearn: 0.2536039\ttotal: 8.15s\tremaining: 19.5s\n",
            "295:\tlearn: 0.2533337\ttotal: 8.17s\tremaining: 19.4s\n",
            "296:\tlearn: 0.2531249\ttotal: 8.19s\tremaining: 19.4s\n",
            "297:\tlearn: 0.2529239\ttotal: 8.21s\tremaining: 19.3s\n",
            "298:\tlearn: 0.2526773\ttotal: 8.23s\tremaining: 19.3s\n",
            "299:\tlearn: 0.2524690\ttotal: 8.24s\tremaining: 19.2s\n",
            "300:\tlearn: 0.2522828\ttotal: 8.26s\tremaining: 19.2s\n",
            "301:\tlearn: 0.2519843\ttotal: 8.28s\tremaining: 19.1s\n",
            "302:\tlearn: 0.2516977\ttotal: 8.29s\tremaining: 19.1s\n",
            "303:\tlearn: 0.2514110\ttotal: 8.31s\tremaining: 19s\n",
            "304:\tlearn: 0.2511794\ttotal: 8.33s\tremaining: 19s\n",
            "305:\tlearn: 0.2509389\ttotal: 8.36s\tremaining: 19s\n",
            "306:\tlearn: 0.2506422\ttotal: 8.38s\tremaining: 18.9s\n",
            "307:\tlearn: 0.2503835\ttotal: 8.39s\tremaining: 18.9s\n",
            "308:\tlearn: 0.2501160\ttotal: 8.41s\tremaining: 18.8s\n",
            "309:\tlearn: 0.2496789\ttotal: 8.43s\tremaining: 18.8s\n",
            "310:\tlearn: 0.2494478\ttotal: 8.45s\tremaining: 18.7s\n",
            "311:\tlearn: 0.2491583\ttotal: 8.46s\tremaining: 18.7s\n",
            "312:\tlearn: 0.2488099\ttotal: 8.48s\tremaining: 18.6s\n",
            "313:\tlearn: 0.2486532\ttotal: 8.5s\tremaining: 18.6s\n",
            "314:\tlearn: 0.2483240\ttotal: 8.51s\tremaining: 18.5s\n",
            "315:\tlearn: 0.2481519\ttotal: 8.54s\tremaining: 18.5s\n",
            "316:\tlearn: 0.2478487\ttotal: 8.58s\tremaining: 18.5s\n",
            "317:\tlearn: 0.2471412\ttotal: 8.6s\tremaining: 18.4s\n",
            "318:\tlearn: 0.2468676\ttotal: 8.62s\tremaining: 18.4s\n",
            "319:\tlearn: 0.2465945\ttotal: 8.63s\tremaining: 18.4s\n",
            "320:\tlearn: 0.2463804\ttotal: 8.65s\tremaining: 18.3s\n",
            "321:\tlearn: 0.2461536\ttotal: 8.67s\tremaining: 18.3s\n",
            "322:\tlearn: 0.2458882\ttotal: 8.69s\tremaining: 18.2s\n",
            "323:\tlearn: 0.2457634\ttotal: 8.71s\tremaining: 18.2s\n",
            "324:\tlearn: 0.2454772\ttotal: 8.74s\tremaining: 18.2s\n",
            "325:\tlearn: 0.2452679\ttotal: 8.76s\tremaining: 18.1s\n",
            "326:\tlearn: 0.2450361\ttotal: 8.78s\tremaining: 18.1s\n",
            "327:\tlearn: 0.2447885\ttotal: 8.8s\tremaining: 18s\n",
            "328:\tlearn: 0.2443764\ttotal: 8.82s\tremaining: 18s\n",
            "329:\tlearn: 0.2441447\ttotal: 8.83s\tremaining: 17.9s\n",
            "330:\tlearn: 0.2439013\ttotal: 8.85s\tremaining: 17.9s\n",
            "331:\tlearn: 0.2436279\ttotal: 8.87s\tremaining: 17.8s\n",
            "332:\tlearn: 0.2432157\ttotal: 8.89s\tremaining: 17.8s\n",
            "333:\tlearn: 0.2429761\ttotal: 8.9s\tremaining: 17.8s\n",
            "334:\tlearn: 0.2427409\ttotal: 8.92s\tremaining: 17.7s\n",
            "335:\tlearn: 0.2425044\ttotal: 8.94s\tremaining: 17.7s\n",
            "336:\tlearn: 0.2421931\ttotal: 8.96s\tremaining: 17.6s\n",
            "337:\tlearn: 0.2420519\ttotal: 8.99s\tremaining: 17.6s\n",
            "338:\tlearn: 0.2418920\ttotal: 9.02s\tremaining: 17.6s\n",
            "339:\tlearn: 0.2415410\ttotal: 9.04s\tremaining: 17.5s\n",
            "340:\tlearn: 0.2413639\ttotal: 9.05s\tremaining: 17.5s\n",
            "341:\tlearn: 0.2411681\ttotal: 9.07s\tremaining: 17.5s\n",
            "342:\tlearn: 0.2409037\ttotal: 9.09s\tremaining: 17.4s\n",
            "343:\tlearn: 0.2407317\ttotal: 9.11s\tremaining: 17.4s\n",
            "344:\tlearn: 0.2404356\ttotal: 9.13s\tremaining: 17.3s\n",
            "345:\tlearn: 0.2402690\ttotal: 9.14s\tremaining: 17.3s\n",
            "346:\tlearn: 0.2400693\ttotal: 9.16s\tremaining: 17.2s\n",
            "347:\tlearn: 0.2398475\ttotal: 9.18s\tremaining: 17.2s\n",
            "348:\tlearn: 0.2396577\ttotal: 9.21s\tremaining: 17.2s\n",
            "349:\tlearn: 0.2394161\ttotal: 9.22s\tremaining: 17.1s\n",
            "350:\tlearn: 0.2392170\ttotal: 9.24s\tremaining: 17.1s\n",
            "351:\tlearn: 0.2389791\ttotal: 9.26s\tremaining: 17s\n",
            "352:\tlearn: 0.2387929\ttotal: 9.28s\tremaining: 17s\n",
            "353:\tlearn: 0.2384947\ttotal: 9.3s\tremaining: 17s\n",
            "354:\tlearn: 0.2382813\ttotal: 9.31s\tremaining: 16.9s\n",
            "355:\tlearn: 0.2380788\ttotal: 9.33s\tremaining: 16.9s\n",
            "356:\tlearn: 0.2378740\ttotal: 9.35s\tremaining: 16.8s\n",
            "357:\tlearn: 0.2376196\ttotal: 9.37s\tremaining: 16.8s\n",
            "358:\tlearn: 0.2374609\ttotal: 9.39s\tremaining: 16.8s\n",
            "359:\tlearn: 0.2372388\ttotal: 9.41s\tremaining: 16.7s\n",
            "360:\tlearn: 0.2370220\ttotal: 9.43s\tremaining: 16.7s\n",
            "361:\tlearn: 0.2368199\ttotal: 9.45s\tremaining: 16.7s\n",
            "362:\tlearn: 0.2366986\ttotal: 9.47s\tremaining: 16.6s\n",
            "363:\tlearn: 0.2364502\ttotal: 9.48s\tremaining: 16.6s\n",
            "364:\tlearn: 0.2362601\ttotal: 9.5s\tremaining: 16.5s\n",
            "365:\tlearn: 0.2361109\ttotal: 9.53s\tremaining: 16.5s\n",
            "366:\tlearn: 0.2359344\ttotal: 9.54s\tremaining: 16.5s\n",
            "367:\tlearn: 0.2357985\ttotal: 9.56s\tremaining: 16.4s\n",
            "368:\tlearn: 0.2355866\ttotal: 9.58s\tremaining: 16.4s\n",
            "369:\tlearn: 0.2354344\ttotal: 9.6s\tremaining: 16.3s\n",
            "370:\tlearn: 0.2352963\ttotal: 9.61s\tremaining: 16.3s\n",
            "371:\tlearn: 0.2351846\ttotal: 9.63s\tremaining: 16.3s\n",
            "372:\tlearn: 0.2349299\ttotal: 9.65s\tremaining: 16.2s\n",
            "373:\tlearn: 0.2346516\ttotal: 9.67s\tremaining: 16.2s\n",
            "374:\tlearn: 0.2343672\ttotal: 9.69s\tremaining: 16.1s\n",
            "375:\tlearn: 0.2341954\ttotal: 9.7s\tremaining: 16.1s\n",
            "376:\tlearn: 0.2339535\ttotal: 9.73s\tremaining: 16.1s\n",
            "377:\tlearn: 0.2337883\ttotal: 9.76s\tremaining: 16.1s\n",
            "378:\tlearn: 0.2336332\ttotal: 9.77s\tremaining: 16s\n",
            "379:\tlearn: 0.2335283\ttotal: 9.79s\tremaining: 16s\n",
            "380:\tlearn: 0.2332931\ttotal: 9.81s\tremaining: 15.9s\n",
            "381:\tlearn: 0.2331405\ttotal: 9.82s\tremaining: 15.9s\n",
            "382:\tlearn: 0.2329190\ttotal: 9.85s\tremaining: 15.9s\n",
            "383:\tlearn: 0.2327702\ttotal: 9.87s\tremaining: 15.8s\n",
            "384:\tlearn: 0.2325848\ttotal: 9.88s\tremaining: 15.8s\n",
            "385:\tlearn: 0.2321532\ttotal: 9.9s\tremaining: 15.8s\n",
            "386:\tlearn: 0.2320330\ttotal: 9.92s\tremaining: 15.7s\n",
            "387:\tlearn: 0.2316835\ttotal: 9.94s\tremaining: 15.7s\n",
            "388:\tlearn: 0.2314186\ttotal: 9.96s\tremaining: 15.6s\n",
            "389:\tlearn: 0.2312312\ttotal: 9.97s\tremaining: 15.6s\n",
            "390:\tlearn: 0.2308752\ttotal: 9.99s\tremaining: 15.6s\n",
            "391:\tlearn: 0.2307024\ttotal: 10s\tremaining: 15.5s\n",
            "392:\tlearn: 0.2303164\ttotal: 10s\tremaining: 15.5s\n",
            "393:\tlearn: 0.2299924\ttotal: 10.1s\tremaining: 15.5s\n",
            "394:\tlearn: 0.2298742\ttotal: 10.1s\tremaining: 15.4s\n",
            "395:\tlearn: 0.2297439\ttotal: 10.1s\tremaining: 15.4s\n",
            "396:\tlearn: 0.2295459\ttotal: 10.1s\tremaining: 15.4s\n",
            "397:\tlearn: 0.2294137\ttotal: 10.1s\tremaining: 15.3s\n",
            "398:\tlearn: 0.2292818\ttotal: 10.1s\tremaining: 15.3s\n",
            "399:\tlearn: 0.2290882\ttotal: 10.2s\tremaining: 15.2s\n",
            "400:\tlearn: 0.2288918\ttotal: 10.2s\tremaining: 15.2s\n",
            "401:\tlearn: 0.2287093\ttotal: 10.2s\tremaining: 15.2s\n",
            "402:\tlearn: 0.2283979\ttotal: 10.2s\tremaining: 15.1s\n",
            "403:\tlearn: 0.2282078\ttotal: 10.2s\tremaining: 15.1s\n",
            "404:\tlearn: 0.2280289\ttotal: 10.3s\tremaining: 15.1s\n",
            "405:\tlearn: 0.2278553\ttotal: 10.3s\tremaining: 15s\n",
            "406:\tlearn: 0.2275781\ttotal: 10.3s\tremaining: 15s\n",
            "407:\tlearn: 0.2274275\ttotal: 10.3s\tremaining: 15s\n",
            "408:\tlearn: 0.2273000\ttotal: 10.3s\tremaining: 14.9s\n",
            "409:\tlearn: 0.2271429\ttotal: 10.3s\tremaining: 14.9s\n",
            "410:\tlearn: 0.2269669\ttotal: 10.4s\tremaining: 14.8s\n",
            "411:\tlearn: 0.2267590\ttotal: 10.4s\tremaining: 14.8s\n",
            "412:\tlearn: 0.2265446\ttotal: 10.4s\tremaining: 14.8s\n",
            "413:\tlearn: 0.2264108\ttotal: 10.4s\tremaining: 14.7s\n",
            "414:\tlearn: 0.2263226\ttotal: 10.4s\tremaining: 14.7s\n",
            "415:\tlearn: 0.2261380\ttotal: 10.4s\tremaining: 14.7s\n",
            "416:\tlearn: 0.2259827\ttotal: 10.5s\tremaining: 14.6s\n",
            "417:\tlearn: 0.2257652\ttotal: 10.5s\tremaining: 14.6s\n",
            "418:\tlearn: 0.2255378\ttotal: 10.5s\tremaining: 14.6s\n",
            "419:\tlearn: 0.2254609\ttotal: 10.5s\tremaining: 14.5s\n",
            "420:\tlearn: 0.2253136\ttotal: 10.5s\tremaining: 14.5s\n",
            "421:\tlearn: 0.2251221\ttotal: 10.6s\tremaining: 14.5s\n",
            "422:\tlearn: 0.2249058\ttotal: 10.6s\tremaining: 14.4s\n",
            "423:\tlearn: 0.2246857\ttotal: 10.6s\tremaining: 14.4s\n",
            "424:\tlearn: 0.2245255\ttotal: 10.6s\tremaining: 14.4s\n",
            "425:\tlearn: 0.2242393\ttotal: 10.6s\tremaining: 14.3s\n",
            "426:\tlearn: 0.2239838\ttotal: 10.6s\tremaining: 14.3s\n",
            "427:\tlearn: 0.2238518\ttotal: 10.7s\tremaining: 14.3s\n",
            "428:\tlearn: 0.2236233\ttotal: 10.7s\tremaining: 14.2s\n",
            "429:\tlearn: 0.2235266\ttotal: 10.7s\tremaining: 14.2s\n",
            "430:\tlearn: 0.2233598\ttotal: 10.7s\tremaining: 14.2s\n",
            "431:\tlearn: 0.2232173\ttotal: 10.8s\tremaining: 14.2s\n",
            "432:\tlearn: 0.2230818\ttotal: 10.8s\tremaining: 14.1s\n",
            "433:\tlearn: 0.2228886\ttotal: 10.8s\tremaining: 14.1s\n",
            "434:\tlearn: 0.2227201\ttotal: 10.8s\tremaining: 14s\n",
            "435:\tlearn: 0.2226484\ttotal: 10.8s\tremaining: 14s\n",
            "436:\tlearn: 0.2222564\ttotal: 10.8s\tremaining: 14s\n",
            "437:\tlearn: 0.2221760\ttotal: 10.9s\tremaining: 13.9s\n",
            "438:\tlearn: 0.2218984\ttotal: 10.9s\tremaining: 13.9s\n",
            "439:\tlearn: 0.2216520\ttotal: 10.9s\tremaining: 13.9s\n",
            "440:\tlearn: 0.2214337\ttotal: 10.9s\tremaining: 13.8s\n",
            "441:\tlearn: 0.2212958\ttotal: 10.9s\tremaining: 13.8s\n",
            "442:\tlearn: 0.2212069\ttotal: 11s\tremaining: 13.8s\n",
            "443:\tlearn: 0.2208783\ttotal: 11s\tremaining: 13.7s\n",
            "444:\tlearn: 0.2206497\ttotal: 11s\tremaining: 13.7s\n",
            "445:\tlearn: 0.2205112\ttotal: 11s\tremaining: 13.7s\n",
            "446:\tlearn: 0.2202605\ttotal: 11s\tremaining: 13.6s\n",
            "447:\tlearn: 0.2200971\ttotal: 11s\tremaining: 13.6s\n",
            "448:\tlearn: 0.2200087\ttotal: 11.1s\tremaining: 13.6s\n",
            "449:\tlearn: 0.2197322\ttotal: 11.1s\tremaining: 13.5s\n",
            "450:\tlearn: 0.2195644\ttotal: 11.1s\tremaining: 13.5s\n",
            "451:\tlearn: 0.2193398\ttotal: 11.1s\tremaining: 13.5s\n",
            "452:\tlearn: 0.2191429\ttotal: 11.1s\tremaining: 13.4s\n",
            "453:\tlearn: 0.2188552\ttotal: 11.2s\tremaining: 13.4s\n",
            "454:\tlearn: 0.2186484\ttotal: 11.2s\tremaining: 13.4s\n",
            "455:\tlearn: 0.2184676\ttotal: 11.2s\tremaining: 13.4s\n",
            "456:\tlearn: 0.2182695\ttotal: 11.2s\tremaining: 13.3s\n",
            "457:\tlearn: 0.2178904\ttotal: 11.2s\tremaining: 13.3s\n",
            "458:\tlearn: 0.2177656\ttotal: 11.2s\tremaining: 13.3s\n",
            "459:\tlearn: 0.2174987\ttotal: 11.3s\tremaining: 13.2s\n",
            "460:\tlearn: 0.2172701\ttotal: 11.3s\tremaining: 13.2s\n",
            "461:\tlearn: 0.2171382\ttotal: 11.3s\tremaining: 13.2s\n",
            "462:\tlearn: 0.2169774\ttotal: 11.3s\tremaining: 13.1s\n",
            "463:\tlearn: 0.2167903\ttotal: 11.3s\tremaining: 13.1s\n",
            "464:\tlearn: 0.2166286\ttotal: 11.3s\tremaining: 13.1s\n",
            "465:\tlearn: 0.2165658\ttotal: 11.4s\tremaining: 13s\n",
            "466:\tlearn: 0.2164460\ttotal: 11.4s\tremaining: 13s\n",
            "467:\tlearn: 0.2163430\ttotal: 11.4s\tremaining: 13s\n",
            "468:\tlearn: 0.2162359\ttotal: 11.4s\tremaining: 12.9s\n",
            "469:\tlearn: 0.2160618\ttotal: 11.4s\tremaining: 12.9s\n",
            "470:\tlearn: 0.2157380\ttotal: 11.5s\tremaining: 12.9s\n",
            "471:\tlearn: 0.2155462\ttotal: 11.5s\tremaining: 12.8s\n",
            "472:\tlearn: 0.2154523\ttotal: 11.5s\tremaining: 12.8s\n",
            "473:\tlearn: 0.2153164\ttotal: 11.5s\tremaining: 12.8s\n",
            "474:\tlearn: 0.2151975\ttotal: 11.5s\tremaining: 12.7s\n",
            "475:\tlearn: 0.2149749\ttotal: 11.5s\tremaining: 12.7s\n",
            "476:\tlearn: 0.2147634\ttotal: 11.6s\tremaining: 12.7s\n",
            "477:\tlearn: 0.2144991\ttotal: 11.6s\tremaining: 12.6s\n",
            "478:\tlearn: 0.2143487\ttotal: 11.6s\tremaining: 12.6s\n",
            "479:\tlearn: 0.2142032\ttotal: 11.6s\tremaining: 12.6s\n",
            "480:\tlearn: 0.2140355\ttotal: 11.6s\tremaining: 12.6s\n",
            "481:\tlearn: 0.2138266\ttotal: 11.7s\tremaining: 12.5s\n",
            "482:\tlearn: 0.2135447\ttotal: 11.7s\tremaining: 12.5s\n",
            "483:\tlearn: 0.2133535\ttotal: 11.7s\tremaining: 12.5s\n",
            "484:\tlearn: 0.2132200\ttotal: 11.7s\tremaining: 12.4s\n",
            "485:\tlearn: 0.2130531\ttotal: 11.7s\tremaining: 12.4s\n",
            "486:\tlearn: 0.2129037\ttotal: 11.7s\tremaining: 12.4s\n",
            "487:\tlearn: 0.2127791\ttotal: 11.8s\tremaining: 12.4s\n",
            "488:\tlearn: 0.2126234\ttotal: 11.8s\tremaining: 12.3s\n",
            "489:\tlearn: 0.2124816\ttotal: 11.8s\tremaining: 12.3s\n",
            "490:\tlearn: 0.2123053\ttotal: 11.8s\tremaining: 12.3s\n",
            "491:\tlearn: 0.2122527\ttotal: 11.8s\tremaining: 12.2s\n",
            "492:\tlearn: 0.2119315\ttotal: 11.9s\tremaining: 12.2s\n",
            "493:\tlearn: 0.2118319\ttotal: 11.9s\tremaining: 12.2s\n",
            "494:\tlearn: 0.2116645\ttotal: 11.9s\tremaining: 12.1s\n",
            "495:\tlearn: 0.2115037\ttotal: 11.9s\tremaining: 12.1s\n",
            "496:\tlearn: 0.2113851\ttotal: 11.9s\tremaining: 12.1s\n",
            "497:\tlearn: 0.2112914\ttotal: 12s\tremaining: 12s\n",
            "498:\tlearn: 0.2110978\ttotal: 12s\tremaining: 12s\n",
            "499:\tlearn: 0.2108862\ttotal: 12s\tremaining: 12s\n",
            "500:\tlearn: 0.2107130\ttotal: 12s\tremaining: 12s\n",
            "501:\tlearn: 0.2104890\ttotal: 12s\tremaining: 11.9s\n",
            "502:\tlearn: 0.2102608\ttotal: 12s\tremaining: 11.9s\n",
            "503:\tlearn: 0.2101639\ttotal: 12.1s\tremaining: 11.9s\n",
            "504:\tlearn: 0.2099946\ttotal: 12.1s\tremaining: 11.8s\n",
            "505:\tlearn: 0.2097950\ttotal: 12.1s\tremaining: 11.8s\n",
            "506:\tlearn: 0.2097061\ttotal: 12.1s\tremaining: 11.8s\n",
            "507:\tlearn: 0.2095690\ttotal: 12.1s\tremaining: 11.7s\n",
            "508:\tlearn: 0.2094846\ttotal: 12.2s\tremaining: 11.7s\n",
            "509:\tlearn: 0.2093954\ttotal: 12.2s\tremaining: 11.7s\n",
            "510:\tlearn: 0.2092537\ttotal: 12.2s\tremaining: 11.7s\n",
            "511:\tlearn: 0.2091925\ttotal: 12.2s\tremaining: 11.6s\n",
            "512:\tlearn: 0.2090792\ttotal: 12.2s\tremaining: 11.6s\n",
            "513:\tlearn: 0.2088856\ttotal: 12.2s\tremaining: 11.6s\n",
            "514:\tlearn: 0.2085631\ttotal: 12.3s\tremaining: 11.5s\n",
            "515:\tlearn: 0.2084698\ttotal: 12.3s\tremaining: 11.5s\n",
            "516:\tlearn: 0.2081538\ttotal: 12.3s\tremaining: 11.5s\n",
            "517:\tlearn: 0.2080195\ttotal: 12.3s\tremaining: 11.5s\n",
            "518:\tlearn: 0.2079196\ttotal: 12.3s\tremaining: 11.4s\n",
            "519:\tlearn: 0.2078370\ttotal: 12.4s\tremaining: 11.4s\n",
            "520:\tlearn: 0.2077353\ttotal: 12.4s\tremaining: 11.4s\n",
            "521:\tlearn: 0.2074874\ttotal: 12.4s\tremaining: 11.3s\n",
            "522:\tlearn: 0.2073269\ttotal: 12.4s\tremaining: 11.3s\n",
            "523:\tlearn: 0.2070710\ttotal: 12.4s\tremaining: 11.3s\n",
            "524:\tlearn: 0.2067702\ttotal: 12.4s\tremaining: 11.3s\n",
            "525:\tlearn: 0.2065870\ttotal: 12.5s\tremaining: 11.2s\n",
            "526:\tlearn: 0.2064086\ttotal: 12.5s\tremaining: 11.2s\n",
            "527:\tlearn: 0.2060260\ttotal: 12.5s\tremaining: 11.2s\n",
            "528:\tlearn: 0.2057073\ttotal: 12.5s\tremaining: 11.2s\n",
            "529:\tlearn: 0.2055914\ttotal: 12.6s\tremaining: 11.1s\n",
            "530:\tlearn: 0.2054411\ttotal: 12.6s\tremaining: 11.1s\n",
            "531:\tlearn: 0.2053159\ttotal: 12.6s\tremaining: 11.1s\n",
            "532:\tlearn: 0.2052036\ttotal: 12.6s\tremaining: 11.1s\n",
            "533:\tlearn: 0.2051013\ttotal: 12.6s\tremaining: 11s\n",
            "534:\tlearn: 0.2049189\ttotal: 12.6s\tremaining: 11s\n",
            "535:\tlearn: 0.2047489\ttotal: 12.7s\tremaining: 11s\n",
            "536:\tlearn: 0.2045752\ttotal: 12.7s\tremaining: 10.9s\n",
            "537:\tlearn: 0.2044491\ttotal: 12.7s\tremaining: 10.9s\n",
            "538:\tlearn: 0.2042975\ttotal: 12.7s\tremaining: 10.9s\n",
            "539:\tlearn: 0.2042183\ttotal: 12.7s\tremaining: 10.8s\n",
            "540:\tlearn: 0.2041011\ttotal: 12.8s\tremaining: 10.8s\n",
            "541:\tlearn: 0.2039849\ttotal: 12.8s\tremaining: 10.8s\n",
            "542:\tlearn: 0.2037701\ttotal: 12.8s\tremaining: 10.8s\n",
            "543:\tlearn: 0.2035138\ttotal: 12.8s\tremaining: 10.8s\n",
            "544:\tlearn: 0.2032509\ttotal: 12.8s\tremaining: 10.7s\n",
            "545:\tlearn: 0.2031540\ttotal: 12.9s\tremaining: 10.7s\n",
            "546:\tlearn: 0.2030524\ttotal: 12.9s\tremaining: 10.7s\n",
            "547:\tlearn: 0.2029022\ttotal: 12.9s\tremaining: 10.6s\n",
            "548:\tlearn: 0.2028309\ttotal: 12.9s\tremaining: 10.6s\n",
            "549:\tlearn: 0.2026695\ttotal: 12.9s\tremaining: 10.6s\n",
            "550:\tlearn: 0.2025553\ttotal: 12.9s\tremaining: 10.5s\n",
            "551:\tlearn: 0.2023618\ttotal: 13s\tremaining: 10.5s\n",
            "552:\tlearn: 0.2022332\ttotal: 13s\tremaining: 10.5s\n",
            "553:\tlearn: 0.2021073\ttotal: 13s\tremaining: 10.5s\n",
            "554:\tlearn: 0.2020242\ttotal: 13s\tremaining: 10.4s\n",
            "555:\tlearn: 0.2018902\ttotal: 13s\tremaining: 10.4s\n",
            "556:\tlearn: 0.2017381\ttotal: 13.1s\tremaining: 10.4s\n",
            "557:\tlearn: 0.2015339\ttotal: 13.1s\tremaining: 10.4s\n",
            "558:\tlearn: 0.2013374\ttotal: 13.1s\tremaining: 10.3s\n",
            "559:\tlearn: 0.2012034\ttotal: 13.1s\tremaining: 10.3s\n",
            "560:\tlearn: 0.2010647\ttotal: 13.1s\tremaining: 10.3s\n",
            "561:\tlearn: 0.2009951\ttotal: 13.1s\tremaining: 10.2s\n",
            "562:\tlearn: 0.2008461\ttotal: 13.2s\tremaining: 10.2s\n",
            "563:\tlearn: 0.2007048\ttotal: 13.2s\tremaining: 10.2s\n",
            "564:\tlearn: 0.2005944\ttotal: 13.2s\tremaining: 10.2s\n",
            "565:\tlearn: 0.2004285\ttotal: 13.2s\tremaining: 10.1s\n",
            "566:\tlearn: 0.2003258\ttotal: 13.2s\tremaining: 10.1s\n",
            "567:\tlearn: 0.2002117\ttotal: 13.3s\tremaining: 10.1s\n",
            "568:\tlearn: 0.2000985\ttotal: 13.3s\tremaining: 10.1s\n",
            "569:\tlearn: 0.1999398\ttotal: 13.3s\tremaining: 10s\n",
            "570:\tlearn: 0.1998054\ttotal: 13.3s\tremaining: 10s\n",
            "571:\tlearn: 0.1997050\ttotal: 13.3s\tremaining: 9.97s\n",
            "572:\tlearn: 0.1995731\ttotal: 13.3s\tremaining: 9.94s\n",
            "573:\tlearn: 0.1994254\ttotal: 13.4s\tremaining: 9.92s\n",
            "574:\tlearn: 0.1993445\ttotal: 13.4s\tremaining: 9.89s\n",
            "575:\tlearn: 0.1992174\ttotal: 13.4s\tremaining: 9.86s\n",
            "576:\tlearn: 0.1989994\ttotal: 13.4s\tremaining: 9.84s\n",
            "577:\tlearn: 0.1988589\ttotal: 13.4s\tremaining: 9.81s\n",
            "578:\tlearn: 0.1987498\ttotal: 13.5s\tremaining: 9.79s\n",
            "579:\tlearn: 0.1986480\ttotal: 13.5s\tremaining: 9.76s\n",
            "580:\tlearn: 0.1984552\ttotal: 13.5s\tremaining: 9.73s\n",
            "581:\tlearn: 0.1983462\ttotal: 13.5s\tremaining: 9.7s\n",
            "582:\tlearn: 0.1982589\ttotal: 13.5s\tremaining: 9.68s\n",
            "583:\tlearn: 0.1981719\ttotal: 13.5s\tremaining: 9.65s\n",
            "584:\tlearn: 0.1980827\ttotal: 13.6s\tremaining: 9.62s\n",
            "585:\tlearn: 0.1979885\ttotal: 13.6s\tremaining: 9.6s\n",
            "586:\tlearn: 0.1978096\ttotal: 13.6s\tremaining: 9.57s\n",
            "587:\tlearn: 0.1976762\ttotal: 13.6s\tremaining: 9.54s\n",
            "588:\tlearn: 0.1975359\ttotal: 13.6s\tremaining: 9.52s\n",
            "589:\tlearn: 0.1973536\ttotal: 13.7s\tremaining: 9.49s\n",
            "590:\tlearn: 0.1971480\ttotal: 13.7s\tremaining: 9.46s\n",
            "591:\tlearn: 0.1970511\ttotal: 13.7s\tremaining: 9.43s\n",
            "592:\tlearn: 0.1969249\ttotal: 13.7s\tremaining: 9.4s\n",
            "593:\tlearn: 0.1968204\ttotal: 13.7s\tremaining: 9.38s\n",
            "594:\tlearn: 0.1966111\ttotal: 13.7s\tremaining: 9.35s\n",
            "595:\tlearn: 0.1964634\ttotal: 13.8s\tremaining: 9.32s\n",
            "596:\tlearn: 0.1963577\ttotal: 13.8s\tremaining: 9.3s\n",
            "597:\tlearn: 0.1962850\ttotal: 13.8s\tremaining: 9.28s\n",
            "598:\tlearn: 0.1961297\ttotal: 13.8s\tremaining: 9.26s\n",
            "599:\tlearn: 0.1959798\ttotal: 13.8s\tremaining: 9.23s\n",
            "600:\tlearn: 0.1958035\ttotal: 13.9s\tremaining: 9.21s\n",
            "601:\tlearn: 0.1956547\ttotal: 13.9s\tremaining: 9.18s\n",
            "602:\tlearn: 0.1955197\ttotal: 13.9s\tremaining: 9.15s\n",
            "603:\tlearn: 0.1953877\ttotal: 13.9s\tremaining: 9.12s\n",
            "604:\tlearn: 0.1952468\ttotal: 13.9s\tremaining: 9.1s\n",
            "605:\tlearn: 0.1951159\ttotal: 13.9s\tremaining: 9.07s\n",
            "606:\tlearn: 0.1949673\ttotal: 14s\tremaining: 9.04s\n",
            "607:\tlearn: 0.1948638\ttotal: 14s\tremaining: 9.02s\n",
            "608:\tlearn: 0.1947542\ttotal: 14s\tremaining: 8.99s\n",
            "609:\tlearn: 0.1946652\ttotal: 14s\tremaining: 8.96s\n",
            "610:\tlearn: 0.1945833\ttotal: 14s\tremaining: 8.94s\n",
            "611:\tlearn: 0.1944813\ttotal: 14.1s\tremaining: 8.91s\n",
            "612:\tlearn: 0.1943618\ttotal: 14.1s\tremaining: 8.89s\n",
            "613:\tlearn: 0.1942577\ttotal: 14.1s\tremaining: 8.86s\n",
            "614:\tlearn: 0.1941786\ttotal: 14.1s\tremaining: 8.83s\n",
            "615:\tlearn: 0.1941047\ttotal: 14.1s\tremaining: 8.81s\n",
            "616:\tlearn: 0.1939465\ttotal: 14.2s\tremaining: 8.78s\n",
            "617:\tlearn: 0.1938632\ttotal: 14.2s\tremaining: 8.76s\n",
            "618:\tlearn: 0.1937460\ttotal: 14.2s\tremaining: 8.73s\n",
            "619:\tlearn: 0.1936835\ttotal: 14.2s\tremaining: 8.71s\n",
            "620:\tlearn: 0.1935761\ttotal: 14.2s\tremaining: 8.68s\n",
            "621:\tlearn: 0.1934323\ttotal: 14.2s\tremaining: 8.65s\n",
            "622:\tlearn: 0.1933629\ttotal: 14.3s\tremaining: 8.63s\n",
            "623:\tlearn: 0.1932927\ttotal: 14.3s\tremaining: 8.6s\n",
            "624:\tlearn: 0.1932121\ttotal: 14.3s\tremaining: 8.57s\n",
            "625:\tlearn: 0.1930368\ttotal: 14.3s\tremaining: 8.55s\n",
            "626:\tlearn: 0.1928883\ttotal: 14.3s\tremaining: 8.52s\n",
            "627:\tlearn: 0.1927574\ttotal: 14.3s\tremaining: 8.49s\n",
            "628:\tlearn: 0.1925648\ttotal: 14.4s\tremaining: 8.47s\n",
            "629:\tlearn: 0.1923911\ttotal: 14.4s\tremaining: 8.44s\n",
            "630:\tlearn: 0.1922879\ttotal: 14.4s\tremaining: 8.42s\n",
            "631:\tlearn: 0.1921047\ttotal: 14.4s\tremaining: 8.39s\n",
            "632:\tlearn: 0.1919270\ttotal: 14.4s\tremaining: 8.37s\n",
            "633:\tlearn: 0.1918527\ttotal: 14.5s\tremaining: 8.34s\n",
            "634:\tlearn: 0.1917426\ttotal: 14.5s\tremaining: 8.32s\n",
            "635:\tlearn: 0.1916255\ttotal: 14.5s\tremaining: 8.29s\n",
            "636:\tlearn: 0.1914950\ttotal: 14.5s\tremaining: 8.27s\n",
            "637:\tlearn: 0.1914297\ttotal: 14.5s\tremaining: 8.24s\n",
            "638:\tlearn: 0.1913714\ttotal: 14.5s\tremaining: 8.22s\n",
            "639:\tlearn: 0.1912617\ttotal: 14.6s\tremaining: 8.19s\n",
            "640:\tlearn: 0.1910971\ttotal: 14.6s\tremaining: 8.16s\n",
            "641:\tlearn: 0.1909113\ttotal: 14.6s\tremaining: 8.14s\n",
            "642:\tlearn: 0.1907821\ttotal: 14.6s\tremaining: 8.11s\n",
            "643:\tlearn: 0.1906409\ttotal: 14.6s\tremaining: 8.09s\n",
            "644:\tlearn: 0.1905102\ttotal: 14.6s\tremaining: 8.06s\n",
            "645:\tlearn: 0.1903964\ttotal: 14.7s\tremaining: 8.04s\n",
            "646:\tlearn: 0.1903264\ttotal: 14.7s\tremaining: 8.02s\n",
            "647:\tlearn: 0.1902639\ttotal: 14.7s\tremaining: 7.99s\n",
            "648:\tlearn: 0.1901262\ttotal: 14.7s\tremaining: 7.96s\n",
            "649:\tlearn: 0.1899821\ttotal: 14.7s\tremaining: 7.94s\n",
            "650:\tlearn: 0.1899146\ttotal: 14.8s\tremaining: 7.91s\n",
            "651:\tlearn: 0.1898025\ttotal: 14.8s\tremaining: 7.89s\n",
            "652:\tlearn: 0.1896641\ttotal: 14.8s\tremaining: 7.87s\n",
            "653:\tlearn: 0.1895223\ttotal: 14.8s\tremaining: 7.84s\n",
            "654:\tlearn: 0.1893917\ttotal: 14.8s\tremaining: 7.82s\n",
            "655:\tlearn: 0.1893086\ttotal: 14.9s\tremaining: 7.79s\n",
            "656:\tlearn: 0.1892647\ttotal: 14.9s\tremaining: 7.77s\n",
            "657:\tlearn: 0.1891685\ttotal: 14.9s\tremaining: 7.74s\n",
            "658:\tlearn: 0.1890898\ttotal: 14.9s\tremaining: 7.72s\n",
            "659:\tlearn: 0.1890009\ttotal: 14.9s\tremaining: 7.69s\n",
            "660:\tlearn: 0.1889072\ttotal: 15s\tremaining: 7.67s\n",
            "661:\tlearn: 0.1888146\ttotal: 15s\tremaining: 7.64s\n",
            "662:\tlearn: 0.1887365\ttotal: 15s\tremaining: 7.62s\n",
            "663:\tlearn: 0.1886686\ttotal: 15s\tremaining: 7.59s\n",
            "664:\tlearn: 0.1885563\ttotal: 15s\tremaining: 7.57s\n",
            "665:\tlearn: 0.1884529\ttotal: 15s\tremaining: 7.54s\n",
            "666:\tlearn: 0.1883851\ttotal: 15.1s\tremaining: 7.51s\n",
            "667:\tlearn: 0.1881934\ttotal: 15.1s\tremaining: 7.49s\n",
            "668:\tlearn: 0.1880474\ttotal: 15.1s\tremaining: 7.46s\n",
            "669:\tlearn: 0.1879473\ttotal: 15.1s\tremaining: 7.44s\n",
            "670:\tlearn: 0.1878517\ttotal: 15.1s\tremaining: 7.42s\n",
            "671:\tlearn: 0.1877545\ttotal: 15.1s\tremaining: 7.39s\n",
            "672:\tlearn: 0.1876438\ttotal: 15.2s\tremaining: 7.37s\n",
            "673:\tlearn: 0.1875048\ttotal: 15.2s\tremaining: 7.34s\n",
            "674:\tlearn: 0.1874479\ttotal: 15.2s\tremaining: 7.32s\n",
            "675:\tlearn: 0.1873594\ttotal: 15.2s\tremaining: 7.29s\n",
            "676:\tlearn: 0.1872033\ttotal: 15.2s\tremaining: 7.26s\n",
            "677:\tlearn: 0.1871234\ttotal: 15.2s\tremaining: 7.24s\n",
            "678:\tlearn: 0.1870008\ttotal: 15.3s\tremaining: 7.22s\n",
            "679:\tlearn: 0.1868632\ttotal: 15.3s\tremaining: 7.19s\n",
            "680:\tlearn: 0.1867773\ttotal: 15.3s\tremaining: 7.17s\n",
            "681:\tlearn: 0.1866408\ttotal: 15.3s\tremaining: 7.14s\n",
            "682:\tlearn: 0.1865375\ttotal: 15.3s\tremaining: 7.12s\n",
            "683:\tlearn: 0.1864698\ttotal: 15.4s\tremaining: 7.09s\n",
            "684:\tlearn: 0.1863513\ttotal: 15.4s\tremaining: 7.07s\n",
            "685:\tlearn: 0.1862219\ttotal: 15.4s\tremaining: 7.04s\n",
            "686:\tlearn: 0.1861402\ttotal: 15.4s\tremaining: 7.02s\n",
            "687:\tlearn: 0.1860788\ttotal: 15.4s\tremaining: 7s\n",
            "688:\tlearn: 0.1859256\ttotal: 15.5s\tremaining: 6.97s\n",
            "689:\tlearn: 0.1857784\ttotal: 15.5s\tremaining: 6.95s\n",
            "690:\tlearn: 0.1856693\ttotal: 15.5s\tremaining: 6.92s\n",
            "691:\tlearn: 0.1855843\ttotal: 15.5s\tremaining: 6.9s\n",
            "692:\tlearn: 0.1855061\ttotal: 15.6s\tremaining: 6.89s\n",
            "693:\tlearn: 0.1854078\ttotal: 15.6s\tremaining: 6.87s\n",
            "694:\tlearn: 0.1853259\ttotal: 15.6s\tremaining: 6.85s\n",
            "695:\tlearn: 0.1852094\ttotal: 15.6s\tremaining: 6.82s\n",
            "696:\tlearn: 0.1850900\ttotal: 15.6s\tremaining: 6.8s\n",
            "697:\tlearn: 0.1849943\ttotal: 15.7s\tremaining: 6.77s\n",
            "698:\tlearn: 0.1849308\ttotal: 15.7s\tremaining: 6.75s\n",
            "699:\tlearn: 0.1848038\ttotal: 15.7s\tremaining: 6.72s\n",
            "700:\tlearn: 0.1847379\ttotal: 15.7s\tremaining: 6.7s\n",
            "701:\tlearn: 0.1846130\ttotal: 15.7s\tremaining: 6.67s\n",
            "702:\tlearn: 0.1844966\ttotal: 15.7s\tremaining: 6.65s\n",
            "703:\tlearn: 0.1844208\ttotal: 15.8s\tremaining: 6.63s\n",
            "704:\tlearn: 0.1843281\ttotal: 15.8s\tremaining: 6.6s\n",
            "705:\tlearn: 0.1842472\ttotal: 15.8s\tremaining: 6.58s\n",
            "706:\tlearn: 0.1841264\ttotal: 15.8s\tremaining: 6.56s\n",
            "707:\tlearn: 0.1840039\ttotal: 15.8s\tremaining: 6.54s\n",
            "708:\tlearn: 0.1839101\ttotal: 15.9s\tremaining: 6.51s\n",
            "709:\tlearn: 0.1838057\ttotal: 15.9s\tremaining: 6.49s\n",
            "710:\tlearn: 0.1837010\ttotal: 15.9s\tremaining: 6.46s\n",
            "711:\tlearn: 0.1835588\ttotal: 15.9s\tremaining: 6.44s\n",
            "712:\tlearn: 0.1834796\ttotal: 15.9s\tremaining: 6.41s\n",
            "713:\tlearn: 0.1833369\ttotal: 15.9s\tremaining: 6.39s\n",
            "714:\tlearn: 0.1832929\ttotal: 16s\tremaining: 6.36s\n",
            "715:\tlearn: 0.1831798\ttotal: 16s\tremaining: 6.34s\n",
            "716:\tlearn: 0.1830415\ttotal: 16s\tremaining: 6.32s\n",
            "717:\tlearn: 0.1829471\ttotal: 16s\tremaining: 6.29s\n",
            "718:\tlearn: 0.1828996\ttotal: 16s\tremaining: 6.27s\n",
            "719:\tlearn: 0.1826999\ttotal: 16.1s\tremaining: 6.24s\n",
            "720:\tlearn: 0.1826283\ttotal: 16.1s\tremaining: 6.22s\n",
            "721:\tlearn: 0.1825688\ttotal: 16.1s\tremaining: 6.19s\n",
            "722:\tlearn: 0.1824921\ttotal: 16.1s\tremaining: 6.17s\n",
            "723:\tlearn: 0.1824278\ttotal: 16.1s\tremaining: 6.15s\n",
            "724:\tlearn: 0.1823061\ttotal: 16.1s\tremaining: 6.12s\n",
            "725:\tlearn: 0.1822249\ttotal: 16.2s\tremaining: 6.1s\n",
            "726:\tlearn: 0.1821024\ttotal: 16.2s\tremaining: 6.08s\n",
            "727:\tlearn: 0.1819649\ttotal: 16.2s\tremaining: 6.05s\n",
            "728:\tlearn: 0.1819104\ttotal: 16.2s\tremaining: 6.03s\n",
            "729:\tlearn: 0.1818379\ttotal: 16.2s\tremaining: 6s\n",
            "730:\tlearn: 0.1816847\ttotal: 16.3s\tremaining: 5.98s\n",
            "731:\tlearn: 0.1815640\ttotal: 16.3s\tremaining: 5.96s\n",
            "732:\tlearn: 0.1815006\ttotal: 16.3s\tremaining: 5.93s\n",
            "733:\tlearn: 0.1814334\ttotal: 16.3s\tremaining: 5.91s\n",
            "734:\tlearn: 0.1813267\ttotal: 16.3s\tremaining: 5.88s\n",
            "735:\tlearn: 0.1812315\ttotal: 16.3s\tremaining: 5.86s\n",
            "736:\tlearn: 0.1811880\ttotal: 16.4s\tremaining: 5.83s\n",
            "737:\tlearn: 0.1810742\ttotal: 16.4s\tremaining: 5.81s\n",
            "738:\tlearn: 0.1810329\ttotal: 16.4s\tremaining: 5.79s\n",
            "739:\tlearn: 0.1809702\ttotal: 16.4s\tremaining: 5.76s\n",
            "740:\tlearn: 0.1808577\ttotal: 16.4s\tremaining: 5.74s\n",
            "741:\tlearn: 0.1807368\ttotal: 16.4s\tremaining: 5.72s\n",
            "742:\tlearn: 0.1806438\ttotal: 16.5s\tremaining: 5.7s\n",
            "743:\tlearn: 0.1805722\ttotal: 16.5s\tremaining: 5.67s\n",
            "744:\tlearn: 0.1805270\ttotal: 16.5s\tremaining: 5.65s\n",
            "745:\tlearn: 0.1803966\ttotal: 16.5s\tremaining: 5.62s\n",
            "746:\tlearn: 0.1803568\ttotal: 16.5s\tremaining: 5.6s\n",
            "747:\tlearn: 0.1802478\ttotal: 16.6s\tremaining: 5.58s\n",
            "748:\tlearn: 0.1801391\ttotal: 16.6s\tremaining: 5.55s\n",
            "749:\tlearn: 0.1800611\ttotal: 16.6s\tremaining: 5.53s\n",
            "750:\tlearn: 0.1799939\ttotal: 16.6s\tremaining: 5.51s\n",
            "751:\tlearn: 0.1799225\ttotal: 16.6s\tremaining: 5.48s\n",
            "752:\tlearn: 0.1798383\ttotal: 16.6s\tremaining: 5.46s\n",
            "753:\tlearn: 0.1796974\ttotal: 16.7s\tremaining: 5.44s\n",
            "754:\tlearn: 0.1795675\ttotal: 16.7s\tremaining: 5.41s\n",
            "755:\tlearn: 0.1794902\ttotal: 16.7s\tremaining: 5.39s\n",
            "756:\tlearn: 0.1792830\ttotal: 16.7s\tremaining: 5.36s\n",
            "757:\tlearn: 0.1791505\ttotal: 16.7s\tremaining: 5.34s\n",
            "758:\tlearn: 0.1790653\ttotal: 16.7s\tremaining: 5.32s\n",
            "759:\tlearn: 0.1789701\ttotal: 16.8s\tremaining: 5.29s\n",
            "760:\tlearn: 0.1788930\ttotal: 16.8s\tremaining: 5.27s\n",
            "761:\tlearn: 0.1788307\ttotal: 16.8s\tremaining: 5.25s\n",
            "762:\tlearn: 0.1787696\ttotal: 16.8s\tremaining: 5.22s\n",
            "763:\tlearn: 0.1786857\ttotal: 16.8s\tremaining: 5.2s\n",
            "764:\tlearn: 0.1786228\ttotal: 16.9s\tremaining: 5.18s\n",
            "765:\tlearn: 0.1785800\ttotal: 16.9s\tremaining: 5.16s\n",
            "766:\tlearn: 0.1784517\ttotal: 16.9s\tremaining: 5.13s\n",
            "767:\tlearn: 0.1783363\ttotal: 16.9s\tremaining: 5.11s\n",
            "768:\tlearn: 0.1782565\ttotal: 16.9s\tremaining: 5.08s\n",
            "769:\tlearn: 0.1780792\ttotal: 16.9s\tremaining: 5.06s\n",
            "770:\tlearn: 0.1779644\ttotal: 17s\tremaining: 5.04s\n",
            "771:\tlearn: 0.1778240\ttotal: 17s\tremaining: 5.01s\n",
            "772:\tlearn: 0.1777479\ttotal: 17s\tremaining: 4.99s\n",
            "773:\tlearn: 0.1776218\ttotal: 17s\tremaining: 4.97s\n",
            "774:\tlearn: 0.1775692\ttotal: 17s\tremaining: 4.95s\n",
            "775:\tlearn: 0.1774546\ttotal: 17.1s\tremaining: 4.92s\n",
            "776:\tlearn: 0.1773598\ttotal: 17.1s\tremaining: 4.9s\n",
            "777:\tlearn: 0.1772491\ttotal: 17.1s\tremaining: 4.88s\n",
            "778:\tlearn: 0.1771034\ttotal: 17.1s\tremaining: 4.86s\n",
            "779:\tlearn: 0.1770075\ttotal: 17.1s\tremaining: 4.83s\n",
            "780:\tlearn: 0.1768902\ttotal: 17.2s\tremaining: 4.81s\n",
            "781:\tlearn: 0.1767009\ttotal: 17.2s\tremaining: 4.79s\n",
            "782:\tlearn: 0.1766252\ttotal: 17.2s\tremaining: 4.76s\n",
            "783:\tlearn: 0.1765428\ttotal: 17.2s\tremaining: 4.74s\n",
            "784:\tlearn: 0.1764654\ttotal: 17.2s\tremaining: 4.72s\n",
            "785:\tlearn: 0.1763380\ttotal: 17.2s\tremaining: 4.69s\n",
            "786:\tlearn: 0.1762292\ttotal: 17.3s\tremaining: 4.67s\n",
            "787:\tlearn: 0.1761640\ttotal: 17.3s\tremaining: 4.65s\n",
            "788:\tlearn: 0.1760851\ttotal: 17.3s\tremaining: 4.62s\n",
            "789:\tlearn: 0.1760193\ttotal: 17.3s\tremaining: 4.61s\n",
            "790:\tlearn: 0.1759166\ttotal: 17.4s\tremaining: 4.58s\n",
            "791:\tlearn: 0.1758134\ttotal: 17.4s\tremaining: 4.57s\n",
            "792:\tlearn: 0.1757554\ttotal: 17.4s\tremaining: 4.55s\n",
            "793:\tlearn: 0.1756434\ttotal: 17.5s\tremaining: 4.53s\n",
            "794:\tlearn: 0.1755846\ttotal: 17.5s\tremaining: 4.51s\n",
            "795:\tlearn: 0.1755231\ttotal: 17.6s\tremaining: 4.5s\n",
            "796:\tlearn: 0.1754381\ttotal: 17.6s\tremaining: 4.48s\n",
            "797:\tlearn: 0.1753760\ttotal: 17.6s\tremaining: 4.46s\n",
            "798:\tlearn: 0.1751928\ttotal: 17.7s\tremaining: 4.45s\n",
            "799:\tlearn: 0.1750862\ttotal: 17.7s\tremaining: 4.43s\n",
            "800:\tlearn: 0.1749344\ttotal: 17.8s\tremaining: 4.41s\n",
            "801:\tlearn: 0.1748413\ttotal: 17.8s\tremaining: 4.39s\n",
            "802:\tlearn: 0.1747421\ttotal: 17.8s\tremaining: 4.37s\n",
            "803:\tlearn: 0.1745524\ttotal: 17.9s\tremaining: 4.35s\n",
            "804:\tlearn: 0.1744478\ttotal: 17.9s\tremaining: 4.34s\n",
            "805:\tlearn: 0.1743077\ttotal: 18s\tremaining: 4.32s\n",
            "806:\tlearn: 0.1742592\ttotal: 18s\tremaining: 4.3s\n",
            "807:\tlearn: 0.1741962\ttotal: 18s\tremaining: 4.29s\n",
            "808:\tlearn: 0.1740376\ttotal: 18.1s\tremaining: 4.27s\n",
            "809:\tlearn: 0.1739401\ttotal: 18.1s\tremaining: 4.25s\n",
            "810:\tlearn: 0.1738608\ttotal: 18.1s\tremaining: 4.23s\n",
            "811:\tlearn: 0.1737525\ttotal: 18.2s\tremaining: 4.21s\n",
            "812:\tlearn: 0.1736327\ttotal: 18.2s\tremaining: 4.19s\n",
            "813:\tlearn: 0.1735120\ttotal: 18.3s\tremaining: 4.17s\n",
            "814:\tlearn: 0.1733659\ttotal: 18.3s\tremaining: 4.16s\n",
            "815:\tlearn: 0.1732929\ttotal: 18.4s\tremaining: 4.14s\n",
            "816:\tlearn: 0.1732311\ttotal: 18.4s\tremaining: 4.12s\n",
            "817:\tlearn: 0.1731026\ttotal: 18.4s\tremaining: 4.1s\n",
            "818:\tlearn: 0.1730235\ttotal: 18.5s\tremaining: 4.09s\n",
            "819:\tlearn: 0.1729130\ttotal: 18.5s\tremaining: 4.07s\n",
            "820:\tlearn: 0.1727843\ttotal: 18.6s\tremaining: 4.05s\n",
            "821:\tlearn: 0.1726589\ttotal: 18.6s\tremaining: 4.03s\n",
            "822:\tlearn: 0.1725309\ttotal: 18.7s\tremaining: 4.01s\n",
            "823:\tlearn: 0.1724426\ttotal: 18.7s\tremaining: 4s\n",
            "824:\tlearn: 0.1723507\ttotal: 18.8s\tremaining: 3.98s\n",
            "825:\tlearn: 0.1722719\ttotal: 18.8s\tremaining: 3.96s\n",
            "826:\tlearn: 0.1721479\ttotal: 18.8s\tremaining: 3.94s\n",
            "827:\tlearn: 0.1720490\ttotal: 18.9s\tremaining: 3.92s\n",
            "828:\tlearn: 0.1719777\ttotal: 18.9s\tremaining: 3.91s\n",
            "829:\tlearn: 0.1718716\ttotal: 19s\tremaining: 3.89s\n",
            "830:\tlearn: 0.1717072\ttotal: 19s\tremaining: 3.86s\n",
            "831:\tlearn: 0.1716452\ttotal: 19s\tremaining: 3.85s\n",
            "832:\tlearn: 0.1715888\ttotal: 19.1s\tremaining: 3.83s\n",
            "833:\tlearn: 0.1714912\ttotal: 19.1s\tremaining: 3.81s\n",
            "834:\tlearn: 0.1714450\ttotal: 19.2s\tremaining: 3.79s\n",
            "835:\tlearn: 0.1713340\ttotal: 19.2s\tremaining: 3.77s\n",
            "836:\tlearn: 0.1712849\ttotal: 19.2s\tremaining: 3.75s\n",
            "837:\tlearn: 0.1712118\ttotal: 19.3s\tremaining: 3.73s\n",
            "838:\tlearn: 0.1711462\ttotal: 19.3s\tremaining: 3.71s\n",
            "839:\tlearn: 0.1710586\ttotal: 19.3s\tremaining: 3.68s\n",
            "840:\tlearn: 0.1709203\ttotal: 19.4s\tremaining: 3.66s\n",
            "841:\tlearn: 0.1708543\ttotal: 19.4s\tremaining: 3.64s\n",
            "842:\tlearn: 0.1707422\ttotal: 19.5s\tremaining: 3.63s\n",
            "843:\tlearn: 0.1705779\ttotal: 19.5s\tremaining: 3.61s\n",
            "844:\tlearn: 0.1704757\ttotal: 19.6s\tremaining: 3.59s\n",
            "845:\tlearn: 0.1704087\ttotal: 19.6s\tremaining: 3.57s\n",
            "846:\tlearn: 0.1703350\ttotal: 19.6s\tremaining: 3.55s\n",
            "847:\tlearn: 0.1702193\ttotal: 19.7s\tremaining: 3.52s\n",
            "848:\tlearn: 0.1701525\ttotal: 19.7s\tremaining: 3.5s\n",
            "849:\tlearn: 0.1700068\ttotal: 19.7s\tremaining: 3.48s\n",
            "850:\tlearn: 0.1699448\ttotal: 19.8s\tremaining: 3.46s\n",
            "851:\tlearn: 0.1698758\ttotal: 19.8s\tremaining: 3.44s\n",
            "852:\tlearn: 0.1697830\ttotal: 19.9s\tremaining: 3.42s\n",
            "853:\tlearn: 0.1696976\ttotal: 19.9s\tremaining: 3.4s\n",
            "854:\tlearn: 0.1695936\ttotal: 19.9s\tremaining: 3.38s\n",
            "855:\tlearn: 0.1695050\ttotal: 20s\tremaining: 3.36s\n",
            "856:\tlearn: 0.1694349\ttotal: 20s\tremaining: 3.34s\n",
            "857:\tlearn: 0.1693048\ttotal: 20.1s\tremaining: 3.32s\n",
            "858:\tlearn: 0.1692354\ttotal: 20.1s\tremaining: 3.3s\n",
            "859:\tlearn: 0.1691744\ttotal: 20.2s\tremaining: 3.28s\n",
            "860:\tlearn: 0.1690901\ttotal: 20.2s\tremaining: 3.27s\n",
            "861:\tlearn: 0.1689824\ttotal: 20.3s\tremaining: 3.25s\n",
            "862:\tlearn: 0.1688515\ttotal: 20.3s\tremaining: 3.23s\n",
            "863:\tlearn: 0.1687643\ttotal: 20.4s\tremaining: 3.21s\n",
            "864:\tlearn: 0.1686908\ttotal: 20.4s\tremaining: 3.19s\n",
            "865:\tlearn: 0.1685453\ttotal: 20.5s\tremaining: 3.17s\n",
            "866:\tlearn: 0.1684377\ttotal: 20.5s\tremaining: 3.15s\n",
            "867:\tlearn: 0.1683451\ttotal: 20.5s\tremaining: 3.13s\n",
            "868:\tlearn: 0.1682750\ttotal: 20.6s\tremaining: 3.1s\n",
            "869:\tlearn: 0.1682037\ttotal: 20.6s\tremaining: 3.08s\n",
            "870:\tlearn: 0.1680490\ttotal: 20.7s\tremaining: 3.06s\n",
            "871:\tlearn: 0.1680035\ttotal: 20.7s\tremaining: 3.04s\n",
            "872:\tlearn: 0.1678756\ttotal: 20.8s\tremaining: 3.02s\n",
            "873:\tlearn: 0.1677198\ttotal: 20.8s\tremaining: 3s\n",
            "874:\tlearn: 0.1676340\ttotal: 20.9s\tremaining: 2.98s\n",
            "875:\tlearn: 0.1675762\ttotal: 20.9s\tremaining: 2.96s\n",
            "876:\tlearn: 0.1674622\ttotal: 21s\tremaining: 2.94s\n",
            "877:\tlearn: 0.1673599\ttotal: 21s\tremaining: 2.92s\n",
            "878:\tlearn: 0.1672368\ttotal: 21.1s\tremaining: 2.9s\n",
            "879:\tlearn: 0.1671386\ttotal: 21.1s\tremaining: 2.88s\n",
            "880:\tlearn: 0.1670385\ttotal: 21.2s\tremaining: 2.86s\n",
            "881:\tlearn: 0.1669101\ttotal: 21.2s\tremaining: 2.84s\n",
            "882:\tlearn: 0.1668105\ttotal: 21.3s\tremaining: 2.82s\n",
            "883:\tlearn: 0.1667266\ttotal: 21.3s\tremaining: 2.79s\n",
            "884:\tlearn: 0.1666358\ttotal: 21.4s\tremaining: 2.78s\n",
            "885:\tlearn: 0.1665736\ttotal: 21.4s\tremaining: 2.75s\n",
            "886:\tlearn: 0.1665256\ttotal: 21.4s\tremaining: 2.73s\n",
            "887:\tlearn: 0.1664484\ttotal: 21.5s\tremaining: 2.71s\n",
            "888:\tlearn: 0.1663871\ttotal: 21.5s\tremaining: 2.69s\n",
            "889:\tlearn: 0.1662788\ttotal: 21.6s\tremaining: 2.67s\n",
            "890:\tlearn: 0.1662224\ttotal: 21.6s\tremaining: 2.64s\n",
            "891:\tlearn: 0.1661434\ttotal: 21.7s\tremaining: 2.62s\n",
            "892:\tlearn: 0.1660614\ttotal: 21.7s\tremaining: 2.6s\n",
            "893:\tlearn: 0.1659289\ttotal: 21.8s\tremaining: 2.58s\n",
            "894:\tlearn: 0.1658814\ttotal: 21.8s\tremaining: 2.56s\n",
            "895:\tlearn: 0.1657900\ttotal: 21.8s\tremaining: 2.53s\n",
            "896:\tlearn: 0.1656657\ttotal: 21.8s\tremaining: 2.51s\n",
            "897:\tlearn: 0.1655662\ttotal: 21.9s\tremaining: 2.48s\n",
            "898:\tlearn: 0.1654343\ttotal: 21.9s\tremaining: 2.46s\n",
            "899:\tlearn: 0.1653693\ttotal: 21.9s\tremaining: 2.43s\n",
            "900:\tlearn: 0.1653154\ttotal: 21.9s\tremaining: 2.41s\n",
            "901:\tlearn: 0.1652297\ttotal: 21.9s\tremaining: 2.38s\n",
            "902:\tlearn: 0.1649536\ttotal: 21.9s\tremaining: 2.36s\n",
            "903:\tlearn: 0.1647565\ttotal: 22s\tremaining: 2.33s\n",
            "904:\tlearn: 0.1646967\ttotal: 22s\tremaining: 2.31s\n",
            "905:\tlearn: 0.1645853\ttotal: 22s\tremaining: 2.28s\n",
            "906:\tlearn: 0.1645055\ttotal: 22s\tremaining: 2.26s\n",
            "907:\tlearn: 0.1643524\ttotal: 22.1s\tremaining: 2.23s\n",
            "908:\tlearn: 0.1642905\ttotal: 22.1s\tremaining: 2.21s\n",
            "909:\tlearn: 0.1642156\ttotal: 22.1s\tremaining: 2.19s\n",
            "910:\tlearn: 0.1641529\ttotal: 22.1s\tremaining: 2.16s\n",
            "911:\tlearn: 0.1640865\ttotal: 22.1s\tremaining: 2.14s\n",
            "912:\tlearn: 0.1640309\ttotal: 22.2s\tremaining: 2.11s\n",
            "913:\tlearn: 0.1639605\ttotal: 22.2s\tremaining: 2.09s\n",
            "914:\tlearn: 0.1639032\ttotal: 22.2s\tremaining: 2.06s\n",
            "915:\tlearn: 0.1638562\ttotal: 22.2s\tremaining: 2.04s\n",
            "916:\tlearn: 0.1637242\ttotal: 22.2s\tremaining: 2.01s\n",
            "917:\tlearn: 0.1636283\ttotal: 22.3s\tremaining: 1.99s\n",
            "918:\tlearn: 0.1635619\ttotal: 22.3s\tremaining: 1.96s\n",
            "919:\tlearn: 0.1634890\ttotal: 22.3s\tremaining: 1.94s\n",
            "920:\tlearn: 0.1634178\ttotal: 22.3s\tremaining: 1.91s\n",
            "921:\tlearn: 0.1632961\ttotal: 22.3s\tremaining: 1.89s\n",
            "922:\tlearn: 0.1632416\ttotal: 22.4s\tremaining: 1.86s\n",
            "923:\tlearn: 0.1630887\ttotal: 22.4s\tremaining: 1.84s\n",
            "924:\tlearn: 0.1630257\ttotal: 22.4s\tremaining: 1.81s\n",
            "925:\tlearn: 0.1629640\ttotal: 22.4s\tremaining: 1.79s\n",
            "926:\tlearn: 0.1628216\ttotal: 22.4s\tremaining: 1.77s\n",
            "927:\tlearn: 0.1627500\ttotal: 22.5s\tremaining: 1.74s\n",
            "928:\tlearn: 0.1626662\ttotal: 22.5s\tremaining: 1.72s\n",
            "929:\tlearn: 0.1626248\ttotal: 22.5s\tremaining: 1.69s\n",
            "930:\tlearn: 0.1625080\ttotal: 22.5s\tremaining: 1.67s\n",
            "931:\tlearn: 0.1624543\ttotal: 22.5s\tremaining: 1.64s\n",
            "932:\tlearn: 0.1623966\ttotal: 22.5s\tremaining: 1.62s\n",
            "933:\tlearn: 0.1623222\ttotal: 22.6s\tremaining: 1.59s\n",
            "934:\tlearn: 0.1622032\ttotal: 22.6s\tremaining: 1.57s\n",
            "935:\tlearn: 0.1620850\ttotal: 22.6s\tremaining: 1.54s\n",
            "936:\tlearn: 0.1619807\ttotal: 22.6s\tremaining: 1.52s\n",
            "937:\tlearn: 0.1619090\ttotal: 22.6s\tremaining: 1.5s\n",
            "938:\tlearn: 0.1618328\ttotal: 22.6s\tremaining: 1.47s\n",
            "939:\tlearn: 0.1617839\ttotal: 22.7s\tremaining: 1.45s\n",
            "940:\tlearn: 0.1617141\ttotal: 22.7s\tremaining: 1.42s\n",
            "941:\tlearn: 0.1615630\ttotal: 22.7s\tremaining: 1.4s\n",
            "942:\tlearn: 0.1615122\ttotal: 22.7s\tremaining: 1.37s\n",
            "943:\tlearn: 0.1614065\ttotal: 22.7s\tremaining: 1.35s\n",
            "944:\tlearn: 0.1613545\ttotal: 22.8s\tremaining: 1.32s\n",
            "945:\tlearn: 0.1612686\ttotal: 22.8s\tremaining: 1.3s\n",
            "946:\tlearn: 0.1612068\ttotal: 22.8s\tremaining: 1.27s\n",
            "947:\tlearn: 0.1610710\ttotal: 22.8s\tremaining: 1.25s\n",
            "948:\tlearn: 0.1609260\ttotal: 22.8s\tremaining: 1.23s\n",
            "949:\tlearn: 0.1608583\ttotal: 22.8s\tremaining: 1.2s\n",
            "950:\tlearn: 0.1607965\ttotal: 22.9s\tremaining: 1.18s\n",
            "951:\tlearn: 0.1607477\ttotal: 22.9s\tremaining: 1.15s\n",
            "952:\tlearn: 0.1606319\ttotal: 22.9s\tremaining: 1.13s\n",
            "953:\tlearn: 0.1605185\ttotal: 22.9s\tremaining: 1.1s\n",
            "954:\tlearn: 0.1604598\ttotal: 22.9s\tremaining: 1.08s\n",
            "955:\tlearn: 0.1603538\ttotal: 23s\tremaining: 1.06s\n",
            "956:\tlearn: 0.1602946\ttotal: 23s\tremaining: 1.03s\n",
            "957:\tlearn: 0.1602254\ttotal: 23s\tremaining: 1.01s\n",
            "958:\tlearn: 0.1601603\ttotal: 23s\tremaining: 984ms\n",
            "959:\tlearn: 0.1600665\ttotal: 23.1s\tremaining: 960ms\n",
            "960:\tlearn: 0.1600318\ttotal: 23.1s\tremaining: 936ms\n",
            "961:\tlearn: 0.1599633\ttotal: 23.1s\tremaining: 912ms\n",
            "962:\tlearn: 0.1598995\ttotal: 23.1s\tremaining: 888ms\n",
            "963:\tlearn: 0.1598044\ttotal: 23.1s\tremaining: 864ms\n",
            "964:\tlearn: 0.1596990\ttotal: 23.1s\tremaining: 840ms\n",
            "965:\tlearn: 0.1596601\ttotal: 23.2s\tremaining: 815ms\n",
            "966:\tlearn: 0.1595336\ttotal: 23.2s\tremaining: 791ms\n",
            "967:\tlearn: 0.1594603\ttotal: 23.2s\tremaining: 767ms\n",
            "968:\tlearn: 0.1593496\ttotal: 23.2s\tremaining: 743ms\n",
            "969:\tlearn: 0.1592589\ttotal: 23.2s\tremaining: 719ms\n",
            "970:\tlearn: 0.1591919\ttotal: 23.3s\tremaining: 694ms\n",
            "971:\tlearn: 0.1591377\ttotal: 23.3s\tremaining: 670ms\n",
            "972:\tlearn: 0.1590953\ttotal: 23.3s\tremaining: 646ms\n",
            "973:\tlearn: 0.1590217\ttotal: 23.3s\tremaining: 623ms\n",
            "974:\tlearn: 0.1589294\ttotal: 23.3s\tremaining: 598ms\n",
            "975:\tlearn: 0.1588593\ttotal: 23.4s\tremaining: 574ms\n",
            "976:\tlearn: 0.1587558\ttotal: 23.4s\tremaining: 550ms\n",
            "977:\tlearn: 0.1586941\ttotal: 23.4s\tremaining: 526ms\n",
            "978:\tlearn: 0.1586478\ttotal: 23.4s\tremaining: 502ms\n",
            "979:\tlearn: 0.1585895\ttotal: 23.4s\tremaining: 478ms\n",
            "980:\tlearn: 0.1584959\ttotal: 23.4s\tremaining: 454ms\n",
            "981:\tlearn: 0.1584341\ttotal: 23.5s\tremaining: 430ms\n",
            "982:\tlearn: 0.1583971\ttotal: 23.5s\tremaining: 406ms\n",
            "983:\tlearn: 0.1583373\ttotal: 23.5s\tremaining: 382ms\n",
            "984:\tlearn: 0.1582653\ttotal: 23.5s\tremaining: 358ms\n",
            "985:\tlearn: 0.1581535\ttotal: 23.5s\tremaining: 334ms\n",
            "986:\tlearn: 0.1580837\ttotal: 23.6s\tremaining: 310ms\n",
            "987:\tlearn: 0.1580226\ttotal: 23.6s\tremaining: 286ms\n",
            "988:\tlearn: 0.1579618\ttotal: 23.6s\tremaining: 262ms\n",
            "989:\tlearn: 0.1579140\ttotal: 23.6s\tremaining: 238ms\n",
            "990:\tlearn: 0.1578683\ttotal: 23.6s\tremaining: 215ms\n",
            "991:\tlearn: 0.1577746\ttotal: 23.6s\tremaining: 191ms\n",
            "992:\tlearn: 0.1577187\ttotal: 23.7s\tremaining: 167ms\n",
            "993:\tlearn: 0.1576132\ttotal: 23.7s\tremaining: 143ms\n",
            "994:\tlearn: 0.1575427\ttotal: 23.7s\tremaining: 119ms\n",
            "995:\tlearn: 0.1574666\ttotal: 23.7s\tremaining: 95.2ms\n",
            "996:\tlearn: 0.1573929\ttotal: 23.7s\tremaining: 71.4ms\n",
            "997:\tlearn: 0.1573495\ttotal: 23.7s\tremaining: 47.6ms\n",
            "998:\tlearn: 0.1572298\ttotal: 23.8s\tremaining: 23.8ms\n",
            "999:\tlearn: 0.1571401\ttotal: 23.8s\tremaining: 0us\n"
          ]
        }
      ],
      "source": [
        "model35=cat.fit(x_train1,y_train1)\n",
        "model36=cat.fit(x_train2,y_train2)"
      ]
    },
    {
      "cell_type": "code",
      "execution_count": 835,
      "metadata": {
        "id": "e2wKjSz241ST"
      },
      "outputs": [],
      "source": [
        "import numpy as np\n",
        "np.random.seed(50)"
      ]
    },
    {
      "cell_type": "markdown",
      "metadata": {
        "id": "CdIiDLjP3znw"
      },
      "source": [
        "Voting Classifier best of 3 soft voting Odd numbered models"
      ]
    },
    {
      "cell_type": "code",
      "execution_count": 836,
      "metadata": {
        "id": "P2kkUKy_D46Z"
      },
      "outputs": [],
      "source": [
        "v1=VotingClassifier(estimators=[('model 21',model21),('model 31',model31)],voting=\"soft\")\n",
        "v2=VotingClassifier(estimators=[('model 31',model31),('model 27',model27)],voting=\"soft\")"
      ]
    },
    {
      "cell_type": "code",
      "execution_count": 837,
      "metadata": {
        "id": "A4te5T8s38Gt"
      },
      "outputs": [],
      "source": [
        "vc3soft=VotingClassifier(estimators=[('v1',v1),('v2',v2)],voting=\"soft\")"
      ]
    },
    {
      "cell_type": "code",
      "execution_count": 838,
      "metadata": {
        "id": "oLDdFeIh4XUG"
      },
      "outputs": [],
      "source": [
        "model37=vc3soft.fit(x_train1,y_train1)\n",
        "model38=vc3soft.fit(x_train2,y_train2)"
      ]
    },
    {
      "cell_type": "markdown",
      "metadata": {
        "id": "WWr8JooN5G9H"
      },
      "source": [
        "Voting Classifier best of 3 hard voting"
      ]
    },
    {
      "cell_type": "code",
      "execution_count": 839,
      "metadata": {
        "id": "zGLa0Oi4EXnq"
      },
      "outputs": [],
      "source": [
        "v1=VotingClassifier(estimators=[('model 21',model21),('model 31',model31)],voting=\"hard\")\n",
        "v2=VotingClassifier(estimators=[('model 31',model31),('model 27',model27)],voting=\"hard\")"
      ]
    },
    {
      "cell_type": "code",
      "execution_count": 840,
      "metadata": {
        "id": "WCA0yahK5P62"
      },
      "outputs": [],
      "source": [
        "vc3hard=VotingClassifier(estimators=[('v1',v1),('v2',v2)],voting=\"hard\")"
      ]
    },
    {
      "cell_type": "code",
      "execution_count": 841,
      "metadata": {
        "id": "hmO2JQ155XFu"
      },
      "outputs": [],
      "source": [
        "model41=vc3hard.fit(x_train1,y_train1)\n",
        "model42=vc3hard.fit(x_train2,y_train2)"
      ]
    },
    {
      "cell_type": "markdown",
      "metadata": {
        "id": "LuXXSFzxvD9N"
      },
      "source": [
        "Voting Classifier with even numbered models best of 3"
      ]
    },
    {
      "cell_type": "code",
      "execution_count": 842,
      "metadata": {
        "id": "X7gMbRqGEkU7"
      },
      "outputs": [],
      "source": [
        "v1=VotingClassifier(estimators=[('model 22',model22),('model 32',model32)],voting=\"soft\")\n",
        "v2=VotingClassifier(estimators=[('model 32',model32),('model 28',model28)],voting=\"soft\")"
      ]
    },
    {
      "cell_type": "code",
      "execution_count": 843,
      "metadata": {
        "id": "m5v4Ky5CvDqO"
      },
      "outputs": [],
      "source": [
        "vc3soft=VotingClassifier(estimators=[('v1',v1),('v2',v2)],voting=\"soft\")\n",
        "model45=vc3soft.fit(x_train1,y_train1)\n",
        "model46=vc3soft.fit(x_train2,y_train2)"
      ]
    },
    {
      "cell_type": "markdown",
      "metadata": {
        "id": "OdHJSm-wmukR"
      },
      "source": [
        "Voting Classifier with even numbered models best of 3 hard\n"
      ]
    },
    {
      "cell_type": "code",
      "execution_count": 844,
      "metadata": {
        "id": "okyP-gnzE6HB"
      },
      "outputs": [],
      "source": [
        "v1=VotingClassifier(estimators=[('model 22',model22),('model 32',model32)],voting=\"hard\")\n",
        "v2=VotingClassifier(estimators=[('model 32',model32),('model 28',model28)],voting=\"hard\")"
      ]
    },
    {
      "cell_type": "code",
      "execution_count": 845,
      "metadata": {
        "collapsed": true,
        "id": "OkkelWiGmyad"
      },
      "outputs": [],
      "source": [
        "vc3hard=VotingClassifier(estimators=[('v1',v1),('v2',v2)],voting=\"hard\")\n",
        "model49=vc3hard.fit(x_train1,y_train1)\n",
        "model50=vc3hard.fit(x_train2,y_train2)"
      ]
    },
    {
      "cell_type": "markdown",
      "metadata": {
        "id": "kKBBaAi9lQzx"
      },
      "source": [
        "MODEL EVALUATION"
      ]
    },
    {
      "cell_type": "code",
      "execution_count": 846,
      "metadata": {
        "id": "m8wE8vp6lXNb"
      },
      "outputs": [],
      "source": [
        "from sklearn import metrics"
      ]
    },
    {
      "cell_type": "code",
      "execution_count": 847,
      "metadata": {
        "id": "F58Zr2QylY7a"
      },
      "outputs": [],
      "source": [
        "from sklearn.metrics import classification_report,confusion_matrix,accuracy_score,precision_score,recall_score,f1_score"
      ]
    },
    {
      "cell_type": "code",
      "execution_count": 848,
      "metadata": {
        "id": "_fX0jrz6PVq1"
      },
      "outputs": [],
      "source": [
        "y_pred1=model1.predict(x_test1)\n",
        "y_pred2=model2.predict(x_test2)\n",
        "y_pred3=model3.predict(x_test1)\n",
        "y_pred4=model4.predict(x_test2)\n",
        "y_pred5=model5.predict(x_test1)\n",
        "y_pred6=model6.predict(x_test2)\n",
        "y_pred7=model7.predict(x_test1)\n",
        "y_pred8=model8.predict(x_test2)\n",
        "y_pred9=model9.predict(x_test1)\n",
        "y_pred10=model10.predict(x_test2)\n",
        "y_pred11=model11.predict(x_test1)\n",
        "y_pred12=model12.predict(x_test2)\n",
        "y_pred13=model13.predict(x_test1)\n",
        "y_pred14=model14.predict(x_test2)\n",
        "y_pred15=model15.predict(x_test1)\n",
        "y_pred16=model16.predict(x_test2)\n",
        "y_pred17=model17.predict(x_test1)\n",
        "y_pred18=model18.predict(x_test2)\n",
        "y_pred19=model19.predict(x_test1)\n",
        "y_pred20=model20.predict(x_test2)\n",
        "y_pred21=model21.predict(x_test1)\n",
        "y_pred22=model22.predict(x_test2)\n",
        "y_pred23=model23.predict(x_test1)\n",
        "y_pred24=model24.predict(x_test2)\n",
        "y_pred25=model25.predict(x_test1)\n",
        "y_pred26=model26.predict(x_test2)\n",
        "y_pred27=model27.predict(x_test1)\n",
        "y_pred28=model28.predict(x_test2)\n",
        "y_pred29=model29.predict(x_test1)\n",
        "y_pred30=model30.predict(x_test2)\n",
        "y_pred31=model31.predict(x_test1)\n",
        "y_pred32=model32.predict(x_test2)\n",
        "y_pred33=model33.predict(x_test1)\n",
        "y_pred34=model34.predict(x_test2)\n",
        "y_pred35=model35.predict(x_test1)\n",
        "y_pred36=model36.predict(x_test2)\n",
        "y_pred37=model37.predict(x_test1)\n",
        "y_pred38=model38.predict(x_test2)\n",
        "# y_pred39=model39.predict(x_test1)\n",
        "# y_pred40=model40.predict(x_test2)\n",
        "y_pred41=model41.predict(x_test1)\n",
        "y_pred42=model42.predict(x_test2)\n",
        "# y_pred43=model43.predict(x_test1)\n",
        "# y_pred44=model44.predict(x_test2)\n",
        "y_pred45=model45.predict(x_test1)\n",
        "y_pred46=model46.predict(x_test2)\n",
        "# y_pred47=model47.predict(x_test1)\n",
        "# y_pred48=model48.predict(x_test2)\n",
        "y_pred49=model49.predict(x_test1)\n",
        "y_pred50=model50.predict(x_test2)\n",
        "# y_pred51=model51.predict(x_test1)\n",
        "# y_pred52=model52.predict(x_test2)\n",
        "\n"
      ]
    },
    {
      "cell_type": "code",
      "execution_count": 849,
      "metadata": {
        "id": "4JEX7fy2TIxP"
      },
      "outputs": [],
      "source": [
        "from tabulate import tabulate"
      ]
    },
    {
      "cell_type": "code",
      "execution_count": 850,
      "metadata": {
        "id": "PWmt4WJZQj1U"
      },
      "outputs": [],
      "source": [
        "header=[\"MODEL NUMBER \",\"ACCURACY \",\"F1 SCORE\",\"PRECISION\",\"RECALL\"]"
      ]
    },
    {
      "cell_type": "code",
      "execution_count": 851,
      "metadata": {
        "id": "gD9FUkZtO_gn"
      },
      "outputs": [],
      "source": [
        "data=[\n",
        "    [\"Logistic Regression 25% Test\",accuracy_score(y_test1,y_pred1),f1_score(y_test1,y_pred1),precision_score(y_test1,y_pred1),recall_score(y_test1,y_pred1)],\n",
        "    [\"Logistic Regression 20% Test\",accuracy_score(y_test2,y_pred2),f1_score(y_test2,y_pred2),precision_score(y_test2,y_pred2),recall_score(y_test2,y_pred2)],\n",
        "     [\"Decision Tree Classifier 25% Test\",accuracy_score(y_test1,y_pred3),f1_score(y_test1,y_pred3),precision_score(y_test1,y_pred3),recall_score(y_test1,y_pred3)],\n",
        "    [\"Decision Tree Classifier 20% Test\",accuracy_score(y_test2,y_pred4),f1_score(y_test2,y_pred4),precision_score(y_test2,y_pred4),recall_score(y_test2,y_pred4)],\n",
        "     [\"K Nearest Neighbors 25% Test\",accuracy_score(y_test1,y_pred5),f1_score(y_test1,y_pred5),precision_score(y_test1,y_pred5),recall_score(y_test1,y_pred5)],\n",
        "    [\"K Nearest Neighbors 20% Test\",accuracy_score(y_test2,y_pred6),f1_score(y_test2,y_pred6),precision_score(y_test2,y_pred6),recall_score(y_test2,y_pred6)],\n",
        "    [\"Gaussian Naive Bayes 25% Test\",accuracy_score(y_test1,y_pred7),f1_score(y_test1,y_pred7),precision_score(y_test1,y_pred7),recall_score(y_test1,y_pred7)],\n",
        "    [\"Gaussian Naive Bayes 20% Test\",accuracy_score(y_test2,y_pred8),f1_score(y_test2,y_pred8),precision_score(y_test2,y_pred8),recall_score(y_test2,y_pred8)],\n",
        "     [\"Random Forest Classifier 25% Test\",accuracy_score(y_test1,y_pred9),f1_score(y_test1,y_pred9),precision_score(y_test1,y_pred9),recall_score(y_test1,y_pred9)],\n",
        "    [\"Random Forest Classifier 20% Test\",accuracy_score(y_test2,y_pred10),f1_score(y_test2,y_pred10),precision_score(y_test2,y_pred10),recall_score(y_test2,y_pred10)],\n",
        "    [\"Bagging Classifier with LR 25% Test\",accuracy_score(y_test1,y_pred11),f1_score(y_test1,y_pred11),precision_score(y_test1,y_pred11),recall_score(y_test1,y_pred11)],\n",
        "    [\"Bagging Classifier with LR 20% Test\",accuracy_score(y_test2,y_pred12),f1_score(y_test2,y_pred12),precision_score(y_test2,y_pred12),recall_score(y_test2,y_pred12)],\n",
        "     [\"Bagging Classifier with DTC 25% Test\",accuracy_score(y_test1,y_pred13),f1_score(y_test1,y_pred13),precision_score(y_test1,y_pred13),recall_score(y_test1,y_pred13)],\n",
        "    [\"Bagging Classifier with DTC 20% Test\",accuracy_score(y_test2,y_pred14),f1_score(y_test2,y_pred14),precision_score(y_test2,y_pred14),recall_score(y_test2,y_pred14)],\n",
        "     [\"Bagging Classifier with KNN 25% Test\",accuracy_score(y_test1,y_pred15),f1_score(y_test1,y_pred15),precision_score(y_test1,y_pred15),recall_score(y_test1,y_pred15)],\n",
        "    [\"Bagging Classifier with KNN 20% Test\",accuracy_score(y_test2,y_pred16),f1_score(y_test2,y_pred16),precision_score(y_test2,y_pred16),recall_score(y_test2,y_pred16)],\n",
        "    [\"Bagging Classifier with GNB 25% Test\",accuracy_score(y_test1,y_pred17),f1_score(y_test1,y_pred17),precision_score(y_test1,y_pred17),recall_score(y_test1,y_pred17)],\n",
        "    [\"Bagging Classifier with GNB 20% Test\",accuracy_score(y_test2,y_pred18),f1_score(y_test2,y_pred18),precision_score(y_test2,y_pred18),recall_score(y_test2,y_pred18)],\n",
        "     [\"Ada Boost Classifier with LR 25% Test\",accuracy_score(y_test1,y_pred19),f1_score(y_test1,y_pred19),precision_score(y_test1,y_pred19),recall_score(y_test1,y_pred19)],\n",
        "    [\"Ada Boost Classifier with LR 20% Test\",accuracy_score(y_test2,y_pred20),f1_score(y_test2,y_pred20),precision_score(y_test2,y_pred20),recall_score(y_test2,y_pred20)],\n",
        "    [\"Ada Boost Classifier with DTC 25% Test\",accuracy_score(y_test1,y_pred21),f1_score(y_test1,y_pred21),precision_score(y_test1,y_pred21),recall_score(y_test1,y_pred21)],\n",
        "    [\"Ada Boost Classifier with DTC 20% Test\",accuracy_score(y_test2,y_pred22),f1_score(y_test2,y_pred22),precision_score(y_test2,y_pred22),recall_score(y_test2,y_pred22)],\n",
        "     [\"Ada Boost Classifier with GNB 25% Test\",accuracy_score(y_test1,y_pred23),f1_score(y_test1,y_pred23),precision_score(y_test1,y_pred23),recall_score(y_test1,y_pred23)],\n",
        "    [\"Ada Boost Classifier with GNB 20% Test\",accuracy_score(y_test2,y_pred24),f1_score(y_test2,y_pred24),precision_score(y_test2,y_pred24),recall_score(y_test2,y_pred24)],\n",
        "     [\"Ada Boost Classifier 25% Test\",accuracy_score(y_test1,y_pred25),f1_score(y_test1,y_pred25),precision_score(y_test1,y_pred25),recall_score(y_test1,y_pred25)],\n",
        "    [\"Ada Boost Classifier 20% Test\",accuracy_score(y_test2,y_pred26),f1_score(y_test2,y_pred26),precision_score(y_test2,y_pred26),recall_score(y_test2,y_pred26)],\n",
        "    [\"Extra Trees Classifier 25% Test\",accuracy_score(y_test1,y_pred27),f1_score(y_test1,y_pred27),precision_score(y_test1,y_pred27),recall_score(y_test1,y_pred27)],\n",
        "    [\"Extra Trees Classifier 20% Test\",accuracy_score(y_test2,y_pred28),f1_score(y_test2,y_pred28),precision_score(y_test2,y_pred28),recall_score(y_test2,y_pred28)],\n",
        "     [\"Gradient Boosting Classifier 25% Test\",accuracy_score(y_test1,y_pred29),f1_score(y_test1,y_pred29),precision_score(y_test1,y_pred29),recall_score(y_test1,y_pred29)],\n",
        "    [\"Gradient Boosting Classifier 20% Test\",accuracy_score(y_test2,y_pred30),f1_score(y_test2,y_pred30),precision_score(y_test2,y_pred30),recall_score(y_test2,y_pred30)],\n",
        "    [\"XG Boost 25% Test\",accuracy_score(y_test1,y_pred31),f1_score(y_test1,y_pred31),precision_score(y_test1,y_pred31),recall_score(y_test1,y_pred31)],\n",
        "    [\"XG Boost 20% Test\",accuracy_score(y_test2,y_pred32),f1_score(y_test2,y_pred32),precision_score(y_test2,y_pred32),recall_score(y_test2,y_pred32)],\n",
        "     [\"Light GBM 25% Test\",accuracy_score(y_test1,y_pred33),f1_score(y_test1,y_pred33),precision_score(y_test1,y_pred33),recall_score(y_test1,y_pred33)],\n",
        "    [\"Light GBM 20% Test\",accuracy_score(y_test2,y_pred34),f1_score(y_test2,y_pred34),precision_score(y_test2,y_pred34),recall_score(y_test2,y_pred34)],\n",
        "     [\"Cat Boost 25% Test\",accuracy_score(y_test1,y_pred35),f1_score(y_test1,y_pred35),precision_score(y_test1,y_pred35),recall_score(y_test1,y_pred35)],\n",
        "     [\"Cat Boost 20% Test\",accuracy_score(y_test2,y_pred36),f1_score(y_test2,y_pred36),precision_score(y_test2,y_pred36),recall_score(y_test2,y_pred36)],\n",
        "     [\"Voting Best of 3 Soft,Odd Numbered Models 25% Test\",accuracy_score(y_test1,y_pred37),f1_score(y_test1,y_pred37),precision_score(y_test1,y_pred37),recall_score(y_test1,y_pred37)],\n",
        "    [\"Voting Best of 3 Soft,Odd Numbered Models 20% Test\",accuracy_score(y_test2,y_pred38),f1_score(y_test2,y_pred38),precision_score(y_test2,y_pred38),recall_score(y_test2,y_pred38)],\n",
        "    #  [\"Voting Best of 5 Soft,Odd Numbered Models 25% Test\",accuracy_score(y_test1,y_pred39),f1_score(y_test1,y_pred39),precision_score(y_test1,y_pred39),recall_score(y_test1,y_pred39)],\n",
        "    # [\"Voting Best of 5 Soft,Odd Numbered Models 20% Test\",accuracy_score(y_test2,y_pred40),f1_score(y_test2,y_pred40),precision_score(y_test2,y_pred40),recall_score(y_test2,y_pred40)],\n",
        "    [\"Voting Best of 3 Hard,Odd Numbered Models 25% Test\",accuracy_score(y_test1,y_pred41),f1_score(y_test1,y_pred41),precision_score(y_test1,y_pred41),recall_score(y_test1,y_pred41)],\n",
        "    [\"Voting Best of 3 Hard,Odd Numbered Models 20% Test\",accuracy_score(y_test2,y_pred42),f1_score(y_test2,y_pred42),precision_score(y_test2,y_pred42),recall_score(y_test2,y_pred42)],\n",
        "    #  [\"Voting Best of 5 Hard,Odd Numbered Models 25% Test\",accuracy_score(y_test1,y_pred43),f1_score(y_test1,y_pred43),precision_score(y_test1,y_pred43),recall_score(y_test1,y_pred43)],\n",
        "    # [\"Voting Best of 5 Hard,Odd Numbered Models 20% Test\",accuracy_score(y_test2,y_pred44),f1_score(y_test2,y_pred44),precision_score(y_test2,y_pred44),recall_score(y_test2,y_pred44)],\n",
        "     [\"Voting Best of 3 Soft,Even Numbered Models 25% Test\",accuracy_score(y_test1,y_pred45),f1_score(y_test1,y_pred45),precision_score(y_test1,y_pred45),recall_score(y_test1,y_pred45)],\n",
        "    [\"Voting Best of 3 Soft,Even Numbered Models 20% Test\",accuracy_score(y_test2,y_pred46),f1_score(y_test2,y_pred46),precision_score(y_test2,y_pred46),recall_score(y_test2,y_pred46)],\n",
        "    #  [\"Voting Best of 5 Soft,Even Numbered Models 25% Test\",accuracy_score(y_test1,y_pred47),f1_score(y_test1,y_pred47),precision_score(y_test1,y_pred47),recall_score(y_test1,y_pred47)],\n",
        "    # [\"Voting Best of 5 Soft,Even Numbered Models 20% Test\",accuracy_score(y_test2,y_pred48),f1_score(y_test2,y_pred48),precision_score(y_test2,y_pred48),recall_score(y_test2,y_pred48)],\n",
        "    [\"Voting Best of 3 Hard,Even Numbered Models 25% Test\",accuracy_score(y_test1,y_pred49),f1_score(y_test1,y_pred49),precision_score(y_test1,y_pred49),recall_score(y_test1,y_pred49)],\n",
        "    [\"Voting Best of 3 Hard,Even Numbered Models 20% Test\",accuracy_score(y_test2,y_pred50),f1_score(y_test2,y_pred50),precision_score(y_test2,y_pred50),recall_score(y_test2,y_pred50)]\n",
        "    # [\"Voting Best of 5 Hard,Even Numbered Models 25% Test\",accuracy_score(y_test1,y_pred51),f1_score(y_test1,y_pred51),precision_score(y_test1,y_pred51),recall_score(y_test1,y_pred51)],\n",
        "    # [\"Voting Best of 5 Hard,Even Numbered Models 20% Test\",accuracy_score(y_test2,y_pred52),f1_score(y_test2,y_pred52),precision_score(y_test2,y_pred52),recall_score(y_test2,y_pred52)]\n",
        "\n",
        "]\n"
      ]
    },
    {
      "cell_type": "code",
      "execution_count": 852,
      "metadata": {
        "id": "gY_v7yipS_ez"
      },
      "outputs": [],
      "source": [
        "table=tabulate(data,header,tablefmt=\"grid\")"
      ]
    },
    {
      "cell_type": "code",
      "execution_count": 853,
      "metadata": {
        "id": "t-rzA2aJTFDe",
        "colab": {
          "base_uri": "https://localhost:8080/"
        },
        "outputId": "08b17a52-a3b3-47a4-c5d1-9dc43e859d13"
      },
      "outputs": [
        {
          "output_type": "stream",
          "name": "stdout",
          "text": [
            "+-----------------------------------------------------+-------------+------------+-------------+------------+\n",
            "| MODEL NUMBER                                        |   ACCURACY  |   F1 SCORE |   PRECISION |     RECALL |\n",
            "+=====================================================+=============+============+=============+============+\n",
            "| Logistic Regression 25% Test                        |    0.798149 | 0.803636   |    0.781205 | 0.827394   |\n",
            "+-----------------------------------------------------+-------------+------------+-------------+------------+\n",
            "| Logistic Regression 20% Test                        |    0.79772  | 0.803727   |    0.782659 | 0.82596    |\n",
            "+-----------------------------------------------------+-------------+------------+-------------+------------+\n",
            "| Decision Tree Classifier 25% Test                   |    0.863426 | 0.870836   |    0.824855 | 0.922246   |\n",
            "+-----------------------------------------------------+-------------+------------+-------------+------------+\n",
            "| Decision Tree Classifier 20% Test                   |    0.861122 | 0.869257   |    0.823253 | 0.920708   |\n",
            "+-----------------------------------------------------+-------------+------------+-------------+------------+\n",
            "| K Nearest Neighbors 25% Test                        |    0.9429   | 0.945816   |    0.898582 | 0.99829    |\n",
            "+-----------------------------------------------------+-------------+------------+-------------+------------+\n",
            "| K Nearest Neighbors 20% Test                        |    0.938395 | 0.942016   |    0.891992 | 0.997984   |\n",
            "+-----------------------------------------------------+-------------+------------+-------------+------------+\n",
            "| Gaussian Naive Bayes 25% Test                       |    0.765758 | 0.783903   |    0.726567 | 0.851062   |\n",
            "+-----------------------------------------------------+-------------+------------+-------------+------------+\n",
            "| Gaussian Naive Bayes 20% Test                       |    0.765036 | 0.784152   |    0.726925 | 0.851159   |\n",
            "+-----------------------------------------------------+-------------+------------+-------------+------------+\n",
            "| Random Forest Classifier 25% Test                   |    0.977852 | 0.97808    |    0.966605 | 0.989831   |\n",
            "+-----------------------------------------------------+-------------+------------+-------------+------------+\n",
            "| Random Forest Classifier 20% Test                   |    0.972764 | 0.97323    |    0.959512 | 0.987345   |\n",
            "+-----------------------------------------------------+-------------+------------+-------------+------------+\n",
            "| Bagging Classifier with LR 25% Test                 |    0.798329 | 0.803742   |    0.781566 | 0.827214   |\n",
            "+-----------------------------------------------------+-------------+------------+-------------+------------+\n",
            "| Bagging Classifier with LR 20% Test                 |    0.797945 | 0.80386    |    0.783112 | 0.825736   |\n",
            "+-----------------------------------------------------+-------------+------------+-------------+------------+\n",
            "| Bagging Classifier with DTC 25% Test                |    0.88517  | 0.891493   |    0.84378  | 0.944924   |\n",
            "+-----------------------------------------------------+-------------+------------+-------------+------------+\n",
            "| Bagging Classifier with DTC 20% Test                |    0.883024 | 0.88998    |    0.842163 | 0.943555   |\n",
            "+-----------------------------------------------------+-------------+------------+-------------+------------+\n",
            "| Bagging Classifier with KNN 25% Test                |    0.942675 | 0.945591   |    0.898541 | 0.99784    |\n",
            "+-----------------------------------------------------+-------------+------------+-------------+------------+\n",
            "| Bagging Classifier with KNN 20% Test                |    0.937833 | 0.941487   |    0.891491 | 0.997424   |\n",
            "+-----------------------------------------------------+-------------+------------+-------------+------------+\n",
            "| Bagging Classifier with GNB 25% Test                |    0.765758 | 0.783903   |    0.726567 | 0.851062   |\n",
            "+-----------------------------------------------------+-------------+------------+-------------+------------+\n",
            "| Bagging Classifier with GNB 20% Test                |    0.765036 | 0.784152   |    0.726925 | 0.851159   |\n",
            "+-----------------------------------------------------+-------------+------------+-------------+------------+\n",
            "| Ada Boost Classifier with LR 25% Test               |    0.796622 | 0.803285   |    0.776657 | 0.831803   |\n",
            "+-----------------------------------------------------+-------------+------------+-------------+------------+\n",
            "| Ada Boost Classifier with LR 20% Test               |    0.796204 | 0.803466   |    0.777894 | 0.830776   |\n",
            "+-----------------------------------------------------+-------------+------------+-------------+------------+\n",
            "| Ada Boost Classifier with DTC 25% Test              |    0.979694 | 0.979725   |    0.976659 | 0.982811   |\n",
            "+-----------------------------------------------------+-------------+------------+-------------+------------+\n",
            "| Ada Boost Classifier with DTC 20% Test              |    0.974617 | 0.974788   |    0.970997 | 0.978609   |\n",
            "+-----------------------------------------------------+-------------+------------+-------------+------------+\n",
            "| Ada Boost Classifier with GNB 25% Test              |    0.501954 | 0.00823045 |    0.69697  | 0.00413967 |\n",
            "+-----------------------------------------------------+-------------+------------+-------------+------------+\n",
            "| Ada Boost Classifier with GNB 20% Test              |    0.500365 | 0.00935308 |    0.807692 | 0.00470377 |\n",
            "+-----------------------------------------------------+-------------+------------+-------------+------------+\n",
            "| Ada Boost Classifier 25% Test                       |    0.828923 | 0.834737   |    0.806119 | 0.865461   |\n",
            "+-----------------------------------------------------+-------------+------------+-------------+------------+\n",
            "| Ada Boost Classifier 20% Test                       |    0.829449 | 0.835651   |    0.808482 | 0.86471    |\n",
            "+-----------------------------------------------------+-------------+------------+-------------+------------+\n",
            "| Extra Trees Classifier 25% Test                     |    0.980053 | 0.980212   |    0.970952 | 0.989651   |\n",
            "+-----------------------------------------------------+-------------+------------+-------------+------------+\n",
            "| Extra Trees Classifier 20% Test                     |    0.975066 | 0.975432   |    0.964016 | 0.987121   |\n",
            "+-----------------------------------------------------+-------------+------------+-------------+------------+\n",
            "| Gradient Boosting Classifier 25% Test               |    0.852195 | 0.857871   |    0.824942 | 0.893539   |\n",
            "+-----------------------------------------------------+-------------+------------+-------------+------------+\n",
            "| Gradient Boosting Classifier 20% Test               |    0.851744 | 0.857988   |    0.825484 | 0.893157   |\n",
            "+-----------------------------------------------------+-------------+------------+-------------+------------+\n",
            "| XG Boost 25% Test                                   |    0.964419 | 0.96503    |    0.947295 | 0.983441   |\n",
            "+-----------------------------------------------------+-------------+------------+-------------+------------+\n",
            "| XG Boost 20% Test                                   |    0.959623 | 0.960566   |    0.941208 | 0.980737   |\n",
            "+-----------------------------------------------------+-------------+------------+-------------+------------+\n",
            "| Light GBM 25% Test                                  |    0.921605 | 0.924397   |    0.891303 | 0.960043   |\n",
            "+-----------------------------------------------------+-------------+------------+-------------+------------+\n",
            "| Light GBM 20% Test                                  |    0.920088 | 0.923276   |    0.890206 | 0.958898   |\n",
            "+-----------------------------------------------------+-------------+------------+-------------+------------+\n",
            "| Cat Boost 25% Test                                  |    0.941147 | 0.942805   |    0.915621 | 0.971652   |\n",
            "+-----------------------------------------------------+-------------+------------+-------------+------------+\n",
            "| Cat Boost 20% Test                                  |    0.939687 | 0.941649   |    0.914424 | 0.970545   |\n",
            "+-----------------------------------------------------+-------------+------------+-------------+------------+\n",
            "| Voting Best of 3 Soft,Odd Numbered Models 25% Test  |    0.976818 | 0.977097   |    0.964004 | 0.990551   |\n",
            "+-----------------------------------------------------+-------------+------------+-------------+------------+\n",
            "| Voting Best of 3 Soft,Odd Numbered Models 20% Test  |    0.97209  | 0.972616   |    0.957267 | 0.988465   |\n",
            "+-----------------------------------------------------+-------------+------------+-------------+------------+\n",
            "| Voting Best of 3 Hard,Odd Numbered Models 25% Test  |    0.981446 | 0.981182   |    0.993724 | 0.968952   |\n",
            "+-----------------------------------------------------+-------------+------------+-------------+------------+\n",
            "| Voting Best of 3 Hard,Odd Numbered Models 20% Test  |    0.977481 | 0.977207   |    0.992151 | 0.962706   |\n",
            "+-----------------------------------------------------+-------------+------------+-------------+------------+\n",
            "| Voting Best of 3 Soft,Even Numbered Models 25% Test |    0.977223 | 0.977494   |    0.96452  | 0.990821   |\n",
            "+-----------------------------------------------------+-------------+------------+-------------+------------+\n",
            "| Voting Best of 3 Soft,Even Numbered Models 20% Test |    0.972483 | 0.973      |    0.957696 | 0.988801   |\n",
            "+-----------------------------------------------------+-------------+------------+-------------+------------+\n",
            "| Voting Best of 3 Hard,Even Numbered Models 25% Test |    0.981086 | 0.980812   |    0.993628 | 0.968323   |\n",
            "+-----------------------------------------------------+-------------+------------+-------------+------------+\n",
            "| Voting Best of 3 Hard,Even Numbered Models 20% Test |    0.977032 | 0.976744   |    0.99203  | 0.961922   |\n",
            "+-----------------------------------------------------+-------------+------------+-------------+------------+\n"
          ]
        }
      ],
      "source": [
        "print(table)"
      ]
    },
    {
      "cell_type": "code",
      "source": [
        "y_pred49=model49.predict(x_test1)"
      ],
      "metadata": {
        "id": "vDGQbeePqJen"
      },
      "execution_count": 854,
      "outputs": []
    },
    {
      "cell_type": "code",
      "execution_count": 855,
      "metadata": {
        "id": "2rbskcsrRtkk",
        "colab": {
          "base_uri": "https://localhost:8080/"
        },
        "outputId": "d234ff01-e1a4-4794-f615-e8e15bb704f6"
      },
      "outputs": [
        {
          "output_type": "execute_result",
          "data": {
            "text/plain": [
              "array([[11078,    69],\n",
              "       [  352, 10760]])"
            ]
          },
          "metadata": {},
          "execution_count": 855
        }
      ],
      "source": [
        "confusion_matrix(y_true=y_test1,y_pred=y_pred49)"
      ]
    },
    {
      "cell_type": "code",
      "execution_count": 856,
      "metadata": {
        "id": "arnQnW5_mknv",
        "colab": {
          "base_uri": "https://localhost:8080/"
        },
        "outputId": "744025ff-5860-4452-b054-8211afed9d46"
      },
      "outputs": [
        {
          "output_type": "stream",
          "name": "stdout",
          "text": [
            "Voting Best of 3 Hard,Even Numbered Models 25% Test 0.9810863021699088 0.9808121781140331 0.9936282205189768 0.9683225341972642\n"
          ]
        }
      ],
      "source": [
        "print(\"Voting Best of 3 Hard,Even Numbered Models 25% Test\",accuracy_score(y_test1,y_pred49),f1_score(y_test1,y_pred49),precision_score(y_test1,y_pred49),recall_score(y_test1,y_pred49)\n",
        "   )"
      ]
    },
    {
      "cell_type": "code",
      "execution_count": 857,
      "metadata": {
        "id": "5piA2aUerHjG"
      },
      "outputs": [],
      "source": [
        "model=model49\n"
      ]
    },
    {
      "cell_type": "code",
      "execution_count": 858,
      "metadata": {
        "id": "O-XOSSJHrI76"
      },
      "outputs": [],
      "source": [
        "import pickle"
      ]
    },
    {
      "cell_type": "code",
      "execution_count": 859,
      "metadata": {
        "id": "S3MCaje3q8rK"
      },
      "outputs": [],
      "source": [
        "# with open('model.pkl','wb') as model_file:\n",
        "#   pickle.dump(model,model_file)"
      ]
    },
    {
      "cell_type": "markdown",
      "metadata": {
        "id": "gwL084_WI71N"
      },
      "source": [
        "Model Deployment"
      ]
    },
    {
      "cell_type": "code",
      "execution_count": 860,
      "metadata": {
        "id": "o7byxBH8I9en"
      },
      "outputs": [],
      "source": [
        "! pip install -q gradio"
      ]
    },
    {
      "cell_type": "code",
      "execution_count": 861,
      "metadata": {
        "id": "FCi39NUBJApF"
      },
      "outputs": [],
      "source": [
        "import gradio as gr"
      ]
    },
    {
      "cell_type": "code",
      "execution_count": 862,
      "metadata": {
        "id": "hsZKxkyOriSl"
      },
      "outputs": [],
      "source": [
        "# with open('model.pkl','rb') as file:\n",
        "#   model=pickle.load(file)"
      ]
    },
    {
      "cell_type": "code",
      "execution_count": 863,
      "metadata": {
        "id": "rVMtupzeLY4C"
      },
      "outputs": [],
      "source": [
        "def bmi_category(num):\n",
        "  if num<=18.5:\n",
        "    return \"Underweight\"\n",
        "  elif num>18.5 and num<=24.9:\n",
        "    return \"Healthy Weight\"\n",
        "  elif num>25.0 and num<29.9:\n",
        "    return \"Overweight\"\n",
        "  else:\n",
        "    return \"Obese\"\n",
        "def age_year_convert(num):\n",
        "  return (2020-num)\n",
        "def age_group(age):\n",
        "  if(age>=0 and age<=2):\n",
        "    return \"Baby\"\n",
        "  elif(age>=3 and age<=39):\n",
        "    return \"Young Adult\"\n",
        "  elif(age>=40 and age<=59):\n",
        "    return \"Middle Aged Adult\"\n",
        "  else:\n",
        "    return \"Old Adult\"\n",
        "def diabetes_check(num):\n",
        "  if num<=100.0:\n",
        "    return \"Normal\"\n",
        "  elif num>100.0 and num<125.0:\n",
        "    return \"Prediabetes\"\n",
        "  else:\n",
        "    return \"Diabetes\""
      ]
    },
    {
      "cell_type": "code",
      "execution_count": 864,
      "metadata": {
        "id": "2uyYqpb5MT0e"
      },
      "outputs": [],
      "source": [
        "le_gender = {'Male': 1, 'Female':0 , 'Other': 2}\n",
        "le_hypertension = {'No':0 , 'Yes':1}\n",
        "le_heart_disease = {'Yes': 1, 'No': 0}\n",
        "le_ever_married = {'Yes': 1, 'No': 0}\n",
        "le_work_type = {'Children':0, 'Govt Job':1, 'Private':2, 'Never Worked':3, 'Self Employed':4}\n",
        "le_smoking_status = {'Currently Smokes':0, 'Formerly Smoked':1,  'Never Smoked':2, 'Unknown Status':3}\n",
        "le_age_group = {'Young Adult': 3, 'Middle Aged Adult': 2, 'Old Adult': 1, 'Baby': 0}\n",
        "le_bmi_category = {'Healthy Weight':0,'Obese':1,'Overweight':2,'Underweight':3}\n",
        "le_diabetes = {'Diabetes':0,'Prediabetes':1,'Normal':2}\n",
        "le_type_of_residence = {'Urban': 1, 'Rural': 0}"
      ]
    },
    {
      "cell_type": "code",
      "execution_count": 865,
      "metadata": {
        "id": "DBEFAs76KxIE"
      },
      "outputs": [],
      "source": [
        "def prediction(location,gender,age,hypertension,heart_disease,ever_married,work_type,type_of_residence,avg_glucose_level,height,weight,smoking_status):\n",
        "  list1=[le_gender[gender]]\n",
        "  list2=[age]\n",
        "  list3=[le_hypertension[hypertension]]\n",
        "  list4=[le_heart_disease[heart_disease]]\n",
        "  list5=[le_ever_married[ever_married]]\n",
        "  list6=[le_work_type[work_type]]\n",
        "  list7=[le_type_of_residence[type_of_residence]]\n",
        "  list8=[avg_glucose_level]\n",
        "  bmi=weight/(height*height)\n",
        "  list9=[bmi]\n",
        "  list10=[le_smoking_status[smoking_status]]\n",
        "  df=pd.DataFrame(list(zip(list1,list2,list3,list4,list5,list6,list7,list8,list9,list10)), columns=['gender', 'age', 'hypertension', 'heart_disease', 'ever_married',\n",
        "       'work_type', 'type_of_residence', 'avg_glucose_level', 'bmi',\n",
        "       'smoking_status'])\n",
        "  pred=model.predict(df)[0]\n",
        "  final_msg=\"\"\n",
        "  maps=\"\"\n",
        "  if pred==0:\n",
        "    final_msg= \"No Brain Stroke Detected\"\n",
        "  else:\n",
        "    final_msg=\"Brain Stroke Detected\"\n",
        "  if(pred==1):\n",
        "    maps_url = f\"https://www.google.com/maps/search/hospitals+near+{location}\"\n",
        "    maps= f\"Find nearby hospitals: [Google Maps]({maps_url})\"\n",
        "  else:\n",
        "    maps=\"Visiting a Hospital is not required\"\n",
        "  return final_msg,maps\n",
        "\n",
        "\n",
        "\n",
        "\n"
      ]
    },
    {
      "cell_type": "code",
      "execution_count": 869,
      "metadata": {
        "id": "IfRD3eftWPZQ",
        "colab": {
          "base_uri": "https://localhost:8080/"
        },
        "outputId": "9f179ec6-b326-4b18-933d-b9be1c396fd6"
      },
      "outputs": [
        {
          "output_type": "stream",
          "name": "stdout",
          "text": [
            "('Brain Stroke Detected', 'Find nearby hospitals: [Google Maps](https://www.google.com/maps/search/hospitals+near+malakpet)')\n"
          ]
        }
      ],
      "source": [
        "print(prediction(\"malakpet\",\"Male\",88,\"Yes\",\"Yes\",\"Yes\",\"Private\",\"Urban\",250.0,1.80,90.0,\"Currently Smokes\"))"
      ]
    },
    {
      "cell_type": "code",
      "execution_count": 867,
      "metadata": {
        "id": "LvE5mdAnSYLl",
        "colab": {
          "base_uri": "https://localhost:8080/"
        },
        "outputId": "2ec3c4d1-7726-4f71-9cae-66dcc4a5c0e5"
      },
      "outputs": [
        {
          "output_type": "execute_result",
          "data": {
            "text/plain": [
              "Index(['gender', 'age', 'hypertension', 'heart_disease', 'ever_married',\n",
              "       'work_type', 'type_of_residence', 'avg_glucose_level', 'bmi',\n",
              "       'smoking_status', 'stroke'],\n",
              "      dtype='object')"
            ]
          },
          "metadata": {},
          "execution_count": 867
        }
      ],
      "source": [
        "df.columns"
      ]
    },
    {
      "cell_type": "code",
      "execution_count": 870,
      "metadata": {
        "id": "_kA0xNRCRCq3",
        "colab": {
          "base_uri": "https://localhost:8080/",
          "height": 645
        },
        "outputId": "63728f95-5b7e-434b-f742-712404517b58"
      },
      "outputs": [
        {
          "output_type": "stream",
          "name": "stdout",
          "text": [
            "Setting queue=True in a Colab notebook requires sharing enabled. Setting `share=True` (you can turn this off by setting `share=False` in `launch()` explicitly).\n",
            "\n",
            "Colab notebook detected. To show errors in colab notebook, set debug=True in launch()\n",
            "Running on public URL: https://ed8d2c9dcc850c9a6e.gradio.live\n",
            "\n",
            "This share link expires in 72 hours. For free permanent hosting and GPU upgrades, run `gradio deploy` from Terminal to deploy to Spaces (https://huggingface.co/spaces)\n"
          ]
        },
        {
          "output_type": "display_data",
          "data": {
            "text/plain": [
              "<IPython.core.display.HTML object>"
            ],
            "text/html": [
              "<div><iframe src=\"https://ed8d2c9dcc850c9a6e.gradio.live\" width=\"100%\" height=\"500\" allow=\"autoplay; camera; microphone; clipboard-read; clipboard-write;\" frameborder=\"0\" allowfullscreen></iframe></div>"
            ]
          },
          "metadata": {}
        },
        {
          "output_type": "execute_result",
          "data": {
            "text/plain": []
          },
          "metadata": {},
          "execution_count": 870
        }
      ],
      "source": [
        "interface=gr.Interface(\n",
        "    fn=prediction,\n",
        "    title=\"Brain Stroke Prediction with Textual Inputs using Ensemble Machine Leanring\",\n",
        "    description=\"A model with _________ % accuracy\",\n",
        "    inputs=[\n",
        "        gr.Textbox(label=\"Location\"),\n",
        "        gr.Radio(choices=[\"Male\",\"Female\",\"Other\"],label=\"Gender\"),\n",
        "        gr.Slider(0,100,label=\"Age\"),\n",
        "        gr.Radio(choices=[\"No\",\"Yes\"],label=\"Presence of Hypertension\"),\n",
        "        gr.Radio(choices=[\"No\",\"Yes\"],label=\"Presence of Heart Disease\"),\n",
        "        gr.Radio(choices=[\"No\",\"Yes\"],label=\"Ever Married\"),\n",
        "        gr.Radio(choices=[\"Children\",\"Govt Job\",\"Private\",\"Never Worked\",\"Self Employed\"],label=\"Work Type\"),\n",
        "        gr.Radio(choices=[\"Urban\",\"Rural\"],label=\"Type of Residence\"),\n",
        "        gr.Slider(0,300,label=\"Average Glucose Level\"),\n",
        "        gr.Slider(1.3,2.0,label=\"Height in Metres\"),\n",
        "        gr.Slider(0,150,label=\"Weight in Kilograms\"),\n",
        "        gr.Radio(choices=[\"Currently Smokes\",\"Formerly Smoked\",\"Never Smoked\",\"Unknown Status\"],label=\"Smoking Status\")\n",
        "    ],\n",
        "\n",
        "css=\"\"\"\n",
        ".gr-button{\n",
        "background-color:#12ac8e;\n",
        "color:#fff;\n",
        "}\n",
        ".gr-slider input{\n",
        "color:12ac8e;\n",
        "}\n",
        "\"\"\",\n",
        "    outputs=[\n",
        "        gr.Textbox(label=\"Prediction by Model\"),\n",
        "        gr.Markdown(label=\"Maps\")\n",
        "    ]\n",
        "\n",
        ")\n",
        "interface.launch()"
      ]
    },
    {
      "cell_type": "code",
      "execution_count": 868,
      "metadata": {
        "id": "B2TvFyPQSw8o"
      },
      "outputs": [],
      "source": []
    }
  ],
  "metadata": {
    "colab": {
      "provenance": [],
      "authorship_tag": "ABX9TyNj7b3EWOvM1XDkhMm9qdc6"
    },
    "kernelspec": {
      "display_name": "Python 3",
      "name": "python3"
    },
    "language_info": {
      "name": "python"
    }
  },
  "nbformat": 4,
  "nbformat_minor": 0
}