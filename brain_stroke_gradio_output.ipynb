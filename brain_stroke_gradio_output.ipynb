{
  "nbformat": 4,
  "nbformat_minor": 0,
  "metadata": {
    "colab": {
      "provenance": [],
      "authorship_tag": "ABX9TyMf59vq/QuhisX3nilBb3Kd"
    },
    "kernelspec": {
      "name": "python3",
      "display_name": "Python 3"
    },
    "language_info": {
      "name": "python"
    }
  },
  "cells": [
    {
      "cell_type": "code",
      "source": [
        "import pandas as pd\n",
        "import warnings\n",
        "warnings.filterwarnings(\"ignore\")\n",
        "from sklearn.preprocessing import LabelEncoder\n",
        "from imblearn.over_sampling import ADASYN\n",
        "from sklearn.model_selection  import train_test_split\n",
        "from sklearn.linear_model import LogisticRegression\n",
        "from sklearn.model_selection import GridSearchCV\n",
        "from sklearn.tree import DecisionTreeClassifier\n",
        "from sklearn.neighbors import KNeighborsClassifier\n",
        "from sklearn.naive_bayes import GaussianNB\n",
        "from sklearn.ensemble import RandomForestClassifier\n",
        "from sklearn.ensemble import BaggingClassifier\n",
        "from sklearn.ensemble  import AdaBoostClassifier\n",
        "from sklearn.ensemble import ExtraTreesClassifier\n",
        "from sklearn.ensemble import GradientBoostingClassifier\n",
        "import xgboost as xgb\n",
        "!pip install lightgbm\n",
        "import lightgbm as lgb\n",
        "import numpy as np\n",
        "!pip install catboost\n",
        "from catboost import CatBoostClassifier\n",
        "from sklearn.ensemble import VotingClassifier\n",
        "from sklearn import metrics\n",
        "from sklearn.metrics import classification_report,confusion_matrix,accuracy_score,precision_score,recall_score,f1_score\n",
        "from tabulate import tabulate\n",
        "import pickle"
      ],
      "metadata": {
        "id": "YTTTcfQOC7Ff",
        "colab": {
          "base_uri": "https://localhost:8080/"
        },
        "outputId": "e49c1114-50ae-4725-a38c-54f053e05a77"
      },
      "execution_count": 1,
      "outputs": [
        {
          "output_type": "stream",
          "name": "stdout",
          "text": [
            "Requirement already satisfied: lightgbm in /usr/local/lib/python3.10/dist-packages (4.1.0)\n",
            "Requirement already satisfied: numpy in /usr/local/lib/python3.10/dist-packages (from lightgbm) (1.25.2)\n",
            "Requirement already satisfied: scipy in /usr/local/lib/python3.10/dist-packages (from lightgbm) (1.11.4)\n",
            "Collecting catboost\n",
            "  Downloading catboost-1.2.5-cp310-cp310-manylinux2014_x86_64.whl.metadata (1.2 kB)\n",
            "Requirement already satisfied: graphviz in /usr/local/lib/python3.10/dist-packages (from catboost) (0.20.3)\n",
            "Requirement already satisfied: matplotlib in /usr/local/lib/python3.10/dist-packages (from catboost) (3.7.1)\n",
            "Requirement already satisfied: numpy>=1.16.0 in /usr/local/lib/python3.10/dist-packages (from catboost) (1.25.2)\n",
            "Requirement already satisfied: pandas>=0.24 in /usr/local/lib/python3.10/dist-packages (from catboost) (2.0.3)\n",
            "Requirement already satisfied: scipy in /usr/local/lib/python3.10/dist-packages (from catboost) (1.11.4)\n",
            "Requirement already satisfied: plotly in /usr/local/lib/python3.10/dist-packages (from catboost) (5.15.0)\n",
            "Requirement already satisfied: six in /usr/local/lib/python3.10/dist-packages (from catboost) (1.16.0)\n",
            "Requirement already satisfied: python-dateutil>=2.8.2 in /usr/local/lib/python3.10/dist-packages (from pandas>=0.24->catboost) (2.8.2)\n",
            "Requirement already satisfied: pytz>=2020.1 in /usr/local/lib/python3.10/dist-packages (from pandas>=0.24->catboost) (2023.4)\n",
            "Requirement already satisfied: tzdata>=2022.1 in /usr/local/lib/python3.10/dist-packages (from pandas>=0.24->catboost) (2024.1)\n",
            "Requirement already satisfied: contourpy>=1.0.1 in /usr/local/lib/python3.10/dist-packages (from matplotlib->catboost) (1.2.1)\n",
            "Requirement already satisfied: cycler>=0.10 in /usr/local/lib/python3.10/dist-packages (from matplotlib->catboost) (0.12.1)\n",
            "Requirement already satisfied: fonttools>=4.22.0 in /usr/local/lib/python3.10/dist-packages (from matplotlib->catboost) (4.53.1)\n",
            "Requirement already satisfied: kiwisolver>=1.0.1 in /usr/local/lib/python3.10/dist-packages (from matplotlib->catboost) (1.4.5)\n",
            "Requirement already satisfied: packaging>=20.0 in /usr/local/lib/python3.10/dist-packages (from matplotlib->catboost) (24.1)\n",
            "Requirement already satisfied: pillow>=6.2.0 in /usr/local/lib/python3.10/dist-packages (from matplotlib->catboost) (9.4.0)\n",
            "Requirement already satisfied: pyparsing>=2.3.1 in /usr/local/lib/python3.10/dist-packages (from matplotlib->catboost) (3.1.2)\n",
            "Requirement already satisfied: tenacity>=6.2.0 in /usr/local/lib/python3.10/dist-packages (from plotly->catboost) (8.5.0)\n",
            "Downloading catboost-1.2.5-cp310-cp310-manylinux2014_x86_64.whl (98.2 MB)\n",
            "\u001b[2K   \u001b[90m━━━━━━━━━━━━━━━━━━━━━━━━━━━━━━━━━━━━━━━━\u001b[0m \u001b[32m98.2/98.2 MB\u001b[0m \u001b[31m7.2 MB/s\u001b[0m eta \u001b[36m0:00:00\u001b[0m\n",
            "\u001b[?25hInstalling collected packages: catboost\n",
            "Successfully installed catboost-1.2.5\n"
          ]
        }
      ]
    },
    {
      "cell_type": "code",
      "source": [
        "le=LabelEncoder()"
      ],
      "metadata": {
        "id": "BNaf9rvbNReU"
      },
      "execution_count": 2,
      "outputs": []
    },
    {
      "cell_type": "code",
      "source": [
        "np.random.seed(30)"
      ],
      "metadata": {
        "id": "LonLQhzVoqRt"
      },
      "execution_count": 3,
      "outputs": []
    },
    {
      "cell_type": "code",
      "source": [
        "df=pd.read_csv(\"data.csv\")"
      ],
      "metadata": {
        "id": "pwUxTq4mf4n7"
      },
      "execution_count": 4,
      "outputs": []
    },
    {
      "cell_type": "code",
      "source": [
        "df=df.drop(['age_group', 'bmi_category',\n",
        "       'year_of_birth', 'diabetes'],axis=1)"
      ],
      "metadata": {
        "id": "aIXY6tzLNk_G"
      },
      "execution_count": 5,
      "outputs": []
    },
    {
      "cell_type": "code",
      "source": [
        "df['gender']=le.fit_transform(df['gender'])\n",
        "df['hypertension']=le.fit_transform(df['hypertension'])\n",
        "df['heart_disease']=le.fit_transform(df['heart_disease'])\n",
        "df['ever_married']=le.fit_transform(df['ever_married'])\n",
        "df['work_type']=le.fit_transform(df['work_type'])\n",
        "df['smoking_status']=le.fit_transform(df['smoking_status'])\n",
        "df['stroke']=le.fit_transform(df['stroke'])\n",
        "df['type_of_residence']=le.fit_transform(df['type_of_residence'])"
      ],
      "metadata": {
        "id": "vvlG-1bTNgBf"
      },
      "execution_count": 6,
      "outputs": []
    },
    {
      "cell_type": "code",
      "source": [
        "X=df[['gender', 'age', 'hypertension', 'heart_disease', 'ever_married',\n",
        "       'work_type', 'type_of_residence', 'avg_glucose_level', 'bmi',\n",
        "       'smoking_status']]\n",
        "Y=df['stroke']"
      ],
      "metadata": {
        "id": "TvSjQjctfvY0"
      },
      "execution_count": 8,
      "outputs": []
    },
    {
      "cell_type": "code",
      "source": [
        "ad=ADASYN(sampling_strategy='minority',random_state=32)\n",
        "x_ros1,y_ros1=ad.fit_resample(X,Y)\n"
      ],
      "metadata": {
        "id": "SqCk2zDiNuZs"
      },
      "execution_count": 9,
      "outputs": []
    },
    {
      "cell_type": "code",
      "source": [
        "x_train1,x_test1,y_train1,y_test1=train_test_split(X,Y,test_size=0.25,random_state=30)\n",
        "x_train2,x_test2,y_train2,y_test2=train_test_split(X,Y,test_size=0.20,random_state=30)"
      ],
      "metadata": {
        "id": "bOLTeW7afrGC"
      },
      "execution_count": 10,
      "outputs": []
    },
    {
      "cell_type": "code",
      "source": [
        "dtc=DecisionTreeClassifier(criterion='gini',max_depth=9,random_state=30)\n",
        "adadtc=AdaBoostClassifier(dtc)\n",
        "model21=adadtc.fit(x_train1,y_train1)\n",
        "etc=ExtraTreesClassifier(random_state=30)\n",
        "model27=etc.fit(x_train1,y_train1)\n",
        "x=xgb.XGBClassifier(learning_rate= 1, max_depth=6, min_child_weight=1,random_state=30)\n",
        "model31=x.fit(x_train1,y_train1)"
      ],
      "metadata": {
        "id": "QaY-2K0ismRw"
      },
      "execution_count": 12,
      "outputs": []
    },
    {
      "cell_type": "code",
      "source": [
        "v1=VotingClassifier(estimators=[('model 21',model21),('model 31',model31)],voting=\"hard\")\n",
        "v2=VotingClassifier(estimators=[('model 31',model31),('model 27',model27)],voting=\"hard\")\n",
        "vc3hard=VotingClassifier(estimators=[('v1',v1),('v2',v2)],voting=\"hard\")\n",
        "model41=vc3hard.fit(x_train1,y_train1)"
      ],
      "metadata": {
        "id": "-X3FY54GNtt8"
      },
      "execution_count": 13,
      "outputs": []
    },
    {
      "cell_type": "code",
      "source": [
        "model=model41"
      ],
      "metadata": {
        "id": "DDKc29aZgS_o"
      },
      "execution_count": 14,
      "outputs": []
    },
    {
      "cell_type": "code",
      "source": [
        "y_pred41=model41.predict(x_test1)"
      ],
      "metadata": {
        "id": "_WLAbdQ1kYfb"
      },
      "execution_count": 15,
      "outputs": []
    },
    {
      "cell_type": "code",
      "source": [
        "print(\"Voting Best of 3 Hard,Odd Numbered Models 25% Test\",accuracy_score(y_test1,y_pred41),f1_score(y_test1,y_pred41),precision_score(y_test1,y_pred41),recall_score(y_test1,y_pred41)\n",
        "   )"
      ],
      "metadata": {
        "colab": {
          "base_uri": "https://localhost:8080/"
        },
        "id": "0Z5Gzw04kcTI",
        "outputId": "0c389cd1-f628-4fd3-de20-2de10726f167"
      },
      "execution_count": 16,
      "outputs": [
        {
          "output_type": "stream",
          "name": "stdout",
          "text": [
            "Voting Best of 3 Hard,Odd Numbered Models 25% Test 0.9808591338096498 0.1354581673306773 1.0 0.07264957264957266\n"
          ]
        }
      ]
    },
    {
      "cell_type": "code",
      "source": [
        "with open('model.pkl', 'wb') as model_file:\n",
        "  pickle.dump(model, model_file)"
      ],
      "metadata": {
        "id": "QITC2TJHkhK2"
      },
      "execution_count": 17,
      "outputs": []
    },
    {
      "cell_type": "code",
      "source": [
        "! pip install -q gradio\n",
        "with open('model.pkl','rb') as file:\n",
        "  model=pickle.load(file)"
      ],
      "metadata": {
        "colab": {
          "base_uri": "https://localhost:8080/"
        },
        "id": "4d9WgJrWtHij",
        "outputId": "cee339fc-a8c9-47ae-ccd6-fc149caf1244"
      },
      "execution_count": 18,
      "outputs": [
        {
          "output_type": "stream",
          "name": "stdout",
          "text": [
            "  Preparing metadata (setup.py) ... \u001b[?25l\u001b[?25hdone\n",
            "\u001b[2K     \u001b[90m━━━━━━━━━━━━━━━━━━━━━━━━━━━━━━━━━━━━━━━━\u001b[0m \u001b[32m50.4/50.4 kB\u001b[0m \u001b[31m3.9 MB/s\u001b[0m eta \u001b[36m0:00:00\u001b[0m\n",
            "\u001b[2K   \u001b[90m━━━━━━━━━━━━━━━━━━━━━━━━━━━━━━━━━━━━━━━━\u001b[0m \u001b[32m12.4/12.4 MB\u001b[0m \u001b[31m82.7 MB/s\u001b[0m eta \u001b[36m0:00:00\u001b[0m\n",
            "\u001b[2K   \u001b[90m━━━━━━━━━━━━━━━━━━━━━━━━━━━━━━━━━━━━━━━━\u001b[0m \u001b[32m318.2/318.2 kB\u001b[0m \u001b[31m23.8 MB/s\u001b[0m eta \u001b[36m0:00:00\u001b[0m\n",
            "\u001b[2K   \u001b[90m━━━━━━━━━━━━━━━━━━━━━━━━━━━━━━━━━━━━━━━━\u001b[0m \u001b[32m75.6/75.6 kB\u001b[0m \u001b[31m6.4 MB/s\u001b[0m eta \u001b[36m0:00:00\u001b[0m\n",
            "\u001b[2K   \u001b[90m━━━━━━━━━━━━━━━━━━━━━━━━━━━━━━━━━━━━━━━━\u001b[0m \u001b[32m77.9/77.9 kB\u001b[0m \u001b[31m6.4 MB/s\u001b[0m eta \u001b[36m0:00:00\u001b[0m\n",
            "\u001b[2K   \u001b[90m━━━━━━━━━━━━━━━━━━━━━━━━━━━━━━━━━━━━━━━━\u001b[0m \u001b[32m141.1/141.1 kB\u001b[0m \u001b[31m11.4 MB/s\u001b[0m eta \u001b[36m0:00:00\u001b[0m\n",
            "\u001b[2K   \u001b[90m━━━━━━━━━━━━━━━━━━━━━━━━━━━━━━━━━━━━━━━━\u001b[0m \u001b[32m10.1/10.1 MB\u001b[0m \u001b[31m93.1 MB/s\u001b[0m eta \u001b[36m0:00:00\u001b[0m\n",
            "\u001b[2K   \u001b[90m━━━━━━━━━━━━━━━━━━━━━━━━━━━━━━━━━━━━━━━━\u001b[0m \u001b[32m62.8/62.8 kB\u001b[0m \u001b[31m5.2 MB/s\u001b[0m eta \u001b[36m0:00:00\u001b[0m\n",
            "\u001b[2K   \u001b[90m━━━━━━━━━━━━━━━━━━━━━━━━━━━━━━━━━━━━━━━━\u001b[0m \u001b[32m92.2/92.2 kB\u001b[0m \u001b[31m7.7 MB/s\u001b[0m eta \u001b[36m0:00:00\u001b[0m\n",
            "\u001b[2K   \u001b[90m━━━━━━━━━━━━━━━━━━━━━━━━━━━━━━━━━━━━━━━━\u001b[0m \u001b[32m58.3/58.3 kB\u001b[0m \u001b[31m4.4 MB/s\u001b[0m eta \u001b[36m0:00:00\u001b[0m\n",
            "\u001b[2K   \u001b[90m━━━━━━━━━━━━━━━━━━━━━━━━━━━━━━━━━━━━━━━━\u001b[0m \u001b[32m71.9/71.9 kB\u001b[0m \u001b[31m5.3 MB/s\u001b[0m eta \u001b[36m0:00:00\u001b[0m\n",
            "\u001b[2K   \u001b[90m━━━━━━━━━━━━━━━━━━━━━━━━━━━━━━━━━━━━━━━━\u001b[0m \u001b[32m129.9/129.9 kB\u001b[0m \u001b[31m10.3 MB/s\u001b[0m eta \u001b[36m0:00:00\u001b[0m\n",
            "\u001b[2K   \u001b[90m━━━━━━━━━━━━━━━━━━━━━━━━━━━━━━━━━━━━━━━━\u001b[0m \u001b[32m307.7/307.7 kB\u001b[0m \u001b[31m23.5 MB/s\u001b[0m eta \u001b[36m0:00:00\u001b[0m\n",
            "\u001b[2K   \u001b[90m━━━━━━━━━━━━━━━━━━━━━━━━━━━━━━━━━━━━━━━━\u001b[0m \u001b[32m341.4/341.4 kB\u001b[0m \u001b[31m25.8 MB/s\u001b[0m eta \u001b[36m0:00:00\u001b[0m\n",
            "\u001b[2K   \u001b[90m━━━━━━━━━━━━━━━━━━━━━━━━━━━━━━━━━━━━━━━━\u001b[0m \u001b[32m3.4/3.4 MB\u001b[0m \u001b[31m60.7 MB/s\u001b[0m eta \u001b[36m0:00:00\u001b[0m\n",
            "\u001b[2K   \u001b[90m━━━━━━━━━━━━━━━━━━━━━━━━━━━━━━━━━━━━━━━━\u001b[0m \u001b[32m1.2/1.2 MB\u001b[0m \u001b[31m55.4 MB/s\u001b[0m eta \u001b[36m0:00:00\u001b[0m\n",
            "\u001b[?25h  Building wheel for ffmpy (setup.py) ... \u001b[?25l\u001b[?25hdone\n"
          ]
        }
      ]
    },
    {
      "cell_type": "code",
      "source": [
        "def bmi_category(num):\n",
        "  if num<=18.5:\n",
        "    return \"Underweight\"\n",
        "  elif num>18.5 and num<=24.9:\n",
        "    return \"Healthy Weight\"\n",
        "  elif num>25.0 and num<29.9:\n",
        "    return \"Overweight\"\n",
        "  else:\n",
        "    return \"Obese\"\n",
        "def age_year_convert(num):\n",
        "  return (2020-num)\n",
        "def age_group(age):\n",
        "  if(age>=0 and age<=2):\n",
        "    return \"Baby\"\n",
        "  elif(age>=3 and age<=39):\n",
        "    return \"Young Adult\"\n",
        "  elif(age>=40 and age<=59):\n",
        "    return \"Middle Aged Adult\"\n",
        "  else:\n",
        "    return \"Old Adult\"\n",
        "def diabetes_check(num):\n",
        "  if num<=100.0:\n",
        "    return \"Normal\"\n",
        "  elif num>100.0 and num<125.0:\n",
        "    return \"Prediabetes\"\n",
        "  else:\n",
        "    return \"Diabetes\""
      ],
      "metadata": {
        "id": "RbKMR1DarzI3"
      },
      "execution_count": 19,
      "outputs": []
    },
    {
      "cell_type": "code",
      "source": [
        "le_gender = {'Male': 1, 'Female':0 , 'Other': 2}\n",
        "le_hypertension = {'No':0 , 'Yes':1}\n",
        "le_heart_disease = {'Yes': 1, 'No': 0}\n",
        "le_ever_married = {'Yes': 1, 'No': 0}\n",
        "le_work_type = {'Children':0, 'Govt Job':1, 'Private':2, 'Never Worked':3, 'Self Employed':4}\n",
        "le_smoking_status = {'Currently Smokes':0, 'Formerly Smoked':1,  'Never Smoked':2, 'Unknown Status':3}\n",
        "le_age_group = {'Young Adult': 3, 'Middle Aged Adult': 2, 'Old Adult': 1, 'Baby': 0}\n",
        "le_bmi_category = {'Healthy Weight':0,'Obese':1,'Overweight':2,'Underweight':3}\n",
        "le_diabetes = {'Diabetes':0,'Prediabetes':1,'Normal':2}\n",
        "le_type_of_residence = {'Urban': 1, 'Rural': 0}"
      ],
      "metadata": {
        "id": "IV9G4vSVrzkJ"
      },
      "execution_count": 20,
      "outputs": []
    },
    {
      "cell_type": "code",
      "source": [
        "def prediction(location,gender,age,hypertension,heart_disease,ever_married,work_type,type_of_residence,avg_glucose_level,height,weight,smoking_status):\n",
        "  list1=[le_gender[gender]]\n",
        "  list2=[age]\n",
        "  list3=[le_hypertension[hypertension]]\n",
        "  list4=[le_heart_disease[heart_disease]]\n",
        "  list5=[le_ever_married[ever_married]]\n",
        "  list6=[le_work_type[work_type]]\n",
        "  list7=[le_type_of_residence[type_of_residence]]\n",
        "  list8=[avg_glucose_level]\n",
        "  bmi=weight/(height*height)\n",
        "  list9=[bmi]\n",
        "  list10=[le_smoking_status[smoking_status]]\n",
        "  # agegrp=age_group(age)\n",
        "  # list11=[le_age_group[agegrp]]\n",
        "  # bmicat=bmi_category(bmi)\n",
        "  # list12=[le_bmi_category[bmicat]]\n",
        "  # ageyear=age_year_convert(age)\n",
        "  # list13=[ageyear]\n",
        "  # dia=diabetes_check(avg_glucose_level)\n",
        "  # list14=[le_diabetes[dia]]\n",
        "  df=pd.DataFrame(list(zip(list1,list2,list3,list4,list5,list6,list7,list8,list9,list10)), columns=['gender', 'age', 'hypertension', 'heart_disease', 'ever_married',\n",
        "       'work_type', 'type_of_residence', 'avg_glucose_level', 'bmi',\n",
        "       'smoking_status'])\n",
        "  pred=model.predict(df)[0]\n",
        "  final_msg=\"\"\n",
        "  maps=\"\"\n",
        "  if pred==0:\n",
        "    final_msg= \"No Brain Stroke Detected\"\n",
        "  else:\n",
        "    final_msg=\"Brain Stroke Detected\"\n",
        "  if(pred==1):\n",
        "    maps_url = f\"https://www.google.com/maps/search/hospitals+near+{location}\"\n",
        "    maps= f\"Find nearby hospitals: [Google Maps]({maps_url})\"\n",
        "  else:\n",
        "    maps=\"Visiting a Hospital is not required\"\n",
        "  return final_msg,maps\n",
        "\n",
        "\n",
        "\n",
        "\n"
      ],
      "metadata": {
        "id": "zPVyHZQgr41G"
      },
      "execution_count": 21,
      "outputs": []
    },
    {
      "cell_type": "code",
      "source": [
        "print(prediction(\"malakpet\",\"Male\",88,\"Yes\",\"Yes\",\"Yes\",\"Private\",\"Urban\",250.0,180.0,90.0,\"Currently Smokes\"))"
      ],
      "metadata": {
        "colab": {
          "base_uri": "https://localhost:8080/"
        },
        "id": "Sy6TH_BHr7K_",
        "outputId": "0477a7e9-ffc1-4705-c155-8a7455b75061"
      },
      "execution_count": 22,
      "outputs": [
        {
          "output_type": "stream",
          "name": "stdout",
          "text": [
            "('No Brain Stroke Detected', 'Visiting a Hospital is not required')\n"
          ]
        }
      ]
    },
    {
      "cell_type": "code",
      "source": [
        "! pip install -q gradio\n",
        "import gradio as gr"
      ],
      "metadata": {
        "id": "u1P29plDsFjn"
      },
      "execution_count": 23,
      "outputs": []
    },
    {
      "cell_type": "code",
      "source": [
        "interface=gr.Interface(\n",
        "    fn=prediction,\n",
        "    title=\"Brain Stroke Prediction with Textual Inputs using Ensemble Machine Leanring\",\n",
        "    description=\"A model with _________ % accuracy\",\n",
        "    inputs=[\n",
        "        gr.Textbox(label=\"Location\"),\n",
        "        gr.Radio(choices=[\"Male\",\"Female\",\"Other\"],label=\"Gender\"),\n",
        "        gr.Slider(0,100,label=\"Age\"),\n",
        "        gr.Radio(choices=[\"No\",\"Yes\"],label=\"Presence of Hypertension\"),\n",
        "        gr.Radio(choices=[\"No\",\"Yes\"],label=\"Presence of Heart Disease\"),\n",
        "        gr.Radio(choices=[\"No\",\"Yes\"],label=\"Ever Married\"),\n",
        "        gr.Radio(choices=[\"Children\",\"Govt Job\",\"Private\",\"Never Worked\",\"Self Employed\"],label=\"Work Type\"),\n",
        "        gr.Radio(choices=[\"Urban\",\"Rural\"],label=\"Type of Residence\"),\n",
        "        gr.Slider(0,300,label=\"Average Glucose Level\"),\n",
        "        gr.Slider(1.3,2.0,label=\"Height in Metres\"),\n",
        "        gr.Slider(0,150,label=\"Weight in Kilograms\"),\n",
        "        gr.Radio(choices=[\"Currently Smokes\",\"Formerly Smoked\",\"Never Smoked\",\"Unknown Status\"],label=\"Smoking Status\")\n",
        "    ],\n",
        "    outputs=[\n",
        "        gr.Textbox(label=\"Prediction by Model\"),\n",
        "        gr.Markdown(label=\"Maps\")\n",
        "    ]\n",
        ",\n",
        "    css=\"\"\"\n",
        "button{\n",
        "background-color:#12ac8e;\n",
        "color:#fff;\n",
        "}\n",
        "slider{\n",
        "color:12ac8e;\n",
        "}\n",
        ")\"\"\")\n",
        "interface.launch()"
      ],
      "metadata": {
        "colab": {
          "base_uri": "https://localhost:8080/",
          "height": 645
        },
        "id": "QjNCZ_uHr-Cf",
        "outputId": "abafadcc-c8a0-4331-9619-3dbf41128d7d"
      },
      "execution_count": 24,
      "outputs": [
        {
          "output_type": "stream",
          "name": "stdout",
          "text": [
            "Setting queue=True in a Colab notebook requires sharing enabled. Setting `share=True` (you can turn this off by setting `share=False` in `launch()` explicitly).\n",
            "\n",
            "Colab notebook detected. To show errors in colab notebook, set debug=True in launch()\n",
            "Running on public URL: https://d8df99dcd43d2cdb87.gradio.live\n",
            "\n",
            "This share link expires in 72 hours. For free permanent hosting and GPU upgrades, run `gradio deploy` from Terminal to deploy to Spaces (https://huggingface.co/spaces)\n"
          ]
        },
        {
          "output_type": "display_data",
          "data": {
            "text/plain": [
              "<IPython.core.display.HTML object>"
            ],
            "text/html": [
              "<div><iframe src=\"https://d8df99dcd43d2cdb87.gradio.live\" width=\"100%\" height=\"500\" allow=\"autoplay; camera; microphone; clipboard-read; clipboard-write;\" frameborder=\"0\" allowfullscreen></iframe></div>"
            ]
          },
          "metadata": {}
        },
        {
          "output_type": "execute_result",
          "data": {
            "text/plain": []
          },
          "metadata": {},
          "execution_count": 24
        }
      ]
    },
    {
      "cell_type": "code",
      "source": [],
      "metadata": {
        "id": "QoV0IZKrsAI2"
      },
      "execution_count": null,
      "outputs": []
    }
  ]
}