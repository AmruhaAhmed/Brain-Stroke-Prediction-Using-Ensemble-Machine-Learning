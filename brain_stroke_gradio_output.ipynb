{
  "nbformat": 4,
  "nbformat_minor": 0,
  "metadata": {
    "colab": {
      "provenance": [],
      "authorship_tag": "ABX9TyN0Fuu6E+Z8GmlVc34sQFA4"
    },
    "kernelspec": {
      "name": "python3",
      "display_name": "Python 3"
    },
    "language_info": {
      "name": "python"
    }
  },
  "cells": [
    {
      "cell_type": "code",
      "source": [
        "import pandas as pd\n",
        "import warnings\n",
        "warnings.filterwarnings(\"ignore\")\n",
        "from sklearn.preprocessing import LabelEncoder\n",
        "from imblearn.over_sampling import ADASYN\n",
        "from sklearn.model_selection  import train_test_split\n",
        "from sklearn.linear_model import LogisticRegression\n",
        "from sklearn.model_selection import GridSearchCV\n",
        "from sklearn.tree import DecisionTreeClassifier\n",
        "from sklearn.neighbors import KNeighborsClassifier\n",
        "from sklearn.naive_bayes import GaussianNB\n",
        "from sklearn.ensemble import RandomForestClassifier\n",
        "from sklearn.ensemble import BaggingClassifier\n",
        "from sklearn.ensemble  import AdaBoostClassifier\n",
        "from sklearn.ensemble import ExtraTreesClassifier\n",
        "from sklearn.ensemble import GradientBoostingClassifier\n",
        "import xgboost as xgb\n",
        "!pip install lightgbm\n",
        "import lightgbm as lgb\n",
        "import numpy as np\n",
        "!pip install catboost\n",
        "from catboost import CatBoostClassifier\n",
        "from sklearn.ensemble import VotingClassifier\n",
        "from sklearn import metrics\n",
        "from sklearn.metrics import classification_report,confusion_matrix,accuracy_score,precision_score,recall_score,f1_score\n",
        "from tabulate import tabulate\n",
        "import pickle"
      ],
      "metadata": {
        "id": "YTTTcfQOC7Ff",
        "colab": {
          "base_uri": "https://localhost:8080/"
        },
        "outputId": "d10b0e8c-94d4-4d8a-b102-479811443766"
      },
      "execution_count": 24,
      "outputs": [
        {
          "output_type": "stream",
          "name": "stdout",
          "text": [
            "Requirement already satisfied: lightgbm in /usr/local/lib/python3.10/dist-packages (4.1.0)\n",
            "Requirement already satisfied: numpy in /usr/local/lib/python3.10/dist-packages (from lightgbm) (1.25.2)\n",
            "Requirement already satisfied: scipy in /usr/local/lib/python3.10/dist-packages (from lightgbm) (1.11.4)\n",
            "Requirement already satisfied: catboost in /usr/local/lib/python3.10/dist-packages (1.2.5)\n",
            "Requirement already satisfied: graphviz in /usr/local/lib/python3.10/dist-packages (from catboost) (0.20.3)\n",
            "Requirement already satisfied: matplotlib in /usr/local/lib/python3.10/dist-packages (from catboost) (3.7.1)\n",
            "Requirement already satisfied: numpy>=1.16.0 in /usr/local/lib/python3.10/dist-packages (from catboost) (1.25.2)\n",
            "Requirement already satisfied: pandas>=0.24 in /usr/local/lib/python3.10/dist-packages (from catboost) (2.0.3)\n",
            "Requirement already satisfied: scipy in /usr/local/lib/python3.10/dist-packages (from catboost) (1.11.4)\n",
            "Requirement already satisfied: plotly in /usr/local/lib/python3.10/dist-packages (from catboost) (5.15.0)\n",
            "Requirement already satisfied: six in /usr/local/lib/python3.10/dist-packages (from catboost) (1.16.0)\n",
            "Requirement already satisfied: python-dateutil>=2.8.2 in /usr/local/lib/python3.10/dist-packages (from pandas>=0.24->catboost) (2.8.2)\n",
            "Requirement already satisfied: pytz>=2020.1 in /usr/local/lib/python3.10/dist-packages (from pandas>=0.24->catboost) (2023.4)\n",
            "Requirement already satisfied: tzdata>=2022.1 in /usr/local/lib/python3.10/dist-packages (from pandas>=0.24->catboost) (2024.1)\n",
            "Requirement already satisfied: contourpy>=1.0.1 in /usr/local/lib/python3.10/dist-packages (from matplotlib->catboost) (1.2.1)\n",
            "Requirement already satisfied: cycler>=0.10 in /usr/local/lib/python3.10/dist-packages (from matplotlib->catboost) (0.12.1)\n",
            "Requirement already satisfied: fonttools>=4.22.0 in /usr/local/lib/python3.10/dist-packages (from matplotlib->catboost) (4.53.1)\n",
            "Requirement already satisfied: kiwisolver>=1.0.1 in /usr/local/lib/python3.10/dist-packages (from matplotlib->catboost) (1.4.5)\n",
            "Requirement already satisfied: packaging>=20.0 in /usr/local/lib/python3.10/dist-packages (from matplotlib->catboost) (24.1)\n",
            "Requirement already satisfied: pillow>=6.2.0 in /usr/local/lib/python3.10/dist-packages (from matplotlib->catboost) (9.4.0)\n",
            "Requirement already satisfied: pyparsing>=2.3.1 in /usr/local/lib/python3.10/dist-packages (from matplotlib->catboost) (3.1.2)\n",
            "Requirement already satisfied: tenacity>=6.2.0 in /usr/local/lib/python3.10/dist-packages (from plotly->catboost) (8.5.0)\n"
          ]
        }
      ]
    },
    {
      "cell_type": "code",
      "source": [
        "le=LabelEncoder()"
      ],
      "metadata": {
        "id": "BNaf9rvbNReU"
      },
      "execution_count": 25,
      "outputs": []
    },
    {
      "cell_type": "code",
      "source": [
        "np.random.seed(30)"
      ],
      "metadata": {
        "id": "LonLQhzVoqRt"
      },
      "execution_count": 26,
      "outputs": []
    },
    {
      "cell_type": "code",
      "source": [
        "df=pd.read_csv(\"data.csv\")"
      ],
      "metadata": {
        "id": "pwUxTq4mf4n7"
      },
      "execution_count": 27,
      "outputs": []
    },
    {
      "cell_type": "code",
      "source": [
        "df=df.drop(['age_group', 'bmi_category',\n",
        "       'year_of_birth', 'diabetes'],axis=1)"
      ],
      "metadata": {
        "id": "aIXY6tzLNk_G"
      },
      "execution_count": 28,
      "outputs": []
    },
    {
      "cell_type": "code",
      "source": [
        "df['gender']=le.fit_transform(df['gender'])\n",
        "df['hypertension']=le.fit_transform(df['hypertension'])\n",
        "df['heart_disease']=le.fit_transform(df['heart_disease'])\n",
        "df['ever_married']=le.fit_transform(df['ever_married'])\n",
        "df['work_type']=le.fit_transform(df['work_type'])\n",
        "df['smoking_status']=le.fit_transform(df['smoking_status'])\n",
        "df['stroke']=le.fit_transform(df['stroke'])\n",
        "df['type_of_residence']=le.fit_transform(df['type_of_residence'])"
      ],
      "metadata": {
        "id": "vvlG-1bTNgBf"
      },
      "execution_count": 29,
      "outputs": []
    },
    {
      "cell_type": "code",
      "source": [
        "X=df[['gender', 'age', 'hypertension', 'heart_disease', 'ever_married',\n",
        "       'work_type', 'type_of_residence', 'avg_glucose_level', 'bmi',\n",
        "       'smoking_status']]\n",
        "Y=df['stroke']"
      ],
      "metadata": {
        "id": "TvSjQjctfvY0"
      },
      "execution_count": 30,
      "outputs": []
    },
    {
      "cell_type": "code",
      "source": [
        "ad=ADASYN(sampling_strategy='minority',random_state=32)\n",
        "x_ros1,y_ros1=ad.fit_resample(X,Y)\n"
      ],
      "metadata": {
        "id": "SqCk2zDiNuZs"
      },
      "execution_count": 31,
      "outputs": []
    },
    {
      "cell_type": "code",
      "source": [
        "x_train1,x_test1,y_train1,y_test1=train_test_split(X,Y,test_size=0.25,random_state=30)\n",
        "x_train2,x_test2,y_train2,y_test2=train_test_split(X,Y,test_size=0.20,random_state=30)"
      ],
      "metadata": {
        "id": "bOLTeW7afrGC"
      },
      "execution_count": 32,
      "outputs": []
    },
    {
      "cell_type": "code",
      "source": [
        "dtc=DecisionTreeClassifier(criterion='gini',max_depth=9,random_state=30)\n",
        "adadtc=AdaBoostClassifier(dtc)\n",
        "model21=adadtc.fit(x_train1,y_train1)\n",
        "etc=ExtraTreesClassifier(random_state=30)\n",
        "model27=etc.fit(x_train1,y_train1)\n",
        "x=xgb.XGBClassifier(learning_rate= 1, max_depth=6, min_child_weight=1,random_state=30)\n",
        "model31=x.fit(x_train1,y_train1)"
      ],
      "metadata": {
        "id": "QaY-2K0ismRw"
      },
      "execution_count": 33,
      "outputs": []
    },
    {
      "cell_type": "code",
      "source": [
        "v1=VotingClassifier(estimators=[('model 21',model21),('model 31',model31)],voting=\"hard\")\n",
        "v2=VotingClassifier(estimators=[('model 31',model31),('model 27',model27)],voting=\"hard\")\n",
        "vc3hard=VotingClassifier(estimators=[('v1',v1),('v2',v2)],voting=\"hard\")\n",
        "model41=vc3hard.fit(x_train1,y_train1)"
      ],
      "metadata": {
        "id": "-X3FY54GNtt8"
      },
      "execution_count": 34,
      "outputs": []
    },
    {
      "cell_type": "code",
      "source": [
        "model=model41"
      ],
      "metadata": {
        "id": "DDKc29aZgS_o"
      },
      "execution_count": 35,
      "outputs": []
    },
    {
      "cell_type": "code",
      "source": [
        "y_pred41=model41.predict(x_test1)"
      ],
      "metadata": {
        "id": "_WLAbdQ1kYfb"
      },
      "execution_count": 36,
      "outputs": []
    },
    {
      "cell_type": "code",
      "source": [
        "for i in range(0,2000):\n",
        "  if y_pred41[i]==1:\n",
        "    print(x_test1.iloc[i])\n",
        "    print(y_pred41[i])\n",
        "    print(y_test1.iloc[i])"
      ],
      "metadata": {
        "colab": {
          "base_uri": "https://localhost:8080/"
        },
        "id": "EQyhaJLrsDp5",
        "outputId": "379aff71-ee6e-4616-d589-15765145655d"
      },
      "execution_count": 37,
      "outputs": [
        {
          "output_type": "stream",
          "name": "stdout",
          "text": [
            "gender                1.0\n",
            "age                  71.0\n",
            "hypertension          1.0\n",
            "heart_disease         0.0\n",
            "ever_married          1.0\n",
            "work_type             4.0\n",
            "type_of_residence     0.0\n",
            "avg_glucose_level    87.8\n",
            "bmi                  30.8\n",
            "smoking_status        3.0\n",
            "Name: 44878, dtype: float64\n",
            "1\n",
            "1\n",
            "gender                 0.00\n",
            "age                   72.00\n",
            "hypertension           0.00\n",
            "heart_disease          0.00\n",
            "ever_married           1.00\n",
            "work_type              3.00\n",
            "type_of_residence      1.00\n",
            "avg_glucose_level    219.91\n",
            "bmi                   32.10\n",
            "smoking_status         3.00\n",
            "Name: 44858, dtype: float64\n",
            "1\n",
            "1\n",
            "gender                 0.000000\n",
            "age                   75.000000\n",
            "hypertension           0.000000\n",
            "heart_disease          1.000000\n",
            "ever_married           0.000000\n",
            "work_type              4.000000\n",
            "type_of_residence      1.000000\n",
            "avg_glucose_level    109.780000\n",
            "bmi                   28.318273\n",
            "smoking_status         3.000000\n",
            "Name: 45047, dtype: float64\n",
            "1\n",
            "1\n",
            "gender                 1.00\n",
            "age                   75.00\n",
            "hypertension           0.00\n",
            "heart_disease          0.00\n",
            "ever_married           1.00\n",
            "work_type              3.00\n",
            "type_of_residence      1.00\n",
            "avg_glucose_level    104.72\n",
            "bmi                   28.30\n",
            "smoking_status         3.00\n",
            "Name: 44851, dtype: float64\n",
            "1\n",
            "1\n"
          ]
        }
      ]
    },
    {
      "cell_type": "code",
      "source": [
        "print(\"Voting Best of 3 Hard,Odd Numbered Models 25% Test\",accuracy_score(y_test1,y_pred41),f1_score(y_test1,y_pred41),precision_score(y_test1,y_pred41),recall_score(y_test1,y_pred41)\n",
        "   )"
      ],
      "metadata": {
        "colab": {
          "base_uri": "https://localhost:8080/"
        },
        "id": "0Z5Gzw04kcTI",
        "outputId": "1bfd4589-f00f-45a1-b1c2-0809ae6fec16"
      },
      "execution_count": 38,
      "outputs": [
        {
          "output_type": "stream",
          "name": "stdout",
          "text": [
            "Voting Best of 3 Hard,Odd Numbered Models 25% Test 0.9806827202963747 0.12048192771084336 1.0 0.0641025641025641\n"
          ]
        }
      ]
    },
    {
      "cell_type": "code",
      "source": [
        "with open('model.pkl', 'wb') as model_file:\n",
        "  pickle.dump(model, model_file)"
      ],
      "metadata": {
        "id": "QITC2TJHkhK2"
      },
      "execution_count": 39,
      "outputs": []
    },
    {
      "cell_type": "code",
      "source": [
        "! pip install -q gradio\n",
        "with open('model.pkl','rb') as file:\n",
        "  model=pickle.load(file)"
      ],
      "metadata": {
        "id": "4d9WgJrWtHij"
      },
      "execution_count": 40,
      "outputs": []
    },
    {
      "cell_type": "code",
      "source": [
        "def bmi_category(num):\n",
        "  if num<=18.5:\n",
        "    return \"Underweight\"\n",
        "  elif num>18.5 and num<=24.9:\n",
        "    return \"Healthy Weight\"\n",
        "  elif num>25.0 and num<29.9:\n",
        "    return \"Overweight\"\n",
        "  else:\n",
        "    return \"Obese\"\n",
        "def age_year_convert(num):\n",
        "  return (2020-num)\n",
        "def age_group(age):\n",
        "  if(age>=0 and age<=2):\n",
        "    return \"Baby\"\n",
        "  elif(age>=3 and age<=39):\n",
        "    return \"Young Adult\"\n",
        "  elif(age>=40 and age<=59):\n",
        "    return \"Middle Aged Adult\"\n",
        "  else:\n",
        "    return \"Old Adult\"\n",
        "def diabetes_check(num):\n",
        "  if num<=100.0:\n",
        "    return \"Normal\"\n",
        "  elif num>100.0 and num<125.0:\n",
        "    return \"Prediabetes\"\n",
        "  else:\n",
        "    return \"Diabetes\""
      ],
      "metadata": {
        "id": "RbKMR1DarzI3"
      },
      "execution_count": 41,
      "outputs": []
    },
    {
      "cell_type": "code",
      "source": [
        "le_gender = {'Male': 1, 'Female':0 , 'Other': 2}\n",
        "le_hypertension = {'No':0 , 'Yes':1}\n",
        "le_heart_disease = {'Yes': 1, 'No': 0}\n",
        "le_ever_married = {'Yes': 1, 'No': 0}\n",
        "le_work_type = {'Children':0, 'Govt Job':1, 'Private':2, 'Never Worked':3, 'Self Employed':4}\n",
        "le_smoking_status = {'Currently Smokes':0, 'Formerly Smoked':1,  'Never Smoked':2, 'Unknown Status':3}\n",
        "le_age_group = {'Young Adult': 3, 'Middle Aged Adult': 2, 'Old Adult': 1, 'Baby': 0}\n",
        "le_bmi_category = {'Healthy Weight':0,'Obese':1,'Overweight':2,'Underweight':3}\n",
        "le_diabetes = {'Diabetes':0,'Prediabetes':1,'Normal':2}\n",
        "le_type_of_residence = {'Urban': 1, 'Rural': 0}"
      ],
      "metadata": {
        "id": "IV9G4vSVrzkJ"
      },
      "execution_count": 42,
      "outputs": []
    },
    {
      "cell_type": "code",
      "source": [
        "def prediction(location,gender,age,hypertension,heart_disease,ever_married,work_type,type_of_residence,avg_glucose_level,bmi,smoking_status):\n",
        "  list1=[le_gender[gender]]\n",
        "  list2=[age]\n",
        "  list3=[le_hypertension[hypertension]]\n",
        "  list4=[le_heart_disease[heart_disease]]\n",
        "  list5=[le_ever_married[ever_married]]\n",
        "  list6=[le_work_type[work_type]]\n",
        "  list7=[le_type_of_residence[type_of_residence]]\n",
        "  list8=[avg_glucose_level]\n",
        "  list9=[bmi]\n",
        "\n",
        "  list10=[le_smoking_status[smoking_status]]\n",
        "\n",
        "  # agegrp=age_group(age)\n",
        "  # list11=[le_age_group[agegrp]]\n",
        "  # bmicat=bmi_category(bmi)\n",
        "  # list12=[le_bmi_category[bmicat]]\n",
        "  # ageyear=age_year_convert(age)\n",
        "  # list13=[ageyear]\n",
        "  # dia=diabetes_check(avg_glucose_level)\n",
        "  # list14=[le_diabetes[dia]]\n",
        "  df=pd.DataFrame(list(zip(list1,list2,list3,list4,list5,list6,list7,list8,list9,list10)), columns=['gender', 'age', 'hypertension', 'heart_disease', 'ever_married',\n",
        "       'work_type', 'type_of_residence', 'avg_glucose_level', 'bmi',\n",
        "       'smoking_status'])\n",
        "  pred=model.predict(df)[0]\n",
        "  final_msg=\"\"\n",
        "  maps=\"\"\n",
        "  if pred==0:\n",
        "    final_msg= \"No Brain Stroke Detected\"\n",
        "  else:\n",
        "    final_msg=\"Brain Stroke Detected\"\n",
        "  if(pred==1):\n",
        "    maps_url = f\"https://www.google.com/maps/search/hospitals+near+{location}\"\n",
        "    maps= f\"Find nearby hospitals: [Google Maps]({maps_url})\"\n",
        "  else:\n",
        "    maps=\"Visiting a Hospital is not required\"\n",
        "  return final_msg,maps\n",
        "\n",
        "\n",
        "\n",
        "\n"
      ],
      "metadata": {
        "id": "zPVyHZQgr41G"
      },
      "execution_count": 43,
      "outputs": []
    },
    {
      "cell_type": "code",
      "source": [
        "print(prediction(\"malakpet\",\"Male\",71,\"Yes\",\"No\",\"Yes\",\"Self Employed\",\"Rural\",87.8,30.8,\"Unknown Status\"))"
      ],
      "metadata": {
        "colab": {
          "base_uri": "https://localhost:8080/"
        },
        "id": "Sy6TH_BHr7K_",
        "outputId": "8261b8dd-78d4-462b-d3d3-e4ac32e6f444"
      },
      "execution_count": 44,
      "outputs": [
        {
          "output_type": "stream",
          "name": "stdout",
          "text": [
            "('Brain Stroke Detected', 'Find nearby hospitals: [Google Maps](https://www.google.com/maps/search/hospitals+near+malakpet)')\n"
          ]
        }
      ]
    },
    {
      "cell_type": "code",
      "source": [
        "! pip install -q gradio\n",
        "import gradio as gr"
      ],
      "metadata": {
        "id": "u1P29plDsFjn"
      },
      "execution_count": 45,
      "outputs": []
    },
    {
      "cell_type": "code",
      "source": [
        "interface=gr.Interface(\n",
        "    fn=prediction,\n",
        "    title=\"Brain Stroke Prediction with Textual Inputs using Ensemble Machine Learning\",\n",
        "    inputs=[\n",
        "        gr.Textbox(label=\"Location\"),\n",
        "        gr.Radio(choices=[\"Male\",\"Female\",\"Other\"],label=\"Gender\"),\n",
        "        gr.Slider(0,100,label=\"Age\"),\n",
        "        gr.Radio(choices=[\"No\",\"Yes\"],label=\"Presence of Hypertension\"),\n",
        "        gr.Radio(choices=[\"No\",\"Yes\"],label=\"Presence of Heart Disease\"),\n",
        "        gr.Radio(choices=[\"No\",\"Yes\"],label=\"Ever Married\"),\n",
        "        gr.Radio(choices=[\"Children\",\"Govt Job\",\"Private\",\"Never Worked\",\"Self Employed\"],label=\"Work Type\"),\n",
        "        gr.Radio(choices=[\"Urban\",\"Rural\"],label=\"Type of Residence\"),\n",
        "        gr.Slider(0,300,label=\"Average Glucose Level\"),\n",
        "        gr.Slider(0,100,label=\"Body Mass Index in kg/m^2\"),\n",
        "        gr.Radio(choices=[\"Currently Smokes\",\"Formerly Smoked\",\"Never Smoked\",\"Unknown Status\"],label=\"Smoking Status\")\n",
        "    ],\n",
        "    outputs=[\n",
        "        gr.Textbox(label=\"Prediction by Model\"),\n",
        "        gr.Markdown(label=\"Maps\")\n",
        "    ])\n",
        "\n",
        "interface.launch()"
      ],
      "metadata": {
        "colab": {
          "base_uri": "https://localhost:8080/",
          "height": 645
        },
        "id": "QjNCZ_uHr-Cf",
        "outputId": "b0282e88-61a8-47c5-de42-060a8e4b13f9"
      },
      "execution_count": 47,
      "outputs": [
        {
          "output_type": "stream",
          "name": "stdout",
          "text": [
            "Setting queue=True in a Colab notebook requires sharing enabled. Setting `share=True` (you can turn this off by setting `share=False` in `launch()` explicitly).\n",
            "\n",
            "Colab notebook detected. To show errors in colab notebook, set debug=True in launch()\n",
            "Running on public URL: https://adb7bb00e292b3bf9a.gradio.live\n",
            "\n",
            "This share link expires in 72 hours. For free permanent hosting and GPU upgrades, run `gradio deploy` from Terminal to deploy to Spaces (https://huggingface.co/spaces)\n"
          ]
        },
        {
          "output_type": "display_data",
          "data": {
            "text/plain": [
              "<IPython.core.display.HTML object>"
            ],
            "text/html": [
              "<div><iframe src=\"https://adb7bb00e292b3bf9a.gradio.live\" width=\"100%\" height=\"500\" allow=\"autoplay; camera; microphone; clipboard-read; clipboard-write;\" frameborder=\"0\" allowfullscreen></iframe></div>"
            ]
          },
          "metadata": {}
        },
        {
          "output_type": "execute_result",
          "data": {
            "text/plain": []
          },
          "metadata": {},
          "execution_count": 47
        }
      ]
    },
    {
      "cell_type": "code",
      "source": [],
      "metadata": {
        "id": "QoV0IZKrsAI2"
      },
      "execution_count": 46,
      "outputs": []
    }
  ]
}